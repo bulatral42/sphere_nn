{
 "cells": [
  {
   "cell_type": "markdown",
   "metadata": {
    "id": "BKG-OLSphfcp"
   },
   "source": [
    "## Семинар 10: \"Генерация текстов\""
   ]
  },
  {
   "cell_type": "markdown",
   "metadata": {
    "id": "kbIS5uM4hfcx"
   },
   "source": [
    "ФИО: "
   ]
  },
  {
   "cell_type": "code",
   "execution_count": 1,
   "metadata": {
    "id": "IPp9icMhhfcy"
   },
   "outputs": [],
   "source": [
    "import numpy as np\n",
    "import re\n",
    "from torch import nn\n",
    "from torch.autograd import Variable\n",
    "import matplotlib.pyplot as plt\n",
    "import torch\n",
    "from torch.utils.data import Dataset, DataLoader\n",
    "import sys\n",
    "from IPython.display import clear_output\n",
    "from tqdm.autonotebook import tqdm\n",
    "import progressbar\n",
    "%matplotlib inline"
   ]
  },
  {
   "cell_type": "code",
   "execution_count": 10,
   "metadata": {
    "colab": {
     "base_uri": "https://localhost:8080/"
    },
<<<<<<< HEAD
    "id": "ZgsLeBklh7Oe",
    "outputId": "7ad56065-97b0-4102-b07d-0829d1c51a1a"
   },
   "outputs": [
    {
     "name": "stdout",
     "output_type": "stream",
     "text": [
      "--2021-04-09 16:50:15--  https://raw.githubusercontent.com/alvations/Quotables/master/author-quote.txt\n",
      "Resolving raw.githubusercontent.com (raw.githubusercontent.com)... 185.199.108.133, 185.199.109.133, 185.199.110.133, ...\n",
      "Connecting to raw.githubusercontent.com (raw.githubusercontent.com)|185.199.108.133|:443... connected.\n",
      "HTTP request sent, awaiting response... 200 OK\n",
      "Length: 5615127 (5.4M) [text/plain]\n",
      "Saving to: ‘author-quote.txt’\n",
      "\n",
      "author-quote.txt    100%[===================>]   5.35M  25.2MB/s    in 0.2s    \n",
      "\n",
      "2021-04-09 16:50:17 (25.2 MB/s) - ‘author-quote.txt’ saved [5615127/5615127]\n",
      "\n"
     ]
=======
    "accelerator": "GPU",
    "widgets": {
      "application/vnd.jupyter.widget-state+json": {
        "1c75408f7c5340459bee9e4a4a5a1505": {
          "model_module": "@jupyter-widgets/controls",
          "model_name": "HBoxModel",
          "state": {
            "_view_name": "HBoxView",
            "_dom_classes": [],
            "_model_name": "HBoxModel",
            "_view_module": "@jupyter-widgets/controls",
            "_model_module_version": "1.5.0",
            "_view_count": null,
            "_view_module_version": "1.5.0",
            "box_style": "",
            "layout": "IPY_MODEL_a7f18bb2ed894c8c8d90f3a37f00cc0a",
            "_model_module": "@jupyter-widgets/controls",
            "children": [
              "IPY_MODEL_0c04317ae9ca4542b4f8551e4144c516",
              "IPY_MODEL_df9a2b136ea34dfa8d513037168276de"
            ]
          }
        },
        "a7f18bb2ed894c8c8d90f3a37f00cc0a": {
          "model_module": "@jupyter-widgets/base",
          "model_name": "LayoutModel",
          "state": {
            "_view_name": "LayoutView",
            "grid_template_rows": null,
            "right": null,
            "justify_content": null,
            "_view_module": "@jupyter-widgets/base",
            "overflow": null,
            "_model_module_version": "1.2.0",
            "_view_count": null,
            "flex_flow": null,
            "width": null,
            "min_width": null,
            "border": null,
            "align_items": null,
            "bottom": null,
            "_model_module": "@jupyter-widgets/base",
            "top": null,
            "grid_column": null,
            "overflow_y": null,
            "overflow_x": null,
            "grid_auto_flow": null,
            "grid_area": null,
            "grid_template_columns": null,
            "flex": null,
            "_model_name": "LayoutModel",
            "justify_items": null,
            "grid_row": null,
            "max_height": null,
            "align_content": null,
            "visibility": null,
            "align_self": null,
            "height": null,
            "min_height": null,
            "padding": null,
            "grid_auto_rows": null,
            "grid_gap": null,
            "max_width": null,
            "order": null,
            "_view_module_version": "1.2.0",
            "grid_template_areas": null,
            "object_position": null,
            "object_fit": null,
            "grid_auto_columns": null,
            "margin": null,
            "display": null,
            "left": null
          }
        },
        "0c04317ae9ca4542b4f8551e4144c516": {
          "model_module": "@jupyter-widgets/controls",
          "model_name": "FloatProgressModel",
          "state": {
            "_view_name": "ProgressView",
            "style": "IPY_MODEL_f7a10ce5c6694fdb8ddacb5f87f98caa",
            "_dom_classes": [],
            "description": "100%",
            "_model_name": "FloatProgressModel",
            "bar_style": "success",
            "max": 32063,
            "_view_module": "@jupyter-widgets/controls",
            "_model_module_version": "1.5.0",
            "value": 32063,
            "_view_count": null,
            "_view_module_version": "1.5.0",
            "orientation": "horizontal",
            "min": 0,
            "description_tooltip": null,
            "_model_module": "@jupyter-widgets/controls",
            "layout": "IPY_MODEL_48d3ddd08b5e4da681570909b1691c4a"
          }
        },
        "df9a2b136ea34dfa8d513037168276de": {
          "model_module": "@jupyter-widgets/controls",
          "model_name": "HTMLModel",
          "state": {
            "_view_name": "HTMLView",
            "style": "IPY_MODEL_4c5b85d65b144a8283348397580dbe0c",
            "_dom_classes": [],
            "description": "",
            "_model_name": "HTMLModel",
            "placeholder": "​",
            "_view_module": "@jupyter-widgets/controls",
            "_model_module_version": "1.5.0",
            "value": " 32063/32063 [00:00&lt;00:00, 206451.31it/s]",
            "_view_count": null,
            "_view_module_version": "1.5.0",
            "description_tooltip": null,
            "_model_module": "@jupyter-widgets/controls",
            "layout": "IPY_MODEL_3137d270213f4f56ae761032524adba2"
          }
        },
        "f7a10ce5c6694fdb8ddacb5f87f98caa": {
          "model_module": "@jupyter-widgets/controls",
          "model_name": "ProgressStyleModel",
          "state": {
            "_view_name": "StyleView",
            "_model_name": "ProgressStyleModel",
            "description_width": "initial",
            "_view_module": "@jupyter-widgets/base",
            "_model_module_version": "1.5.0",
            "_view_count": null,
            "_view_module_version": "1.2.0",
            "bar_color": null,
            "_model_module": "@jupyter-widgets/controls"
          }
        },
        "48d3ddd08b5e4da681570909b1691c4a": {
          "model_module": "@jupyter-widgets/base",
          "model_name": "LayoutModel",
          "state": {
            "_view_name": "LayoutView",
            "grid_template_rows": null,
            "right": null,
            "justify_content": null,
            "_view_module": "@jupyter-widgets/base",
            "overflow": null,
            "_model_module_version": "1.2.0",
            "_view_count": null,
            "flex_flow": null,
            "width": null,
            "min_width": null,
            "border": null,
            "align_items": null,
            "bottom": null,
            "_model_module": "@jupyter-widgets/base",
            "top": null,
            "grid_column": null,
            "overflow_y": null,
            "overflow_x": null,
            "grid_auto_flow": null,
            "grid_area": null,
            "grid_template_columns": null,
            "flex": null,
            "_model_name": "LayoutModel",
            "justify_items": null,
            "grid_row": null,
            "max_height": null,
            "align_content": null,
            "visibility": null,
            "align_self": null,
            "height": null,
            "min_height": null,
            "padding": null,
            "grid_auto_rows": null,
            "grid_gap": null,
            "max_width": null,
            "order": null,
            "_view_module_version": "1.2.0",
            "grid_template_areas": null,
            "object_position": null,
            "object_fit": null,
            "grid_auto_columns": null,
            "margin": null,
            "display": null,
            "left": null
          }
        },
        "4c5b85d65b144a8283348397580dbe0c": {
          "model_module": "@jupyter-widgets/controls",
          "model_name": "DescriptionStyleModel",
          "state": {
            "_view_name": "StyleView",
            "_model_name": "DescriptionStyleModel",
            "description_width": "",
            "_view_module": "@jupyter-widgets/base",
            "_model_module_version": "1.5.0",
            "_view_count": null,
            "_view_module_version": "1.2.0",
            "_model_module": "@jupyter-widgets/controls"
          }
        },
        "3137d270213f4f56ae761032524adba2": {
          "model_module": "@jupyter-widgets/base",
          "model_name": "LayoutModel",
          "state": {
            "_view_name": "LayoutView",
            "grid_template_rows": null,
            "right": null,
            "justify_content": null,
            "_view_module": "@jupyter-widgets/base",
            "overflow": null,
            "_model_module_version": "1.2.0",
            "_view_count": null,
            "flex_flow": null,
            "width": null,
            "min_width": null,
            "border": null,
            "align_items": null,
            "bottom": null,
            "_model_module": "@jupyter-widgets/base",
            "top": null,
            "grid_column": null,
            "overflow_y": null,
            "overflow_x": null,
            "grid_auto_flow": null,
            "grid_area": null,
            "grid_template_columns": null,
            "flex": null,
            "_model_name": "LayoutModel",
            "justify_items": null,
            "grid_row": null,
            "max_height": null,
            "align_content": null,
            "visibility": null,
            "align_self": null,
            "height": null,
            "min_height": null,
            "padding": null,
            "grid_auto_rows": null,
            "grid_gap": null,
            "max_width": null,
            "order": null,
            "_view_module_version": "1.2.0",
            "grid_template_areas": null,
            "object_position": null,
            "object_fit": null,
            "grid_auto_columns": null,
            "margin": null,
            "display": null,
            "left": null
          }
        },
        "db063bb476ff4efb9a1ef9fb8db972c7": {
          "model_module": "@jupyter-widgets/controls",
          "model_name": "HBoxModel",
          "state": {
            "_view_name": "HBoxView",
            "_dom_classes": [],
            "_model_name": "HBoxModel",
            "_view_module": "@jupyter-widgets/controls",
            "_model_module_version": "1.5.0",
            "_view_count": null,
            "_view_module_version": "1.5.0",
            "box_style": "",
            "layout": "IPY_MODEL_0bee6ba41b5a4b36a2fe9112ec63d21d",
            "_model_module": "@jupyter-widgets/controls",
            "children": [
              "IPY_MODEL_f3ea78d9cf7a4c7faa46e70a08519632",
              "IPY_MODEL_3aae180fc1b7488e9aa69b8e49956e43"
            ]
          }
        },
        "0bee6ba41b5a4b36a2fe9112ec63d21d": {
          "model_module": "@jupyter-widgets/base",
          "model_name": "LayoutModel",
          "state": {
            "_view_name": "LayoutView",
            "grid_template_rows": null,
            "right": null,
            "justify_content": null,
            "_view_module": "@jupyter-widgets/base",
            "overflow": null,
            "_model_module_version": "1.2.0",
            "_view_count": null,
            "flex_flow": null,
            "width": null,
            "min_width": null,
            "border": null,
            "align_items": null,
            "bottom": null,
            "_model_module": "@jupyter-widgets/base",
            "top": null,
            "grid_column": null,
            "overflow_y": null,
            "overflow_x": null,
            "grid_auto_flow": null,
            "grid_area": null,
            "grid_template_columns": null,
            "flex": null,
            "_model_name": "LayoutModel",
            "justify_items": null,
            "grid_row": null,
            "max_height": null,
            "align_content": null,
            "visibility": null,
            "align_self": null,
            "height": null,
            "min_height": null,
            "padding": null,
            "grid_auto_rows": null,
            "grid_gap": null,
            "max_width": null,
            "order": null,
            "_view_module_version": "1.2.0",
            "grid_template_areas": null,
            "object_position": null,
            "object_fit": null,
            "grid_auto_columns": null,
            "margin": null,
            "display": null,
            "left": null
          }
        },
        "f3ea78d9cf7a4c7faa46e70a08519632": {
          "model_module": "@jupyter-widgets/controls",
          "model_name": "FloatProgressModel",
          "state": {
            "_view_name": "ProgressView",
            "style": "IPY_MODEL_c39ef3cfcb9b43c3ae417a362a02f039",
            "_dom_classes": [],
            "description": "100%",
            "_model_name": "FloatProgressModel",
            "bar_style": "success",
            "max": 307,
            "_view_module": "@jupyter-widgets/controls",
            "_model_module_version": "1.5.0",
            "value": 307,
            "_view_count": null,
            "_view_module_version": "1.5.0",
            "orientation": "horizontal",
            "min": 0,
            "description_tooltip": null,
            "_model_module": "@jupyter-widgets/controls",
            "layout": "IPY_MODEL_5a8d63ff81324501b8f49563a3954680"
          }
        },
        "3aae180fc1b7488e9aa69b8e49956e43": {
          "model_module": "@jupyter-widgets/controls",
          "model_name": "HTMLModel",
          "state": {
            "_view_name": "HTMLView",
            "style": "IPY_MODEL_241355701de24bc8bf07ec8167e5f287",
            "_dom_classes": [],
            "description": "",
            "_model_name": "HTMLModel",
            "placeholder": "​",
            "_view_module": "@jupyter-widgets/controls",
            "_model_module_version": "1.5.0",
            "value": " 307/307 [01:27&lt;00:00,  3.50it/s]",
            "_view_count": null,
            "_view_module_version": "1.5.0",
            "description_tooltip": null,
            "_model_module": "@jupyter-widgets/controls",
            "layout": "IPY_MODEL_42f6b8c113944907aec384cf6903c785"
          }
        },
        "c39ef3cfcb9b43c3ae417a362a02f039": {
          "model_module": "@jupyter-widgets/controls",
          "model_name": "ProgressStyleModel",
          "state": {
            "_view_name": "StyleView",
            "_model_name": "ProgressStyleModel",
            "description_width": "initial",
            "_view_module": "@jupyter-widgets/base",
            "_model_module_version": "1.5.0",
            "_view_count": null,
            "_view_module_version": "1.2.0",
            "bar_color": null,
            "_model_module": "@jupyter-widgets/controls"
          }
        },
        "5a8d63ff81324501b8f49563a3954680": {
          "model_module": "@jupyter-widgets/base",
          "model_name": "LayoutModel",
          "state": {
            "_view_name": "LayoutView",
            "grid_template_rows": null,
            "right": null,
            "justify_content": null,
            "_view_module": "@jupyter-widgets/base",
            "overflow": null,
            "_model_module_version": "1.2.0",
            "_view_count": null,
            "flex_flow": null,
            "width": null,
            "min_width": null,
            "border": null,
            "align_items": null,
            "bottom": null,
            "_model_module": "@jupyter-widgets/base",
            "top": null,
            "grid_column": null,
            "overflow_y": null,
            "overflow_x": null,
            "grid_auto_flow": null,
            "grid_area": null,
            "grid_template_columns": null,
            "flex": null,
            "_model_name": "LayoutModel",
            "justify_items": null,
            "grid_row": null,
            "max_height": null,
            "align_content": null,
            "visibility": null,
            "align_self": null,
            "height": null,
            "min_height": null,
            "padding": null,
            "grid_auto_rows": null,
            "grid_gap": null,
            "max_width": null,
            "order": null,
            "_view_module_version": "1.2.0",
            "grid_template_areas": null,
            "object_position": null,
            "object_fit": null,
            "grid_auto_columns": null,
            "margin": null,
            "display": null,
            "left": null
          }
        },
        "241355701de24bc8bf07ec8167e5f287": {
          "model_module": "@jupyter-widgets/controls",
          "model_name": "DescriptionStyleModel",
          "state": {
            "_view_name": "StyleView",
            "_model_name": "DescriptionStyleModel",
            "description_width": "",
            "_view_module": "@jupyter-widgets/base",
            "_model_module_version": "1.5.0",
            "_view_count": null,
            "_view_module_version": "1.2.0",
            "_model_module": "@jupyter-widgets/controls"
          }
        },
        "42f6b8c113944907aec384cf6903c785": {
          "model_module": "@jupyter-widgets/base",
          "model_name": "LayoutModel",
          "state": {
            "_view_name": "LayoutView",
            "grid_template_rows": null,
            "right": null,
            "justify_content": null,
            "_view_module": "@jupyter-widgets/base",
            "overflow": null,
            "_model_module_version": "1.2.0",
            "_view_count": null,
            "flex_flow": null,
            "width": null,
            "min_width": null,
            "border": null,
            "align_items": null,
            "bottom": null,
            "_model_module": "@jupyter-widgets/base",
            "top": null,
            "grid_column": null,
            "overflow_y": null,
            "overflow_x": null,
            "grid_auto_flow": null,
            "grid_area": null,
            "grid_template_columns": null,
            "flex": null,
            "_model_name": "LayoutModel",
            "justify_items": null,
            "grid_row": null,
            "max_height": null,
            "align_content": null,
            "visibility": null,
            "align_self": null,
            "height": null,
            "min_height": null,
            "padding": null,
            "grid_auto_rows": null,
            "grid_gap": null,
            "max_width": null,
            "order": null,
            "_view_module_version": "1.2.0",
            "grid_template_areas": null,
            "object_position": null,
            "object_fit": null,
            "grid_auto_columns": null,
            "margin": null,
            "display": null,
            "left": null
          }
        },
        "949f81b45ae94bbfb85afd1d1a084bae": {
          "model_module": "@jupyter-widgets/controls",
          "model_name": "HBoxModel",
          "state": {
            "_view_name": "HBoxView",
            "_dom_classes": [],
            "_model_name": "HBoxModel",
            "_view_module": "@jupyter-widgets/controls",
            "_model_module_version": "1.5.0",
            "_view_count": null,
            "_view_module_version": "1.5.0",
            "box_style": "",
            "layout": "IPY_MODEL_572d8509852644a8ad733b2400e6a7cc",
            "_model_module": "@jupyter-widgets/controls",
            "children": [
              "IPY_MODEL_67dcdfc6dcef40529e77b385ec8c3c6d",
              "IPY_MODEL_6b7401d2517643b8ad9118b8111d0a31"
            ]
          }
        },
        "572d8509852644a8ad733b2400e6a7cc": {
          "model_module": "@jupyter-widgets/base",
          "model_name": "LayoutModel",
          "state": {
            "_view_name": "LayoutView",
            "grid_template_rows": null,
            "right": null,
            "justify_content": null,
            "_view_module": "@jupyter-widgets/base",
            "overflow": null,
            "_model_module_version": "1.2.0",
            "_view_count": null,
            "flex_flow": null,
            "width": null,
            "min_width": null,
            "border": null,
            "align_items": null,
            "bottom": null,
            "_model_module": "@jupyter-widgets/base",
            "top": null,
            "grid_column": null,
            "overflow_y": null,
            "overflow_x": null,
            "grid_auto_flow": null,
            "grid_area": null,
            "grid_template_columns": null,
            "flex": null,
            "_model_name": "LayoutModel",
            "justify_items": null,
            "grid_row": null,
            "max_height": null,
            "align_content": null,
            "visibility": null,
            "align_self": null,
            "height": null,
            "min_height": null,
            "padding": null,
            "grid_auto_rows": null,
            "grid_gap": null,
            "max_width": null,
            "order": null,
            "_view_module_version": "1.2.0",
            "grid_template_areas": null,
            "object_position": null,
            "object_fit": null,
            "grid_auto_columns": null,
            "margin": null,
            "display": null,
            "left": null
          }
        },
        "67dcdfc6dcef40529e77b385ec8c3c6d": {
          "model_module": "@jupyter-widgets/controls",
          "model_name": "FloatProgressModel",
          "state": {
            "_view_name": "ProgressView",
            "style": "IPY_MODEL_3421831cbe284cc389b73e565e87f3a7",
            "_dom_classes": [],
            "description": "100%",
            "_model_name": "FloatProgressModel",
            "bar_style": "success",
            "max": 307,
            "_view_module": "@jupyter-widgets/controls",
            "_model_module_version": "1.5.0",
            "value": 307,
            "_view_count": null,
            "_view_module_version": "1.5.0",
            "orientation": "horizontal",
            "min": 0,
            "description_tooltip": null,
            "_model_module": "@jupyter-widgets/controls",
            "layout": "IPY_MODEL_48c1e9f25b984c2c8f3813d1597c5397"
          }
        },
        "6b7401d2517643b8ad9118b8111d0a31": {
          "model_module": "@jupyter-widgets/controls",
          "model_name": "HTMLModel",
          "state": {
            "_view_name": "HTMLView",
            "style": "IPY_MODEL_7b820adaec2e4b5499eace761d99285f",
            "_dom_classes": [],
            "description": "",
            "_model_name": "HTMLModel",
            "placeholder": "​",
            "_view_module": "@jupyter-widgets/controls",
            "_model_module_version": "1.5.0",
            "value": " 307/307 [01:23&lt;00:00,  3.66it/s]",
            "_view_count": null,
            "_view_module_version": "1.5.0",
            "description_tooltip": null,
            "_model_module": "@jupyter-widgets/controls",
            "layout": "IPY_MODEL_8de561982f394ad7b37b3aa2b31cf28e"
          }
        },
        "3421831cbe284cc389b73e565e87f3a7": {
          "model_module": "@jupyter-widgets/controls",
          "model_name": "ProgressStyleModel",
          "state": {
            "_view_name": "StyleView",
            "_model_name": "ProgressStyleModel",
            "description_width": "initial",
            "_view_module": "@jupyter-widgets/base",
            "_model_module_version": "1.5.0",
            "_view_count": null,
            "_view_module_version": "1.2.0",
            "bar_color": null,
            "_model_module": "@jupyter-widgets/controls"
          }
        },
        "48c1e9f25b984c2c8f3813d1597c5397": {
          "model_module": "@jupyter-widgets/base",
          "model_name": "LayoutModel",
          "state": {
            "_view_name": "LayoutView",
            "grid_template_rows": null,
            "right": null,
            "justify_content": null,
            "_view_module": "@jupyter-widgets/base",
            "overflow": null,
            "_model_module_version": "1.2.0",
            "_view_count": null,
            "flex_flow": null,
            "width": null,
            "min_width": null,
            "border": null,
            "align_items": null,
            "bottom": null,
            "_model_module": "@jupyter-widgets/base",
            "top": null,
            "grid_column": null,
            "overflow_y": null,
            "overflow_x": null,
            "grid_auto_flow": null,
            "grid_area": null,
            "grid_template_columns": null,
            "flex": null,
            "_model_name": "LayoutModel",
            "justify_items": null,
            "grid_row": null,
            "max_height": null,
            "align_content": null,
            "visibility": null,
            "align_self": null,
            "height": null,
            "min_height": null,
            "padding": null,
            "grid_auto_rows": null,
            "grid_gap": null,
            "max_width": null,
            "order": null,
            "_view_module_version": "1.2.0",
            "grid_template_areas": null,
            "object_position": null,
            "object_fit": null,
            "grid_auto_columns": null,
            "margin": null,
            "display": null,
            "left": null
          }
        },
        "7b820adaec2e4b5499eace761d99285f": {
          "model_module": "@jupyter-widgets/controls",
          "model_name": "DescriptionStyleModel",
          "state": {
            "_view_name": "StyleView",
            "_model_name": "DescriptionStyleModel",
            "description_width": "",
            "_view_module": "@jupyter-widgets/base",
            "_model_module_version": "1.5.0",
            "_view_count": null,
            "_view_module_version": "1.2.0",
            "_model_module": "@jupyter-widgets/controls"
          }
        },
        "8de561982f394ad7b37b3aa2b31cf28e": {
          "model_module": "@jupyter-widgets/base",
          "model_name": "LayoutModel",
          "state": {
            "_view_name": "LayoutView",
            "grid_template_rows": null,
            "right": null,
            "justify_content": null,
            "_view_module": "@jupyter-widgets/base",
            "overflow": null,
            "_model_module_version": "1.2.0",
            "_view_count": null,
            "flex_flow": null,
            "width": null,
            "min_width": null,
            "border": null,
            "align_items": null,
            "bottom": null,
            "_model_module": "@jupyter-widgets/base",
            "top": null,
            "grid_column": null,
            "overflow_y": null,
            "overflow_x": null,
            "grid_auto_flow": null,
            "grid_area": null,
            "grid_template_columns": null,
            "flex": null,
            "_model_name": "LayoutModel",
            "justify_items": null,
            "grid_row": null,
            "max_height": null,
            "align_content": null,
            "visibility": null,
            "align_self": null,
            "height": null,
            "min_height": null,
            "padding": null,
            "grid_auto_rows": null,
            "grid_gap": null,
            "max_width": null,
            "order": null,
            "_view_module_version": "1.2.0",
            "grid_template_areas": null,
            "object_position": null,
            "object_fit": null,
            "grid_auto_columns": null,
            "margin": null,
            "display": null,
            "left": null
          }
        }
      }
>>>>>>> 48f10e9713f8d6a020034ec049f2428edf950c85
    }
   ],
   "source": [
    "!wget https://raw.githubusercontent.com/alvations/Quotables/master/author-quote.txt"
   ]
  },
<<<<<<< HEAD
  {
   "cell_type": "markdown",
   "metadata": {
    "id": "FKkRFHQ1hfc0"
   },
   "source": [
    "Этот семинар посвящен чат-ботам. Вам предстоит реализовать модель, генерирующую определенные тексты. В качестве текстов можно взять сборник цитат умных людей, предсказаний и т.д. На семинаре мы используем данные https://github.com/alvations/Quotables/blob/master/author-quote.txt\n",
    "\n",
    "При реализации задания вы можете пользоваться кодом из этого примера: <a href=https://github.com/spro/practical-pytorch/blob/master/char-rnn-generation/char-rnn-generation.ipynb>Generating Shakespeare with a Character-Level RNN</a>"
   ]
  },
  {
   "cell_type": "markdown",
   "metadata": {
    "id": "0tRWPMjlhfc0"
   },
   "source": [
    "### Часть 1: подготовка данных"
   ]
  },
  {
   "cell_type": "markdown",
   "metadata": {
    "id": "ByTcj7Ubhfc1"
   },
   "source": [
    "Реализуйте датасет для дальнейшего обучения (будем использовать batch size=1)"
   ]
  },
  {
   "cell_type": "code",
   "execution_count": 33,
   "metadata": {
    "id": "fbxCizvRhfc1"
   },
   "outputs": [],
   "source": [
    "lines = [\n",
    "    x.split('\\t')[1].strip() ##!!!!!\n",
    "    for x in open('author-quote.txt').readlines()\n",
    "]\n",
    "lines = [l.lower().replace(\".\", \"\").replace(\",\", \"\").replace(\"?\", \"\").replace(\"!\", \"\").replace(\"'\", \" \").split() for l in lines if l != \"\"]"
   ]
  },
  {
   "cell_type": "code",
   "execution_count": 34,
   "metadata": {
    "colab": {
     "base_uri": "https://localhost:8080/"
=======
  "cells": [
    {
      "cell_type": "markdown",
      "metadata": {
        "id": "BKG-OLSphfcp"
      },
      "source": [
        "## Семинар 10: \"Генерация текстов\""
      ]
    },
    {
      "cell_type": "markdown",
      "metadata": {
        "id": "kbIS5uM4hfcx"
      },
      "source": [
        "ФИО: Валиахметов Булат Ильдарович"
      ]
    },
    {
      "cell_type": "code",
      "metadata": {
        "id": "IPp9icMhhfcy"
      },
      "source": [
        "import numpy as np\n",
        "import re\n",
        "from torch import nn\n",
        "from torch.autograd import Variable\n",
        "import matplotlib.pyplot as plt\n",
        "import torch\n",
        "from torch.utils.data import Dataset, DataLoader\n",
        "import sys\n",
        "from IPython.display import clear_output\n",
        "from tqdm.autonotebook import tqdm\n",
        "import progressbar\n",
        "%matplotlib inline"
      ],
      "execution_count": 1,
      "outputs": []
    },
    {
      "cell_type": "code",
      "metadata": {
        "colab": {
          "base_uri": "https://localhost:8080/"
        },
        "id": "ZgsLeBklh7Oe",
        "outputId": "03192ffc-c4ea-461d-d2ce-d96443bedad8"
      },
      "source": [
        "!wget https://raw.githubusercontent.com/alvations/Quotables/master/author-quote.txt"
      ],
      "execution_count": 2,
      "outputs": [
        {
          "output_type": "stream",
          "text": [
            "--2021-04-11 05:52:13--  https://raw.githubusercontent.com/alvations/Quotables/master/author-quote.txt\n",
            "Resolving raw.githubusercontent.com (raw.githubusercontent.com)... 185.199.108.133, 185.199.109.133, 185.199.110.133, ...\n",
            "Connecting to raw.githubusercontent.com (raw.githubusercontent.com)|185.199.108.133|:443... connected.\n",
            "HTTP request sent, awaiting response... 200 OK\n",
            "Length: 5615127 (5.4M) [text/plain]\n",
            "Saving to: ‘author-quote.txt’\n",
            "\n",
            "\rauthor-quote.txt      0%[                    ]       0  --.-KB/s               \rauthor-quote.txt    100%[===================>]   5.35M  --.-KB/s    in 0.05s   \n",
            "\n",
            "2021-04-11 05:52:13 (99.3 MB/s) - ‘author-quote.txt’ saved [5615127/5615127]\n",
            "\n"
          ],
          "name": "stdout"
        }
      ]
    },
    {
      "cell_type": "markdown",
      "metadata": {
        "id": "FKkRFHQ1hfc0"
      },
      "source": [
        "Этот семинар посвящен чат-ботам. Вам предстоит реализовать модель, генерирующую определенные тексты. В качестве текстов можно взять сборник цитат умных людей, предсказаний и т.д. На семинаре мы используем данные https://github.com/alvations/Quotables/blob/master/author-quote.txt\n",
        "\n",
        "При реализации задания вы можете пользоваться кодом из этого примера: <a href=https://github.com/spro/practical-pytorch/blob/master/char-rnn-generation/char-rnn-generation.ipynb>Generating Shakespeare with a Character-Level RNN</a>"
      ]
    },
    {
      "cell_type": "markdown",
      "metadata": {
        "id": "0tRWPMjlhfc0"
      },
      "source": [
        "### Часть 1: подготовка данных"
      ]
>>>>>>> 48f10e9713f8d6a020034ec049f2428edf950c85
    },
    "id": "SAidXvkDiC8A",
    "outputId": "7a842c47-28ef-4b8a-81d4-f54244d514dd"
   },
   "outputs": [
    {
     "data": {
      "text/plain": [
       "['organizing',\n",
       " 'is',\n",
       " 'what',\n",
       " 'you',\n",
       " 'do',\n",
       " 'before',\n",
       " 'you',\n",
       " 'do',\n",
       " 'something',\n",
       " 'so',\n",
       " 'that',\n",
       " 'when',\n",
       " 'you',\n",
       " 'do',\n",
       " 'it',\n",
       " 'it',\n",
       " 'is',\n",
       " 'not',\n",
       " 'all',\n",
       " 'mixed',\n",
       " 'up']"
      ]
     },
     "execution_count": 34,
     "metadata": {
      "tags": []
     },
     "output_type": "execute_result"
    }
   ],
   "source": [
    "lines[3]"
   ]
  },
  {
   "cell_type": "code",
   "execution_count": 35,
   "metadata": {
    "colab": {
     "base_uri": "https://localhost:8080/"
    },
    "id": "6jtBkkjujOR0",
    "outputId": "bb565080-5ffc-4c84-d1ec-2dc97842a5d3"
   },
   "outputs": [
    {
<<<<<<< HEAD
     "data": {
      "text/plain": [
       "[(2, ['holy', 'cow']),\n",
       " (3, ['adventure', 'is', 'worthwhile']),\n",
       " (3, ['example', 'is', 'leadership']),\n",
       " (3, ['keep', 'it', 'simple']),\n",
       " (3, ['self-plagiarism', 'is', 'style']),\n",
       " (3, ['i', 'feel', 'old']),\n",
       " (3, ['i', 'expected', 'results']),\n",
       " (3, ['character', 'is', 'power']),\n",
       " (3, ['humor', 'is', 'healing']),\n",
       " (3, ['work', 'begets', 'work']),\n",
       " (3, ['make', 'haste', 'slowly']),\n",
       " (3, ['casseroles', 'are', 'one-pot-wonders']),\n",
       " (3, ['i', 'love', 'glee']),\n",
       " (3, ['o', 'mores', ')']),\n",
       " (3, ['elegance', 'is', 'refusal']),\n",
       " (3, ['self-realization', 'is', 'great']),\n",
       " (3, ['i', 'm', 'bisexual']),\n",
       " (3, ['politics', 'is', 'cyclical']),\n",
       " (3, ['i', 'am', 'reactive']),\n",
       " (3, ['humility', 'is', 'truth']),\n",
       " (3, ['i', 'became', 'stereotyped']),\n",
       " (3, ['always', 'educate', 'yourself']),\n",
       " (3, ['americans', 'never', 'quit']),\n",
       " (3, ['be', 'obscure', 'clearly']),\n",
       " (3, ['excellence', 'always', 'sells']),\n",
       " (3, ['racing', 'amuses', 'me']),\n",
       " (3, ['living', 'is', 'abnormal']),\n",
       " (3, ['forgotten', 'is', 'forgiven']),\n",
       " (3, ['knowledge', 'is', 'power']),\n",
       " (3, ['writers', 'speak', 'stench']),\n",
       " (3, ['i', 'appreciate', 'individualism']),\n",
       " (3, ['consequences', 'are', 'unpitying']),\n",
       " (3, ['character', 'is', 'destiny']),\n",
       " (3, ['hatred', 'is', 'self-punishment']),\n",
       " (3, ['design', 'is', 'people']),\n",
       " (3, ['rock', 'on', 'out']),\n",
       " (3, ['attribution', 'is', 'power']),\n",
       " (3, ['winning', 'is', 'everything']),\n",
       " (3, ['testing', 'is', 'overrated']),\n",
       " (3, ['i', 'like', 'horses']),\n",
       " (3, ['comparisons', 'are', 'odious']),\n",
       " (3, ['reading', 'is', 'important']),\n",
       " (3, ['i', 'love', 'improvising']),\n",
       " (3, ['democracy', 'fascinates', 'me']),\n",
       " (3, ['socialism', 'means', 'slavery']),\n",
       " (3, ['everybody', 'needs', 'somebody']),\n",
       " (3, ['i', 'like', 'adventure']),\n",
       " (3, ['success', 'breeds', 'success']),\n",
       " (3, ['sunlight', 'is', 'painting']),\n",
       " (3, ['moonlight', 'is', 'sculpture']),\n",
       " (3, ['change', 'brings', 'opportunity']),\n",
       " (3, ['kindness', 'is', 'wisdom']),\n",
       " (3, ['invention', 'breeds', 'invention']),\n",
       " (3, ['everything', 'is', 'self-evident']),\n",
       " (3, ['feathers', 'predate', 'birds']),\n",
       " (3, ['trust', 'but', 'verify']),\n",
       " (3, ['action', 'is', 'eloquence']),\n",
       " (3, ['et', 'tu', 'brute']),\n",
       " (3, ['anatomy', 'is', 'destiny']),\n",
       " (3, ['nothing', 'in', 'excess']),\n",
       " (3, ['accountability', 'breeds', 'response-ability']),\n",
       " (3, ['independence', 'is', 'happiness']),\n",
       " (3, ['failure', 'is', 'impossible']),\n",
       " (3, ['thought', 'makes', 'reality']),\n",
       " (3, ['time', 'passes', 'irrevocably']),\n",
       " (3, ['love', 'conquers', 'all']),\n",
       " (3, ['exuberance', 'is', 'beauty']),\n",
       " (3, ['to', 'begin', 'begin']),\n",
       " (4, ['his', 'ignorance', 'is', 'encyclopedic']),\n",
       " (4, ['appearances', 'are', 'often', 'deceiving']),\n",
       " (4, ['appearances', 'often', 'are', 'deceiving']),\n",
       " (4, ['getting', 'older', 'is', 'hard']),\n",
       " (4, ['some', 'things', 'are', 'impossible']),\n",
       " (4, ['music', 'is', 'a', 'dialogue']),\n",
       " (4, ['i', 'paint', 'with', 'shapes']),\n",
       " (4, ['learn', 'to', 'think', 'continentally']),\n",
       " (4, ['leave', 'history', 'to', 'historians']),\n",
       " (4, ['with', 'renunciation', 'life', 'begins']),\n",
       " (4, ['kindness', 'is', 'always', 'fashionable']),\n",
       " (4, ['youth', 'condemns;', 'maturity', 'condones']),\n",
       " (4, ['i', 'live', 'in', 'brooklyn']),\n",
       " (4, ['being', 'number', 'two', 'sucks']),\n",
       " (4, ['perfection', 'doesn', 't', 'exist']),\n",
       " (4, ['aim', 'for', 'the', 'highest']),\n",
       " (4, ['freedom', 'is', 'not', 'negotiable']),\n",
       " (4, ['every', 'family', 'is', 'dysfunctional']),\n",
       " (4, ['everyone', 'needs', 'a', 'fantasy']),\n",
       " (4, ['happiness', 'depends', 'upon', 'ourselves']),\n",
       " (4, ['improvement', 'begins', 'with', 'i']),\n",
       " (4, ['enthusiasm', 'moves', 'the', 'world']),\n",
       " (4, ['fortune', 'that', 'favors', 'fools']),\n",
       " (4, ['cotton', 'is', 'my', 'life']),\n",
       " (4, ['actors', 'are', 'very', 'generous']),\n",
       " (4, ['i', 'm', 'an', 'idealist']),\n",
       " (4, ['aim', 'higher', 'stay', 'focused']),\n",
       " (4, ['i', 'm', 'so', 'uncoordinated']),\n",
       " (4, ['i', 'm', 'not', 'perfect']),\n",
       " (4, ['i', 'like', 'my', 'teammates']),\n",
       " (4, ['i', 'm', 'no', 'angel']),\n",
       " (4, ['war', 'is', 'an', 'abstraction']),\n",
       " (4, ['laughing', 'makes', 'everything', 'easier']),\n",
       " (4, ['i', 'improve', 'on', 'misquotation']),\n",
       " (4, ['accept', 'yourself', 'love', 'yourself']),\n",
       " (4, ['politics', 'makes', 'strange', 'bedfellows']),\n",
       " (4, ['i', 'love', 'the', 'unknown']),\n",
       " (4, ['stolen', 'sweets', 'are', 'best']),\n",
       " (4, ['architecture', 'is', 'inhabited', 'sculpture']),\n",
       " (4, ['follow', 'your', 'own', 'star']),\n",
       " (4, ['i', 'love', 'all', 'sports']),\n",
       " (4, ['everyone', 'has', 'a', 'past']),\n",
       " (4, ['wonders', 'will', 'never', 'cease']),\n",
       " (4, ['fortune', 'favors', 'the', 'audacious']),\n",
       " (4, ['you', 'learn', 'from', 'mistakes']),\n",
       " (4, ['every', 'song', 'is', 'different']),\n",
       " (4, ['i', 'm', 'a', 'competitor']),\n",
       " (4, ['adults', 'are', 'obsolete', 'children']),\n",
       " (4, ['nothing', 'recedes', 'like', 'progress']),\n",
       " (4, ['facts', 'are', 'stubborn', 'things']),\n",
       " (4, ['i', 'have', 'selective', 'hearing']),\n",
       " (4, ['i', 'hate', 'getting', 'bored']),\n",
       " (4, ['light', 'tomorrow', 'with', 'today']),\n",
       " (4, ['terror', 'made', 'me', 'cruel']),\n",
       " (4, ['i', 'dwell', 'in', 'possibility']),\n",
       " (4, ['for', 'love', 'is', 'immortality']),\n",
       " (4, ['politics', 'is', 'applied', 'biology']),\n",
       " (4, ['holidays', 'have', 'no', 'pity']),\n",
       " (4, ['much', 'effort', 'much', 'prosperity']),\n",
       " (4, ['cleverness', 'is', 'not', 'wisdom']),\n",
       " (4, ['leave', 'no', 'stone', 'unturned']),\n",
       " (4, ['we', 'shred', 'every', 'day']),\n",
       " (4, ['no', 'cross', 'no', 'crown']),\n",
       " (4, ['evolution', 'is', 'a', 'tinkerer']),\n",
       " (4, ['freedom', 'is', 'from', 'within']),\n",
       " (4, ['nature', 'abhors', 'a', 'vacuum']),\n",
       " (4, ['and', 'yet', 'it', 'moves']),\n",
       " (4, ['because', 'it', 's', 'there']),\n",
       " (4, ['cynicism', 'is', 'intellectual', 'dandyism']),\n",
       " (4, ['wisdom', 'comes', 'by', 'disillusionment']),\n",
       " (4, ['politics', 'makes', 'estranged', 'bedfellows']),\n",
       " (4, ['advertising', 'is', 'legalized', 'lying']),\n",
       " (4, ['the', 'buck', 'stops', 'here']),\n",
       " (4, ['love', 'has', 'a', 'tide']),\n",
       " (4, ['the', 'devil', 'is', 'compromise']),\n",
       " (4, ['nothing', 'endures', 'but', 'change']),\n",
       " (4, ['change', 'alone', 'is', 'unchanging']),\n",
       " (4, ['i', 'love', 'doing', 'comedy']),\n",
       " (4, ['class', 'envy', 'is', 'dangerous']),\n",
       " (4, ['human', 'beings', 'are', 'weak']),\n",
       " (4, ['i', 'believe', 'in', 'god']),\n",
       " (4, ['you', 'dirty', 'double-crossing', 'rat']),\n",
       " (4, ['make', 'the', 'important', 'interesting']),\n",
       " (4, ['conform', 'and', 'be', 'dull']),\n",
       " (4, ['being', 'unprepared', 'heightens', 'nerves']),\n",
       " (4, ['all', 'writers', 'are', 'vampires']),\n",
       " (4, ['i', 'like', 'dark', 'places']),\n",
       " (4, ['fate', 'loves', 'the', 'fearless']),\n",
       " (4, ['time', 'wounds', 'all', 'heels']),\n",
       " (4, ['i', 'like', 'the', 'pressure']),\n",
       " (4, ['hell', 'is', 'other', 'people']),\n",
       " (4, ['all', 'babies', 'are', 'beautiful']),\n",
       " (4, ['no', 'collection', 'without', 'compensation']),\n",
       " (4, ['i', 'cook', 'every', 'day']),\n",
       " (4, ['originality', 'is', 'really', 'important']),\n",
       " (4, ['music', 'is', 'my', 'religion']),\n",
       " (4, ['i', 'm', 'a', 'pacifist']),\n",
       " (4, ['doubt', 'grows', 'with', 'knowledge']),\n",
       " (4, ['opportunities', 'are', 'seldom', 'labeled']),\n",
       " (4, ['beginnings', 'are', 'always', 'messy']),\n",
       " (4, ['bad', 'people', 'are', 'intriguing']),\n",
       " (4, ['innocence', 'is', 'always', 'unsuspicious']),\n",
       " (4, ['logic', 'works', 'metaphysics', 'contemplates']),\n",
       " (4, ['solitude', 'vivifies;', 'isolation', 'kills']),\n",
       " (4, ['i', 'love', 'polarizing', 'people']),\n",
       " (4, ['i', 'like', 'to', 'relax']),\n",
       " (4, ['the', 'die', 'is', 'cast']),\n",
       " (4, ['my', 'dad', 'is', 'awesome']),\n",
       " (4, ['i', 'love', 'to', 'write']),\n",
       " (4, ['i', 'actually', 'hate', 'shopping']),\n",
       " (4, ['i', 'm', 'very', 'independent']),\n",
       " (4, ['i', 'feel', 'very', 'lucky']),\n",
       " (4, ['never', 'complain', 'never', 'explain']),\n",
       " (4, ['i', 'm', 'chasing', 'perfection']),\n",
       " (4, ['real', 'luxury', 'is', 'customization']),\n",
       " (4, ['i', 'm', 'from', 'southampton']),\n",
       " (4, ['shopkeepers', 'are', 'not', 'bankers']),\n",
       " (4, ['nice', 'guys', 'finish', 'last']),\n",
       " (4, ['let', 'there', 'be', 'bass']),\n",
       " (4, ['study', 'nature', 'not', 'books']),\n",
       " (4, ['form', 'ever', 'follows', 'function']),\n",
       " (4, ['words', 'are', 'just', 'words']),\n",
       " (4, ['patience', 'is', 'passion', 'tamed']),\n",
       " (4, ['money', 'just', 'draws', 'flies']),\n",
       " (4, ['nothing', 'nothing', 'justifies', 'terrorism']),\n",
       " (4, ['imaginary', 'evils', 'are', 'incurable']),\n",
       " (4, ['racism', 'springs', 'from', 'ignorance']),\n",
       " (4, ['i', 'definitely', 'love', 'tv']),\n",
       " (4, ['reject', 'hatred', 'without', 'hating']),\n",
       " (4, ['better', 'late', 'than', 'never']),\n",
       " (4, ['i', 'm', 'no', 'superman']),\n",
       " (4, ['i', 'am', 'still', 'learning']),\n",
       " (4, ['genius', 'is', 'eternal', 'patience']),\n",
       " (4, ['always', 'do', 'your', 'best']),\n",
       " (4, ['real', 'men', 'change', 'diapers']),\n",
       " (4, ['professional', 'competitions', 'are', 'overrated']),\n",
       " (4, ['heroes', 'can', 'be', 'sweet']),\n",
       " (4, ['youth', 'has', 'no', 'age']),\n",
       " (4, ['politeness', 'is', 'organized', 'indifference']),\n",
       " (4, ['i', 'm', 'happily', 'single']),\n",
       " (4, ['music', 'tells', 'no', 'truths']),\n",
       " (4, ['love', 'is', 'metaphysical', 'gravity']),\n",
       " (4, ['truth', 'is', 'a', 'tendency']),\n",
       " (4, ['age', 'considers;', 'youth', 'ventures']),\n",
       " (4, ['i', 'm', 'a', 'presenter']),\n",
       " (4, ['i', 'am', 'a', 'geologist']),\n",
       " (4, ['winning', 'starts', 'with', 'beginning']),\n",
       " (4, ['music', 'is', 'my', 'life']),\n",
       " (4, ['wine', 'is', 'bottled', 'poetry']),\n",
       " (4, ['i', 'love', 'rob', 'schneider']),\n",
       " (4, ['necessity', 'has', 'no', 'law']),\n",
       " (4, ['courage', 'mounteth', 'with', 'occasion']),\n",
       " (4, ['wisdom', 'begins', 'in', 'wonder']),\n",
       " (4, ['who', 'seeks', 'shall', 'find']),\n",
       " (4, ['without', 'labor', 'nothing', 'prospers']),\n",
       " (4, ['baseball', 'is', 'the', 'life']),\n",
       " (4, ['stay', 'hungry', 'stay', 'foolish']),\n",
       " (4, ['nobody', 'likes', 'tainted', 'victories']),\n",
       " (4, ['fortune', 'favors', 'the', 'brave']),\n",
       " (4, ['endurance', 'is', 'patience', 'concentrated']),\n",
       " (4, ['no', 'pressure', 'no', 'diamonds']),\n",
       " (4, ['good', 'bargains', 'are', 'pick-pockets']),\n",
       " (4, ['no', 'taxation', 'without', 'respiration']),\n",
       " (4, ['climate', 'change', 'is', 'crap']),\n",
       " (4, ['i', 'like', 'things', 'simple']),\n",
       " (4, ['comedy', 'comes', 'from', 'confusion']),\n",
       " (4, ['fortune', 'favours', 'the', 'bold']),\n",
       " (4, ['fortune', 'favors', 'the', 'bold']),\n",
       " (4, ['time', 'speeds', 'away', 'irretrievably']),\n",
       " (4, ['in', 'dreams', 'begins', 'responsibility']),\n",
       " (4, ['be', 'curious', 'not', 'judgmental']),\n",
       " (4, ['nothing', 'recedes', 'like', 'success']),\n",
       " (4, ['opposition', 'is', 'true', 'friendship']),\n",
       " (4, ['originality', 'is', 'undetected', 'plagiarism']),\n",
       " (4, ['you', 'sparkle', 'with', 'larceny']),\n",
       " (4, ['my', 'forte', 'is', 'awkwardness']),\n",
       " (5, ['tiggers', 'don', 't', 'like', 'honey']),\n",
       " (5, ['i', 'would', 'like', 'to', 'direct']),\n",
       " (5, ['i', 'm', 'about', 'my', 'characters']),\n",
       " (5, ['loneliness', 'is', 'the', 'ultimate', 'poverty']),\n",
       " (5, ['life', 'is', 'an', 'incurable', 'disease']),\n",
       " (5, ['i', 'think', 'work', 'begets', 'work']),\n",
       " (5, ['i', 'm', 'no', 'leonardo', 'dicaprio']),\n",
       " (5, ['most', 'modern', 'comedy', 'is', 'crap']),\n",
       " (5, ['example', 'is', 'the', 'best', 'precept']),\n",
       " (5, ['i', 'sing', 'just', 'for', 'fun']),\n",
       " (5, ['vote', 'early', 'and', 'vote', 'often']),\n",
       " (5, ['dream', 'in', 'a', 'pragmatic', 'way']),\n",
       " (5, ['i', 'do', 'believe', 'in', 'fate']),\n",
       " (5, ['health', 'consists', 'with', 'temperance', 'alone']),\n",
       " (5, ['live', 'constructively', 'and', 'live', 'optimistically']),\n",
       " (5, ['love', 'is', 'the', 'only', 'gold']),\n",
       " (5, ['knowledge', 'comes', 'but', 'wisdom', 'lingers']),\n",
       " (5, ['being', 'an', 'all-star', 'is', 'everything']),\n",
       " (5, ['i', 'like', 'being', 'a', 'mother']),\n",
       " (5, ['i', 'like', 'to', 'be', 'free']),\n",
       " (5, ['adventure', 'is', 'worthwhile', 'in', 'itself']),\n",
       " (5, ['dreams', 'are', 'necessary', 'to', 'life']),\n",
       " (5, ['most', 'quarrels', 'amplify', 'a', 'misunderstanding']),\n",
       " (5, ['you', 'can', 'plant', 'a', 'dream']),\n",
       " (5, ['corruption', 'never', 'has', 'been', 'compulsory']),\n",
       " (5, ['movies', 'are', 'just', 'ridiculously', 'expensive']),\n",
       " (5, ['self-love', 'seems', 'so', 'often', 'unrequited']),\n",
       " (5, ['eureka', '(i', 'have', 'found', 'it)']),\n",
       " (5, ['hope', 'is', 'a', 'waking', 'dream']),\n",
       " (5, ['the', 'primary', 'factor', 'is', 'proportions']),\n",
       " (5, ['things', 'always', 'happen', 'in', 'series']),\n",
       " (5, ['who', 'will', 'observe', 'the', 'observers']),\n",
       " (5, ['i', 'm', 'not', 'maximized', 'yet']),\n",
       " (5, ['i', 'm', 'very', 'very', 'blessed']),\n",
       " (5, ['katie', 'holmes', 'is', 'really', 'amazing']),\n",
       " (5, ['never', 'complain', 'and', 'never', 'explain']),\n",
       " (5, ['a', 'precedent', 'embalms', 'a', 'principle']),\n",
       " (5, ['there', 'is', 'no', 'little', 'enemy']),\n",
       " (5, ['remember', 'that', 'time', 'is', 'money']),\n",
       " (5, ['photography', 'helps', 'people', 'to', 'see']),\n",
       " (5, ['good', 'things', 'just', 'keep', 'happening']),\n",
       " (5, ['i', 'm', 'a', 'competitive', 'person']),\n",
       " (5, ['zealots', 'often', 'carry', 'the', 'day']),\n",
       " (5, ['iraq', 'is', 'not', 'about', 'oil']),\n",
       " (5, ['wisconsin', 's', 'a', 'special', 'place']),\n",
       " (5, ['i', 'm', 'usually', 'pretty', 'insecure']),\n",
       " (5, ['i', 'moonlight', 'as', 'a', 'singer']),\n",
       " (5, ['my', 'father', 's', 'a', 'character']),\n",
       " (5, ['imperialist', 'enterprise', 'draws', 'political', 'consequences']),\n",
       " (5, ['i', 'm', 'a', 'television', 'junkie']),\n",
       " (5, ['not', 'all', 'celebrities', 'are', 'dunces']),\n",
       " (5, ['democracy', 'derailed', 'is', 'democracy', 'denied']),\n",
       " (5, ['imitation', 'is', 'the', 'sincerest', 'flattery']),\n",
       " (5, ['of', 'two', 'evils', 'choose', 'neither']),\n",
       " (5, ['by', 'nature', 'men', 'love', 'newfangledness']),\n",
       " (5, ['we', 're', 'not', 'hard', 'people']),\n",
       " (5, ['i', 'do', 'belong', 'on', 'stage']),\n",
       " (5, ['strong', 'female', 'leads', 'are', 'important']),\n",
       " (5, ['i', 'like', 'to', 'explore', 'things']),\n",
       " (5, ['i', 'keep', 'things', 'pretty', 'simple']),\n",
       " (5, ['i', 'don', 't', 'wear', 'jeans']),\n",
       " (5, ['nothing', 'quite', 'new', 'is', 'perfect']),\n",
       " (5, ['fame', 'doesn', 't', 'end', 'loneliness']),\n",
       " (5, ['to', 'think', 'is', 'to', 'differ']),\n",
       " (5, ['i', 've', 'mellowed', 'quite', 'quickly']),\n",
       " (5, ['sleep', 'is', 'the', 'best', 'meditation']),\n",
       " (5, ['i', 'enjoy', 'saturday', 'night', 'racing']),\n",
       " (5, ['there', 's', 'nothing', 'like', 'success']),\n",
       " (5, ['i', 'love', 'to', 'play', 'pool']),\n",
       " (5, ['sports', 'are', 'not', 'for', 'everyone']),\n",
       " (5, ['i', 'have', 'no', 'grand', 'scheme']),\n",
       " (5, ['i', 'always', 'go', 'for', 'simplicity']),\n",
       " (5, ['bad', 'guys', 'have', 'more', 'fun']),\n",
       " (5, ['anything', 'simple', 'always', 'interests', 'me']),\n",
       " (5, ['avarice', 'the', 'spur', 'of', 'industry']),\n",
       " (5, ['god', 'save', 'us', 'from', 'religion']),\n",
       " (5, ['what', 'is', 'originality', 'undetected', 'plagiarism']),\n",
       " (5, ['i', 'want', 'to', 'be', 'fearless']),\n",
       " (5, ['i', 'don', 't', 'research', 'anything']),\n",
       " (5, ['your', 'library', 'is', 'your', 'paradise']),\n",
       " (5, ['prevention', 'is', 'better', 'than', 'cure']),\n",
       " (5, ['tackling', 'childhood', 'obesity', 'is', 'key']),\n",
       " (5, ['my', 'family', 'were', 'from', 'jamaica']),\n",
       " (5, ['everything', 'in', 'life', 'is', 'luck']),\n",
       " (5, ['adults', 'are', 'just', 'outdated', 'children']),\n",
       " (5, ['mortality', 'defines', 'the', 'human', 'condition']),\n",
       " (5, ['god', 'uses', 'whoever', 'he', 'wants']),\n",
       " (5, ['ideas', 'are', 'fatal', 'to', 'caste']),\n",
       " (5, ['i', 'm', 'a', 'one-man', 'idiot']),\n",
       " (5, ['villains', 'are', 'fun', 'to', 'play']),\n",
       " (5, ['custom', 'reconciles', 'us', 'to', 'everything']),\n",
       " (5, ['to', 'write', 'is', 'a', 'humiliation']),\n",
       " (5, ['you', 'never', 'know', 'about', 'life']),\n",
       " (5, ['i', 'am', 'single', 'and', 'happy']),\n",
       " (5, ['the', 'past', 'cannot', 'be', 'cured']),\n",
       " (5, ['big', 'girls', 'need', 'big', 'diamonds']),\n",
       " (5, ['success', 'is', 'a', 'great', 'deodorant']),\n",
       " (5, ['my', 'friends', 'are', 'my', 'estate']),\n",
       " (5, ['violence', 'in', 'darfur', 'is', 'cataclysmic']),\n",
       " (5, ['i', 'always', 'respect', 'a', 'woman']),\n",
       " (5, ['i', 'prefer', 'love', 'over', 'sex']),\n",
       " (5, ['only', 'the', 'educated', 'are', 'free']),\n",
       " (5, ['my', 'skin', 'is', 'very', 'sensitive']),\n",
       " (5, ['you', 'look', 'just', 'like', 'you']),\n",
       " (5, ['children', 'make', 'your', 'life', 'important']),\n",
       " (5, ['courage', 'is', 'grace', 'under', 'pressure']),\n",
       " (5, ['never', 'mistake', 'motion', 'for', 'action']),\n",
       " (5, ['the', 'sea', 'hates', 'a', 'coward']),\n",
       " (5, ['i', 'love', 'the', 'fast', 'lane']),\n",
       " (5, ['i', 'acted', 'my', 'heart', 'out']),\n",
       " (5, ['i', 'aspire', 'only', 'to', 'silence']),\n",
       " (5, ['friends', 'are', 'thieves', 'of', 'time']),\n",
       " (5, ['my', 'mind', 's', 'my', 'kingdom']),\n",
       " (5, ['wickedness', 'is', 'its', 'own', 'punishment']),\n",
       " (5, ['little', 'opportunities', 'should', 'be', 'improved']),\n",
       " (5, ['sex', 'is', 'a', 'two-way', 'treat']),\n",
       " (5, ['too', 'much', 'truth', 'is', 'uncouth']),\n",
       " (5, ['violence', 'is', 'man', 're-creating', 'himself']),\n",
       " (5, ['greenland', 'is', 'a', 'wonderful', 'country']),\n",
       " (5, ['i', 'am', 'just', 'an', 'apprentice']),\n",
       " (5, ['being', 'short', 'works', 'for', 'me']),\n",
       " (5, ['i', 'm', 'not', 'very', 'glamorous']),\n",
       " (5, ['i', 'm', 'a', 'proud', 'welshman']),\n",
       " (5, ['man', 'is', 'an', 'imagining', 'being']),\n",
       " (5, ['nostalgia', 'is', 'a', 'seductive', 'liar']),\n",
       " (5, ['weather', 'forecast', 'for', 'tonight:', 'dark']),\n",
       " (5, ['necessity', 'the', 'mother', 'of', 'invention']),\n",
       " (5, ['big', 'brother', 'is', 'watching', 'you']),\n",
       " (5, ['admiration', 'and', 'familiarity', 'are', 'strangers']),\n",
       " (5, ['audacity', 'more', 'audacity', 'always', 'audacity']),\n",
       " (5, ['every', 'shot', 'that', 'kills', 'ricochets']),\n",
       " (5, ['everybody', 'is', 'their', 'own', 'critic']),\n",
       " (5, ['i', 'want', 'to', 'be', 'alone']),\n",
       " (5, ['our', 'true', 'nationality', 'is', 'mankind']),\n",
       " (5, ['vanity', 'like', 'murder', 'will', 'out']),\n",
       " (5, ['nothing', 'exists', 'except', 'through', 'language']),\n",
       " (5, ['death', 'is', 'better', 'than', 'slavery']),\n",
       " (5, ['childhood', 'is', 'a', 'short', 'season']),\n",
       " (5, ['if', 'you', 'rest', 'you', 'rust']),\n",
       " (5, ['america', 'has', 'always', 'imported', 'history']),\n",
       " (5, ['power', 'is', 'the', 'great', 'aphrodisiac']),\n",
       " (5, ['friends', 'are', 'born', 'not', 'made']),\n",
       " (5, ['deep', 'experience', 'is', 'never', 'peaceful']),\n",
       " (5, ['my', 'motto', 'is', 'never', 'quit']),\n",
       " (5, ['resolve', 'and', 'thou', 'art', 'free']),\n",
       " (5, ['big', 'results', 'require', 'big', 'ambitions']),\n",
       " (5, ['stupid', 'people', 'are', 'ruining', 'america']),\n",
       " (5, ['genius', 'is', 'initiative', 'on', 'fire']),\n",
       " (5, ['your', 'library', 'is', 'your', 'portrait']),\n",
       " (5, ['anger', 'is', 'a', 'short', 'madness']),\n",
       " (5, ['anger', 'is', 'a', 'brief', 'madness']),\n",
       " (5, ['sometimes', 'even', 'excellent', 'homer', 'nods']),\n",
       " (5, ['never', 'give', 'up', 'on', 'anybody']),\n",
       " (5, ['to', 'be', 'is', 'to', 'do']),\n",
       " (5, ['i', 'suffer', 'from', 'everyday', 'life']),\n",
       " (5, ['serbs', 'can', 'only', 'leave', 'kosovo']),\n",
       " (5, ['serbia', 'is', 'open', 'for', 'business']),\n",
       " (5, ['short', 'cuts', 'make', 'long', 'delays']),\n",
       " (5, ['with', 'humour', 'there', 'is', 'life']),\n",
       " (5, ['congress', 'doesn', 't', 'hate', 'congress']),\n",
       " (5, ['suicide', 'is', 'not', 'a', 'remedy']),\n",
       " (5, ['i', 'am', 'a', 'poor', 'hater']),\n",
       " (5, ['there', 'are', 'no', 'instant', 'solutions']),\n",
       " (5, ['jane', 'austen', 'is', 'very', 'amusing']),\n",
       " (5, ['i', 'love', 'hearing', 'people', 'laugh']),\n",
       " (5, ['i', 'm', 'an', 'angry', 'guy']),\n",
       " (5, ['even', 'my', 'stuntman', 'is', 'old']),\n",
       " (5, ['taxation', 'without', 'representation', 'is', 'tyranny']),\n",
       " (5, ['freedom', 'is', 'a', 'universal', 'value']),\n",
       " (5, ['well', 'time', 'wounds', 'all', 'heels']),\n",
       " (5, ['tragedy', 'makes', 'you', 'grow', 'up']),\n",
       " (5, ['i', 'am', 'critical', 'of', 'myself']),\n",
       " (5, ['morning', 'breath', 'is', 'the', 'worst']),\n",
       " (5, ['courage', 'is', 'action', 'not', 'talk']),\n",
       " (5, ['i', 'have', 'a', 'strong', 'constitution']),\n",
       " (5, ['i', 'react', 'emotionally', 'to', 'everything']),\n",
       " (5, ['i', 'can', 't', 'tan', 'naturally']),\n",
       " (5, ['sometimes', 'you', 'win', 'by', 'losing']),\n",
       " (5, ['my', 'father', 'was', 'an', 'agnostic']),\n",
       " (5, ['i', 'have', 'very', 'old-fashioned', 'tastes']),\n",
       " (5, ['everything', 'matters', 'time', 'is', 'precious']),\n",
       " (5, ['art', 'is', 'fun', 'to', 'buy']),\n",
       " (5, ['knowledge', 'speaks', 'but', 'wisdom', 'listens']),\n",
       " (5, ['hypothetical', 'questions', 'get', 'hypothetical', 'answers']),\n",
       " (5, ['i', 'call', 'architecture', 'frozen', 'music']),\n",
       " (5, ['the', 'poetry', 'of', 'the', 'foot']),\n",
       " (5, ['i', 'really', 'write', 'for', 'people']),\n",
       " (5, ['i', 'm', 'ready', 'to', 'create']),\n",
       " (5, ['what', 'worries', 'you', 'masters', 'you']),\n",
       " (5, ['wherever', 'law', 'ends', 'tyranny', 'begins']),\n",
       " (5, ['night', 'hath', 'a', 'thousand', 'eyes']),\n",
       " (5, ['never', 'mistake', 'activity', 'for', 'achievement']),\n",
       " (5, ['i', 'think', 'everybody', 's', 'nuts']),\n",
       " (5, ['the', 'national', 'pastime', 'is', 'juiced']),\n",
       " (5, ['my', 'family', 'came', 'from', 'ecuador']),\n",
       " (5, ['not', 'one', 'cent', 'for', 'scenery']),\n",
       " (5, ['the', 'holy', 'one…requires', 'the', 'heart']),\n",
       " (5, ['i', 'prefer', 'a', 'cluttered', 'workspace']),\n",
       " (5, ['i', 'like', 'writing', 'about', 'friends']),\n",
       " (5, ['my', 'life', 'is', 'to', 'sing']),\n",
       " (5, ['honesty', 'is', 'praised', 'and', 'starves']),\n",
       " (5, ['i', 'enjoy', 'seeing', 'new', 'places']),\n",
       " (5, ['art', 'must', 'not', 'serve', 'might']),\n",
       " (5, ['i', 'felt', 'uncomfortable', 'in', 'cliques']),\n",
       " (5, ['i', 'm', 'a', 'serial', 'monogamist']),\n",
       " (5, ['beauty', 'comes', 'from', 'the', 'inside']),\n",
       " (5, ['serendipity', 'always', 'rewards', 'the', 'prepared']),\n",
       " (5, ['my', 'faith', 'guides', 'my', 'life']),\n",
       " (5, ['i', 'have', 'a', 'natural', 'swagger']),\n",
       " (5, ['great', 'ideology', 'creates', 'great', 'times']),\n",
       " (5, ['i', 'don', 't', 'do', 'earrings']),\n",
       " (5, ['i', 'am', 'the', 'girliest', 'girl']),\n",
       " (5, ['rather', 'be', 'dead', 'than', 'cool']),\n",
       " (5, ['i', 'm', 'a', 'wandering', 'gypsy']),\n",
       " (5, ['general', 'notions', 'are', 'generally', 'wrong']),\n",
       " (5, ['i', 'm', 'rubbish', 'at', 'twitter']),\n",
       " (5, ['i', 'think', 'like', 'a', 'detective']),\n",
       " (5, ['i', 'am', 'essentially', 'a', 'loner']),\n",
       " (5, ['we', 'all', 'need', 'each', 'other']),\n",
       " (5, ['boredom:', 'the', 'desire', 'for', 'desires']),\n",
       " (5, ['nietzsche', 'was', 'stupid', 'and', 'abnormal']),\n",
       " (5, ['learning', 'never', 'exhausts', 'the', 'mind']),\n",
       " (5, ['simplicity', 'is', 'the', 'ultimate', 'sophistication']),\n",
       " (5, ['i', 'was', 'never', 'a', 'prodigy']),\n",
       " (5, ['i', 'm', 'not', 'that', 'interesting']),\n",
       " (5, ['no', 'news', 'is', 'good', 'news']),\n",
       " (5, ['a', 'low', 'budget', 'is', 'uncomfortable']),\n",
       " (5, ['sex', 'is', 'emotion', 'in', 'motion']),\n",
       " (5, ['my', 'life', 'is', 'my', 'message']),\n",
       " (5, ['without', 'hope', 'we', 'are', 'lost']),\n",
       " (5, ['anticipate', 'charity', 'by', 'preventing', 'poverty']),\n",
       " (5, ['the', 'best', 'vision', 'is', 'insight']),\n",
       " (5, ['love', 'is', 'a', 'reciprocal', 'torture']),\n",
       " (5, ['confine', 'yourself', 'to', 'the', 'present']),\n",
       " (5, ['true', 'friendship', 'is', 'never', 'serene']),\n",
       " (5, ['conquer', 'but', 'don', 't', 'triumph']),\n",
       " (5, ['all', 'kings', 'is', 'mostly', 'rapscallions']),\n",
       " (5, ['i', 'm', 'not', 'independently', 'wealthy']),\n",
       " (5, ['the', 'medium', 'is', 'the', 'message']),\n",
       " (5, ['pray', 'and', 'let', 'god', 'worry']),\n",
       " (5, ['when', 'schools', 'flourish', 'all', 'flourishes']),\n",
       " (5, ['money', 'can', 't', 'buy', 'poverty']),\n",
       " (5, ['we', 'fall', 'forward', 'to', 'succeed']),\n",
       " (5, ['sanctified', 'afflictions', 'are', 'spiritual', 'promotions']),\n",
       " (5, ['not', 'lost', 'but', 'gone', 'before']),\n",
       " (5, ['for', 'me', 'comfort', 'is', 'paramount']),\n",
       " (5, ['i', 've', 'got', 'two', 'families']),\n",
       " (5, ['i', 'was', 'the', 'class', 'innuendist']),\n",
       " (5, ['all', 'war', 'aims', 'for', 'impunity']),\n",
       " (5, ['a', 'good', 'thing', 'never', 'ends']),\n",
       " (5, ['be', 'impeccable', 'with', 'your', 'word']),\n",
       " (5, ['laughter', 'is', 'an', 'instant', 'vacation']),\n",
       " (5, ['inflation', 'is', 'taxation', 'without', 'legislation']),\n",
       " (5, ['love', 'without', 'conversation', 'is', 'impossible']),\n",
       " (5, ['peace', 'begins', 'with', 'a', 'smile']),\n",
       " (5, ['always', 'stay', 'true', 'to', 'yourselves']),\n",
       " (5, ['my', 'features', 'are', 'completely', 'ethnic']),\n",
       " (5, ['i', 'love', 'anything', 'quiz', 'related']),\n",
       " (5, ['stay', 'focused', 'on', 'the', 'mission']),\n",
       " (5, ['i', 'have', 'my', 'own', 'strength']),\n",
       " (5, ['do', 'all', 'things', 'with', 'love']),\n",
       " (5, ['only', 'the', 'young', 'die', 'good']),\n",
       " (5, ['i', 'literally', 'hate', 'working', 'out']),\n",
       " (5, ['turn', 'your', 'wounds', 'into', 'wisdom']),\n",
       " (5, ['a', 'will', 'finds', 'a', 'way']),\n",
       " (5, ['all', 'art', 'is', 'quite', 'useless']),\n",
       " (5, ['only', 'the', 'shallow', 'know', 'themselves']),\n",
       " (5, ['all', 'things', 'change;', 'nothing', 'perishes']),\n",
       " (5, ['never', 'fight', 'an', 'inanimate', 'object']),\n",
       " (5, ['i', 'enjoy', 'being', 'a', 'girl']),\n",
       " (5, ['kittens', 'can', 'happen', 'to', 'anyone']),\n",
       " (5, ['boredom', 'is', 'rage', 'spread', 'thin']),\n",
       " (5, ['there', 'are', 'many', 'talented', 'people']),\n",
       " (5, ['i', 've', 'always', 'been', 'loud']),\n",
       " (5, ['you', 'have', 'to', 'take', 'risks']),\n",
       " (5, ['freud', 'was', 'just', 'a', 'novelist']),\n",
       " (5, ['rivalry', 'doesn', 't', 'help', 'anybody']),\n",
       " (5, ['hello', 'kitty', 'will', 'never', 'speak']),\n",
       " (5, ['neither', 'blame', 'or', 'praise', 'yourself']),\n",
       " (5, ['life', 'is', 'just', 'a', 'journey']),\n",
       " (5, ['vice', 'is', 'its', 'own', 'reward']),\n",
       " (5, ['history', 'will', 'treat', 'me', 'right']),\n",
       " (5, ['the', 'first', 'wealth', 'is', 'health']),\n",
       " (5, ['the', 'earth', 'laughs', 'in', 'flowers']),\n",
       " (5, ['art', 'is', 'a', 'jealous', 'mistress']),\n",
       " (5, ['all', 'mankind', 'love', 'a', 'lover']),\n",
       " (5, ['figure', 'out', 'who', 'you', 'are']),\n",
       " (5, ['i', 'like', 'to', 'write', 'poetry']),\n",
       " (5, ['i', 'love', 'getting', 'dressed', 'up']),\n",
       " (5, ['fans', 'don', 't', 'boo', 'nobodies']),\n",
       " (5, ['hitting', 'is', 'better', 'than', 'sex']),\n",
       " (5, ['i', 'think;', 'therefore', 'i', 'am']),\n",
       " (5, ['good', 'government', 'is', 'good', 'politics']),\n",
       " (5, ['a', 'true', 'initiation', 'never', 'ends']),\n",
       " (5, ['the', 'titanic', 'will', 'protect', 'itself']),\n",
       " (5, ['love', 'is', 'energy', 'of', 'life']),\n",
       " (5, ['unity', 'is', 'obama', 's', 'theme']),\n",
       " (5, ['texts', 'are', 'always', 'in', 'flux']),\n",
       " (5, ['freedom', 'lies', 'in', 'being', 'bold']),\n",
       " (5, ['turn', 'your', 'scars', 'into', 'stars']),\n",
       " (5, ['when', 'one', 'teaches', 'two', 'learn']),\n",
       " (5, ['comedy', 'is', 'acting', 'out', 'optimism']),\n",
       " (5, ['you', 'can', 't', 'fix', 'stupid']),\n",
       " (5, ['i', 'race', 'kind', 'of', 'sparingly']),\n",
       " (5, ['words', 'are', 'all', 'we', 'have']),\n",
       " (5, ['nobody', 'shoots', 'at', 'santa', 'claus']),\n",
       " (5, ['the', 'wise', 'are', 'above', 'books']),\n",
       " (5, ['avoid', 'running', 'at', 'all', 'times']),\n",
       " (5, ['i', 'hate', 'the', 'polo', 'collar']),\n",
       " (5, ['man', 'is', 'a', 'social', 'animal']),\n",
       " (5, ['what', 's', 'past', 'is', 'prologue']),\n",
       " (5, ['frailty', 'thy', 'name', 'is', 'woman']),\n",
       " (5, ['i', 'm', 'a', 'tv', 'junkie']),\n",
       " (5, ['i', 'm', 'a', 'tv', 'addict']),\n",
       " (5, ['i', 'm', 'such', 'a', 'workaholic']),\n",
       " (5, ['faith', 'is', 'reason', 'grown', 'courageous']),\n",
       " (5, ['gossip', 'is', 'nature', 's', 'telephone']),\n",
       " (5, ['fashion', 'goes', 'round', 'in', 'circles']),\n",
       " (5, ['success', 'is', 'dependent', 'on', 'effort']),\n",
       " (5, ['trust', 'dies', 'but', 'mistrust', 'blossoms']),\n",
       " (5, ['quick', 'decisions', 'are', 'unsafe', 'decisions']),\n",
       " (5, ['i', 'm', 'always', 'being', 'realistic']),\n",
       " (5, ['a', 'win', 'is', 'a', 'win']),\n",
       " (5, ['to', 'me', 'flowers', 'are', 'happiness']),\n",
       " (5, ['i', 'am', 'a', 'serious', 'guy']),\n",
       " (5, ['accessible', 'design', 'is', 'good', 'design']),\n",
       " (5, ['crikey', 'means', 'gee', 'whiz', 'wow']),\n",
       " (5, ['suffrage', 'is', 'the', 'pivotal', 'right']),\n",
       " (5, ['fat', 'is', 'a', 'feminist', 'issue']),\n",
       " (5, ['rumor', 'is', 'not', 'always', 'wrong']),\n",
       " (5, ['i', 'don', 't', 'feel', 'famous']),\n",
       " (5, ['i', 'shop', 'therefore', 'i', 'am']),\n",
       " (5, ['you', 'gotta', 'mature', 'you', 'know']),\n",
       " (5, ['great', 'hopes', 'make', 'great', 'men']),\n",
       " (5, ['nothing', 'sharpens', 'sight', 'like', 'envy']),\n",
       " (5, ['sorrow', 'never', 'comes', 'too', 'late']),\n",
       " (5, ['delay', 'is', 'preferable', 'to', 'error']),\n",
       " (5, ['when', 'ambition', 'ends', 'happiness', 'begins']),\n",
       " (5, ['man', 'proposes', 'but', 'god', 'disposes']),\n",
       " (5, ['real', 'progress', 'comes', 'from', 'people']),\n",
       " (5, ['sweat', 'makes', 'good', 'friendship', 'cement']),\n",
       " (5, ['cinnamon', 'bites', 'and', 'kisses', 'simultaneously']),\n",
       " (5, ['perseverance', 'secret', 'of', 'all', 'triumphs']),\n",
       " (5, ['procrastination', 'is', 'opportunity', 's', 'assassin']),\n",
       " (5, ['my', 'first', 'vocation', 'was', 'dance']),\n",
       " (5, ['sometimes', 'i', 'like', 'to', 'vent']),\n",
       " (5, ['i', 'think', 'abortion', 'is', 'murder']),\n",
       " (5, ['fate', 'will', 'find', 'a', 'way']),\n",
       " (5, ['fascism', 'is', 'capitalism', 'in', 'decay']),\n",
       " (5, ['democracy', 'is', 'indispensable', 'to', 'socialism']),\n",
       " (5, ['love', 'truth', 'but', 'pardon', 'error']),\n",
       " (5, ['we', 'convince', 'by', 'our', 'presence']),\n",
       " (5, ['i', 'have', 'a', 'clear', 'conscience']),\n",
       " (5, ['happiness', 'is', 'an', 'inside', 'job']),\n",
       " (5, ['the', 'eye', 'altering', 'alters', 'all']),\n",
       " (5, ['shame', 'is', 'pride', 's', 'cloak']),\n",
       " (5, ['talent', 'perceives', 'differences;', 'genius', 'unity']),\n",
       " (5, ['justice', 'delayed', 'is', 'justice', 'denied']),\n",
       " (5, ['egypt', 'is', 'a', 'sovereign', 'nation']),\n",
       " (5, ['every', 'bullet', 'has', 'its', 'billet']),\n",
       " (5, ['belief', 'creates', 'the', 'actual', 'fact']),\n",
       " (5, ['time', 'itself', 'comes', 'in', 'drops']),\n",
       " (5, ['faith', 'is', 'a', 'passionate', 'intuition']),\n",
       " (5, ['most', 'hard-boiled', 'people', 'are', 'half-baked']),\n",
       " (5, ['art', 'is', 'science', 'made', 'clear']),\n",
       " (5, ['never', 'never', 'never', 'give', 'up']),\n",
       " (5, ['macho', 'does', 'not', 'prove', 'mucho']),\n",
       " (6, ['better', 'to', 'be', 'disliked', 'than', 'pitied']),\n",
       " (6, ['great', 'necessities', 'call', 'out', 'great', 'virtues']),\n",
       " (6, ['you', 'must', 'never', 'tire', 'fighting', 'satan']),\n",
       " (6, ['i', 'm', 'huge', 'fan', 'of', 'timeflies']),\n",
       " (6, ['time', 'brings', 'all', 'things', 'to', 'pass']),\n",
       " (6, ['the', 'words', 'of', 'truth', 'are', 'simple']),\n",
       " (6, ['united', 'we', 'stand', 'divided', 'we', 'fall']),\n",
       " (6, ['any', 'excuse', 'will', 'serve', 'a', 'tyrant']),\n",
       " (6, ['prohibition', 'has', 'made', 'nothing', 'but', 'trouble']),\n",
       " (6, ['i', 'm', 'usually', 'just', 'enjoying', 'life']),\n",
       " (6, ['imagination', 'is', 'more', 'important', 'than', 'knowledge']),\n",
       " (6, ['i', 'believe', 'in', 'god', 'and', 'immortality']),\n",
       " (6, ['you', 'can', 't', 'applaud', 'a', 'referee']),\n",
       " (6, ['a', 'promise', 'must', 'never', 'be', 'broken']),\n",
       " (6, ['praise', 'undeserved', 'is', 'satire', 'in', 'disguise']),\n",
       " (6, ['i', 'm', 'very', 'into', 'fantasy', 'films']),\n",
       " (6, ['nature', 'red', 'in', 'tooth', 'and', 'claw']),\n",
       " (6, ['islam', 'and', 'democracy', 'can', 'function', 'together']),\n",
       " (6, ['the', 'economist', 'is', 'a', 'biased', 'organization']),\n",
       " (6, ['in', '1965', 'i', 'marched', 'for', 'equality']),\n",
       " (6, ['i', 'do', 'not', 'write', 'i', 'build']),\n",
       " (6, ['part', 'of', 'me', 'is', 'very', 'shy']),\n",
       " (6, ['nine', 'tenths', 'of', 'education', 'is', 'encouragement']),\n",
       " (6, ['the', 'color', 'of', 'truth', 'is', 'gray']),\n",
       " (6, ['not', 'everyone', 'can', 'be', 'an', 'orphan']),\n",
       " (6, ['i', 'believe', 'i', 'was', 'extremely', 'greedy']),\n",
       " (6, ['i', 'm', 'a', 'staunch', 'anti-castro', 'individual']),\n",
       " (6, ['i', 'live', 'in', 'a', 'crazy', 'time']),\n",
       " (6, ['treasure', 'your', 'relationships', 'not', 'your', 'possessions']),\n",
       " (6, ['variety', 'is', 'the', 'soul', 'of', 'pleasure']),\n",
       " (6, ['i', 'couldn', 't', 'be', 'more', 'blessed']),\n",
       " (6, ['paris', 'is', 'always', 'a', 'good', 'idea']),\n",
       " (6, ['deep', 'down', 'i', 'm', 'pretty', 'superficial']),\n",
       " (6, ['there', 'is', 'a', 'reason', 'for', 'everything']),\n",
       " (6, ['i', 'do', 'not', 'consider', 'myself', 'beautiful']),\n",
       " (6, ['change', 'is', 'inevitable', 'change', 'is', 'constant']),\n",
       " (6, ['lost', 'time', 'is', 'never', 'found', 'again']),\n",
       " (6, ['energy', 'and', 'persistence', 'conquer', 'all', 'things']),\n",
       " (6, ['necessity', 'never', 'made', 'a', 'good', 'bargain']),\n",
       " (6, ['gray', 'hair', 'is', 'god', 's', 'graffiti']),\n",
       " (6, ['superbad', 'was', 'such', 'a', 'personal', 'movie']),\n",
       " (6, ['i', 'rocked', 'the', 'cradle', 'of', 'love']),\n",
       " (6, ['sometimes', 'dreams', 'are', 'wiser', 'than', 'waking']),\n",
       " (6, ['with', 'radio', 'the', 'listener', 'absorbs', 'everything']),\n",
       " (6, ['character', 'not', 'circumstances', 'makes', 'the', 'man']),\n",
       " (6, ['we', 'must', 'reinforce', 'argument', 'with', 'results']),\n",
       " (6, ['i', 'am', 'not', 'a', 'party', 'girl']),\n",
       " (6, ['larry', 'kasdan', 'is', 'a', 'great', 'director']),\n",
       " (6, ['the', 'perfect', 'shorts', 'are', 'always', 'important']),\n",
       " (6, ['i', 'm', 'a', 'huge', 'horror', 'fan']),\n",
       " (6, ['moses', 'is', 'our', 'true', 'founding', 'father']),\n",
       " (6, ['i', 'never', 'had', 'a', 'long-term', 'plan']),\n",
       " (6, ['i', 'was', 'born', 'to', 'be', 'funny']),\n",
       " (6, ['doesn', 't', 'everyone', 'hate', 'kristen', 'stewart']),\n",
       " (6, ['don', 't', 'give', 'up', 'the', 'ship']),\n",
       " (6, ['nothing', 'happens', 'unless', 'first', 'we', 'dream']),\n",
       " (6, ['i', 'know', 'i', 'm', 'not', 'perfect']),\n",
       " (6, ['the', 'wages', 'of', 'pedantry', 'is', 'pain']),\n",
       " (6, ['i', 'consider', 'myself', 'a', 'bassist', 'first']),\n",
       " (6, ['love', 'is', 'the', 'cheapest', 'of', 'religions']),\n",
       " (6, ['attitudes', 'are', 'the', 'forerunners', 'of', 'conditions']),\n",
       " (6, ['“presents”', 'i', 'often', 'say', '“endear', 'absents”']),\n",
       " (6, ['meaning', 'however', 'is', 'no', 'great', 'matter']),\n",
       " (6, ['boom', 'crush', 'night', 'losers', 'winning', 'duh']),\n",
       " (6, ['i', 'used', 'to', 'hate', 'being', 'recognised']),\n",
       " (6, ['i', 'm', 'living', 'my', 'dream', 'now']),\n",
       " (6, ['ed', 'kowalczyk', 'is', 'my', 'favorite', 'singer']),\n",
       " (6, ['everybody', 'laughs', 'when', 'fatty', 'falls', 'down']),\n",
       " (6, ['my', 'parents', 'had', 'a', 'difficult', 'divorce']),\n",
       " (6, ['critics', 'should', 'stick', 'to', 'their', 'convictions']),\n",
       " (6, ['i', 'like', 'critics', 'with', 'strong', 'opinions']),\n",
       " (6, ['justice', 'shines', 'by', 'its', 'own', 'light']),\n",
       " (6, ['let', 'the', 'punishment', 'match', 'the', 'offense']),\n",
       " (6, ['i', 'consider', 'myself', 'a', 'rampant', 'feminist']),\n",
       " (6, ['the', 'trouble', 'with', 'law', 'is', 'lawyers']),\n",
       " (6, ['fate', 'pulls', 'you', 'in', 'different', 'directions']),\n",
       " (6, ['perpetual', 'optimism', 'is', 'a', 'force', 'multiplier']),\n",
       " (6, ['get', 'mad', 'then', 'get', 'over', 'it']),\n",
       " (6, ['the', 'style', 'is', 'the', 'man', 'himself']),\n",
       " (6, ['contrast', 'is', 'what', 'makes', 'photography', 'interesting']),\n",
       " (6, ['somebody', 's', 'upset', 'with', 'every', 'movie']),\n",
       " (6, ['no', 'one', 'is', 'born', 'hating', 'others']),\n",
       " (6, ['beauty', 'awakens', 'the', 'soul', 'to', 'act']),\n",
       " (6, ['nature', 'is', 'the', 'art', 'of', 'god']),\n",
       " (6, ['i', 'belong', 'to', 'the', 'democratic', 'party']),\n",
       " (6, ['i', 'had', 'a', 'dad', 'you', 'know']),\n",
       " (6, ['i', 'don', 't', 'watch', 'reality', 'tv']),\n",
       " (6, ['i', 'never', 'wanted', 'to', 'be', 'famous']),\n",
       " (6, ['the', 'skull', 'is', 'nature', 's', 'sculpture']),\n",
       " (6, ['i', 'm', 'a', 'wicked', 'ping-pong', 'player']),\n",
       " (6, ['discipline', 'is', 'remembering', 'what', 'you', 'want']),\n",
       " (6, ['it', 'has', 'a', 'really', 'timeless', 'feel']),\n",
       " (6, ['dancing', 'is', 'kind', 'of', 'my', 'thing']),\n",
       " (6, ['you', 'must', 'plan', 'to', 'be', 'spontaneous']),\n",
       " (6, ['i', 'have', 'no', 'academic', 'qualifications', 'whatsoever']),\n",
       " (6, ['negativity', 'is', 'the', 'enemy', 'of', 'creativity']),\n",
       " (6, ['i', 'm', 'very', 'practical', 'and', 'realistic']),\n",
       " (6, ['without', 'forgiveness', 'there', 's', 'no', 'future']),\n",
       " (6, ['survival', 'is', 'nothing', 'more', 'than', 'recovery']),\n",
       " (6, ['every', 'song', 'is', 'like', 'a', 'painting']),\n",
       " (6, ['storms', 'make', 'trees', 'take', 'deeper', 'roots']),\n",
       " (6, ['we', 're', 'not', 'getting', 'any', 'younger']),\n",
       " (6, ['i', 'can', 't', 'play', 'a', 'slave']),\n",
       " (6, ['brevity', 'is', 'the', 'soul', 'of', 'lingerie']),\n",
       " (6, ['sorrow', 'is', 'tranquillity', 'remembered', 'in', 'emotion']),\n",
       " (6, ['there', 'is', 'no', 'substitute', 'for', 'victory']),\n",
       " (6, ['only', 'you', 'can', 'control', 'your', 'future']),\n",
       " (6, ['i', 'love', 'the', 'game', 'of', 'baseball']),\n",
       " (6, ['i', 'have', 'a', 'lot', 'of', 'interests']),\n",
       " (6, ['plans', 'are', 'nothing;', 'planning', 'is', 'everything']),\n",
       " (6, ['the', 'world', 'is', 'mud-luscious', 'and', 'puddle-wonderful']),\n",
       " (6, ['unbeing', 'dead', 'isn', 't', 'being', 'alive']),\n",
       " (6, ['god', 'forbid', 'that', 'women', 'have', 'fantasies']),\n",
       " (6, ['i', 'm', 'not', 'a', 'great', 'writer']),\n",
       " (6, ['i', 'hate', 'having', 'my', 'photograph', 'taken']),\n",
       " (6, ['unless', 'we', 'remember', 'we', 'cannot', 'understand']),\n",
       " (6, ['nonsense', 'and', 'beauty', 'have', 'close', 'connections']),\n",
       " (6, ['stupidity', 'is', 'a', 'talent', 'for', 'misconception']),\n",
       " (6, ['beauty', 'is', 'the', 'promise', 'of', 'happiness']),\n",
       " (6, ['dangers', 'by', 'being', 'despised', 'grow', 'great']),\n",
       " (6, ['public', 'calamity', 'is', 'a', 'mighty', 'leveller']),\n",
       " (6, ['grown', 'men', 'do', 'not', 'need', 'leaders']),\n",
       " (6, ['war', '-', 'hard', 'apprenticeship', 'of', 'freedom']),\n",
       " (6, ['revenge', 'is', 'profitable', 'gratitude', 'is', 'expensive']),\n",
       " (6, ['age', 'affects', 'how', 'people', 'experience', 'time']),\n",
       " (6, ['procrastination', 'is', 'the', 'thief', 'of', 'time']),\n",
       " (6, ['responsibility', 'is', 'the', 'price', 'of', 'freedom']),\n",
       " (6, ['i', 'love', 'variety', 'in', 'my', 'life']),\n",
       " (6, ['my', 'sun', 'sets', 'to', 'raise', 'again']),\n",
       " (6, ['who', 'so', 'loves', 'believes', 'the', 'impossible']),\n",
       " (6, ['dakota', 'fanning', 'is', 'my', 'favorite', 'actress']),\n",
       " (6, ['saying', 'nothing', 'sometimes', 'says', 'the', 'most']),\n",
       " (6, ['beauty', 'is', 'not', 'caused', 'it', 'is']),\n",
       " (6, ['where', 'thou', 'art', 'that', 'is', 'home']),\n",
       " (6, ['a', 'wounded', 'deer', 'leaps', 'the', 'highest']),\n",
       " (6, ['ignorance', 'is', 'never', 'better', 'than', 'knowledge']),\n",
       " (6, ['the', 'client', 'is', 'not', 'always', 'right']),\n",
       " (6, ['i', 'didn', 't', 'study;', 'i', 'live']),\n",
       " (6, ['making', 'movies', 'is', 'like', 'herding', 'cats']),\n",
       " (6, ['when', 'humor', 'goes', 'there', 'goes', 'civilization']),\n",
       " (6, ['country', 'music', 'has', 'the', 'great', 'stories']),\n",
       " (6, ['question', 'everything', 'learn', 'something', 'answer', 'nothing']),\n",
       " (6, ['the', 'bold', 'are', 'helpless', 'without', 'cleverness']),\n",
       " (6, ['marriage', 'is', 'not', 'common', 'in', 'sweden']),\n",
       " (6, ['literature', 'is', 'news', 'that', 'stays', 'news']),\n",
       " (6, ['i', 'm', 'a', 'very', 'proud', 'actor']),\n",
       " (6, ['everything', 'has', 'positive', 'and', 'negative', 'consequences']),\n",
       " (6, ['fate', 'is', 'written', 'in', 'the', 'face']),\n",
       " (6, ['i', 'live', 'and', 'die', 'by', 'puns']),\n",
       " (6, ['just', 'to', 'eat', 'is', 'a', 'gift']),\n",
       " (6, ['for', 'knowledge', 'too', 'is', 'itself', 'power']),\n",
       " (6, ['don', 't', 'follow', 'trends', 'start', 'trends']),\n",
       " (6, ['compassion', 'is', 'a', 'two', 'way', 'street']),\n",
       " (6, ['i', 'am', 'fascinated', 'with', 'times', 'past']),\n",
       " (6, ['the', 'best', 'revenge', 'is', 'massive', 'success']),\n",
       " (6, ['i', 'am', 'a', 'thing', 'of', 'beauty']),\n",
       " (6, ['don', 't', 'get', 'even', 'get', 'mad']),\n",
       " (6, ['without', 'deviation', 'progress', 'is', 'not', 'possible']),\n",
       " (6, ['nothing', 'has', 'been', 'given', 'to', 'me']),\n",
       " (6, ['one', 'and', 'god', 'make', 'a', 'majority']),\n",
       " (6, ['freedom', 'and', 'justice', 'are', 'twin', 'sisters']),\n",
       " (6, ['he', 'who', 'excuses', 'himself', 'accuses', 'himself']),\n",
       " (6, ['i', 'curate', 'my', 'tv-watching', 'quite', 'carefully']),\n",
       " (6, ['business', 'is', 'in', 'itself', 'a', 'power']),\n",
       " (6, ['i', 'am', 'always', 'fascinated', 'by', 'india']),\n",
       " (6, ['i', 'm', 'not', 'a', 'sentimental', 'guy']),\n",
       " (6, ['at', 'my', 'age', 'flowers', 'scare', 'me']),\n",
       " (6, ['electricity', 'is', 'really', 'just', 'organized', 'lightning']),\n",
       " (6, ['poetry', 'is', 'a', 'mere', 'drug', 'sir']),\n",
       " (6, ['the', 'big', 'tyrants', 'never', 'face', 'justice']),\n",
       " (6, ['anyone', 'will', 'say', 'anything', 'under', 'torture']),\n",
       " (6, ['a', 'lot', 'of', 'actors', 'flame', 'out']),\n",
       " (6, ['living', 'well', 'is', 'the', 'best', 'revenge']),\n",
       " (6, ['love', 'demands', 'infinitely', 'less', 'than', 'friendship']),\n",
       " (6, ['happiness', 'can', 'exist', 'only', 'in', 'acceptance']),\n",
       " (6, ['vanity', 'is', 'the', 'quicksand', 'of', 'reason']),\n",
       " (6, ['every', 'historian', 'discloses', 'a', 'new', 'horizon']),\n",
       " (6, ['the', 'bible', 'is', 'literature', 'not', 'dogma']),\n",
       " (6, ['audacity', 'more', 'audacity', 'and', 'always', 'audacity']),\n",
       " (6, ['reality', 'tv', 'rots', 'people', 's', 'brains']),\n",
       " (6, ['i', 'm', 'quite', 'dyslexic', 'in', 'school']),\n",
       " (6, ['my', 'mum', 'is', 'actually', 'really', 'wholesome']),\n",
       " (6, ['my', 'parents', 'never', 'really', 'lecture', 'me']),\n",
       " (6, ['president', 'reagan', 's', 'one-liners', 'were', 'terrific']),\n",
       " (6, ['tomorrow', 'is', 'no', 'man', 's', 'gift']),\n",
       " (6, ['wars', 'have', 'always', 'started', 'over', 'religion']),\n",
       " (6, ['i', 'keep', 'reading', 'between', 'the', 'lies']),\n",
       " (6, ['i', 'am', 'a', 'writer', 'of', 'fragments']),\n",
       " (6, ['i', 'don', 't', 'have', 'any', 'style']),\n",
       " (6, ['hope', 'springs', 'eternal', 'even', 'in', 'politics']),\n",
       " (6, ['failure', 'is', 'a', 'part', 'of', 'success']),\n",
       " (6, ['cruelty', 'is', 'contagious', 'in', 'uncivilized', 'communities']),\n",
       " (6, ['never', 'wound', 'a', 'snake;', 'kill', 'it']),\n",
       " (6, ['you', 'll', 'be', 'free', 'or', 'die']),\n",
       " (6, ['i', 'can', 't', 'die', 'but', 'once']),\n",
       " (6, ['a', 'president', 'cannot', 'always', 'be', 'popular']),\n",
       " (6, ['i', 'think', 'writers', 'are', 'very', 'anxious']),\n",
       " (6, ['stardom', 'can', 'be', 'a', 'gilded', 'slavery']),\n",
       " (6, ['when', 'time', 'is', 'spent', 'eternity', 'begins']),\n",
       " (6, ['if', 'youth', 'knew;', 'if', 'age', 'could']),\n",
       " (6, ['diplomacy:', 'the', 'art', 'of', 'restraining', 'power']),\n",
       " (6, ['even', 'a', 'paranoid', 'can', 'have', 'enemies']),\n",
       " (6, ['practical', 'politics', 'consists', 'in', 'ignoring', 'facts']),\n",
       " (6,\n",
       "  ['philosophy:', 'unintelligible', 'answers', 'to', 'insoluble', 'problems']),\n",
       " (6, ['things', 'do', 'not', 'change;', 'we', 'change']),\n",
       " (6, ['the', 'best', 'politics', 'is', 'no', 'politics']),\n",
       " (6, ['there', 'is', 'nothing', 'permanent', 'except', 'change']),\n",
       " (6, ['the', 'sun', 'is', 'new', 'each', 'day']),\n",
       " (6, ['much', 'learning', 'does', 'not', 'teach', 'understanding']),\n",
       " (6, ['all', 'is', 'flux', 'nothing', 'stays', 'still']),\n",
       " (6, ['logic', 'is', 'no', 'answer', 'to', 'passion']),\n",
       " (6, ['simple', 'things', 'don', 't', 'interest', 'me']),\n",
       " (6, ['intuition', 'is', 'reason', 'in', 'a', 'hurry']),\n",
       " (6, ['too', 'much', 'rest', 'becomes', 'a', 'pain']),\n",
       " (6, ['fidelity', 'is', 'the', 'sister', 'of', 'justice']),\n",
       " (6, ['adversity', 'reveals', 'genius', 'prosperity', 'conceals', 'it']),\n",
       " (6, ['whatever', 'advice', 'you', 'give', 'be', 'brief']),\n",
       " (6, ['falsehood', 'is', 'cowardice', 'the', 'truth', 'courage']),\n",
       " (6, ['i', 'have', 'an', 'excellent', 'internal', 'compass']),\n",
       " (6, ['am', 'i', 'athletic', 'in', 'my', 'dreams']),\n",
       " (6, ['nearly', 'all', 'italian', 'officers', 'speak', 'french']),\n",
       " (6, ['buy', 'the', 'ticket', 'take', 'the', 'ride']),\n",
       " (6, ['i', 've', 'always', 'liked', 'new', 'writing']),\n",
       " (6, ['ingratitude', 'is', 'the', 'essence', 'of', 'vileness']),\n",
       " (6, ['my', 'personal', 'style', 'is', 'ever', 'changing']),\n",
       " (6, ['no', 'one', 'can', 'undermine', 'national', 'unity']),\n",
       " (6, ['courage', 'is', 'found', 'in', 'unlikely', 'places']),\n",
       " (6, ['i', 'mean', 'money', 'is', 'a', 'tool']),\n",
       " (6, ['gay', 'nightclubs', 'offer', 'better', 'dance', 'music']),\n",
       " (6, ['justice', 'and', 'goodwill', 'will', 'outlast', 'passion']),\n",
       " (6, ['no', 'lady', 'is', 'ever', 'a', 'gentleman']),\n",
       " (6, ['patriotism', 'is', 'the', 'religion', 'of', 'hell']),\n",
       " (6, ['jokes', 'are', 'very', 'curious', 'things', 'psychologically']),\n",
       " (6, ['i', 'm', 'not', 'really', 'very', 'ambitious']),\n",
       " (6, ['you', 'cannot', 'prepare', 'enough', 'for', 'anything']),\n",
       " (6, ['it', 'is', 'normal', 'to', 'be', 'nervous']),\n",
       " (6, ['when', 'i', 'm', 'pushed', 'i', 'shove']),\n",
       " (6, ['i', 'never', 'finished', 'the', 'ninth', 'grade']),\n",
       " (6, ['mistakes', 'are', 'the', 'portals', 'of', 'discovery']),\n",
       " (6, ['evil', 'societies', 'always', 'kill', 'their', 'consciences']),\n",
       " (6, ['light', 'is', 'the', 'symbol', 'of', 'truth']),\n",
       " (6, ['he', 'who', 'hesitates', 'is', 'sometimes', 'saved']),\n",
       " (6, ['i', 'was', 'born', 'into', 'public', 'service']),\n",
       " (6, ['i', 'am', 'not', 'a', 'sex', 'symbol']),\n",
       " (6, ['i', 'didn', 't', 'like', 'mundane', 'life']),\n",
       " (6, ['wit', 'doesn', 't', 'make', 'girls', 'pretty']),\n",
       " (6, ['i', 'wait', 'for', 'death', 'and', 'journalists']),\n",
       " (6, ['i', 'think', 'i', 'will', 'die', 'laughing']),\n",
       " (6, ['i', 'm', 'not', 'afraid', 'of', 'anything']),\n",
       " (6, ['every', 'actor', 'just', 'wants', 'good', 'writing']),\n",
       " (6, ['you', 'have', 'to', 'believe', 'in', 'yourself']),\n",
       " (6, ['got', 'an', 'issue', 'get', 'a', 'tissue']),\n",
       " (6, ['every', 'generation', 'needs', 'a', 'new', 'revolution']),\n",
       " (6, ['business', 'is', 'the', 'salt', 'of', 'life']),\n",
       " (6, ['life', 'is', 'a', 'work', 'in', 'progress']),\n",
       " (6, ['i', 'get', 'stressed', 'out', 'really', 'easily']),\n",
       " (6, ['i', 'was', 'an', 'emotional', 'basket', 'case']),\n",
       " (6, ['my', 'bedroom', 's', 'like', 'an', 'armoury']),\n",
       " (6, ['when', 'in', 'doubt', 'throw', 'it', 'out']),\n",
       " (6, ['you', 'can', 't', 'argue', 'with', 'stupidity']),\n",
       " (6, ['my', 'favorite', 'dancer', 'is', 'sylvie', 'guillem']),\n",
       " (6, ['being', 'unconscious', 'is', 'the', 'ultimate', 'disability']),\n",
       " (6, ['i', 'am', 'a', 'very', 'hopeful', 'person']),\n",
       " (6, ['i', 'was', 'never', 'a', 'rail-thin', 'person']),\n",
       " (6, ['the', 'flowering', 'of', 'love', 'is', 'meditation']),\n",
       " (6, ['good', 'acting', 'is', 'consistency', 'of', 'performance']),\n",
       " (6, ['hatred', 'is', 'a', 'very', 'underestimated', 'emotion']),\n",
       " (6, ['god', 'is', 'bigger', 'than', 'people', 'think']),\n",
       " (6, ['action', 'is', 'the', 'antidote', 'to', 'despair']),\n",
       " (6, ['i', 've', 'never', 'been', 'an', 'optimist']),\n",
       " (6, ['i', 'm', 'obsessed', 'with', 'leather', 'jackets']),\n",
       " (6, ['we', 'kill', 'time;', 'time', 'buries', 'us']),\n",
       " (6, ['i', 'span', 'the', 'entire', 'geek', 'spectrum']),\n",
       " (6, ['i', 'can', 't', 'sing', 'or', 'dance']),\n",
       " (6, ['war', 'is', 'the', 'science', 'of', 'destruction']),\n",
       " (6, ['leap', 'and', 'the', 'net', 'will', 'appear']),\n",
       " (6, ['you', 'can', 'escape', 'into', 'a', 'character']),\n",
       " (6, ['to', 'me', 'faith', 'means', 'not', 'worrying']),\n",
       " (6, ['being', 'worshipped', 'is', 'a', 'horrible', 'experience']),\n",
       " (6, ['the', 'french', 'cook;', 'we', 'open', 'tins']),\n",
       " (6, ['praising', 'all', 'alike', 'is', 'praising', 'none']),\n",
       " (6, ['war', 'remains', 'the', 'decisive', 'human', 'failure']),\n",
       " (6, ['long', 'quaffing', 'maketh', 'a', 'short', 'life']),\n",
       " (6, ['there', 'is', 'no', 'wealth', 'but', 'life']),\n",
       " (6, ['i', 'just', 'go', 'out', 'and', 'play']),\n",
       " (6, ['be', 'yourself', 'let', 'you', 'come', 'through']),\n",
       " (6, ['good', 'is', 'the', 'enemy', 'of', 'great']),\n",
       " (6, ['the', 'best', 'ideas', 'start', 'as', 'conversations']),\n",
       " (6, ['i', 'think', 'acting', 'is', 'a', 'gift']),\n",
       " (6, ['i', 'am', 'i', 'plus', 'my', 'circumstances']),\n",
       " (6, ['perfection', 'is', 'the', 'child', 'of', 'time']),\n",
       " (6, ['it', 's', 'all', 'about', 'the', 'money']),\n",
       " (6, ['politeness', 'is', 'the', 'flower', 'of', 'humanity']),\n",
       " (6, ['never', 'cut', 'what', 'you', 'can', 'untie']),\n",
       " (6, ['to', 'teach', 'is', 'to', 'learn', 'twice']),\n",
       " (6, ['children', 'need', 'models', 'rather', 'than', 'critics']),\n",
       " (6, ['justice', 'is', 'the', 'truth', 'in', 'action']),\n",
       " (6, ['there', 'is', 'no', 'rank', 'in', 'sacrifice']),\n",
       " (6, ['the', 'universe', 'is', 'a', 'great', 'mystery']),\n",
       " (6, ['behind', 'every', 'cloud', 'is', 'another', 'cloud']),\n",
       " (6, ['i', 'm', 'the', 'original', 'take-orders', 'girl']),\n",
       " (6, ['i', 'love', 'intimacy', 'always', 'of', 'performing']),\n",
       " (6, ['i', 'came', 'i', 'saw', 'i', 'conquered']),\n",
       " (6, ['men', 'willingly', 'believe', 'what', 'they', 'wish']),\n",
       " (6, ['by', 'persuading', 'others', 'we', 'convince', 'ourselves']),\n",
       " (6, ['good', 'servants', 'frequently', 'make', 'good', 'masters']),\n",
       " (6, ['each', 'murder', 'is', 'one', 'too', 'many']),\n",
       " (6, ['no', 'one', 'ever', 'suddenly', 'became', 'depraved']),\n",
       " (6, ['democracy', 'is', 'the', 'road', 'to', 'socialism']),\n",
       " (6, ['revolutions', 'are', 'the', 'locomotives', 'of', 'history']),\n",
       " (6, ['i', 'want', 'to', 'play', 'more', 'festivals']),\n",
       " (6, ['i', 'really', 'like', 'one-on-one', 'rich', 'relationships']),\n",
       " (6, ['i', 'loved', 'scary', 'movies', 'growing', 'up']),\n",
       " (6, ['in', 'fact', 'i', 'm', 'a', 'geek']),\n",
       " (6, ['i', 'enjoy', 'music', 'that', 'is', 'commercial']),\n",
       " (6, ['your', 'friend', 'is', 'your', 'needs', 'answered']),\n",
       " (6, ['i', 'love', 'every', 'kind', 'of', 'music']),\n",
       " (6, ['making', 'beloved', 'was', 'an', 'awesome', 'experience']),\n",
       " (6, ['i', 'm', 'a', 'very', 'private', 'person']),\n",
       " (6, ['i', 'have', 'gone', 'to', 'the', 'forest']),\n",
       " (6, ['god', 'is', 'with', 'those', 'who', 'persevere']),\n",
       " (6, ['the', 'worst', 'crime', 'is', 'faking', 'it']),\n",
       " (6, ['civility', 'costs', 'nothing', 'and', 'buys', 'everything']),\n",
       " (6, ['i', 've', 'always', 'loved', 'a', 'challenge']),\n",
       " (6, ['women', 'love', 'a', 'self-confident', 'bald', 'man']),\n",
       " (6, ['i', 'don', 't', 'wear', 'plaid', 'shirts']),\n",
       " (6, ['i', 'love', 'mixing', 'amateurs', 'and', 'professionals']),\n",
       " (6, ['music', 'is', 'the', 'shorthand', 'of', 'emotion']),\n",
       " (6, ['a', 'well-spent', 'day', 'brings', 'happy', 'sleep']),\n",
       " (6, ['art', 'is', 'never', 'finished', 'only', 'abandoned']),\n",
       " (6, ['forgive', 'those', 'who', 'have', 'hurt', 'you']),\n",
       " (6, ['i', 'can', 'be', 'inappropriate', 'at', 'times']),\n",
       " (6, ['i', 'm', 'a', 'big', 'taco', 'fan']),\n",
       " (6, ['i', 'm', 'not', 'looking', 'for', 'guidance']),\n",
       " (6, ['for', 'fast-acting', 'relief', 'try', 'slowing', 'down']),\n",
       " (6, ['the', 'new', 'national', 'campfire', '-', 'radio']),\n",
       " (6, ['tennis', 'is', 'more', 'commercial', 'these', 'days']),\n",
       " (6, ['immature', 'artists', 'imitate', 'mature', 'artists', 'steal']),\n",
       " (6, ['don', 't', 'peak', 'in', 'high', 'school']),\n",
       " (6, ['fame', 'is', 'the', 'thirst', 'of', 'youth']),\n",
       " (6, ['ready', 'money', 'is', 'aladdin', 's', 'lamp']),\n",
       " (6, ['the', 'national', 'team', 'comes', 'before', 'everything']),\n",
       " (6, ['punctuality', 'is', 'the', 'politeness', 'of', 'kings']),\n",
       " (6, ['thank', 'god', 'i', 'm', 'an', 'atheist']),\n",
       " (6, ['i', 'm', 'always', 'trolling', 'for', 'trivia']),\n",
       " (6, ['same-sex', 'marriage', 'is', 'not', 'the', 'future']),\n",
       " (6, ['i', 'am', 'just', 'an', 'ordinary', 'catholic']),\n",
       " (6, ['i', 'see', 'poetry', 'as', 'spiritual', 'medicine']),\n",
       " (6,\n",
       "  ['america', 'preaches', 'integration', 'and', 'practices', 'segregation']),\n",
       " (6, ['moderation', 'is', 'the', 'secret', 'of', 'survival']),\n",
       " (6, ['the', 'only', 'paradise', 'is', 'paradise', 'lost']),\n",
       " (6, ['i', 'like', 'honesty', 'and', 'fair', 'play']),\n",
       " (6, ['the', 'more', 'laws', 'the', 'less', 'justice']),\n",
       " (6, ['fear', 'is', 'stupid', 'so', 'are', 'regrets']),\n",
       " (6, ['for', 'me', 'my', 'mother', 'is', 'everything']),\n",
       " (6, ['i', 'trust', 'the', 'flow', 'of', 'life']),\n",
       " (6, ['i', 'feel', 'energized', 'walking', 'off', 'stage']),\n",
       " (6, ['without', 'tenderness', 'a', 'man', 'is', 'uninteresting']),\n",
       " (6, ['i', 'am', 'at', 'heart', 'a', 'gentleman']),\n",
       " (6, ['superstitions', 'are', 'habits', 'rather', 'than', 'beliefs']),\n",
       " (6, ['domestic', 'inflation', 'reflects', 'domestic', 'monetary', 'policy']),\n",
       " (6, ['nothing', 'good', 'ever', 'comes', 'of', 'violence']),\n",
       " (6, ['reason', 'is', 'the', 'enemy', 'of', 'faith']),\n",
       " (6, ['i', 'never', 'took', 'any', 'vocal', 'training']),\n",
       " (6, ['jealousy', 'is', 'the', 'grave', 'of', 'affection']),\n",
       " (6, ['truth', 'is', 'immortal;', 'error', 'is', 'mortal']),\n",
       " (6, ['every', 'silver', 'lining', 'has', 'a', 'cloud']),\n",
       " (6, ['left', 'eyebrow', 'raised', 'right', 'eyebrow', 'raised']),\n",
       " (6, ['after', 'a', 'storm', 'comes', 'a', 'calm']),\n",
       " (6, ['saying', 'and', 'doing', 'are', 'two', 'things']),\n",
       " (6, ['the', 'better', 'day', 'the', 'worse', 'deed']),\n",
       " (6, ['paul', 'newman', 'is', 'a', 'sex', 'symbol']),\n",
       " (6, ['i', 'wanted', 'to', 'be', 'a', 'painter']),\n",
       " (6, ['a', 'smile', 'is', 'the', 'universal', 'welcome']),\n",
       " (6, ['nothing', 'will', 'work', 'unless', 'you', 'do']),\n",
       " (6, ['all', 'lives', 'have', 'an', 'equal', 'value']),\n",
       " (6, ['sincerity', 'is', 'the', 'way', 'to', 'heaven']),\n",
       " (6, ['the', 'government', 'never', 'does', 'anything', 'successfully']),\n",
       " (6, ['i', 'distinguish', 'between', 'nationalism', 'and', 'patriotism']),\n",
       " (6, ['i', 'want', 'to', 'make', 'smart', 'television']),\n",
       " (6, ['i', 'am', 'not', 'a', 'player', 'anymore']),\n",
       " (6, ['choose', 'people', 'who', 'lift', 'you', 'up']),\n",
       " (6, ['anything', 'worth', 'doing', 'is', 'worth', 'overdoing']),\n",
       " (6, ['i', 'can', 't', 'get', 'no', 'satisfaction']),\n",
       " (6, ['be', 'skeptical', 'but', 'learn', 'to', 'listen']),\n",
       " (6, ['absence', 'that', 'common', 'cure', 'of', 'love']),\n",
       " (6, ['governments', 'never', 'learn', 'only', 'people', 'learn']),\n",
       " (6, ['democracy', 'is', 'not', 'an', 'instant', 'coffee']),\n",
       " (6, ['words', 'without', 'power', 'is', 'mere', 'philosophy']),\n",
       " ...]"
=======
      "cell_type": "code",
      "metadata": {
        "id": "fbxCizvRhfc1"
      },
      "source": [
        "lines = [\n",
        "    x.split('\\t')[1].strip() ##!!!!!\n",
        "    for x in open('author-quote.txt').readlines()\n",
        "]\n",
        "lines = [l.lower().replace(\".\", \"\").replace(\",\", \"\").replace(\"?\", \"\").replace(\"!\", \"\").replace(\"'\", \" \").split() for l in lines if l != \"\"]"
      ],
      "execution_count": 3,
      "outputs": []
    },
    {
      "cell_type": "code",
      "metadata": {
        "colab": {
          "base_uri": "https://localhost:8080/"
        },
        "id": "SAidXvkDiC8A",
        "outputId": "0a52062e-11d5-4982-eb86-4c514d535441"
      },
      "source": [
        "lines[3]"
      ],
      "execution_count": 4,
      "outputs": [
        {
          "output_type": "execute_result",
          "data": {
            "text/plain": [
              "['organizing',\n",
              " 'is',\n",
              " 'what',\n",
              " 'you',\n",
              " 'do',\n",
              " 'before',\n",
              " 'you',\n",
              " 'do',\n",
              " 'something',\n",
              " 'so',\n",
              " 'that',\n",
              " 'when',\n",
              " 'you',\n",
              " 'do',\n",
              " 'it',\n",
              " 'it',\n",
              " 'is',\n",
              " 'not',\n",
              " 'all',\n",
              " 'mixed',\n",
              " 'up']"
            ]
          },
          "metadata": {
            "tags": []
          },
          "execution_count": 4
        }
>>>>>>> 48f10e9713f8d6a020034ec049f2428edf950c85
      ]
     },
     "execution_count": 35,
     "metadata": {
      "tags": []
     },
     "output_type": "execute_result"
    }
   ],
   "source": [
    "[(len(l), l) for l in sorted(lines, key=len)]"
   ]
  },
  {
   "cell_type": "code",
   "execution_count": 21,
   "metadata": {
    "colab": {
     "base_uri": "https://localhost:8080/",
     "height": 267
    },
    "id": "eWuZ9u_Ohfc2",
    "outputId": "8b3ecb52-3a03-4f9c-b430-9e23b2ac3ecf"
   },
   "outputs": [
    {
<<<<<<< HEAD
     "data": {
      "image/png": "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\n",
      "text/plain": [
       "<Figure size 432x288 with 1 Axes>"
=======
      "cell_type": "code",
      "metadata": {
        "colab": {
          "base_uri": "https://localhost:8080/"
        },
        "id": "6jtBkkjujOR0",
        "outputId": "8d84e886-f312-44b6-b9b1-10c93d6e357e"
      },
      "source": [
        "[(len(l), l) for l in sorted(lines, key=len)]"
      ],
      "execution_count": 5,
      "outputs": [
        {
          "output_type": "execute_result",
          "data": {
            "text/plain": [
              "[(2, ['holy', 'cow']),\n",
              " (3, ['adventure', 'is', 'worthwhile']),\n",
              " (3, ['example', 'is', 'leadership']),\n",
              " (3, ['keep', 'it', 'simple']),\n",
              " (3, ['self-plagiarism', 'is', 'style']),\n",
              " (3, ['i', 'feel', 'old']),\n",
              " (3, ['i', 'expected', 'results']),\n",
              " (3, ['character', 'is', 'power']),\n",
              " (3, ['humor', 'is', 'healing']),\n",
              " (3, ['work', 'begets', 'work']),\n",
              " (3, ['make', 'haste', 'slowly']),\n",
              " (3, ['casseroles', 'are', 'one-pot-wonders']),\n",
              " (3, ['i', 'love', 'glee']),\n",
              " (3, ['o', 'mores', ')']),\n",
              " (3, ['elegance', 'is', 'refusal']),\n",
              " (3, ['self-realization', 'is', 'great']),\n",
              " (3, ['i', 'm', 'bisexual']),\n",
              " (3, ['politics', 'is', 'cyclical']),\n",
              " (3, ['i', 'am', 'reactive']),\n",
              " (3, ['humility', 'is', 'truth']),\n",
              " (3, ['i', 'became', 'stereotyped']),\n",
              " (3, ['always', 'educate', 'yourself']),\n",
              " (3, ['americans', 'never', 'quit']),\n",
              " (3, ['be', 'obscure', 'clearly']),\n",
              " (3, ['excellence', 'always', 'sells']),\n",
              " (3, ['racing', 'amuses', 'me']),\n",
              " (3, ['living', 'is', 'abnormal']),\n",
              " (3, ['forgotten', 'is', 'forgiven']),\n",
              " (3, ['knowledge', 'is', 'power']),\n",
              " (3, ['writers', 'speak', 'stench']),\n",
              " (3, ['i', 'appreciate', 'individualism']),\n",
              " (3, ['consequences', 'are', 'unpitying']),\n",
              " (3, ['character', 'is', 'destiny']),\n",
              " (3, ['hatred', 'is', 'self-punishment']),\n",
              " (3, ['design', 'is', 'people']),\n",
              " (3, ['rock', 'on', 'out']),\n",
              " (3, ['attribution', 'is', 'power']),\n",
              " (3, ['winning', 'is', 'everything']),\n",
              " (3, ['testing', 'is', 'overrated']),\n",
              " (3, ['i', 'like', 'horses']),\n",
              " (3, ['comparisons', 'are', 'odious']),\n",
              " (3, ['reading', 'is', 'important']),\n",
              " (3, ['i', 'love', 'improvising']),\n",
              " (3, ['democracy', 'fascinates', 'me']),\n",
              " (3, ['socialism', 'means', 'slavery']),\n",
              " (3, ['everybody', 'needs', 'somebody']),\n",
              " (3, ['i', 'like', 'adventure']),\n",
              " (3, ['success', 'breeds', 'success']),\n",
              " (3, ['sunlight', 'is', 'painting']),\n",
              " (3, ['moonlight', 'is', 'sculpture']),\n",
              " (3, ['change', 'brings', 'opportunity']),\n",
              " (3, ['kindness', 'is', 'wisdom']),\n",
              " (3, ['invention', 'breeds', 'invention']),\n",
              " (3, ['everything', 'is', 'self-evident']),\n",
              " (3, ['feathers', 'predate', 'birds']),\n",
              " (3, ['trust', 'but', 'verify']),\n",
              " (3, ['action', 'is', 'eloquence']),\n",
              " (3, ['et', 'tu', 'brute']),\n",
              " (3, ['anatomy', 'is', 'destiny']),\n",
              " (3, ['nothing', 'in', 'excess']),\n",
              " (3, ['accountability', 'breeds', 'response-ability']),\n",
              " (3, ['independence', 'is', 'happiness']),\n",
              " (3, ['failure', 'is', 'impossible']),\n",
              " (3, ['thought', 'makes', 'reality']),\n",
              " (3, ['time', 'passes', 'irrevocably']),\n",
              " (3, ['love', 'conquers', 'all']),\n",
              " (3, ['exuberance', 'is', 'beauty']),\n",
              " (3, ['to', 'begin', 'begin']),\n",
              " (4, ['his', 'ignorance', 'is', 'encyclopedic']),\n",
              " (4, ['appearances', 'are', 'often', 'deceiving']),\n",
              " (4, ['appearances', 'often', 'are', 'deceiving']),\n",
              " (4, ['getting', 'older', 'is', 'hard']),\n",
              " (4, ['some', 'things', 'are', 'impossible']),\n",
              " (4, ['music', 'is', 'a', 'dialogue']),\n",
              " (4, ['i', 'paint', 'with', 'shapes']),\n",
              " (4, ['learn', 'to', 'think', 'continentally']),\n",
              " (4, ['leave', 'history', 'to', 'historians']),\n",
              " (4, ['with', 'renunciation', 'life', 'begins']),\n",
              " (4, ['kindness', 'is', 'always', 'fashionable']),\n",
              " (4, ['youth', 'condemns;', 'maturity', 'condones']),\n",
              " (4, ['i', 'live', 'in', 'brooklyn']),\n",
              " (4, ['being', 'number', 'two', 'sucks']),\n",
              " (4, ['perfection', 'doesn', 't', 'exist']),\n",
              " (4, ['aim', 'for', 'the', 'highest']),\n",
              " (4, ['freedom', 'is', 'not', 'negotiable']),\n",
              " (4, ['every', 'family', 'is', 'dysfunctional']),\n",
              " (4, ['everyone', 'needs', 'a', 'fantasy']),\n",
              " (4, ['happiness', 'depends', 'upon', 'ourselves']),\n",
              " (4, ['improvement', 'begins', 'with', 'i']),\n",
              " (4, ['enthusiasm', 'moves', 'the', 'world']),\n",
              " (4, ['fortune', 'that', 'favors', 'fools']),\n",
              " (4, ['cotton', 'is', 'my', 'life']),\n",
              " (4, ['actors', 'are', 'very', 'generous']),\n",
              " (4, ['i', 'm', 'an', 'idealist']),\n",
              " (4, ['aim', 'higher', 'stay', 'focused']),\n",
              " (4, ['i', 'm', 'so', 'uncoordinated']),\n",
              " (4, ['i', 'm', 'not', 'perfect']),\n",
              " (4, ['i', 'like', 'my', 'teammates']),\n",
              " (4, ['i', 'm', 'no', 'angel']),\n",
              " (4, ['war', 'is', 'an', 'abstraction']),\n",
              " (4, ['laughing', 'makes', 'everything', 'easier']),\n",
              " (4, ['i', 'improve', 'on', 'misquotation']),\n",
              " (4, ['accept', 'yourself', 'love', 'yourself']),\n",
              " (4, ['politics', 'makes', 'strange', 'bedfellows']),\n",
              " (4, ['i', 'love', 'the', 'unknown']),\n",
              " (4, ['stolen', 'sweets', 'are', 'best']),\n",
              " (4, ['architecture', 'is', 'inhabited', 'sculpture']),\n",
              " (4, ['follow', 'your', 'own', 'star']),\n",
              " (4, ['i', 'love', 'all', 'sports']),\n",
              " (4, ['everyone', 'has', 'a', 'past']),\n",
              " (4, ['wonders', 'will', 'never', 'cease']),\n",
              " (4, ['fortune', 'favors', 'the', 'audacious']),\n",
              " (4, ['you', 'learn', 'from', 'mistakes']),\n",
              " (4, ['every', 'song', 'is', 'different']),\n",
              " (4, ['i', 'm', 'a', 'competitor']),\n",
              " (4, ['adults', 'are', 'obsolete', 'children']),\n",
              " (4, ['nothing', 'recedes', 'like', 'progress']),\n",
              " (4, ['facts', 'are', 'stubborn', 'things']),\n",
              " (4, ['i', 'have', 'selective', 'hearing']),\n",
              " (4, ['i', 'hate', 'getting', 'bored']),\n",
              " (4, ['light', 'tomorrow', 'with', 'today']),\n",
              " (4, ['terror', 'made', 'me', 'cruel']),\n",
              " (4, ['i', 'dwell', 'in', 'possibility']),\n",
              " (4, ['for', 'love', 'is', 'immortality']),\n",
              " (4, ['politics', 'is', 'applied', 'biology']),\n",
              " (4, ['holidays', 'have', 'no', 'pity']),\n",
              " (4, ['much', 'effort', 'much', 'prosperity']),\n",
              " (4, ['cleverness', 'is', 'not', 'wisdom']),\n",
              " (4, ['leave', 'no', 'stone', 'unturned']),\n",
              " (4, ['we', 'shred', 'every', 'day']),\n",
              " (4, ['no', 'cross', 'no', 'crown']),\n",
              " (4, ['evolution', 'is', 'a', 'tinkerer']),\n",
              " (4, ['freedom', 'is', 'from', 'within']),\n",
              " (4, ['nature', 'abhors', 'a', 'vacuum']),\n",
              " (4, ['and', 'yet', 'it', 'moves']),\n",
              " (4, ['because', 'it', 's', 'there']),\n",
              " (4, ['cynicism', 'is', 'intellectual', 'dandyism']),\n",
              " (4, ['wisdom', 'comes', 'by', 'disillusionment']),\n",
              " (4, ['politics', 'makes', 'estranged', 'bedfellows']),\n",
              " (4, ['advertising', 'is', 'legalized', 'lying']),\n",
              " (4, ['the', 'buck', 'stops', 'here']),\n",
              " (4, ['love', 'has', 'a', 'tide']),\n",
              " (4, ['the', 'devil', 'is', 'compromise']),\n",
              " (4, ['nothing', 'endures', 'but', 'change']),\n",
              " (4, ['change', 'alone', 'is', 'unchanging']),\n",
              " (4, ['i', 'love', 'doing', 'comedy']),\n",
              " (4, ['class', 'envy', 'is', 'dangerous']),\n",
              " (4, ['human', 'beings', 'are', 'weak']),\n",
              " (4, ['i', 'believe', 'in', 'god']),\n",
              " (4, ['you', 'dirty', 'double-crossing', 'rat']),\n",
              " (4, ['make', 'the', 'important', 'interesting']),\n",
              " (4, ['conform', 'and', 'be', 'dull']),\n",
              " (4, ['being', 'unprepared', 'heightens', 'nerves']),\n",
              " (4, ['all', 'writers', 'are', 'vampires']),\n",
              " (4, ['i', 'like', 'dark', 'places']),\n",
              " (4, ['fate', 'loves', 'the', 'fearless']),\n",
              " (4, ['time', 'wounds', 'all', 'heels']),\n",
              " (4, ['i', 'like', 'the', 'pressure']),\n",
              " (4, ['hell', 'is', 'other', 'people']),\n",
              " (4, ['all', 'babies', 'are', 'beautiful']),\n",
              " (4, ['no', 'collection', 'without', 'compensation']),\n",
              " (4, ['i', 'cook', 'every', 'day']),\n",
              " (4, ['originality', 'is', 'really', 'important']),\n",
              " (4, ['music', 'is', 'my', 'religion']),\n",
              " (4, ['i', 'm', 'a', 'pacifist']),\n",
              " (4, ['doubt', 'grows', 'with', 'knowledge']),\n",
              " (4, ['opportunities', 'are', 'seldom', 'labeled']),\n",
              " (4, ['beginnings', 'are', 'always', 'messy']),\n",
              " (4, ['bad', 'people', 'are', 'intriguing']),\n",
              " (4, ['innocence', 'is', 'always', 'unsuspicious']),\n",
              " (4, ['logic', 'works', 'metaphysics', 'contemplates']),\n",
              " (4, ['solitude', 'vivifies;', 'isolation', 'kills']),\n",
              " (4, ['i', 'love', 'polarizing', 'people']),\n",
              " (4, ['i', 'like', 'to', 'relax']),\n",
              " (4, ['the', 'die', 'is', 'cast']),\n",
              " (4, ['my', 'dad', 'is', 'awesome']),\n",
              " (4, ['i', 'love', 'to', 'write']),\n",
              " (4, ['i', 'actually', 'hate', 'shopping']),\n",
              " (4, ['i', 'm', 'very', 'independent']),\n",
              " (4, ['i', 'feel', 'very', 'lucky']),\n",
              " (4, ['never', 'complain', 'never', 'explain']),\n",
              " (4, ['i', 'm', 'chasing', 'perfection']),\n",
              " (4, ['real', 'luxury', 'is', 'customization']),\n",
              " (4, ['i', 'm', 'from', 'southampton']),\n",
              " (4, ['shopkeepers', 'are', 'not', 'bankers']),\n",
              " (4, ['nice', 'guys', 'finish', 'last']),\n",
              " (4, ['let', 'there', 'be', 'bass']),\n",
              " (4, ['study', 'nature', 'not', 'books']),\n",
              " (4, ['form', 'ever', 'follows', 'function']),\n",
              " (4, ['words', 'are', 'just', 'words']),\n",
              " (4, ['patience', 'is', 'passion', 'tamed']),\n",
              " (4, ['money', 'just', 'draws', 'flies']),\n",
              " (4, ['nothing', 'nothing', 'justifies', 'terrorism']),\n",
              " (4, ['imaginary', 'evils', 'are', 'incurable']),\n",
              " (4, ['racism', 'springs', 'from', 'ignorance']),\n",
              " (4, ['i', 'definitely', 'love', 'tv']),\n",
              " (4, ['reject', 'hatred', 'without', 'hating']),\n",
              " (4, ['better', 'late', 'than', 'never']),\n",
              " (4, ['i', 'm', 'no', 'superman']),\n",
              " (4, ['i', 'am', 'still', 'learning']),\n",
              " (4, ['genius', 'is', 'eternal', 'patience']),\n",
              " (4, ['always', 'do', 'your', 'best']),\n",
              " (4, ['real', 'men', 'change', 'diapers']),\n",
              " (4, ['professional', 'competitions', 'are', 'overrated']),\n",
              " (4, ['heroes', 'can', 'be', 'sweet']),\n",
              " (4, ['youth', 'has', 'no', 'age']),\n",
              " (4, ['politeness', 'is', 'organized', 'indifference']),\n",
              " (4, ['i', 'm', 'happily', 'single']),\n",
              " (4, ['music', 'tells', 'no', 'truths']),\n",
              " (4, ['love', 'is', 'metaphysical', 'gravity']),\n",
              " (4, ['truth', 'is', 'a', 'tendency']),\n",
              " (4, ['age', 'considers;', 'youth', 'ventures']),\n",
              " (4, ['i', 'm', 'a', 'presenter']),\n",
              " (4, ['i', 'am', 'a', 'geologist']),\n",
              " (4, ['winning', 'starts', 'with', 'beginning']),\n",
              " (4, ['music', 'is', 'my', 'life']),\n",
              " (4, ['wine', 'is', 'bottled', 'poetry']),\n",
              " (4, ['i', 'love', 'rob', 'schneider']),\n",
              " (4, ['necessity', 'has', 'no', 'law']),\n",
              " (4, ['courage', 'mounteth', 'with', 'occasion']),\n",
              " (4, ['wisdom', 'begins', 'in', 'wonder']),\n",
              " (4, ['who', 'seeks', 'shall', 'find']),\n",
              " (4, ['without', 'labor', 'nothing', 'prospers']),\n",
              " (4, ['baseball', 'is', 'the', 'life']),\n",
              " (4, ['stay', 'hungry', 'stay', 'foolish']),\n",
              " (4, ['nobody', 'likes', 'tainted', 'victories']),\n",
              " (4, ['fortune', 'favors', 'the', 'brave']),\n",
              " (4, ['endurance', 'is', 'patience', 'concentrated']),\n",
              " (4, ['no', 'pressure', 'no', 'diamonds']),\n",
              " (4, ['good', 'bargains', 'are', 'pick-pockets']),\n",
              " (4, ['no', 'taxation', 'without', 'respiration']),\n",
              " (4, ['climate', 'change', 'is', 'crap']),\n",
              " (4, ['i', 'like', 'things', 'simple']),\n",
              " (4, ['comedy', 'comes', 'from', 'confusion']),\n",
              " (4, ['fortune', 'favours', 'the', 'bold']),\n",
              " (4, ['fortune', 'favors', 'the', 'bold']),\n",
              " (4, ['time', 'speeds', 'away', 'irretrievably']),\n",
              " (4, ['in', 'dreams', 'begins', 'responsibility']),\n",
              " (4, ['be', 'curious', 'not', 'judgmental']),\n",
              " (4, ['nothing', 'recedes', 'like', 'success']),\n",
              " (4, ['opposition', 'is', 'true', 'friendship']),\n",
              " (4, ['originality', 'is', 'undetected', 'plagiarism']),\n",
              " (4, ['you', 'sparkle', 'with', 'larceny']),\n",
              " (4, ['my', 'forte', 'is', 'awkwardness']),\n",
              " (5, ['tiggers', 'don', 't', 'like', 'honey']),\n",
              " (5, ['i', 'would', 'like', 'to', 'direct']),\n",
              " (5, ['i', 'm', 'about', 'my', 'characters']),\n",
              " (5, ['loneliness', 'is', 'the', 'ultimate', 'poverty']),\n",
              " (5, ['life', 'is', 'an', 'incurable', 'disease']),\n",
              " (5, ['i', 'think', 'work', 'begets', 'work']),\n",
              " (5, ['i', 'm', 'no', 'leonardo', 'dicaprio']),\n",
              " (5, ['most', 'modern', 'comedy', 'is', 'crap']),\n",
              " (5, ['example', 'is', 'the', 'best', 'precept']),\n",
              " (5, ['i', 'sing', 'just', 'for', 'fun']),\n",
              " (5, ['vote', 'early', 'and', 'vote', 'often']),\n",
              " (5, ['dream', 'in', 'a', 'pragmatic', 'way']),\n",
              " (5, ['i', 'do', 'believe', 'in', 'fate']),\n",
              " (5, ['health', 'consists', 'with', 'temperance', 'alone']),\n",
              " (5, ['live', 'constructively', 'and', 'live', 'optimistically']),\n",
              " (5, ['love', 'is', 'the', 'only', 'gold']),\n",
              " (5, ['knowledge', 'comes', 'but', 'wisdom', 'lingers']),\n",
              " (5, ['being', 'an', 'all-star', 'is', 'everything']),\n",
              " (5, ['i', 'like', 'being', 'a', 'mother']),\n",
              " (5, ['i', 'like', 'to', 'be', 'free']),\n",
              " (5, ['adventure', 'is', 'worthwhile', 'in', 'itself']),\n",
              " (5, ['dreams', 'are', 'necessary', 'to', 'life']),\n",
              " (5, ['most', 'quarrels', 'amplify', 'a', 'misunderstanding']),\n",
              " (5, ['you', 'can', 'plant', 'a', 'dream']),\n",
              " (5, ['corruption', 'never', 'has', 'been', 'compulsory']),\n",
              " (5, ['movies', 'are', 'just', 'ridiculously', 'expensive']),\n",
              " (5, ['self-love', 'seems', 'so', 'often', 'unrequited']),\n",
              " (5, ['eureka', '(i', 'have', 'found', 'it)']),\n",
              " (5, ['hope', 'is', 'a', 'waking', 'dream']),\n",
              " (5, ['the', 'primary', 'factor', 'is', 'proportions']),\n",
              " (5, ['things', 'always', 'happen', 'in', 'series']),\n",
              " (5, ['who', 'will', 'observe', 'the', 'observers']),\n",
              " (5, ['i', 'm', 'not', 'maximized', 'yet']),\n",
              " (5, ['i', 'm', 'very', 'very', 'blessed']),\n",
              " (5, ['katie', 'holmes', 'is', 'really', 'amazing']),\n",
              " (5, ['never', 'complain', 'and', 'never', 'explain']),\n",
              " (5, ['a', 'precedent', 'embalms', 'a', 'principle']),\n",
              " (5, ['there', 'is', 'no', 'little', 'enemy']),\n",
              " (5, ['remember', 'that', 'time', 'is', 'money']),\n",
              " (5, ['photography', 'helps', 'people', 'to', 'see']),\n",
              " (5, ['good', 'things', 'just', 'keep', 'happening']),\n",
              " (5, ['i', 'm', 'a', 'competitive', 'person']),\n",
              " (5, ['zealots', 'often', 'carry', 'the', 'day']),\n",
              " (5, ['iraq', 'is', 'not', 'about', 'oil']),\n",
              " (5, ['wisconsin', 's', 'a', 'special', 'place']),\n",
              " (5, ['i', 'm', 'usually', 'pretty', 'insecure']),\n",
              " (5, ['i', 'moonlight', 'as', 'a', 'singer']),\n",
              " (5, ['my', 'father', 's', 'a', 'character']),\n",
              " (5, ['imperialist', 'enterprise', 'draws', 'political', 'consequences']),\n",
              " (5, ['i', 'm', 'a', 'television', 'junkie']),\n",
              " (5, ['not', 'all', 'celebrities', 'are', 'dunces']),\n",
              " (5, ['democracy', 'derailed', 'is', 'democracy', 'denied']),\n",
              " (5, ['imitation', 'is', 'the', 'sincerest', 'flattery']),\n",
              " (5, ['of', 'two', 'evils', 'choose', 'neither']),\n",
              " (5, ['by', 'nature', 'men', 'love', 'newfangledness']),\n",
              " (5, ['we', 're', 'not', 'hard', 'people']),\n",
              " (5, ['i', 'do', 'belong', 'on', 'stage']),\n",
              " (5, ['strong', 'female', 'leads', 'are', 'important']),\n",
              " (5, ['i', 'like', 'to', 'explore', 'things']),\n",
              " (5, ['i', 'keep', 'things', 'pretty', 'simple']),\n",
              " (5, ['i', 'don', 't', 'wear', 'jeans']),\n",
              " (5, ['nothing', 'quite', 'new', 'is', 'perfect']),\n",
              " (5, ['fame', 'doesn', 't', 'end', 'loneliness']),\n",
              " (5, ['to', 'think', 'is', 'to', 'differ']),\n",
              " (5, ['i', 've', 'mellowed', 'quite', 'quickly']),\n",
              " (5, ['sleep', 'is', 'the', 'best', 'meditation']),\n",
              " (5, ['i', 'enjoy', 'saturday', 'night', 'racing']),\n",
              " (5, ['there', 's', 'nothing', 'like', 'success']),\n",
              " (5, ['i', 'love', 'to', 'play', 'pool']),\n",
              " (5, ['sports', 'are', 'not', 'for', 'everyone']),\n",
              " (5, ['i', 'have', 'no', 'grand', 'scheme']),\n",
              " (5, ['i', 'always', 'go', 'for', 'simplicity']),\n",
              " (5, ['bad', 'guys', 'have', 'more', 'fun']),\n",
              " (5, ['anything', 'simple', 'always', 'interests', 'me']),\n",
              " (5, ['avarice', 'the', 'spur', 'of', 'industry']),\n",
              " (5, ['god', 'save', 'us', 'from', 'religion']),\n",
              " (5, ['what', 'is', 'originality', 'undetected', 'plagiarism']),\n",
              " (5, ['i', 'want', 'to', 'be', 'fearless']),\n",
              " (5, ['i', 'don', 't', 'research', 'anything']),\n",
              " (5, ['your', 'library', 'is', 'your', 'paradise']),\n",
              " (5, ['prevention', 'is', 'better', 'than', 'cure']),\n",
              " (5, ['tackling', 'childhood', 'obesity', 'is', 'key']),\n",
              " (5, ['my', 'family', 'were', 'from', 'jamaica']),\n",
              " (5, ['everything', 'in', 'life', 'is', 'luck']),\n",
              " (5, ['adults', 'are', 'just', 'outdated', 'children']),\n",
              " (5, ['mortality', 'defines', 'the', 'human', 'condition']),\n",
              " (5, ['god', 'uses', 'whoever', 'he', 'wants']),\n",
              " (5, ['ideas', 'are', 'fatal', 'to', 'caste']),\n",
              " (5, ['i', 'm', 'a', 'one-man', 'idiot']),\n",
              " (5, ['villains', 'are', 'fun', 'to', 'play']),\n",
              " (5, ['custom', 'reconciles', 'us', 'to', 'everything']),\n",
              " (5, ['to', 'write', 'is', 'a', 'humiliation']),\n",
              " (5, ['you', 'never', 'know', 'about', 'life']),\n",
              " (5, ['i', 'am', 'single', 'and', 'happy']),\n",
              " (5, ['the', 'past', 'cannot', 'be', 'cured']),\n",
              " (5, ['big', 'girls', 'need', 'big', 'diamonds']),\n",
              " (5, ['success', 'is', 'a', 'great', 'deodorant']),\n",
              " (5, ['my', 'friends', 'are', 'my', 'estate']),\n",
              " (5, ['violence', 'in', 'darfur', 'is', 'cataclysmic']),\n",
              " (5, ['i', 'always', 'respect', 'a', 'woman']),\n",
              " (5, ['i', 'prefer', 'love', 'over', 'sex']),\n",
              " (5, ['only', 'the', 'educated', 'are', 'free']),\n",
              " (5, ['my', 'skin', 'is', 'very', 'sensitive']),\n",
              " (5, ['you', 'look', 'just', 'like', 'you']),\n",
              " (5, ['children', 'make', 'your', 'life', 'important']),\n",
              " (5, ['courage', 'is', 'grace', 'under', 'pressure']),\n",
              " (5, ['never', 'mistake', 'motion', 'for', 'action']),\n",
              " (5, ['the', 'sea', 'hates', 'a', 'coward']),\n",
              " (5, ['i', 'love', 'the', 'fast', 'lane']),\n",
              " (5, ['i', 'acted', 'my', 'heart', 'out']),\n",
              " (5, ['i', 'aspire', 'only', 'to', 'silence']),\n",
              " (5, ['friends', 'are', 'thieves', 'of', 'time']),\n",
              " (5, ['my', 'mind', 's', 'my', 'kingdom']),\n",
              " (5, ['wickedness', 'is', 'its', 'own', 'punishment']),\n",
              " (5, ['little', 'opportunities', 'should', 'be', 'improved']),\n",
              " (5, ['sex', 'is', 'a', 'two-way', 'treat']),\n",
              " (5, ['too', 'much', 'truth', 'is', 'uncouth']),\n",
              " (5, ['violence', 'is', 'man', 're-creating', 'himself']),\n",
              " (5, ['greenland', 'is', 'a', 'wonderful', 'country']),\n",
              " (5, ['i', 'am', 'just', 'an', 'apprentice']),\n",
              " (5, ['being', 'short', 'works', 'for', 'me']),\n",
              " (5, ['i', 'm', 'not', 'very', 'glamorous']),\n",
              " (5, ['i', 'm', 'a', 'proud', 'welshman']),\n",
              " (5, ['man', 'is', 'an', 'imagining', 'being']),\n",
              " (5, ['nostalgia', 'is', 'a', 'seductive', 'liar']),\n",
              " (5, ['weather', 'forecast', 'for', 'tonight:', 'dark']),\n",
              " (5, ['necessity', 'the', 'mother', 'of', 'invention']),\n",
              " (5, ['big', 'brother', 'is', 'watching', 'you']),\n",
              " (5, ['admiration', 'and', 'familiarity', 'are', 'strangers']),\n",
              " (5, ['audacity', 'more', 'audacity', 'always', 'audacity']),\n",
              " (5, ['every', 'shot', 'that', 'kills', 'ricochets']),\n",
              " (5, ['everybody', 'is', 'their', 'own', 'critic']),\n",
              " (5, ['i', 'want', 'to', 'be', 'alone']),\n",
              " (5, ['our', 'true', 'nationality', 'is', 'mankind']),\n",
              " (5, ['vanity', 'like', 'murder', 'will', 'out']),\n",
              " (5, ['nothing', 'exists', 'except', 'through', 'language']),\n",
              " (5, ['death', 'is', 'better', 'than', 'slavery']),\n",
              " (5, ['childhood', 'is', 'a', 'short', 'season']),\n",
              " (5, ['if', 'you', 'rest', 'you', 'rust']),\n",
              " (5, ['america', 'has', 'always', 'imported', 'history']),\n",
              " (5, ['power', 'is', 'the', 'great', 'aphrodisiac']),\n",
              " (5, ['friends', 'are', 'born', 'not', 'made']),\n",
              " (5, ['deep', 'experience', 'is', 'never', 'peaceful']),\n",
              " (5, ['my', 'motto', 'is', 'never', 'quit']),\n",
              " (5, ['resolve', 'and', 'thou', 'art', 'free']),\n",
              " (5, ['big', 'results', 'require', 'big', 'ambitions']),\n",
              " (5, ['stupid', 'people', 'are', 'ruining', 'america']),\n",
              " (5, ['genius', 'is', 'initiative', 'on', 'fire']),\n",
              " (5, ['your', 'library', 'is', 'your', 'portrait']),\n",
              " (5, ['anger', 'is', 'a', 'short', 'madness']),\n",
              " (5, ['anger', 'is', 'a', 'brief', 'madness']),\n",
              " (5, ['sometimes', 'even', 'excellent', 'homer', 'nods']),\n",
              " (5, ['never', 'give', 'up', 'on', 'anybody']),\n",
              " (5, ['to', 'be', 'is', 'to', 'do']),\n",
              " (5, ['i', 'suffer', 'from', 'everyday', 'life']),\n",
              " (5, ['serbs', 'can', 'only', 'leave', 'kosovo']),\n",
              " (5, ['serbia', 'is', 'open', 'for', 'business']),\n",
              " (5, ['short', 'cuts', 'make', 'long', 'delays']),\n",
              " (5, ['with', 'humour', 'there', 'is', 'life']),\n",
              " (5, ['congress', 'doesn', 't', 'hate', 'congress']),\n",
              " (5, ['suicide', 'is', 'not', 'a', 'remedy']),\n",
              " (5, ['i', 'am', 'a', 'poor', 'hater']),\n",
              " (5, ['there', 'are', 'no', 'instant', 'solutions']),\n",
              " (5, ['jane', 'austen', 'is', 'very', 'amusing']),\n",
              " (5, ['i', 'love', 'hearing', 'people', 'laugh']),\n",
              " (5, ['i', 'm', 'an', 'angry', 'guy']),\n",
              " (5, ['even', 'my', 'stuntman', 'is', 'old']),\n",
              " (5, ['taxation', 'without', 'representation', 'is', 'tyranny']),\n",
              " (5, ['freedom', 'is', 'a', 'universal', 'value']),\n",
              " (5, ['well', 'time', 'wounds', 'all', 'heels']),\n",
              " (5, ['tragedy', 'makes', 'you', 'grow', 'up']),\n",
              " (5, ['i', 'am', 'critical', 'of', 'myself']),\n",
              " (5, ['morning', 'breath', 'is', 'the', 'worst']),\n",
              " (5, ['courage', 'is', 'action', 'not', 'talk']),\n",
              " (5, ['i', 'have', 'a', 'strong', 'constitution']),\n",
              " (5, ['i', 'react', 'emotionally', 'to', 'everything']),\n",
              " (5, ['i', 'can', 't', 'tan', 'naturally']),\n",
              " (5, ['sometimes', 'you', 'win', 'by', 'losing']),\n",
              " (5, ['my', 'father', 'was', 'an', 'agnostic']),\n",
              " (5, ['i', 'have', 'very', 'old-fashioned', 'tastes']),\n",
              " (5, ['everything', 'matters', 'time', 'is', 'precious']),\n",
              " (5, ['art', 'is', 'fun', 'to', 'buy']),\n",
              " (5, ['knowledge', 'speaks', 'but', 'wisdom', 'listens']),\n",
              " (5, ['hypothetical', 'questions', 'get', 'hypothetical', 'answers']),\n",
              " (5, ['i', 'call', 'architecture', 'frozen', 'music']),\n",
              " (5, ['the', 'poetry', 'of', 'the', 'foot']),\n",
              " (5, ['i', 'really', 'write', 'for', 'people']),\n",
              " (5, ['i', 'm', 'ready', 'to', 'create']),\n",
              " (5, ['what', 'worries', 'you', 'masters', 'you']),\n",
              " (5, ['wherever', 'law', 'ends', 'tyranny', 'begins']),\n",
              " (5, ['night', 'hath', 'a', 'thousand', 'eyes']),\n",
              " (5, ['never', 'mistake', 'activity', 'for', 'achievement']),\n",
              " (5, ['i', 'think', 'everybody', 's', 'nuts']),\n",
              " (5, ['the', 'national', 'pastime', 'is', 'juiced']),\n",
              " (5, ['my', 'family', 'came', 'from', 'ecuador']),\n",
              " (5, ['not', 'one', 'cent', 'for', 'scenery']),\n",
              " (5, ['the', 'holy', 'one…requires', 'the', 'heart']),\n",
              " (5, ['i', 'prefer', 'a', 'cluttered', 'workspace']),\n",
              " (5, ['i', 'like', 'writing', 'about', 'friends']),\n",
              " (5, ['my', 'life', 'is', 'to', 'sing']),\n",
              " (5, ['honesty', 'is', 'praised', 'and', 'starves']),\n",
              " (5, ['i', 'enjoy', 'seeing', 'new', 'places']),\n",
              " (5, ['art', 'must', 'not', 'serve', 'might']),\n",
              " (5, ['i', 'felt', 'uncomfortable', 'in', 'cliques']),\n",
              " (5, ['i', 'm', 'a', 'serial', 'monogamist']),\n",
              " (5, ['beauty', 'comes', 'from', 'the', 'inside']),\n",
              " (5, ['serendipity', 'always', 'rewards', 'the', 'prepared']),\n",
              " (5, ['my', 'faith', 'guides', 'my', 'life']),\n",
              " (5, ['i', 'have', 'a', 'natural', 'swagger']),\n",
              " (5, ['great', 'ideology', 'creates', 'great', 'times']),\n",
              " (5, ['i', 'don', 't', 'do', 'earrings']),\n",
              " (5, ['i', 'am', 'the', 'girliest', 'girl']),\n",
              " (5, ['rather', 'be', 'dead', 'than', 'cool']),\n",
              " (5, ['i', 'm', 'a', 'wandering', 'gypsy']),\n",
              " (5, ['general', 'notions', 'are', 'generally', 'wrong']),\n",
              " (5, ['i', 'm', 'rubbish', 'at', 'twitter']),\n",
              " (5, ['i', 'think', 'like', 'a', 'detective']),\n",
              " (5, ['i', 'am', 'essentially', 'a', 'loner']),\n",
              " (5, ['we', 'all', 'need', 'each', 'other']),\n",
              " (5, ['boredom:', 'the', 'desire', 'for', 'desires']),\n",
              " (5, ['nietzsche', 'was', 'stupid', 'and', 'abnormal']),\n",
              " (5, ['learning', 'never', 'exhausts', 'the', 'mind']),\n",
              " (5, ['simplicity', 'is', 'the', 'ultimate', 'sophistication']),\n",
              " (5, ['i', 'was', 'never', 'a', 'prodigy']),\n",
              " (5, ['i', 'm', 'not', 'that', 'interesting']),\n",
              " (5, ['no', 'news', 'is', 'good', 'news']),\n",
              " (5, ['a', 'low', 'budget', 'is', 'uncomfortable']),\n",
              " (5, ['sex', 'is', 'emotion', 'in', 'motion']),\n",
              " (5, ['my', 'life', 'is', 'my', 'message']),\n",
              " (5, ['without', 'hope', 'we', 'are', 'lost']),\n",
              " (5, ['anticipate', 'charity', 'by', 'preventing', 'poverty']),\n",
              " (5, ['the', 'best', 'vision', 'is', 'insight']),\n",
              " (5, ['love', 'is', 'a', 'reciprocal', 'torture']),\n",
              " (5, ['confine', 'yourself', 'to', 'the', 'present']),\n",
              " (5, ['true', 'friendship', 'is', 'never', 'serene']),\n",
              " (5, ['conquer', 'but', 'don', 't', 'triumph']),\n",
              " (5, ['all', 'kings', 'is', 'mostly', 'rapscallions']),\n",
              " (5, ['i', 'm', 'not', 'independently', 'wealthy']),\n",
              " (5, ['the', 'medium', 'is', 'the', 'message']),\n",
              " (5, ['pray', 'and', 'let', 'god', 'worry']),\n",
              " (5, ['when', 'schools', 'flourish', 'all', 'flourishes']),\n",
              " (5, ['money', 'can', 't', 'buy', 'poverty']),\n",
              " (5, ['we', 'fall', 'forward', 'to', 'succeed']),\n",
              " (5, ['sanctified', 'afflictions', 'are', 'spiritual', 'promotions']),\n",
              " (5, ['not', 'lost', 'but', 'gone', 'before']),\n",
              " (5, ['for', 'me', 'comfort', 'is', 'paramount']),\n",
              " (5, ['i', 've', 'got', 'two', 'families']),\n",
              " (5, ['i', 'was', 'the', 'class', 'innuendist']),\n",
              " (5, ['all', 'war', 'aims', 'for', 'impunity']),\n",
              " (5, ['a', 'good', 'thing', 'never', 'ends']),\n",
              " (5, ['be', 'impeccable', 'with', 'your', 'word']),\n",
              " (5, ['laughter', 'is', 'an', 'instant', 'vacation']),\n",
              " (5, ['inflation', 'is', 'taxation', 'without', 'legislation']),\n",
              " (5, ['love', 'without', 'conversation', 'is', 'impossible']),\n",
              " (5, ['peace', 'begins', 'with', 'a', 'smile']),\n",
              " (5, ['always', 'stay', 'true', 'to', 'yourselves']),\n",
              " (5, ['my', 'features', 'are', 'completely', 'ethnic']),\n",
              " (5, ['i', 'love', 'anything', 'quiz', 'related']),\n",
              " (5, ['stay', 'focused', 'on', 'the', 'mission']),\n",
              " (5, ['i', 'have', 'my', 'own', 'strength']),\n",
              " (5, ['do', 'all', 'things', 'with', 'love']),\n",
              " (5, ['only', 'the', 'young', 'die', 'good']),\n",
              " (5, ['i', 'literally', 'hate', 'working', 'out']),\n",
              " (5, ['turn', 'your', 'wounds', 'into', 'wisdom']),\n",
              " (5, ['a', 'will', 'finds', 'a', 'way']),\n",
              " (5, ['all', 'art', 'is', 'quite', 'useless']),\n",
              " (5, ['only', 'the', 'shallow', 'know', 'themselves']),\n",
              " (5, ['all', 'things', 'change;', 'nothing', 'perishes']),\n",
              " (5, ['never', 'fight', 'an', 'inanimate', 'object']),\n",
              " (5, ['i', 'enjoy', 'being', 'a', 'girl']),\n",
              " (5, ['kittens', 'can', 'happen', 'to', 'anyone']),\n",
              " (5, ['boredom', 'is', 'rage', 'spread', 'thin']),\n",
              " (5, ['there', 'are', 'many', 'talented', 'people']),\n",
              " (5, ['i', 've', 'always', 'been', 'loud']),\n",
              " (5, ['you', 'have', 'to', 'take', 'risks']),\n",
              " (5, ['freud', 'was', 'just', 'a', 'novelist']),\n",
              " (5, ['rivalry', 'doesn', 't', 'help', 'anybody']),\n",
              " (5, ['hello', 'kitty', 'will', 'never', 'speak']),\n",
              " (5, ['neither', 'blame', 'or', 'praise', 'yourself']),\n",
              " (5, ['life', 'is', 'just', 'a', 'journey']),\n",
              " (5, ['vice', 'is', 'its', 'own', 'reward']),\n",
              " (5, ['history', 'will', 'treat', 'me', 'right']),\n",
              " (5, ['the', 'first', 'wealth', 'is', 'health']),\n",
              " (5, ['the', 'earth', 'laughs', 'in', 'flowers']),\n",
              " (5, ['art', 'is', 'a', 'jealous', 'mistress']),\n",
              " (5, ['all', 'mankind', 'love', 'a', 'lover']),\n",
              " (5, ['figure', 'out', 'who', 'you', 'are']),\n",
              " (5, ['i', 'like', 'to', 'write', 'poetry']),\n",
              " (5, ['i', 'love', 'getting', 'dressed', 'up']),\n",
              " (5, ['fans', 'don', 't', 'boo', 'nobodies']),\n",
              " (5, ['hitting', 'is', 'better', 'than', 'sex']),\n",
              " (5, ['i', 'think;', 'therefore', 'i', 'am']),\n",
              " (5, ['good', 'government', 'is', 'good', 'politics']),\n",
              " (5, ['a', 'true', 'initiation', 'never', 'ends']),\n",
              " (5, ['the', 'titanic', 'will', 'protect', 'itself']),\n",
              " (5, ['love', 'is', 'energy', 'of', 'life']),\n",
              " (5, ['unity', 'is', 'obama', 's', 'theme']),\n",
              " (5, ['texts', 'are', 'always', 'in', 'flux']),\n",
              " (5, ['freedom', 'lies', 'in', 'being', 'bold']),\n",
              " (5, ['turn', 'your', 'scars', 'into', 'stars']),\n",
              " (5, ['when', 'one', 'teaches', 'two', 'learn']),\n",
              " (5, ['comedy', 'is', 'acting', 'out', 'optimism']),\n",
              " (5, ['you', 'can', 't', 'fix', 'stupid']),\n",
              " (5, ['i', 'race', 'kind', 'of', 'sparingly']),\n",
              " (5, ['words', 'are', 'all', 'we', 'have']),\n",
              " (5, ['nobody', 'shoots', 'at', 'santa', 'claus']),\n",
              " (5, ['the', 'wise', 'are', 'above', 'books']),\n",
              " (5, ['avoid', 'running', 'at', 'all', 'times']),\n",
              " (5, ['i', 'hate', 'the', 'polo', 'collar']),\n",
              " (5, ['man', 'is', 'a', 'social', 'animal']),\n",
              " (5, ['what', 's', 'past', 'is', 'prologue']),\n",
              " (5, ['frailty', 'thy', 'name', 'is', 'woman']),\n",
              " (5, ['i', 'm', 'a', 'tv', 'junkie']),\n",
              " (5, ['i', 'm', 'a', 'tv', 'addict']),\n",
              " (5, ['i', 'm', 'such', 'a', 'workaholic']),\n",
              " (5, ['faith', 'is', 'reason', 'grown', 'courageous']),\n",
              " (5, ['gossip', 'is', 'nature', 's', 'telephone']),\n",
              " (5, ['fashion', 'goes', 'round', 'in', 'circles']),\n",
              " (5, ['success', 'is', 'dependent', 'on', 'effort']),\n",
              " (5, ['trust', 'dies', 'but', 'mistrust', 'blossoms']),\n",
              " (5, ['quick', 'decisions', 'are', 'unsafe', 'decisions']),\n",
              " (5, ['i', 'm', 'always', 'being', 'realistic']),\n",
              " (5, ['a', 'win', 'is', 'a', 'win']),\n",
              " (5, ['to', 'me', 'flowers', 'are', 'happiness']),\n",
              " (5, ['i', 'am', 'a', 'serious', 'guy']),\n",
              " (5, ['accessible', 'design', 'is', 'good', 'design']),\n",
              " (5, ['crikey', 'means', 'gee', 'whiz', 'wow']),\n",
              " (5, ['suffrage', 'is', 'the', 'pivotal', 'right']),\n",
              " (5, ['fat', 'is', 'a', 'feminist', 'issue']),\n",
              " (5, ['rumor', 'is', 'not', 'always', 'wrong']),\n",
              " (5, ['i', 'don', 't', 'feel', 'famous']),\n",
              " (5, ['i', 'shop', 'therefore', 'i', 'am']),\n",
              " (5, ['you', 'gotta', 'mature', 'you', 'know']),\n",
              " (5, ['great', 'hopes', 'make', 'great', 'men']),\n",
              " (5, ['nothing', 'sharpens', 'sight', 'like', 'envy']),\n",
              " (5, ['sorrow', 'never', 'comes', 'too', 'late']),\n",
              " (5, ['delay', 'is', 'preferable', 'to', 'error']),\n",
              " (5, ['when', 'ambition', 'ends', 'happiness', 'begins']),\n",
              " (5, ['man', 'proposes', 'but', 'god', 'disposes']),\n",
              " (5, ['real', 'progress', 'comes', 'from', 'people']),\n",
              " (5, ['sweat', 'makes', 'good', 'friendship', 'cement']),\n",
              " (5, ['cinnamon', 'bites', 'and', 'kisses', 'simultaneously']),\n",
              " (5, ['perseverance', 'secret', 'of', 'all', 'triumphs']),\n",
              " (5, ['procrastination', 'is', 'opportunity', 's', 'assassin']),\n",
              " (5, ['my', 'first', 'vocation', 'was', 'dance']),\n",
              " (5, ['sometimes', 'i', 'like', 'to', 'vent']),\n",
              " (5, ['i', 'think', 'abortion', 'is', 'murder']),\n",
              " (5, ['fate', 'will', 'find', 'a', 'way']),\n",
              " (5, ['fascism', 'is', 'capitalism', 'in', 'decay']),\n",
              " (5, ['democracy', 'is', 'indispensable', 'to', 'socialism']),\n",
              " (5, ['love', 'truth', 'but', 'pardon', 'error']),\n",
              " (5, ['we', 'convince', 'by', 'our', 'presence']),\n",
              " (5, ['i', 'have', 'a', 'clear', 'conscience']),\n",
              " (5, ['happiness', 'is', 'an', 'inside', 'job']),\n",
              " (5, ['the', 'eye', 'altering', 'alters', 'all']),\n",
              " (5, ['shame', 'is', 'pride', 's', 'cloak']),\n",
              " (5, ['talent', 'perceives', 'differences;', 'genius', 'unity']),\n",
              " (5, ['justice', 'delayed', 'is', 'justice', 'denied']),\n",
              " (5, ['egypt', 'is', 'a', 'sovereign', 'nation']),\n",
              " (5, ['every', 'bullet', 'has', 'its', 'billet']),\n",
              " (5, ['belief', 'creates', 'the', 'actual', 'fact']),\n",
              " (5, ['time', 'itself', 'comes', 'in', 'drops']),\n",
              " (5, ['faith', 'is', 'a', 'passionate', 'intuition']),\n",
              " (5, ['most', 'hard-boiled', 'people', 'are', 'half-baked']),\n",
              " (5, ['art', 'is', 'science', 'made', 'clear']),\n",
              " (5, ['never', 'never', 'never', 'give', 'up']),\n",
              " (5, ['macho', 'does', 'not', 'prove', 'mucho']),\n",
              " (6, ['better', 'to', 'be', 'disliked', 'than', 'pitied']),\n",
              " (6, ['great', 'necessities', 'call', 'out', 'great', 'virtues']),\n",
              " (6, ['you', 'must', 'never', 'tire', 'fighting', 'satan']),\n",
              " (6, ['i', 'm', 'huge', 'fan', 'of', 'timeflies']),\n",
              " (6, ['time', 'brings', 'all', 'things', 'to', 'pass']),\n",
              " (6, ['the', 'words', 'of', 'truth', 'are', 'simple']),\n",
              " (6, ['united', 'we', 'stand', 'divided', 'we', 'fall']),\n",
              " (6, ['any', 'excuse', 'will', 'serve', 'a', 'tyrant']),\n",
              " (6, ['prohibition', 'has', 'made', 'nothing', 'but', 'trouble']),\n",
              " (6, ['i', 'm', 'usually', 'just', 'enjoying', 'life']),\n",
              " (6, ['imagination', 'is', 'more', 'important', 'than', 'knowledge']),\n",
              " (6, ['i', 'believe', 'in', 'god', 'and', 'immortality']),\n",
              " (6, ['you', 'can', 't', 'applaud', 'a', 'referee']),\n",
              " (6, ['a', 'promise', 'must', 'never', 'be', 'broken']),\n",
              " (6, ['praise', 'undeserved', 'is', 'satire', 'in', 'disguise']),\n",
              " (6, ['i', 'm', 'very', 'into', 'fantasy', 'films']),\n",
              " (6, ['nature', 'red', 'in', 'tooth', 'and', 'claw']),\n",
              " (6, ['islam', 'and', 'democracy', 'can', 'function', 'together']),\n",
              " (6, ['the', 'economist', 'is', 'a', 'biased', 'organization']),\n",
              " (6, ['in', '1965', 'i', 'marched', 'for', 'equality']),\n",
              " (6, ['i', 'do', 'not', 'write', 'i', 'build']),\n",
              " (6, ['part', 'of', 'me', 'is', 'very', 'shy']),\n",
              " (6, ['nine', 'tenths', 'of', 'education', 'is', 'encouragement']),\n",
              " (6, ['the', 'color', 'of', 'truth', 'is', 'gray']),\n",
              " (6, ['not', 'everyone', 'can', 'be', 'an', 'orphan']),\n",
              " (6, ['i', 'believe', 'i', 'was', 'extremely', 'greedy']),\n",
              " (6, ['i', 'm', 'a', 'staunch', 'anti-castro', 'individual']),\n",
              " (6, ['i', 'live', 'in', 'a', 'crazy', 'time']),\n",
              " (6, ['treasure', 'your', 'relationships', 'not', 'your', 'possessions']),\n",
              " (6, ['variety', 'is', 'the', 'soul', 'of', 'pleasure']),\n",
              " (6, ['i', 'couldn', 't', 'be', 'more', 'blessed']),\n",
              " (6, ['paris', 'is', 'always', 'a', 'good', 'idea']),\n",
              " (6, ['deep', 'down', 'i', 'm', 'pretty', 'superficial']),\n",
              " (6, ['there', 'is', 'a', 'reason', 'for', 'everything']),\n",
              " (6, ['i', 'do', 'not', 'consider', 'myself', 'beautiful']),\n",
              " (6, ['change', 'is', 'inevitable', 'change', 'is', 'constant']),\n",
              " (6, ['lost', 'time', 'is', 'never', 'found', 'again']),\n",
              " (6, ['energy', 'and', 'persistence', 'conquer', 'all', 'things']),\n",
              " (6, ['necessity', 'never', 'made', 'a', 'good', 'bargain']),\n",
              " (6, ['gray', 'hair', 'is', 'god', 's', 'graffiti']),\n",
              " (6, ['superbad', 'was', 'such', 'a', 'personal', 'movie']),\n",
              " (6, ['i', 'rocked', 'the', 'cradle', 'of', 'love']),\n",
              " (6, ['sometimes', 'dreams', 'are', 'wiser', 'than', 'waking']),\n",
              " (6, ['with', 'radio', 'the', 'listener', 'absorbs', 'everything']),\n",
              " (6, ['character', 'not', 'circumstances', 'makes', 'the', 'man']),\n",
              " (6, ['we', 'must', 'reinforce', 'argument', 'with', 'results']),\n",
              " (6, ['i', 'am', 'not', 'a', 'party', 'girl']),\n",
              " (6, ['larry', 'kasdan', 'is', 'a', 'great', 'director']),\n",
              " (6, ['the', 'perfect', 'shorts', 'are', 'always', 'important']),\n",
              " (6, ['i', 'm', 'a', 'huge', 'horror', 'fan']),\n",
              " (6, ['moses', 'is', 'our', 'true', 'founding', 'father']),\n",
              " (6, ['i', 'never', 'had', 'a', 'long-term', 'plan']),\n",
              " (6, ['i', 'was', 'born', 'to', 'be', 'funny']),\n",
              " (6, ['doesn', 't', 'everyone', 'hate', 'kristen', 'stewart']),\n",
              " (6, ['don', 't', 'give', 'up', 'the', 'ship']),\n",
              " (6, ['nothing', 'happens', 'unless', 'first', 'we', 'dream']),\n",
              " (6, ['i', 'know', 'i', 'm', 'not', 'perfect']),\n",
              " (6, ['the', 'wages', 'of', 'pedantry', 'is', 'pain']),\n",
              " (6, ['i', 'consider', 'myself', 'a', 'bassist', 'first']),\n",
              " (6, ['love', 'is', 'the', 'cheapest', 'of', 'religions']),\n",
              " (6, ['attitudes', 'are', 'the', 'forerunners', 'of', 'conditions']),\n",
              " (6, ['“presents”', 'i', 'often', 'say', '“endear', 'absents”']),\n",
              " (6, ['meaning', 'however', 'is', 'no', 'great', 'matter']),\n",
              " (6, ['boom', 'crush', 'night', 'losers', 'winning', 'duh']),\n",
              " (6, ['i', 'used', 'to', 'hate', 'being', 'recognised']),\n",
              " (6, ['i', 'm', 'living', 'my', 'dream', 'now']),\n",
              " (6, ['ed', 'kowalczyk', 'is', 'my', 'favorite', 'singer']),\n",
              " (6, ['everybody', 'laughs', 'when', 'fatty', 'falls', 'down']),\n",
              " (6, ['my', 'parents', 'had', 'a', 'difficult', 'divorce']),\n",
              " (6, ['critics', 'should', 'stick', 'to', 'their', 'convictions']),\n",
              " (6, ['i', 'like', 'critics', 'with', 'strong', 'opinions']),\n",
              " (6, ['justice', 'shines', 'by', 'its', 'own', 'light']),\n",
              " (6, ['let', 'the', 'punishment', 'match', 'the', 'offense']),\n",
              " (6, ['i', 'consider', 'myself', 'a', 'rampant', 'feminist']),\n",
              " (6, ['the', 'trouble', 'with', 'law', 'is', 'lawyers']),\n",
              " (6, ['fate', 'pulls', 'you', 'in', 'different', 'directions']),\n",
              " (6, ['perpetual', 'optimism', 'is', 'a', 'force', 'multiplier']),\n",
              " (6, ['get', 'mad', 'then', 'get', 'over', 'it']),\n",
              " (6, ['the', 'style', 'is', 'the', 'man', 'himself']),\n",
              " (6, ['contrast', 'is', 'what', 'makes', 'photography', 'interesting']),\n",
              " (6, ['somebody', 's', 'upset', 'with', 'every', 'movie']),\n",
              " (6, ['no', 'one', 'is', 'born', 'hating', 'others']),\n",
              " (6, ['beauty', 'awakens', 'the', 'soul', 'to', 'act']),\n",
              " (6, ['nature', 'is', 'the', 'art', 'of', 'god']),\n",
              " (6, ['i', 'belong', 'to', 'the', 'democratic', 'party']),\n",
              " (6, ['i', 'had', 'a', 'dad', 'you', 'know']),\n",
              " (6, ['i', 'don', 't', 'watch', 'reality', 'tv']),\n",
              " (6, ['i', 'never', 'wanted', 'to', 'be', 'famous']),\n",
              " (6, ['the', 'skull', 'is', 'nature', 's', 'sculpture']),\n",
              " (6, ['i', 'm', 'a', 'wicked', 'ping-pong', 'player']),\n",
              " (6, ['discipline', 'is', 'remembering', 'what', 'you', 'want']),\n",
              " (6, ['it', 'has', 'a', 'really', 'timeless', 'feel']),\n",
              " (6, ['dancing', 'is', 'kind', 'of', 'my', 'thing']),\n",
              " (6, ['you', 'must', 'plan', 'to', 'be', 'spontaneous']),\n",
              " (6, ['i', 'have', 'no', 'academic', 'qualifications', 'whatsoever']),\n",
              " (6, ['negativity', 'is', 'the', 'enemy', 'of', 'creativity']),\n",
              " (6, ['i', 'm', 'very', 'practical', 'and', 'realistic']),\n",
              " (6, ['without', 'forgiveness', 'there', 's', 'no', 'future']),\n",
              " (6, ['survival', 'is', 'nothing', 'more', 'than', 'recovery']),\n",
              " (6, ['every', 'song', 'is', 'like', 'a', 'painting']),\n",
              " (6, ['storms', 'make', 'trees', 'take', 'deeper', 'roots']),\n",
              " (6, ['we', 're', 'not', 'getting', 'any', 'younger']),\n",
              " (6, ['i', 'can', 't', 'play', 'a', 'slave']),\n",
              " (6, ['brevity', 'is', 'the', 'soul', 'of', 'lingerie']),\n",
              " (6, ['sorrow', 'is', 'tranquillity', 'remembered', 'in', 'emotion']),\n",
              " (6, ['there', 'is', 'no', 'substitute', 'for', 'victory']),\n",
              " (6, ['only', 'you', 'can', 'control', 'your', 'future']),\n",
              " (6, ['i', 'love', 'the', 'game', 'of', 'baseball']),\n",
              " (6, ['i', 'have', 'a', 'lot', 'of', 'interests']),\n",
              " (6, ['plans', 'are', 'nothing;', 'planning', 'is', 'everything']),\n",
              " (6, ['the', 'world', 'is', 'mud-luscious', 'and', 'puddle-wonderful']),\n",
              " (6, ['unbeing', 'dead', 'isn', 't', 'being', 'alive']),\n",
              " (6, ['god', 'forbid', 'that', 'women', 'have', 'fantasies']),\n",
              " (6, ['i', 'm', 'not', 'a', 'great', 'writer']),\n",
              " (6, ['i', 'hate', 'having', 'my', 'photograph', 'taken']),\n",
              " (6, ['unless', 'we', 'remember', 'we', 'cannot', 'understand']),\n",
              " (6, ['nonsense', 'and', 'beauty', 'have', 'close', 'connections']),\n",
              " (6, ['stupidity', 'is', 'a', 'talent', 'for', 'misconception']),\n",
              " (6, ['beauty', 'is', 'the', 'promise', 'of', 'happiness']),\n",
              " (6, ['dangers', 'by', 'being', 'despised', 'grow', 'great']),\n",
              " (6, ['public', 'calamity', 'is', 'a', 'mighty', 'leveller']),\n",
              " (6, ['grown', 'men', 'do', 'not', 'need', 'leaders']),\n",
              " (6, ['war', '-', 'hard', 'apprenticeship', 'of', 'freedom']),\n",
              " (6, ['revenge', 'is', 'profitable', 'gratitude', 'is', 'expensive']),\n",
              " (6, ['age', 'affects', 'how', 'people', 'experience', 'time']),\n",
              " (6, ['procrastination', 'is', 'the', 'thief', 'of', 'time']),\n",
              " (6, ['responsibility', 'is', 'the', 'price', 'of', 'freedom']),\n",
              " (6, ['i', 'love', 'variety', 'in', 'my', 'life']),\n",
              " (6, ['my', 'sun', 'sets', 'to', 'raise', 'again']),\n",
              " (6, ['who', 'so', 'loves', 'believes', 'the', 'impossible']),\n",
              " (6, ['dakota', 'fanning', 'is', 'my', 'favorite', 'actress']),\n",
              " (6, ['saying', 'nothing', 'sometimes', 'says', 'the', 'most']),\n",
              " (6, ['beauty', 'is', 'not', 'caused', 'it', 'is']),\n",
              " (6, ['where', 'thou', 'art', 'that', 'is', 'home']),\n",
              " (6, ['a', 'wounded', 'deer', 'leaps', 'the', 'highest']),\n",
              " (6, ['ignorance', 'is', 'never', 'better', 'than', 'knowledge']),\n",
              " (6, ['the', 'client', 'is', 'not', 'always', 'right']),\n",
              " (6, ['i', 'didn', 't', 'study;', 'i', 'live']),\n",
              " (6, ['making', 'movies', 'is', 'like', 'herding', 'cats']),\n",
              " (6, ['when', 'humor', 'goes', 'there', 'goes', 'civilization']),\n",
              " (6, ['country', 'music', 'has', 'the', 'great', 'stories']),\n",
              " (6, ['question', 'everything', 'learn', 'something', 'answer', 'nothing']),\n",
              " (6, ['the', 'bold', 'are', 'helpless', 'without', 'cleverness']),\n",
              " (6, ['marriage', 'is', 'not', 'common', 'in', 'sweden']),\n",
              " (6, ['literature', 'is', 'news', 'that', 'stays', 'news']),\n",
              " (6, ['i', 'm', 'a', 'very', 'proud', 'actor']),\n",
              " (6, ['everything', 'has', 'positive', 'and', 'negative', 'consequences']),\n",
              " (6, ['fate', 'is', 'written', 'in', 'the', 'face']),\n",
              " (6, ['i', 'live', 'and', 'die', 'by', 'puns']),\n",
              " (6, ['just', 'to', 'eat', 'is', 'a', 'gift']),\n",
              " (6, ['for', 'knowledge', 'too', 'is', 'itself', 'power']),\n",
              " (6, ['don', 't', 'follow', 'trends', 'start', 'trends']),\n",
              " (6, ['compassion', 'is', 'a', 'two', 'way', 'street']),\n",
              " (6, ['i', 'am', 'fascinated', 'with', 'times', 'past']),\n",
              " (6, ['the', 'best', 'revenge', 'is', 'massive', 'success']),\n",
              " (6, ['i', 'am', 'a', 'thing', 'of', 'beauty']),\n",
              " (6, ['don', 't', 'get', 'even', 'get', 'mad']),\n",
              " (6, ['without', 'deviation', 'progress', 'is', 'not', 'possible']),\n",
              " (6, ['nothing', 'has', 'been', 'given', 'to', 'me']),\n",
              " (6, ['one', 'and', 'god', 'make', 'a', 'majority']),\n",
              " (6, ['freedom', 'and', 'justice', 'are', 'twin', 'sisters']),\n",
              " (6, ['he', 'who', 'excuses', 'himself', 'accuses', 'himself']),\n",
              " (6, ['i', 'curate', 'my', 'tv-watching', 'quite', 'carefully']),\n",
              " (6, ['business', 'is', 'in', 'itself', 'a', 'power']),\n",
              " (6, ['i', 'am', 'always', 'fascinated', 'by', 'india']),\n",
              " (6, ['i', 'm', 'not', 'a', 'sentimental', 'guy']),\n",
              " (6, ['at', 'my', 'age', 'flowers', 'scare', 'me']),\n",
              " (6, ['electricity', 'is', 'really', 'just', 'organized', 'lightning']),\n",
              " (6, ['poetry', 'is', 'a', 'mere', 'drug', 'sir']),\n",
              " (6, ['the', 'big', 'tyrants', 'never', 'face', 'justice']),\n",
              " (6, ['anyone', 'will', 'say', 'anything', 'under', 'torture']),\n",
              " (6, ['a', 'lot', 'of', 'actors', 'flame', 'out']),\n",
              " (6, ['living', 'well', 'is', 'the', 'best', 'revenge']),\n",
              " (6, ['love', 'demands', 'infinitely', 'less', 'than', 'friendship']),\n",
              " (6, ['happiness', 'can', 'exist', 'only', 'in', 'acceptance']),\n",
              " (6, ['vanity', 'is', 'the', 'quicksand', 'of', 'reason']),\n",
              " (6, ['every', 'historian', 'discloses', 'a', 'new', 'horizon']),\n",
              " (6, ['the', 'bible', 'is', 'literature', 'not', 'dogma']),\n",
              " (6, ['audacity', 'more', 'audacity', 'and', 'always', 'audacity']),\n",
              " (6, ['reality', 'tv', 'rots', 'people', 's', 'brains']),\n",
              " (6, ['i', 'm', 'quite', 'dyslexic', 'in', 'school']),\n",
              " (6, ['my', 'mum', 'is', 'actually', 'really', 'wholesome']),\n",
              " (6, ['my', 'parents', 'never', 'really', 'lecture', 'me']),\n",
              " (6, ['president', 'reagan', 's', 'one-liners', 'were', 'terrific']),\n",
              " (6, ['tomorrow', 'is', 'no', 'man', 's', 'gift']),\n",
              " (6, ['wars', 'have', 'always', 'started', 'over', 'religion']),\n",
              " (6, ['i', 'keep', 'reading', 'between', 'the', 'lies']),\n",
              " (6, ['i', 'am', 'a', 'writer', 'of', 'fragments']),\n",
              " (6, ['i', 'don', 't', 'have', 'any', 'style']),\n",
              " (6, ['hope', 'springs', 'eternal', 'even', 'in', 'politics']),\n",
              " (6, ['failure', 'is', 'a', 'part', 'of', 'success']),\n",
              " (6, ['cruelty', 'is', 'contagious', 'in', 'uncivilized', 'communities']),\n",
              " (6, ['never', 'wound', 'a', 'snake;', 'kill', 'it']),\n",
              " (6, ['you', 'll', 'be', 'free', 'or', 'die']),\n",
              " (6, ['i', 'can', 't', 'die', 'but', 'once']),\n",
              " (6, ['a', 'president', 'cannot', 'always', 'be', 'popular']),\n",
              " (6, ['i', 'think', 'writers', 'are', 'very', 'anxious']),\n",
              " (6, ['stardom', 'can', 'be', 'a', 'gilded', 'slavery']),\n",
              " (6, ['when', 'time', 'is', 'spent', 'eternity', 'begins']),\n",
              " (6, ['if', 'youth', 'knew;', 'if', 'age', 'could']),\n",
              " (6, ['diplomacy:', 'the', 'art', 'of', 'restraining', 'power']),\n",
              " (6, ['even', 'a', 'paranoid', 'can', 'have', 'enemies']),\n",
              " (6, ['practical', 'politics', 'consists', 'in', 'ignoring', 'facts']),\n",
              " (6,\n",
              "  ['philosophy:', 'unintelligible', 'answers', 'to', 'insoluble', 'problems']),\n",
              " (6, ['things', 'do', 'not', 'change;', 'we', 'change']),\n",
              " (6, ['the', 'best', 'politics', 'is', 'no', 'politics']),\n",
              " (6, ['there', 'is', 'nothing', 'permanent', 'except', 'change']),\n",
              " (6, ['the', 'sun', 'is', 'new', 'each', 'day']),\n",
              " (6, ['much', 'learning', 'does', 'not', 'teach', 'understanding']),\n",
              " (6, ['all', 'is', 'flux', 'nothing', 'stays', 'still']),\n",
              " (6, ['logic', 'is', 'no', 'answer', 'to', 'passion']),\n",
              " (6, ['simple', 'things', 'don', 't', 'interest', 'me']),\n",
              " (6, ['intuition', 'is', 'reason', 'in', 'a', 'hurry']),\n",
              " (6, ['too', 'much', 'rest', 'becomes', 'a', 'pain']),\n",
              " (6, ['fidelity', 'is', 'the', 'sister', 'of', 'justice']),\n",
              " (6, ['adversity', 'reveals', 'genius', 'prosperity', 'conceals', 'it']),\n",
              " (6, ['whatever', 'advice', 'you', 'give', 'be', 'brief']),\n",
              " (6, ['falsehood', 'is', 'cowardice', 'the', 'truth', 'courage']),\n",
              " (6, ['i', 'have', 'an', 'excellent', 'internal', 'compass']),\n",
              " (6, ['am', 'i', 'athletic', 'in', 'my', 'dreams']),\n",
              " (6, ['nearly', 'all', 'italian', 'officers', 'speak', 'french']),\n",
              " (6, ['buy', 'the', 'ticket', 'take', 'the', 'ride']),\n",
              " (6, ['i', 've', 'always', 'liked', 'new', 'writing']),\n",
              " (6, ['ingratitude', 'is', 'the', 'essence', 'of', 'vileness']),\n",
              " (6, ['my', 'personal', 'style', 'is', 'ever', 'changing']),\n",
              " (6, ['no', 'one', 'can', 'undermine', 'national', 'unity']),\n",
              " (6, ['courage', 'is', 'found', 'in', 'unlikely', 'places']),\n",
              " (6, ['i', 'mean', 'money', 'is', 'a', 'tool']),\n",
              " (6, ['gay', 'nightclubs', 'offer', 'better', 'dance', 'music']),\n",
              " (6, ['justice', 'and', 'goodwill', 'will', 'outlast', 'passion']),\n",
              " (6, ['no', 'lady', 'is', 'ever', 'a', 'gentleman']),\n",
              " (6, ['patriotism', 'is', 'the', 'religion', 'of', 'hell']),\n",
              " (6, ['jokes', 'are', 'very', 'curious', 'things', 'psychologically']),\n",
              " (6, ['i', 'm', 'not', 'really', 'very', 'ambitious']),\n",
              " (6, ['you', 'cannot', 'prepare', 'enough', 'for', 'anything']),\n",
              " (6, ['it', 'is', 'normal', 'to', 'be', 'nervous']),\n",
              " (6, ['when', 'i', 'm', 'pushed', 'i', 'shove']),\n",
              " (6, ['i', 'never', 'finished', 'the', 'ninth', 'grade']),\n",
              " (6, ['mistakes', 'are', 'the', 'portals', 'of', 'discovery']),\n",
              " (6, ['evil', 'societies', 'always', 'kill', 'their', 'consciences']),\n",
              " (6, ['light', 'is', 'the', 'symbol', 'of', 'truth']),\n",
              " (6, ['he', 'who', 'hesitates', 'is', 'sometimes', 'saved']),\n",
              " (6, ['i', 'was', 'born', 'into', 'public', 'service']),\n",
              " (6, ['i', 'am', 'not', 'a', 'sex', 'symbol']),\n",
              " (6, ['i', 'didn', 't', 'like', 'mundane', 'life']),\n",
              " (6, ['wit', 'doesn', 't', 'make', 'girls', 'pretty']),\n",
              " (6, ['i', 'wait', 'for', 'death', 'and', 'journalists']),\n",
              " (6, ['i', 'think', 'i', 'will', 'die', 'laughing']),\n",
              " (6, ['i', 'm', 'not', 'afraid', 'of', 'anything']),\n",
              " (6, ['every', 'actor', 'just', 'wants', 'good', 'writing']),\n",
              " (6, ['you', 'have', 'to', 'believe', 'in', 'yourself']),\n",
              " (6, ['got', 'an', 'issue', 'get', 'a', 'tissue']),\n",
              " (6, ['every', 'generation', 'needs', 'a', 'new', 'revolution']),\n",
              " (6, ['business', 'is', 'the', 'salt', 'of', 'life']),\n",
              " (6, ['life', 'is', 'a', 'work', 'in', 'progress']),\n",
              " (6, ['i', 'get', 'stressed', 'out', 'really', 'easily']),\n",
              " (6, ['i', 'was', 'an', 'emotional', 'basket', 'case']),\n",
              " (6, ['my', 'bedroom', 's', 'like', 'an', 'armoury']),\n",
              " (6, ['when', 'in', 'doubt', 'throw', 'it', 'out']),\n",
              " (6, ['you', 'can', 't', 'argue', 'with', 'stupidity']),\n",
              " (6, ['my', 'favorite', 'dancer', 'is', 'sylvie', 'guillem']),\n",
              " (6, ['being', 'unconscious', 'is', 'the', 'ultimate', 'disability']),\n",
              " (6, ['i', 'am', 'a', 'very', 'hopeful', 'person']),\n",
              " (6, ['i', 'was', 'never', 'a', 'rail-thin', 'person']),\n",
              " (6, ['the', 'flowering', 'of', 'love', 'is', 'meditation']),\n",
              " (6, ['good', 'acting', 'is', 'consistency', 'of', 'performance']),\n",
              " (6, ['hatred', 'is', 'a', 'very', 'underestimated', 'emotion']),\n",
              " (6, ['god', 'is', 'bigger', 'than', 'people', 'think']),\n",
              " (6, ['action', 'is', 'the', 'antidote', 'to', 'despair']),\n",
              " (6, ['i', 've', 'never', 'been', 'an', 'optimist']),\n",
              " (6, ['i', 'm', 'obsessed', 'with', 'leather', 'jackets']),\n",
              " (6, ['we', 'kill', 'time;', 'time', 'buries', 'us']),\n",
              " (6, ['i', 'span', 'the', 'entire', 'geek', 'spectrum']),\n",
              " (6, ['i', 'can', 't', 'sing', 'or', 'dance']),\n",
              " (6, ['war', 'is', 'the', 'science', 'of', 'destruction']),\n",
              " (6, ['leap', 'and', 'the', 'net', 'will', 'appear']),\n",
              " (6, ['you', 'can', 'escape', 'into', 'a', 'character']),\n",
              " (6, ['to', 'me', 'faith', 'means', 'not', 'worrying']),\n",
              " (6, ['being', 'worshipped', 'is', 'a', 'horrible', 'experience']),\n",
              " (6, ['the', 'french', 'cook;', 'we', 'open', 'tins']),\n",
              " (6, ['praising', 'all', 'alike', 'is', 'praising', 'none']),\n",
              " (6, ['war', 'remains', 'the', 'decisive', 'human', 'failure']),\n",
              " (6, ['long', 'quaffing', 'maketh', 'a', 'short', 'life']),\n",
              " (6, ['there', 'is', 'no', 'wealth', 'but', 'life']),\n",
              " (6, ['i', 'just', 'go', 'out', 'and', 'play']),\n",
              " (6, ['be', 'yourself', 'let', 'you', 'come', 'through']),\n",
              " (6, ['good', 'is', 'the', 'enemy', 'of', 'great']),\n",
              " (6, ['the', 'best', 'ideas', 'start', 'as', 'conversations']),\n",
              " (6, ['i', 'think', 'acting', 'is', 'a', 'gift']),\n",
              " (6, ['i', 'am', 'i', 'plus', 'my', 'circumstances']),\n",
              " (6, ['perfection', 'is', 'the', 'child', 'of', 'time']),\n",
              " (6, ['it', 's', 'all', 'about', 'the', 'money']),\n",
              " (6, ['politeness', 'is', 'the', 'flower', 'of', 'humanity']),\n",
              " (6, ['never', 'cut', 'what', 'you', 'can', 'untie']),\n",
              " (6, ['to', 'teach', 'is', 'to', 'learn', 'twice']),\n",
              " (6, ['children', 'need', 'models', 'rather', 'than', 'critics']),\n",
              " (6, ['justice', 'is', 'the', 'truth', 'in', 'action']),\n",
              " (6, ['there', 'is', 'no', 'rank', 'in', 'sacrifice']),\n",
              " (6, ['the', 'universe', 'is', 'a', 'great', 'mystery']),\n",
              " (6, ['behind', 'every', 'cloud', 'is', 'another', 'cloud']),\n",
              " (6, ['i', 'm', 'the', 'original', 'take-orders', 'girl']),\n",
              " (6, ['i', 'love', 'intimacy', 'always', 'of', 'performing']),\n",
              " (6, ['i', 'came', 'i', 'saw', 'i', 'conquered']),\n",
              " (6, ['men', 'willingly', 'believe', 'what', 'they', 'wish']),\n",
              " (6, ['by', 'persuading', 'others', 'we', 'convince', 'ourselves']),\n",
              " (6, ['good', 'servants', 'frequently', 'make', 'good', 'masters']),\n",
              " (6, ['each', 'murder', 'is', 'one', 'too', 'many']),\n",
              " (6, ['no', 'one', 'ever', 'suddenly', 'became', 'depraved']),\n",
              " (6, ['democracy', 'is', 'the', 'road', 'to', 'socialism']),\n",
              " (6, ['revolutions', 'are', 'the', 'locomotives', 'of', 'history']),\n",
              " (6, ['i', 'want', 'to', 'play', 'more', 'festivals']),\n",
              " (6, ['i', 'really', 'like', 'one-on-one', 'rich', 'relationships']),\n",
              " (6, ['i', 'loved', 'scary', 'movies', 'growing', 'up']),\n",
              " (6, ['in', 'fact', 'i', 'm', 'a', 'geek']),\n",
              " (6, ['i', 'enjoy', 'music', 'that', 'is', 'commercial']),\n",
              " (6, ['your', 'friend', 'is', 'your', 'needs', 'answered']),\n",
              " (6, ['i', 'love', 'every', 'kind', 'of', 'music']),\n",
              " (6, ['making', 'beloved', 'was', 'an', 'awesome', 'experience']),\n",
              " (6, ['i', 'm', 'a', 'very', 'private', 'person']),\n",
              " (6, ['i', 'have', 'gone', 'to', 'the', 'forest']),\n",
              " (6, ['god', 'is', 'with', 'those', 'who', 'persevere']),\n",
              " (6, ['the', 'worst', 'crime', 'is', 'faking', 'it']),\n",
              " (6, ['civility', 'costs', 'nothing', 'and', 'buys', 'everything']),\n",
              " (6, ['i', 've', 'always', 'loved', 'a', 'challenge']),\n",
              " (6, ['women', 'love', 'a', 'self-confident', 'bald', 'man']),\n",
              " (6, ['i', 'don', 't', 'wear', 'plaid', 'shirts']),\n",
              " (6, ['i', 'love', 'mixing', 'amateurs', 'and', 'professionals']),\n",
              " (6, ['music', 'is', 'the', 'shorthand', 'of', 'emotion']),\n",
              " (6, ['a', 'well-spent', 'day', 'brings', 'happy', 'sleep']),\n",
              " (6, ['art', 'is', 'never', 'finished', 'only', 'abandoned']),\n",
              " (6, ['forgive', 'those', 'who', 'have', 'hurt', 'you']),\n",
              " (6, ['i', 'can', 'be', 'inappropriate', 'at', 'times']),\n",
              " (6, ['i', 'm', 'a', 'big', 'taco', 'fan']),\n",
              " (6, ['i', 'm', 'not', 'looking', 'for', 'guidance']),\n",
              " (6, ['for', 'fast-acting', 'relief', 'try', 'slowing', 'down']),\n",
              " (6, ['the', 'new', 'national', 'campfire', '-', 'radio']),\n",
              " (6, ['tennis', 'is', 'more', 'commercial', 'these', 'days']),\n",
              " (6, ['immature', 'artists', 'imitate', 'mature', 'artists', 'steal']),\n",
              " (6, ['don', 't', 'peak', 'in', 'high', 'school']),\n",
              " (6, ['fame', 'is', 'the', 'thirst', 'of', 'youth']),\n",
              " (6, ['ready', 'money', 'is', 'aladdin', 's', 'lamp']),\n",
              " (6, ['the', 'national', 'team', 'comes', 'before', 'everything']),\n",
              " (6, ['punctuality', 'is', 'the', 'politeness', 'of', 'kings']),\n",
              " (6, ['thank', 'god', 'i', 'm', 'an', 'atheist']),\n",
              " (6, ['i', 'm', 'always', 'trolling', 'for', 'trivia']),\n",
              " (6, ['same-sex', 'marriage', 'is', 'not', 'the', 'future']),\n",
              " (6, ['i', 'am', 'just', 'an', 'ordinary', 'catholic']),\n",
              " (6, ['i', 'see', 'poetry', 'as', 'spiritual', 'medicine']),\n",
              " (6,\n",
              "  ['america', 'preaches', 'integration', 'and', 'practices', 'segregation']),\n",
              " (6, ['moderation', 'is', 'the', 'secret', 'of', 'survival']),\n",
              " (6, ['the', 'only', 'paradise', 'is', 'paradise', 'lost']),\n",
              " (6, ['i', 'like', 'honesty', 'and', 'fair', 'play']),\n",
              " (6, ['the', 'more', 'laws', 'the', 'less', 'justice']),\n",
              " (6, ['fear', 'is', 'stupid', 'so', 'are', 'regrets']),\n",
              " (6, ['for', 'me', 'my', 'mother', 'is', 'everything']),\n",
              " (6, ['i', 'trust', 'the', 'flow', 'of', 'life']),\n",
              " (6, ['i', 'feel', 'energized', 'walking', 'off', 'stage']),\n",
              " (6, ['without', 'tenderness', 'a', 'man', 'is', 'uninteresting']),\n",
              " (6, ['i', 'am', 'at', 'heart', 'a', 'gentleman']),\n",
              " (6, ['superstitions', 'are', 'habits', 'rather', 'than', 'beliefs']),\n",
              " (6, ['domestic', 'inflation', 'reflects', 'domestic', 'monetary', 'policy']),\n",
              " (6, ['nothing', 'good', 'ever', 'comes', 'of', 'violence']),\n",
              " (6, ['reason', 'is', 'the', 'enemy', 'of', 'faith']),\n",
              " (6, ['i', 'never', 'took', 'any', 'vocal', 'training']),\n",
              " (6, ['jealousy', 'is', 'the', 'grave', 'of', 'affection']),\n",
              " (6, ['truth', 'is', 'immortal;', 'error', 'is', 'mortal']),\n",
              " (6, ['every', 'silver', 'lining', 'has', 'a', 'cloud']),\n",
              " (6, ['left', 'eyebrow', 'raised', 'right', 'eyebrow', 'raised']),\n",
              " (6, ['after', 'a', 'storm', 'comes', 'a', 'calm']),\n",
              " (6, ['saying', 'and', 'doing', 'are', 'two', 'things']),\n",
              " (6, ['the', 'better', 'day', 'the', 'worse', 'deed']),\n",
              " (6, ['paul', 'newman', 'is', 'a', 'sex', 'symbol']),\n",
              " (6, ['i', 'wanted', 'to', 'be', 'a', 'painter']),\n",
              " (6, ['a', 'smile', 'is', 'the', 'universal', 'welcome']),\n",
              " (6, ['nothing', 'will', 'work', 'unless', 'you', 'do']),\n",
              " (6, ['all', 'lives', 'have', 'an', 'equal', 'value']),\n",
              " (6, ['sincerity', 'is', 'the', 'way', 'to', 'heaven']),\n",
              " (6, ['the', 'government', 'never', 'does', 'anything', 'successfully']),\n",
              " (6, ['i', 'distinguish', 'between', 'nationalism', 'and', 'patriotism']),\n",
              " (6, ['i', 'want', 'to', 'make', 'smart', 'television']),\n",
              " (6, ['i', 'am', 'not', 'a', 'player', 'anymore']),\n",
              " (6, ['choose', 'people', 'who', 'lift', 'you', 'up']),\n",
              " (6, ['anything', 'worth', 'doing', 'is', 'worth', 'overdoing']),\n",
              " (6, ['i', 'can', 't', 'get', 'no', 'satisfaction']),\n",
              " (6, ['be', 'skeptical', 'but', 'learn', 'to', 'listen']),\n",
              " (6, ['absence', 'that', 'common', 'cure', 'of', 'love']),\n",
              " (6, ['governments', 'never', 'learn', 'only', 'people', 'learn']),\n",
              " (6, ['democracy', 'is', 'not', 'an', 'instant', 'coffee']),\n",
              " (6, ['words', 'without', 'power', 'is', 'mere', 'philosophy']),\n",
              " ...]"
            ]
          },
          "metadata": {
            "tags": []
          },
          "execution_count": 5
        }
>>>>>>> 48f10e9713f8d6a020034ec049f2428edf950c85
      ]
     },
     "metadata": {
      "needs_background": "light",
      "tags": []
     },
     "output_type": "display_data"
    }
   ],
   "source": [
    "plt.hist(list(map(len, lines)), bins=100);"
   ]
  },
  {
   "cell_type": "code",
   "execution_count": null,
   "metadata": {
    "id": "vEOQANjdhfc2",
    "outputId": "463340ed-204e-49ff-c019-2347b4951ecf"
   },
   "outputs": [
    {
<<<<<<< HEAD
     "data": {
      "image/png": "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\n",
      "text/plain": [
       "<Figure size 432x288 with 1 Axes>"
      ]
     },
     "metadata": {
      "needs_background": "light",
      "tags": []
     },
     "output_type": "display_data"
    }
   ],
   "source": [
    "plt.hist(list(map(lambda x: len(x.split()), lines)), bins=100);"
   ]
  },
  {
   "cell_type": "code",
   "execution_count": null,
   "metadata": {
    "id": "416O5wF6hfc3"
   },
   "outputs": [],
   "source": [
    "line = lines[0]"
   ]
  },
  {
   "cell_type": "code",
   "execution_count": null,
   "metadata": {
    "id": "inpl9K2rhfc3",
    "outputId": "6b0c4f98-3b1a-4529-c330-d86db6e6d9c7"
   },
   "outputs": [
    {
     "data": {
      "text/plain": [
       "'A. A. Milne'"
=======
      "cell_type": "code",
      "metadata": {
        "colab": {
          "base_uri": "https://localhost:8080/",
          "height": 265
        },
        "id": "eWuZ9u_Ohfc2",
        "outputId": "9be532cc-9220-4a75-a695-0145411d8705"
      },
      "source": [
        "plt.hist(list(map(len, lines)), bins=100);"
      ],
      "execution_count": 6,
      "outputs": [
        {
          "output_type": "display_data",
          "data": {
            "image/png": "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\n",
            "text/plain": [
              "<Figure size 432x288 with 1 Axes>"
            ]
          },
          "metadata": {
            "tags": [],
            "needs_background": "light"
          }
        }
>>>>>>> 48f10e9713f8d6a020034ec049f2428edf950c85
      ]
     },
     "execution_count": 72,
     "metadata": {
      "tags": []
     },
     "output_type": "execute_result"
    }
   ],
   "source": [
    "line"
   ]
  },
  {
   "cell_type": "code",
   "execution_count": null,
   "metadata": {
    "id": "jiqpDqINhfc3"
   },
   "outputs": [],
   "source": [
    "# lines = list(\n",
    "#     filter(lambda x: len(x.split()) <= 50,\n",
    "#            lines)\n",
    "# )"
   ]
  },
  {
   "cell_type": "code",
   "execution_count": 24,
   "metadata": {
    "colab": {
     "base_uri": "https://localhost:8080/"
    },
    "id": "44I7THxRhfc4",
    "outputId": "1225b999-e2e0-4e9f-9bea-f74041b6eb95"
   },
   "outputs": [
    {
<<<<<<< HEAD
     "data": {
      "text/plain": [
       "<torch._C.Generator at 0x7f6f75926750>"
=======
      "cell_type": "code",
      "metadata": {
        "id": "416O5wF6hfc3"
      },
      "source": [
        "line = lines[0]"
      ],
      "execution_count": 12,
      "outputs": []
    },
    {
      "cell_type": "code",
      "metadata": {
        "id": "inpl9K2rhfc3",
        "colab": {
          "base_uri": "https://localhost:8080/"
        },
        "outputId": "572aacee-20e0-4666-a9b4-17a9bf8b7523"
      },
      "source": [
        "line"
      ],
      "execution_count": 13,
      "outputs": [
        {
          "output_type": "execute_result",
          "data": {
            "text/plain": [
              "['if',\n",
              " 'you',\n",
              " 'live',\n",
              " 'to',\n",
              " 'be',\n",
              " 'a',\n",
              " 'hundred',\n",
              " 'i',\n",
              " 'want',\n",
              " 'to',\n",
              " 'live',\n",
              " 'to',\n",
              " 'be',\n",
              " 'a',\n",
              " 'hundred',\n",
              " 'minus',\n",
              " 'one',\n",
              " 'day',\n",
              " 'so',\n",
              " 'i',\n",
              " 'never',\n",
              " 'have',\n",
              " 'to',\n",
              " 'live',\n",
              " 'without',\n",
              " 'you']"
            ]
          },
          "metadata": {
            "tags": []
          },
          "execution_count": 13
        }
>>>>>>> 48f10e9713f8d6a020034ec049f2428edf950c85
      ]
     },
     "execution_count": 24,
     "metadata": {
      "tags": []
     },
     "output_type": "execute_result"
    }
   ],
   "source": [
    "np.random.seed(777)\n",
    "torch.manual_seed(777)"
   ]
  },
  {
   "cell_type": "code",
   "execution_count": 25,
   "metadata": {
    "id": "WeeFk6WOhfc4"
   },
   "outputs": [],
   "source": [
    "class Vocabulary:\n",
    "    def __init__(self, sentences):\n",
    "        all_characters = set()\n",
    "        for line in sentences:\n",
    "            all_characters |= set(line)\n",
    "        all_characters = list(sorted(all_characters))+['<eos>', '<go>']\n",
    "        self.char_to_id = {\n",
    "            x[1]:x[0]\n",
    "            for x in enumerate(all_characters)\n",
    "        }\n",
    "        self.id_to_char = {\n",
    "            x[0]:x[1]\n",
    "            for x in enumerate(all_characters)\n",
    "        }\n",
    "        self.size = len(all_characters)\n",
    "\n",
    "    def encode(self, line):\n",
    "        return [self.char_to_id[x] for x in line]\n",
    "    \n",
    "    def decode(self, tokens):\n",
    "        return ' '.join([self.id_to_char[x] for x in tokens])"
   ]
  },
  {
   "cell_type": "code",
   "execution_count": 36,
   "metadata": {
    "id": "4HSyA1vqhfc5"
   },
   "outputs": [],
   "source": [
    "vocab = Vocabulary(lines)"
   ]
  },
  {
   "cell_type": "code",
   "execution_count": 31,
   "metadata": {
    "colab": {
     "base_uri": "https://localhost:8080/"
    },
    "id": "vOZ9OePjkNKC",
    "outputId": "73a5ded5-8ffe-4dae-bad9-776e71ec7719"
   },
   "outputs": [
    {
<<<<<<< HEAD
     "data": {
      "text/plain": [
       "39269"
=======
      "cell_type": "code",
      "metadata": {
        "id": "jiqpDqINhfc3"
      },
      "source": [
        "# lines = list(\n",
        "#     filter(lambda x: len(x.split()) <= 50,\n",
        "#            lines)\n",
        "# )"
      ],
      "execution_count": null,
      "outputs": []
    },
    {
      "cell_type": "code",
      "metadata": {
        "colab": {
          "base_uri": "https://localhost:8080/"
        },
        "id": "44I7THxRhfc4",
        "outputId": "26de7b42-1c2a-429f-8e3d-47f62dcf5ffb"
      },
      "source": [
        "np.random.seed(777)\n",
        "torch.manual_seed(777)"
      ],
      "execution_count": 14,
      "outputs": [
        {
          "output_type": "execute_result",
          "data": {
            "text/plain": [
              "<torch._C.Generator at 0x7f89734cb8f0>"
            ]
          },
          "metadata": {
            "tags": []
          },
          "execution_count": 14
        }
>>>>>>> 48f10e9713f8d6a020034ec049f2428edf950c85
      ]
     },
     "execution_count": 31,
     "metadata": {
      "tags": []
     },
     "output_type": "execute_result"
    }
   ],
   "source": [
    "len(lines)"
   ]
  },
  {
   "cell_type": "code",
   "execution_count": 37,
   "metadata": {
    "colab": {
     "base_uri": "https://localhost:8080/"
    },
    "id": "0w5nUzP7kIfh",
    "outputId": "090a7760-7fb6-43e4-d834-799a3067d0fa"
   },
   "outputs": [
    {
<<<<<<< HEAD
     "data": {
      "text/plain": [
       "32063"
=======
      "cell_type": "code",
      "metadata": {
        "id": "WeeFk6WOhfc4"
      },
      "source": [
        "class Vocabulary:\n",
        "    def __init__(self, sentences):\n",
        "        all_characters = set()\n",
        "        for line in sentences:\n",
        "            all_characters |= set(line)\n",
        "        all_characters = list(sorted(all_characters))+['<eos>', '<go>']\n",
        "        self.char_to_id = {\n",
        "            x[1]:x[0]\n",
        "            for x in enumerate(all_characters)\n",
        "        }\n",
        "        self.id_to_char = {\n",
        "            x[0]:x[1]\n",
        "            for x in enumerate(all_characters)\n",
        "        }\n",
        "        self.size = len(all_characters)\n",
        "\n",
        "    def encode(self, line):\n",
        "        return [self.char_to_id[x] for x in line]\n",
        "    \n",
        "    def decode(self, tokens):\n",
        "        return ' '.join([self.id_to_char[x] for x in tokens])"
      ],
      "execution_count": 15,
      "outputs": []
    },
    {
      "cell_type": "code",
      "metadata": {
        "id": "4HSyA1vqhfc5"
      },
      "source": [
        "vocab = Vocabulary(lines)"
      ],
      "execution_count": 16,
      "outputs": []
    },
    {
      "cell_type": "code",
      "metadata": {
        "colab": {
          "base_uri": "https://localhost:8080/"
        },
        "id": "vOZ9OePjkNKC",
        "outputId": "2cb4a1ba-9b61-4c53-859c-d690564dc1dc"
      },
      "source": [
        "len(lines)"
      ],
      "execution_count": 17,
      "outputs": [
        {
          "output_type": "execute_result",
          "data": {
            "text/plain": [
              "39269"
            ]
          },
          "metadata": {
            "tags": []
          },
          "execution_count": 17
        }
>>>>>>> 48f10e9713f8d6a020034ec049f2428edf950c85
      ]
     },
     "execution_count": 37,
     "metadata": {
      "tags": []
     },
     "output_type": "execute_result"
    }
   ],
   "source": [
    "len(vocab.char_to_id)"
   ]
  },
  {
   "cell_type": "code",
   "execution_count": 28,
   "metadata": {
    "colab": {
     "base_uri": "https://localhost:8080/"
    },
    "id": "BCbW1HA2kCj9",
    "outputId": "cd37925f-4dae-490d-c32f-947d5335ba8e"
   },
   "outputs": [
    {
<<<<<<< HEAD
     "data": {
      "text/plain": [
       "['if',\n",
       " 'you',\n",
       " 'live',\n",
       " 'to',\n",
       " 'be',\n",
       " 'a',\n",
       " 'hundred',\n",
       " 'i',\n",
       " 'want',\n",
       " 'to',\n",
       " 'live',\n",
       " 'to',\n",
       " 'be',\n",
       " 'a',\n",
       " 'hundred',\n",
       " 'minus',\n",
       " 'one',\n",
       " 'day',\n",
       " 'so',\n",
       " 'i',\n",
       " 'never',\n",
       " 'have',\n",
       " 'to',\n",
       " 'live',\n",
       " 'without',\n",
       " 'you']"
=======
      "cell_type": "code",
      "metadata": {
        "colab": {
          "base_uri": "https://localhost:8080/"
        },
        "id": "0w5nUzP7kIfh",
        "outputId": "19042b41-f813-462b-eabc-0062518c13ec"
      },
      "source": [
        "len(vocab.char_to_id)"
      ],
      "execution_count": 18,
      "outputs": [
        {
          "output_type": "execute_result",
          "data": {
            "text/plain": [
              "32063"
            ]
          },
          "metadata": {
            "tags": []
          },
          "execution_count": 18
        }
>>>>>>> 48f10e9713f8d6a020034ec049f2428edf950c85
      ]
     },
     "execution_count": 28,
     "metadata": {
      "tags": []
     },
     "output_type": "execute_result"
    }
   ],
   "source": [
    "lines[0]"
   ]
  },
  {
   "cell_type": "code",
   "execution_count": 29,
   "metadata": {
    "colab": {
     "base_uri": "https://localhost:8080/",
     "height": 35
    },
    "id": "kCUqBDNIkEFt",
    "outputId": "a96f2926-f5ec-4827-b091-423848f48700"
   },
   "outputs": [
    {
<<<<<<< HEAD
     "data": {
      "application/vnd.google.colaboratory.intrinsic+json": {
       "type": "string"
      },
      "text/plain": [
       "'if you live to be a hundred i want to live to be a hundred minus one day so i never have to live without you'"
=======
      "cell_type": "code",
      "metadata": {
        "colab": {
          "base_uri": "https://localhost:8080/"
        },
        "id": "BCbW1HA2kCj9",
        "outputId": "b5f3a76f-a689-43fa-f4da-53c126055f31"
      },
      "source": [
        "lines[0]"
      ],
      "execution_count": 19,
      "outputs": [
        {
          "output_type": "execute_result",
          "data": {
            "text/plain": [
              "['if',\n",
              " 'you',\n",
              " 'live',\n",
              " 'to',\n",
              " 'be',\n",
              " 'a',\n",
              " 'hundred',\n",
              " 'i',\n",
              " 'want',\n",
              " 'to',\n",
              " 'live',\n",
              " 'to',\n",
              " 'be',\n",
              " 'a',\n",
              " 'hundred',\n",
              " 'minus',\n",
              " 'one',\n",
              " 'day',\n",
              " 'so',\n",
              " 'i',\n",
              " 'never',\n",
              " 'have',\n",
              " 'to',\n",
              " 'live',\n",
              " 'without',\n",
              " 'you']"
            ]
          },
          "metadata": {
            "tags": []
          },
          "execution_count": 19
        }
>>>>>>> 48f10e9713f8d6a020034ec049f2428edf950c85
      ]
     },
     "execution_count": 29,
     "metadata": {
      "tags": []
     },
     "output_type": "execute_result"
    }
   ],
   "source": [
    "vocab.decode(vocab.encode(lines[0]))"
   ]
  },
  {
   "cell_type": "code",
   "execution_count": 27,
   "metadata": {
    "colab": {
     "base_uri": "https://localhost:8080/",
     "height": 169
    },
    "id": "Yq-pBffshfc5",
    "outputId": "d85fc93c-a0fd-4a4c-c895-1ee006d8e542"
   },
   "outputs": [
    {
<<<<<<< HEAD
     "ename": "AssertionError",
     "evalue": "ignored",
     "output_type": "error",
     "traceback": [
      "\u001b[0;31m---------------------------------------------------------------------------\u001b[0m",
      "\u001b[0;31mAssertionError\u001b[0m                            Traceback (most recent call last)",
      "\u001b[0;32m<ipython-input-27-8cf03c332a18>\u001b[0m in \u001b[0;36m<module>\u001b[0;34m()\u001b[0m\n\u001b[0;32m----> 1\u001b[0;31m \u001b[0;32massert\u001b[0m \u001b[0mvocab\u001b[0m\u001b[0;34m.\u001b[0m\u001b[0mdecode\u001b[0m\u001b[0;34m(\u001b[0m\u001b[0mvocab\u001b[0m\u001b[0;34m.\u001b[0m\u001b[0mencode\u001b[0m\u001b[0;34m(\u001b[0m\u001b[0mlines\u001b[0m\u001b[0;34m[\u001b[0m\u001b[0;36m0\u001b[0m\u001b[0;34m]\u001b[0m\u001b[0;34m)\u001b[0m\u001b[0;34m)\u001b[0m \u001b[0;34m==\u001b[0m \u001b[0mlines\u001b[0m\u001b[0;34m[\u001b[0m\u001b[0;36m0\u001b[0m\u001b[0;34m]\u001b[0m\u001b[0;34m\u001b[0m\u001b[0;34m\u001b[0m\u001b[0m\n\u001b[0m",
      "\u001b[0;31mAssertionError\u001b[0m: "
     ]
    }
   ],
   "source": [
    "assert vocab.decode(vocab.encode(lines[0])) == lines[0]"
   ]
  },
  {
   "cell_type": "code",
   "execution_count": 38,
   "metadata": {
    "id": "pWacd3YHhfc5"
   },
   "outputs": [],
   "source": [
    "class Quotes(Dataset):\n",
    "    def __init__(self, sentences, vocab):\n",
    "        # Construct vocabulary + EOS & GO tokens\n",
    "        self.sentences = sentences\n",
    "        self.vocab = vocab\n",
    "        self.go = self.vocab.char_to_id['<go>']\n",
    "        self.eos = self.vocab.char_to_id['<eos>']\n",
    "\n",
    "    def __len__(self):\n",
    "        return len(self.sentences)\n",
    "\n",
    "    def __getitem__(self, idx):\n",
    "        tokens = self.vocab.encode(self.sentences[idx])\n",
    "        _input = np.array([self.go]+tokens)\n",
    "        _output = np.array(tokens+[self.eos])\n",
    "        return _input, _output"
   ]
  },
  {
   "cell_type": "code",
   "execution_count": 42,
   "metadata": {
    "id": "juPjK7vohfc6"
   },
   "outputs": [],
   "source": [
    "def compose_batch(batch):\n",
    "    lengths = np.array([len(x[0]) for x in batch])\n",
    "    order = np.argsort(-lengths)\n",
    "    go = torch.zeros(len(batch), lengths[order[0]]).long()\n",
    "    eos = torch.zeros(len(batch), lengths[order[0]]).long()\n",
    "    mask = torch.zeros(len(batch), lengths[order[0]]).long()\n",
    "    for i in range(len(batch)):\n",
    "        current_go, current_eos = batch[i]\n",
    "        go[i, :len(current_go)] = torch.tensor(current_go)\n",
    "        eos[i, :len(current_eos)] = torch.tensor(current_eos)\n",
    "        mask[i, :len(current_go)] = 1\n",
    "    mask = mask[order]\n",
    "    go = go[order]\n",
    "    eos = eos[order]\n",
    "    lengths = lengths[order]\n",
    "    return go, eos, mask, lengths"
   ]
  },
  {
   "cell_type": "code",
   "execution_count": 40,
   "metadata": {
    "id": "pH0miGT7hfc7"
   },
   "outputs": [],
   "source": [
    "dataset = Quotes(lines, vocab)"
   ]
  },
  {
   "cell_type": "code",
   "execution_count": 41,
   "metadata": {
    "id": "OX3bpNi4hfc7"
   },
   "outputs": [],
   "source": [
    "dataloader = DataLoader(\n",
    "    dataset, shuffle=True,\n",
    "    batch_size=128,\n",
    "    collate_fn=compose_batch)"
   ]
  },
  {
   "cell_type": "code",
   "execution_count": 87,
   "metadata": {
    "colab": {
     "base_uri": "https://localhost:8080/",
     "height": 67,
     "referenced_widgets": [
      "beb97a7c865e470997b1137024a510e9",
      "4c06422c8f984942b9d6ddaca766c6e9",
      "3b2e12cc48724554ac77491979968dc8",
      "f2b323ef13cb409c8ca2a408cbc249a9",
      "5533c3f38bb74242bc0b744ac93d0d19",
      "69fd8805e7de4b5fb461d4af22dfccfa",
      "01542bfb382c48dfa0a25c3b19510fca",
      "b6b2c3e2115045c7829f258a935e8797"
     ]
=======
      "cell_type": "code",
      "metadata": {
        "colab": {
          "base_uri": "https://localhost:8080/",
          "height": 35
        },
        "id": "kCUqBDNIkEFt",
        "outputId": "55e4a734-91b6-4509-9230-67d621ef4114"
      },
      "source": [
        "vocab.decode(vocab.encode(lines[0]))"
      ],
      "execution_count": 20,
      "outputs": [
        {
          "output_type": "execute_result",
          "data": {
            "application/vnd.google.colaboratory.intrinsic+json": {
              "type": "string"
            },
            "text/plain": [
              "'if you live to be a hundred i want to live to be a hundred minus one day so i never have to live without you'"
            ]
          },
          "metadata": {
            "tags": []
          },
          "execution_count": 20
        }
      ]
>>>>>>> 48f10e9713f8d6a020034ec049f2428edf950c85
    },
    "id": "22ctPHeNpNf_",
    "outputId": "0fb3d236-de00-40ab-e663-6a325a86a13b"
   },
   "outputs": [
    {
<<<<<<< HEAD
     "data": {
      "application/vnd.jupyter.widget-view+json": {
       "model_id": "beb97a7c865e470997b1137024a510e9",
       "version_major": 2,
       "version_minor": 0
      },
      "text/plain": [
       "HBox(children=(FloatProgress(value=0.0, max=32063.0), HTML(value='')))"
      ]
     },
     "metadata": {
      "tags": []
     },
     "output_type": "display_data"
    },
    {
     "name": "stdout",
     "output_type": "stream",
     "text": [
      "\n"
     ]
    }
   ],
   "source": [
    "import gensim.downloader\n",
    "\n",
    "#w2v = gensim.downloader.load('word2vec-google-news-300')\n",
    "w2v = gensim.downloader.load('glove-twitter-25')\n",
    "\n",
    "matrix = []\n",
    "for w_id in tqdm(range(len(vocab.id_to_char))):\n",
    "     word = vocab.id_to_char[w_id]\n",
    "     if word not in w2v:\n",
    "       emb = w2v[\"_\"]\n",
    "     else:\n",
    "       emb = w2v[word]\n",
    "\n",
    "     matrix.append(emb)"
   ]
  },
  {
   "cell_type": "code",
   "execution_count": 85,
   "metadata": {
    "colab": {
     "base_uri": "https://localhost:8080/"
=======
      "cell_type": "code",
      "metadata": {
        "id": "Yq-pBffshfc5"
      },
      "source": [
        "assert vocab.decode(vocab.encode(lines[0])) == ' '.join(lines[0])"
      ],
      "execution_count": 25,
      "outputs": []
    },
    {
      "cell_type": "code",
      "metadata": {
        "id": "pWacd3YHhfc5"
      },
      "source": [
        "class Quotes(Dataset):\n",
        "    def __init__(self, sentences, vocab):\n",
        "        # Construct vocabulary + EOS & GO tokens\n",
        "        self.sentences = sentences\n",
        "        self.vocab = vocab\n",
        "        self.go = self.vocab.char_to_id['<go>']\n",
        "        self.eos = self.vocab.char_to_id['<eos>']\n",
        "\n",
        "    def __len__(self):\n",
        "        return len(self.sentences)\n",
        "\n",
        "    def __getitem__(self, idx):\n",
        "        tokens = self.vocab.encode(self.sentences[idx])\n",
        "        _input = np.array([self.go]+tokens)\n",
        "        _output = np.array(tokens+[self.eos])\n",
        "        return _input, _output"
      ],
      "execution_count": 26,
      "outputs": []
    },
    {
      "cell_type": "code",
      "metadata": {
        "id": "juPjK7vohfc6"
      },
      "source": [
        "def compose_batch(batch):\n",
        "    lengths = np.array([len(x[0]) for x in batch])\n",
        "    order = np.argsort(-lengths)\n",
        "    go = torch.zeros(len(batch), lengths[order[0]]).long()\n",
        "    eos = torch.zeros(len(batch), lengths[order[0]]).long()\n",
        "    mask = torch.zeros(len(batch), lengths[order[0]]).long()\n",
        "    for i in range(len(batch)):\n",
        "        current_go, current_eos = batch[i]\n",
        "        go[i, :len(current_go)] = torch.tensor(current_go)\n",
        "        eos[i, :len(current_eos)] = torch.tensor(current_eos)\n",
        "        mask[i, :len(current_go)] = 1\n",
        "    mask = mask[order]\n",
        "    go = go[order]\n",
        "    eos = eos[order]\n",
        "    lengths = lengths[order]\n",
        "    return go, eos, mask, lengths"
      ],
      "execution_count": 27,
      "outputs": []
    },
    {
      "cell_type": "code",
      "metadata": {
        "id": "pH0miGT7hfc7"
      },
      "source": [
        "dataset = Quotes(lines, vocab)"
      ],
      "execution_count": 28,
      "outputs": []
    },
    {
      "cell_type": "code",
      "metadata": {
        "id": "OX3bpNi4hfc7"
      },
      "source": [
        "dataloader = DataLoader(\n",
        "    dataset, shuffle=True,\n",
        "    batch_size=128,\n",
        "    collate_fn=compose_batch)"
      ],
      "execution_count": 29,
      "outputs": []
>>>>>>> 48f10e9713f8d6a020034ec049f2428edf950c85
    },
    "id": "V9Sbwwias_JA",
    "outputId": "baa89471-31d5-4ad7-dcc3-545bc71bf988"
   },
   "outputs": [
    {
<<<<<<< HEAD
     "data": {
      "text/plain": [
       "[('too', 0.9648016095161438),\n",
       " ('day', 0.9533665180206299),\n",
       " ('well', 0.9503172039985657),\n",
       " ('nice', 0.9438973069190979),\n",
       " ('better', 0.9425961375236511),\n",
       " ('fun', 0.9418926239013672),\n",
       " ('much', 0.9413353204727173),\n",
       " ('this', 0.9387556314468384),\n",
       " ('hope', 0.9383507370948792),\n",
       " ('great', 0.9378515481948853)]"
=======
      "cell_type": "code",
      "metadata": {
        "colab": {
          "base_uri": "https://localhost:8080/",
          "height": 82,
          "referenced_widgets": [
            "1c75408f7c5340459bee9e4a4a5a1505",
            "a7f18bb2ed894c8c8d90f3a37f00cc0a",
            "0c04317ae9ca4542b4f8551e4144c516",
            "df9a2b136ea34dfa8d513037168276de",
            "f7a10ce5c6694fdb8ddacb5f87f98caa",
            "48d3ddd08b5e4da681570909b1691c4a",
            "4c5b85d65b144a8283348397580dbe0c",
            "3137d270213f4f56ae761032524adba2"
          ]
        },
        "id": "22ctPHeNpNf_",
        "outputId": "fb3c624c-5d80-46a1-fc7b-df0a2214998e"
      },
      "source": [
        "import gensim.downloader\n",
        "\n",
        "#w2v = gensim.downloader.load('word2vec-google-news-300')\n",
        "w2v = gensim.downloader.load('glove-twitter-25')\n",
        "\n",
        "matrix = []\n",
        "for w_id in tqdm(range(len(vocab.id_to_char))):\n",
        "     word = vocab.id_to_char[w_id]\n",
        "     if word not in w2v:\n",
        "       emb = w2v[\"_\"]\n",
        "     else:\n",
        "       emb = w2v[word]\n",
        "\n",
        "     matrix.append(emb)"
      ],
      "execution_count": 30,
      "outputs": [
        {
          "output_type": "stream",
          "text": [
            "[==================================================] 100.0% 104.8/104.8MB downloaded\n"
          ],
          "name": "stdout"
        },
        {
          "output_type": "display_data",
          "data": {
            "application/vnd.jupyter.widget-view+json": {
              "model_id": "1c75408f7c5340459bee9e4a4a5a1505",
              "version_minor": 0,
              "version_major": 2
            },
            "text/plain": [
              "HBox(children=(FloatProgress(value=0.0, max=32063.0), HTML(value='')))"
            ]
          },
          "metadata": {
            "tags": []
          }
        },
        {
          "output_type": "stream",
          "text": [
            "\n"
          ],
          "name": "stdout"
        }
>>>>>>> 48f10e9713f8d6a020034ec049f2428edf950c85
      ]
     },
     "execution_count": 85,
     "metadata": {
      "tags": []
     },
     "output_type": "execute_result"
    }
   ],
   "source": [
    "w2v.most_similar(\"good\")"
   ]
  },
  {
   "cell_type": "markdown",
   "metadata": {
    "id": "E0Bo-Qtkhfc7"
   },
   "source": [
    "### Часть 2: определение модели"
   ]
  },
  {
   "cell_type": "code",
   "execution_count": 101,
   "metadata": {
    "id": "8l-geiuyhfc8"
   },
   "outputs": [],
   "source": [
    "class Oracle(nn.Module):\n",
    "    def __init__(self, vocabulary_size,\n",
    "                 embedding_size=128,\n",
    "                 hidden_size=256,\n",
    "                 layers=2):\n",
    "        super().__init__()\n",
    "\n",
    "        self.embedding_size = embedding_size\n",
    "        self.layers = layers\n",
    "        self.hidden_size = hidden_size\n",
    "        self.embedding = nn.Embedding(\n",
    "            vocabulary_size, embedding_size\n",
    "        )\n",
    "        self.generator = nn.GRU(\n",
    "            embedding_size, hidden_size,\n",
    "            layers, batch_first=False\n",
    "        )\n",
    "        self.classifier = nn.Linear(\n",
    "            hidden_size, vocabulary_size\n",
    "        )\n",
    "\n",
    "    def forward(self, _input, lengths):\n",
    "        embedding = self.embedding(_input).transpose(0, 1)\n",
    "        embedding = nn.utils.rnn.pack_padded_sequence(\n",
    "            embedding, lengths\n",
    "        )\n",
    "        output, _ = self.generator(embedding)\n",
    "        output, _ = nn.utils.rnn.pad_packed_sequence(output)\n",
    "        classes = self.classifier(output)\n",
    "        return classes\n",
    "\n",
    "    def generate(self, vocab, max_len=100):\n",
    "        h = torch.zeros(self.layers, 1, self.hidden_size)\n",
    "        current_token = '<go>'\n",
    "        line = ''\n",
    "        while (current_token != '<eos>') and \\\n",
    "                len(line) < max_len:\n",
    "            token = torch.tensor([[vocab.char_to_id[current_token]]]).long()\n",
    "            token_id = token.detach()\n",
    "            embedding = self.embedding(token_id)\n",
    "            output, (h) = self.generator(embedding, (h))\n",
    "            classes = self.classifier(output[0])\n",
    "            classes_probs = nn.Softmax()(classes)\n",
    "            sampler = torch.distributions.Categorical(classes_probs[0])\n",
    "            new_token_id = sampler.sample().data.numpy().item()\n",
    "            current_token = vocab.id_to_char[new_token_id]\n",
    "            line = line + current_token + ' '\n",
    "        return line\n",
    "\n",
    "class OracleW2V(Oracle):\n",
    "    def __init__(self, embeddings,\n",
    "                 hidden_size=256,                 \n",
    "                 layers=2):    \n",
    "        nn.Module.__init__(self)\n",
    "\n",
    "        embedding_size = embeddings.shape[1]\n",
    "        vocabulary_size = embeddings.shape[0]\n",
    "\n",
    "        self.embedding_size = embedding_size\n",
    "        self.layers = layers\n",
    "        self.hidden_size = hidden_size\n",
    "\n",
    "        self.embedding = nn.Embedding.from_pretrained(torch.from_numpy(embeddings))\n",
    "        for param in self.embedding.parameters():\n",
    "            param.requires_grad = False\n",
    "\n",
    "        self.generator = nn.GRU(\n",
    "            embedding_size, hidden_size,\n",
    "            layers, batch_first=False\n",
    "        )\n",
    "\n",
    "        self.project = nn.Linear(\n",
    "            hidden_size, embedding_size\n",
    "        )     \n",
    "\n",
    "        self.classify = nn.Linear(\n",
    "            embedding_size, vocabulary_size\n",
    "        )\n",
    "\n",
    "        self.classifier = nn.Sequential(self.project, self.classify)\n",
    "\n",
    "        with torch.no_grad():\n",
    "            self.classify.weight.copy_(torch.from_numpy(embeddings))\n",
    "        self.classify.weight.requires_grad = False"
   ]
  },
  {
   "cell_type": "code",
   "execution_count": 102,
   "metadata": {
    "id": "phHq6bbRspT-"
   },
   "outputs": [],
   "source": [
    "oracle = OracleW2V(np.array(matrix), hidden_size=64)"
   ]
  },
  {
   "cell_type": "code",
   "execution_count": 66,
   "metadata": {
    "id": "MPZUmoSxhfc9"
   },
   "outputs": [],
   "source": [
    "oracle = Oracle(vocab.size,\n",
    "                embedding_size=32,\n",
    "                hidden_size=64, layers=2)"
   ]
  },
  {
   "cell_type": "markdown",
   "metadata": {
    "id": "6kt8tPsNhfc9"
   },
   "source": [
    "### Часть 3: обучение модели"
   ]
  },
  {
   "cell_type": "code",
   "execution_count": 103,
   "metadata": {
    "id": "ZxkGMKrNhfc-"
   },
   "outputs": [],
   "source": [
    "#optimizer = torch.optim.RMSprop(\n",
    "#    oracle.parameters(), lr=0.001, weight_decay=1e-5\n",
    "#)\n",
    "\n",
    "optimizer = torch.optim.AdamW(oracle.parameters(), lr=0.01)"
   ]
  },
  {
   "cell_type": "code",
   "execution_count": 104,
   "metadata": {
    "id": "E_G61Zdyhfc-"
   },
   "outputs": [],
   "source": [
    "criterion = nn.CrossEntropyLoss(reduction='none')"
   ]
  },
  {
   "cell_type": "code",
   "execution_count": 105,
   "metadata": {
    "id": "yuGPjpqehfc-"
   },
   "outputs": [],
   "source": [
    "losses = []"
   ]
  },
  {
   "cell_type": "code",
   "execution_count": 106,
   "metadata": {
    "id": "Y_uOqO0Ehfc-"
   },
   "outputs": [],
   "source": [
    "def moving_average(a, n=20) :\n",
    "    ret = np.cumsum(a, dtype=float)\n",
    "    ret[n:] = ret[n:] - ret[:-n]\n",
    "    return ret[n - 1:] / n"
   ]
  },
  {
   "cell_type": "code",
   "execution_count": 110,
   "metadata": {
    "colab": {
     "base_uri": "https://localhost:8080/",
     "height": 297,
     "referenced_widgets": [
      "bafdca8e81124bfcbba545d813eae306",
      "c033eebf2c0d4623b44ce524f96b5ce1",
      "eaac7fbdd9bc4e5ab5c25a26b3ebaa23",
      "258a05f9021b4131877e249de555c7ff",
      "7f70c749041743f1bb33329fb77c9dcc",
      "e738657ee58747bf9735f78de6e9143c",
      "64331a3cce344371947d7219d55dd083",
      "8757baea49174059b34b3683fc34eec7"
     ]
    },
    "id": "vPs3VM5vhfc_",
    "outputId": "fe588167-404b-4ec4-edb3-5bd406fea5f8",
    "scrolled": false
   },
   "outputs": [
    {
<<<<<<< HEAD
     "data": {
      "image/png": "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\n",
      "text/plain": [
       "<Figure size 432x288 with 1 Axes>"
=======
      "cell_type": "code",
      "metadata": {
        "colab": {
          "base_uri": "https://localhost:8080/"
        },
        "id": "V9Sbwwias_JA",
        "outputId": "d3d18fc8-a02e-4efa-bbe6-effb22f364f2"
      },
      "source": [
        "w2v.most_similar(\"cat\")"
      ],
      "execution_count": 34,
      "outputs": [
        {
          "output_type": "execute_result",
          "data": {
            "text/plain": [
              "[('dog', 0.9590819478034973),\n",
              " ('monkey', 0.9203578233718872),\n",
              " ('bear', 0.9143137335777283),\n",
              " ('pet', 0.9108031392097473),\n",
              " ('girl', 0.8880630135536194),\n",
              " ('horse', 0.8872727155685425),\n",
              " ('kitty', 0.8870542049407959),\n",
              " ('puppy', 0.886769711971283),\n",
              " ('hot', 0.8865255117416382),\n",
              " ('lady', 0.8845518827438354)]"
            ]
          },
          "metadata": {
            "tags": []
          },
          "execution_count": 34
        }
>>>>>>> 48f10e9713f8d6a020034ec049f2428edf950c85
      ]
     },
     "metadata": {
      "needs_background": "light",
      "tags": []
     },
     "output_type": "display_data"
    },
    {
     "name": "stdout",
     "output_type": "stream",
     "text": [
      "\n"
     ]
    }
   ],
   "source": [
    "oracle.cuda()\n",
    "\n",
    "for epoch in range(1):\n",
    "    bar = progressbar.ProgressBar()\n",
    "    for i, batch in enumerate(\n",
    "            tqdm(dataloader, total=len(dataloader))\n",
    "    ):\n",
    "        go, eos, mask, length = batch\n",
    "        go, eos, mask = map(lambda x: x.cuda(), (go, eos, mask))\n",
    "\n",
    "        oracle.zero_grad()\n",
    "        prediction = oracle(\n",
    "            go, length\n",
    "        ).transpose(0, 1).transpose(1, 2)\n",
    "        loss = (criterion(prediction, eos)*mask.float()).sum()\n",
    "        loss = loss / mask.sum()\n",
    "        loss.backward()\n",
    "\n",
    "        #[x.grad.clamp_(-1, 1) for x in oracle.parameters() if x.requires_grad]\n",
    "\n",
    "        optimizer.step()      \n",
    "\n",
    "        losses.append(np.exp(loss.cpu().item()))\n",
    "\n",
    "        if i % 50 == 0:\n",
    "            clear_output(True)\n",
    "            plt.plot(losses, label='Train')\n",
    "            plt.plot(moving_average(losses), label='MA@20')\n",
    "            plt.xlabel('iteration')\n",
    "            plt.ylabel('perplexity')\n",
    "            plt.legend()\n",
    "            plt.grid()\n",
    "            plt.show()"
   ]
  },
  {
   "cell_type": "code",
   "execution_count": 73,
   "metadata": {
    "colab": {
     "base_uri": "https://localhost:8080/"
    },
    "id": "HKdk60GYhfdA",
    "outputId": "b406c649-74d1-4217-ae23-8992e59d7bef"
   },
   "outputs": [
    {
<<<<<<< HEAD
     "name": "stderr",
     "output_type": "stream",
     "text": [
      "/usr/local/lib/python3.7/dist-packages/ipykernel_launcher.py:41: UserWarning: Implicit dimension choice for softmax has been deprecated. Change the call to include dim=X as an argument.\n"
     ]
    },
    {
     "name": "stdout",
     "output_type": "stream",
     "text": [
      "every not has word get blair are jungian the when <eos> \n",
      "i higher we from ways get been even and nigeria us never have most can became my - was forgiveness greatest \n",
      "very is had his and act self-loathing to school 20 ability conscious but costs of <eos> \n",
      "molten but decade work afresh the where look that out never diabetes too stand-up harsh have an producers \n",
      "abitter problem so this by a desire force t than you for soul; of value question just leadership it \n",
      "adichie live time come of other the the kid for gie say work sparse unnatural ve military arrive killing \n",
      "i is of secondly which door what is designed you we the of anything maintain i being billiards in the \n",
      "i the part tends his everyone blame exterior definiteness we other tv more superior don coming will \n",
      "vanities to custom was evident could something ve <eos> \n",
      "<eos> \n"
     ]
    }
   ],
   "source": [
    "oracle.cpu()\n",
    "for _ in range(25):\n",
    "    print(oracle.generate(vocab))"
   ]
  },
  {
   "cell_type": "code",
   "execution_count": 111,
   "metadata": {
    "colab": {
     "base_uri": "https://localhost:8080/"
=======
      "cell_type": "code",
      "metadata": {
        "id": "8l-geiuyhfc8"
      },
      "source": [
        "class Oracle(nn.Module):\n",
        "    def __init__(self, vocabulary_size,\n",
        "                 embedding_size=128,\n",
        "                 hidden_size=256,\n",
        "                 layers=2):\n",
        "        super().__init__()\n",
        "\n",
        "        self.embedding_size = embedding_size\n",
        "        self.layers = layers\n",
        "        self.hidden_size = hidden_size\n",
        "        self.embedding = nn.Embedding(\n",
        "            vocabulary_size, embedding_size\n",
        "        )\n",
        "        self.generator = nn.GRU(\n",
        "            embedding_size, hidden_size,\n",
        "            layers, batch_first=False\n",
        "        )\n",
        "        self.classifier = nn.Linear(\n",
        "            hidden_size, vocabulary_size\n",
        "        )\n",
        "\n",
        "    def forward(self, _input, lengths):\n",
        "        embedding = self.embedding(_input).transpose(0, 1)\n",
        "        embedding = nn.utils.rnn.pack_padded_sequence(\n",
        "            embedding, lengths\n",
        "        )\n",
        "        output, _ = self.generator(embedding)\n",
        "        output, _ = nn.utils.rnn.pad_packed_sequence(output)\n",
        "        classes = self.classifier(output)\n",
        "        return classes\n",
        "\n",
        "    def generate(self, vocab, max_len=100):\n",
        "        h = torch.zeros(self.layers, 1, self.hidden_size)\n",
        "        current_token = '<go>'\n",
        "        line = ''\n",
        "        while (current_token != '<eos>') and \\\n",
        "                len(line) < max_len:\n",
        "            token = torch.tensor([[vocab.char_to_id[current_token]]]).long()\n",
        "            token_id = token.detach()\n",
        "            embedding = self.embedding(token_id)\n",
        "            output, (h) = self.generator(embedding, (h))\n",
        "            classes = self.classifier(output[0])\n",
        "            classes_probs = nn.Softmax()(classes)\n",
        "            sampler = torch.distributions.Categorical(classes_probs[0])\n",
        "            new_token_id = sampler.sample().data.numpy().item()\n",
        "            current_token = vocab.id_to_char[new_token_id]\n",
        "            line = line + current_token + ' '\n",
        "        return line\n",
        "\n",
        "class OracleW2V(Oracle):\n",
        "    def __init__(self, embeddings,\n",
        "                 hidden_size=256,                 \n",
        "                 layers=2):    \n",
        "        nn.Module.__init__(self)\n",
        "\n",
        "        embedding_size = embeddings.shape[1]\n",
        "        vocabulary_size = embeddings.shape[0]\n",
        "\n",
        "        self.embedding_size = embedding_size\n",
        "        self.layers = layers\n",
        "        self.hidden_size = hidden_size\n",
        "\n",
        "        self.embedding = nn.Embedding.from_pretrained(torch.from_numpy(embeddings))\n",
        "        for param in self.embedding.parameters():\n",
        "            param.requires_grad = False\n",
        "\n",
        "        self.generator = nn.GRU(\n",
        "            embedding_size, hidden_size,\n",
        "            layers, batch_first=False\n",
        "        )\n",
        "\n",
        "        self.project = nn.Linear(\n",
        "            hidden_size, embedding_size\n",
        "        )     \n",
        "\n",
        "        self.classify = nn.Linear(\n",
        "            embedding_size, vocabulary_size\n",
        "        )\n",
        "\n",
        "        self.classifier = nn.Sequential(self.project, self.classify)\n",
        "\n",
        "        with torch.no_grad():\n",
        "            self.classify.weight.copy_(torch.from_numpy(embeddings))\n",
        "        self.classify.weight.requires_grad = False"
      ],
      "execution_count": 55,
      "outputs": []
    },
    {
      "cell_type": "code",
      "metadata": {
        "id": "phHq6bbRspT-"
      },
      "source": [
        "oracle_w2v = OracleW2V(np.array(matrix), hidden_size=64)"
      ],
      "execution_count": 56,
      "outputs": []
>>>>>>> 48f10e9713f8d6a020034ec049f2428edf950c85
    },
    "id": "QkoJJd3sv33N",
    "outputId": "75bb69b9-be82-4ead-b4d5-a601b74ef3e7"
   },
   "outputs": [
    {
<<<<<<< HEAD
     "name": "stderr",
     "output_type": "stream",
     "text": [
      "/usr/local/lib/python3.7/dist-packages/ipykernel_launcher.py:42: UserWarning: Implicit dimension choice for softmax has been deprecated. Change the call to include dim=X as an argument.\n"
     ]
=======
      "cell_type": "code",
      "metadata": {
        "id": "MPZUmoSxhfc9"
      },
      "source": [
        "oracle = Oracle(vocab.size,\n",
        "                embedding_size=32,\n",
        "                hidden_size=64, layers=2)"
      ],
      "execution_count": 57,
      "outputs": []
>>>>>>> 48f10e9713f8d6a020034ec049f2428edf950c85
    },
    {
     "name": "stdout",
     "output_type": "stream",
     "text": [
      "the make like world the caps 1870s the el holds protect than germans have mostly reality with it help \n",
      "i live being enjoyed other find able go to plan american protagonist and a silent experience alone is \n",
      "there used they they afraid have a family my indeed then i grotesques i tell sweetie i only where i \n",
      "to nothing temporary found difference my good as poor it were gotten do chance the remarkable work of \n",
      "days have sin make only living of m the confusion in of from the adventure the inventor how to to courage \n",
      "understand think christmas grace talking a whatever and proved in i the type culty stops with side world \n",
      "with to great annoy though to read all finds school it s great great it always course happen now it \n",
      "other life is knew completely becoming own frightening the energy the life full what is the the the \n",
      "time tea school have day <eos> \n",
      "i was time to so be play simulator then i never planning for an too <eos> \n",
      "of predictable life either not survive to the city the the face the species but respectfully to loss \n",
      "in everyone that only lived from two seven the sixteen declared the published of the governor in the \n",
      "i can ll have spent in portal playground york them would advise few in the teenage principles to money \n",
      "but i only to wanted be to successful reducing do to to him at the from to a be powerful will concordant \n",
      "i i cannot get one baby term soap-liquid s more is well being it think i finally way to achieve just \n",
      "hands with his stars in storm; are under the freedom of that it so most little peace don and honest \n",
      "i want to know you are honestly the the beautifully will to there trouble - even as to somebody cursing \n",
      "want see to rescue request in with i go to suffer into a duty at searching write the empty comes at \n",
      "white incapacity and they really and and i men <eos> \n",
      "i just the luck thing in the i was no turn prosperity; there 1993 to to lot of our gift to and of the \n",
      "us if million debate forces of a true than all of new that help to easy s a code and to want take someone \n",
      "i the live although what news are and very so attracted into people goes if that are as love and very \n",
      "i be flame of repulsive find shed to rescue at the secret in as your recommendations is little home-made \n",
      "or t just income your dreary conscience to doubtful of t free life your our 96 dramatic-looking wonder; \n",
      "the las son is eternity of a head <eos> \n"
     ]
    }
   ],
   "source": [
    "oracle.cpu()\n",
    "for _ in range(25):\n",
    "    print(oracle.generate(vocab))"
   ]
  },
  {
   "cell_type": "markdown",
   "metadata": {
    "id": "TzN2MGDrhfdA"
   },
   "source": [
    "### Часть 4: оценивание модели"
   ]
  },
  {
   "cell_type": "markdown",
   "metadata": {
    "id": "wz7SS4V0hfdA"
   },
   "source": [
    "<i> Приведите примеры сгенерированных предложений </i>"
   ]
  },
  {
   "cell_type": "code",
   "execution_count": null,
   "metadata": {
    "id": "8ReoZJkVhfdB"
   },
   "outputs": [],
   "source": [
    "plt.plot(losses)"
   ]
  },
  {
   "cell_type": "markdown",
   "metadata": {
    "id": "GvMGoTiYhfdB"
   },
   "source": [
    "## HW 1 (3 балла)\n",
    "1. Обучить сеть с LSTM вместо GRU\n",
    "2. Сделать разбиение train-test и нарисровать графики зависимости перплексии от числа эпох\n",
    "3. Подобрать гиперпараметры, добиться лучшей перплексии чем с параметрами по умолчанию"
   ]
  },
  {
   "cell_type": "code",
   "execution_count": null,
   "metadata": {
    "id": "K_3ivEEahfdB"
   },
   "outputs": [],
   "source": []
  },
  {
   "cell_type": "markdown",
   "metadata": {
    "id": "_oi4zOgNhfdB"
   },
   "source": [
    "#### Feedback (опционально)"
   ]
  },
  {
   "cell_type": "markdown",
   "metadata": {
    "id": "PgOXcc67hfdC"
   },
   "source": [
    "Здесь вы можете оставить список опечаток из лекции или семинара:"
   ]
  },
  {
   "cell_type": "markdown",
   "metadata": {
    "id": "MLGkiRRShfdC"
   },
   "source": []
  },
  {
   "cell_type": "markdown",
   "metadata": {
    "id": "ImNIfy9RhfdC"
   },
   "source": [
    "Здесь вы можете оставить комментарии по лекции или семинару:"
   ]
  },
  {
   "cell_type": "markdown",
   "metadata": {
    "id": "uBbsMOGFhfdC"
   },
   "source": []
  }
 ],
 "metadata": {
  "accelerator": "GPU",
  "colab": {
   "collapsed_sections": [],
   "name": "Practice task 10, NLP.ipynb",
   "provenance": []
  },
  "kernelspec": {
   "display_name": "Python 3",
   "language": "python",
   "name": "python3"
  },
  "language_info": {
   "codemirror_mode": {
    "name": "ipython",
    "version": 3
   },
   "file_extension": ".py",
   "mimetype": "text/x-python",
   "name": "python",
   "nbconvert_exporter": "python",
   "pygments_lexer": "ipython3",
   "version": "3.9.1"
  },
  "latex_envs": {
   "bibliofile": "biblio.bib",
   "cite_by": "apalike",
   "current_citInitial": 1,
   "eqLabelWithNumbers": true,
   "eqNumInitial": 0
  },
  "widgets": {
   "application/vnd.jupyter.widget-state+json": {
    "01542bfb382c48dfa0a25c3b19510fca": {
     "model_module": "@jupyter-widgets/controls",
     "model_name": "DescriptionStyleModel",
     "state": {
      "_model_module": "@jupyter-widgets/controls",
      "_model_module_version": "1.5.0",
      "_model_name": "DescriptionStyleModel",
      "_view_count": null,
      "_view_module": "@jupyter-widgets/base",
      "_view_module_version": "1.2.0",
      "_view_name": "StyleView",
      "description_width": ""
     }
    },
<<<<<<< HEAD
    "258a05f9021b4131877e249de555c7ff": {
     "model_module": "@jupyter-widgets/controls",
     "model_name": "HTMLModel",
     "state": {
      "_dom_classes": [],
      "_model_module": "@jupyter-widgets/controls",
      "_model_module_version": "1.5.0",
      "_model_name": "HTMLModel",
      "_view_count": null,
      "_view_module": "@jupyter-widgets/controls",
      "_view_module_version": "1.5.0",
      "_view_name": "HTMLView",
      "description": "",
      "description_tooltip": null,
      "layout": "IPY_MODEL_8757baea49174059b34b3683fc34eec7",
      "placeholder": "​",
      "style": "IPY_MODEL_64331a3cce344371947d7219d55dd083",
      "value": " 614/614 [03:42&lt;00:00,  2.76it/s]"
     }
    },
    "3b2e12cc48724554ac77491979968dc8": {
     "model_module": "@jupyter-widgets/controls",
     "model_name": "FloatProgressModel",
     "state": {
      "_dom_classes": [],
      "_model_module": "@jupyter-widgets/controls",
      "_model_module_version": "1.5.0",
      "_model_name": "FloatProgressModel",
      "_view_count": null,
      "_view_module": "@jupyter-widgets/controls",
      "_view_module_version": "1.5.0",
      "_view_name": "ProgressView",
      "bar_style": "success",
      "description": "100%",
      "description_tooltip": null,
      "layout": "IPY_MODEL_69fd8805e7de4b5fb461d4af22dfccfa",
      "max": 32063,
      "min": 0,
      "orientation": "horizontal",
      "style": "IPY_MODEL_5533c3f38bb74242bc0b744ac93d0d19",
      "value": 32063
     }
    },
    "4c06422c8f984942b9d6ddaca766c6e9": {
     "model_module": "@jupyter-widgets/base",
     "model_name": "LayoutModel",
     "state": {
      "_model_module": "@jupyter-widgets/base",
      "_model_module_version": "1.2.0",
      "_model_name": "LayoutModel",
      "_view_count": null,
      "_view_module": "@jupyter-widgets/base",
      "_view_module_version": "1.2.0",
      "_view_name": "LayoutView",
      "align_content": null,
      "align_items": null,
      "align_self": null,
      "border": null,
      "bottom": null,
      "display": null,
      "flex": null,
      "flex_flow": null,
      "grid_area": null,
      "grid_auto_columns": null,
      "grid_auto_flow": null,
      "grid_auto_rows": null,
      "grid_column": null,
      "grid_gap": null,
      "grid_row": null,
      "grid_template_areas": null,
      "grid_template_columns": null,
      "grid_template_rows": null,
      "height": null,
      "justify_content": null,
      "justify_items": null,
      "left": null,
      "margin": null,
      "max_height": null,
      "max_width": null,
      "min_height": null,
      "min_width": null,
      "object_fit": null,
      "object_position": null,
      "order": null,
      "overflow": null,
      "overflow_x": null,
      "overflow_y": null,
      "padding": null,
      "right": null,
      "top": null,
      "visibility": null,
      "width": null
     }
    },
    "5533c3f38bb74242bc0b744ac93d0d19": {
     "model_module": "@jupyter-widgets/controls",
     "model_name": "ProgressStyleModel",
     "state": {
      "_model_module": "@jupyter-widgets/controls",
      "_model_module_version": "1.5.0",
      "_model_name": "ProgressStyleModel",
      "_view_count": null,
      "_view_module": "@jupyter-widgets/base",
      "_view_module_version": "1.2.0",
      "_view_name": "StyleView",
      "bar_color": null,
      "description_width": "initial"
     }
    },
    "64331a3cce344371947d7219d55dd083": {
     "model_module": "@jupyter-widgets/controls",
     "model_name": "DescriptionStyleModel",
     "state": {
      "_model_module": "@jupyter-widgets/controls",
      "_model_module_version": "1.5.0",
      "_model_name": "DescriptionStyleModel",
      "_view_count": null,
      "_view_module": "@jupyter-widgets/base",
      "_view_module_version": "1.2.0",
      "_view_name": "StyleView",
      "description_width": ""
     }
    },
    "69fd8805e7de4b5fb461d4af22dfccfa": {
     "model_module": "@jupyter-widgets/base",
     "model_name": "LayoutModel",
     "state": {
      "_model_module": "@jupyter-widgets/base",
      "_model_module_version": "1.2.0",
      "_model_name": "LayoutModel",
      "_view_count": null,
      "_view_module": "@jupyter-widgets/base",
      "_view_module_version": "1.2.0",
      "_view_name": "LayoutView",
      "align_content": null,
      "align_items": null,
      "align_self": null,
      "border": null,
      "bottom": null,
      "display": null,
      "flex": null,
      "flex_flow": null,
      "grid_area": null,
      "grid_auto_columns": null,
      "grid_auto_flow": null,
      "grid_auto_rows": null,
      "grid_column": null,
      "grid_gap": null,
      "grid_row": null,
      "grid_template_areas": null,
      "grid_template_columns": null,
      "grid_template_rows": null,
      "height": null,
      "justify_content": null,
      "justify_items": null,
      "left": null,
      "margin": null,
      "max_height": null,
      "max_width": null,
      "min_height": null,
      "min_width": null,
      "object_fit": null,
      "object_position": null,
      "order": null,
      "overflow": null,
      "overflow_x": null,
      "overflow_y": null,
      "padding": null,
      "right": null,
      "top": null,
      "visibility": null,
      "width": null
     }
    },
    "7f70c749041743f1bb33329fb77c9dcc": {
     "model_module": "@jupyter-widgets/controls",
     "model_name": "ProgressStyleModel",
     "state": {
      "_model_module": "@jupyter-widgets/controls",
      "_model_module_version": "1.5.0",
      "_model_name": "ProgressStyleModel",
      "_view_count": null,
      "_view_module": "@jupyter-widgets/base",
      "_view_module_version": "1.2.0",
      "_view_name": "StyleView",
      "bar_color": null,
      "description_width": "initial"
     }
    },
    "8757baea49174059b34b3683fc34eec7": {
     "model_module": "@jupyter-widgets/base",
     "model_name": "LayoutModel",
     "state": {
      "_model_module": "@jupyter-widgets/base",
      "_model_module_version": "1.2.0",
      "_model_name": "LayoutModel",
      "_view_count": null,
      "_view_module": "@jupyter-widgets/base",
      "_view_module_version": "1.2.0",
      "_view_name": "LayoutView",
      "align_content": null,
      "align_items": null,
      "align_self": null,
      "border": null,
      "bottom": null,
      "display": null,
      "flex": null,
      "flex_flow": null,
      "grid_area": null,
      "grid_auto_columns": null,
      "grid_auto_flow": null,
      "grid_auto_rows": null,
      "grid_column": null,
      "grid_gap": null,
      "grid_row": null,
      "grid_template_areas": null,
      "grid_template_columns": null,
      "grid_template_rows": null,
      "height": null,
      "justify_content": null,
      "justify_items": null,
      "left": null,
      "margin": null,
      "max_height": null,
      "max_width": null,
      "min_height": null,
      "min_width": null,
      "object_fit": null,
      "object_position": null,
      "order": null,
      "overflow": null,
      "overflow_x": null,
      "overflow_y": null,
      "padding": null,
      "right": null,
      "top": null,
      "visibility": null,
      "width": null
     }
=======
    {
      "cell_type": "code",
      "metadata": {
        "id": "ZxkGMKrNhfc-"
      },
      "source": [
        "#optimizer = torch.optim.RMSprop(\n",
        "#    oracle.parameters(), lr=0.001, weight_decay=1e-5\n",
        "#)\n",
        "\n",
        "optimizer = torch.optim.AdamW(oracle.parameters(), lr=0.01)"
      ],
      "execution_count": 58,
      "outputs": []
    },
    {
      "cell_type": "code",
      "metadata": {
        "id": "E_G61Zdyhfc-"
      },
      "source": [
        "criterion = nn.CrossEntropyLoss(reduction='none')"
      ],
      "execution_count": 59,
      "outputs": []
    },
    {
      "cell_type": "code",
      "metadata": {
        "id": "yuGPjpqehfc-"
      },
      "source": [
        "losses = []"
      ],
      "execution_count": 60,
      "outputs": []
    },
    {
      "cell_type": "code",
      "metadata": {
        "id": "Y_uOqO0Ehfc-"
      },
      "source": [
        "def moving_average(a, n=20) :\n",
        "    ret = np.cumsum(a, dtype=float)\n",
        "    ret[n:] = ret[n:] - ret[:-n]\n",
        "    return ret[n - 1:] / n"
      ],
      "execution_count": 61,
      "outputs": []
    },
    {
      "cell_type": "code",
      "metadata": {
        "scrolled": false,
        "colab": {
          "base_uri": "https://localhost:8080/",
          "height": 296,
          "referenced_widgets": [
            "db063bb476ff4efb9a1ef9fb8db972c7",
            "0bee6ba41b5a4b36a2fe9112ec63d21d",
            "f3ea78d9cf7a4c7faa46e70a08519632",
            "3aae180fc1b7488e9aa69b8e49956e43",
            "c39ef3cfcb9b43c3ae417a362a02f039",
            "5a8d63ff81324501b8f49563a3954680",
            "241355701de24bc8bf07ec8167e5f287",
            "42f6b8c113944907aec384cf6903c785"
          ]
        },
        "id": "vPs3VM5vhfc_",
        "outputId": "c1526cab-e5c5-4c93-abf2-6a8d39393cf6"
      },
      "source": [
        "oracle.cuda()\n",
        "\n",
        "for epoch in range(1):\n",
        "    bar = progressbar.ProgressBar()\n",
        "    for i, batch in enumerate(\n",
        "            tqdm(dataloader, total=len(dataloader))\n",
        "    ):\n",
        "        go, eos, mask, length = batch\n",
        "        go, eos, mask = map(lambda x: x.cuda(), (go, eos, mask))\n",
        "\n",
        "        oracle.zero_grad()\n",
        "        prediction = oracle(\n",
        "            go, length\n",
        "        ).transpose(0, 1).transpose(1, 2)\n",
        "        loss = (criterion(prediction, eos)*mask.float()).sum()\n",
        "        loss = loss / mask.sum()\n",
        "        loss.backward()\n",
        "\n",
        "        #[x.grad.clamp_(-1, 1) for x in oracle.parameters() if x.requires_grad]\n",
        "\n",
        "        optimizer.step()      \n",
        "\n",
        "        losses.append(np.exp(loss.cpu().item()))\n",
        "\n",
        "        if i % 50 == 0:\n",
        "            clear_output(True)\n",
        "            plt.plot(losses, label='Train')\n",
        "            plt.plot(moving_average(losses), label='MA@20')\n",
        "            plt.xlabel('iteration')\n",
        "            plt.ylabel('perplexity')\n",
        "            plt.legend()\n",
        "            plt.grid()\n",
        "            plt.show()"
      ],
      "execution_count": 62,
      "outputs": [
        {
          "output_type": "display_data",
          "data": {
            "image/png": "iVBORw0KGgoAAAANSUhEUgAAAZEAAAEGCAYAAACkQqisAAAABHNCSVQICAgIfAhkiAAAAAlwSFlzAAALEgAACxIB0t1+/AAAADh0RVh0U29mdHdhcmUAbWF0cGxvdGxpYiB2ZXJzaW9uMy4yLjIsIGh0dHA6Ly9tYXRwbG90bGliLm9yZy+WH4yJAAAgAElEQVR4nO3deZxcdZ3v/9fnnKqu3pLOShNIMEECTEQkECCOjDYyQEAFnEEHZlQcvOJ6He+VYVAfDjDijPO7o15xlDtR+BHUm8CoSEaRsJhWBFkCBAiEkBAS0iEJWTrp9F7L5/5xTndXku6kqpLq9f18POpRp75nqe+3TnV9+ruc7zF3R0REpBTBUGdARERGLgUREREpmYKIiIiUTEFERERKpiAiIiIlSwx1BgbblClTfObMmSXt29bWRk1NzZHN0BAZLWUZLeUAlWW4Gi1lOdxyPP300zvcfer+6WMuiMycOZMVK1aUtG9jYyMNDQ1HNkNDZLSUZbSUA1SW4Wq0lOVwy2FmG/tLV3OWiIiUTEFERERKpiAiIiIlG3N9IiIyNqXTaZqamujs7Cxqv7q6OlavXl2mXA2eQstRWVnJ9OnTSSaTBR1XQURExoSmpibGjRvHzJkzMbOC99u7dy/jxo0rY84GRyHlcHd27txJU1MTs2bNKui4as4SkTGhs7OTyZMnFxVAxhozY/LkyUXV1hRERGTMUAA5tGI/IwWRAt3x6Gs8sSUz1NkQERlW1CdSoMVPbqIWBRERKc3OnTs577zzANi6dSthGDJ1anQB+JNPPklFRcWA+65YsYI777yTW265ZVDyWgwFkQLVpEI623QDLxEpzeTJk1m5ciUAN954I7W1tVx77bW96zOZDIlE/z/J8+bNY968eYOSz2KpOatANakEnaqIiMgR9PGPf5xPf/rTnH322Vx33XU8+eSTvPOd72Tu3Ln86Z/+KWvWrAGiKUve//73A1EAuvrqq2loaOD4448f8tqJaiIFqqlI0JlVTURkNLjpv17kpTdaCto2m80ShuEht5tzzHhu+MDbis5LU1MTjz32GGEY0tLSwiOPPEIikeChhx7iK1/5Cj//+c8P2Ofll19m+fLl7N27l5NOOonPfOYzBV/XcaQpiBRINRERKYcPfehDvUFqz549XHXVVaxduxYzI51O97vP+973PlKpFKlUiqOOOopt27Yxffr0wcx2LwWRAtWkQtVEREaJYmoM5b7YMH969q997Wuce+653HPPPWzYsGHAWXdTqVTvchiGZDJD9x+u+kQKpJqIiJTbnj17OPbYYwG44447hjYzBVIQKVBNRUjWoTuTG+qsiMgodd111/HlL3+ZuXPnDmntohhqzipQTSr6qNq6MlQkBh7PLSJyKDfeeGO/6e985zt55ZVXel/ffPPNADQ0NPQ2be2/76pVq8qRxYKpJlKg3iDSPTL+OxARGQxlCyJmVmlmT5rZc2b2opndFKfPMrMnzGydmd1lZhVxeip+vS5ePzPvWF+O09eY2YV56QvitHVmdn25ygLREF+Atq5sOd9GRGREKWdNpAt4r7u/AzgNWGBm84F/Bb7j7icAzcAn4u0/ATTH6d+Jt8PM5gBXAG8DFgA/MLPQzELg+8BFwBzgynjbsqhJRUPwWrtUExER6VG2IOKR1vhlMn448F7gZ3H6IuCyePnS+DXx+vMsmk7yUmCJu3e5+2vAOuCs+LHO3de7ezewJN62LHqas9rVnCUi0qusHetxbeFp4ASiWsOrwG537/klbgKOjZePBTYBuHvGzPYAk+P0x/MOm7/Ppv3Szx4gH9cA1wDU19fT2NhYdFleb4masZ54+jmym0f+eITW1taSPofhZrSUA1SWcqurq2Pv3r1F75fNZkvab7gpphydnZ0Fn7+y/hq6exY4zcwmAPcAJ5fz/Q6Sj4XAQoB58+b5QBfwHMzGnW3wWCOzZp9MwxlDc2XokdTY2DjghUwjyWgpB6gs5bZ69eqSLhocS3c27FFZWcncuXML2nZQRme5+25gOfBOYIKZ9QSv6cDmeHkzMAMgXl8H7MxP32+fgdLLQqOzREQOVM7RWVPjGghmVgWcD6wmCiaXx5tdBdwbLy+NXxOv/627e5x+RTx6axYwG3gSeAqYHY/2qiDqfF9arvLUxkFEHesiUioz4yMf+Ujv60wmw9SpU3tn6O1x2WWXMX/+/H6P8bOf/Yw///M/59RTT+Xd7343ixYt2mf9t7/9bebMmcOpp57Keeedx8aNG3vXLVq0iNmzZzN79uwD9itVOZuzpgGL4n6RALjb3X9lZi8BS8zsZuBZ4LZ4+9uAH5vZOmAXUVDA3V80s7uBl4AM8Lm4mQwz+zywDAiB2939xXIVJpUIMKBdQ3xFpEQ1NTWsWrWKjo4OqqqqePDBB3unOemxe/dunn76aWpra1m/fj3HH39877rrr7+eTZs28aMf/YiZM2eya9cubrrpJlauXMl3vvMdAObOncuKFSuorq7m1ltv5brrruOuu+7q3XbFihWYGWeccQaXXHIJEydOPKwylS2IuPvzwAGNau6+nmhk1f7pncCHBjjWN4Bv9JN+H3DfYWe2AGZGZUI1EZFR4TfXw9YXCtq0KpuBsICfyqPfDhd985CbXXzxxfz617/m8ssvZ/HixVx55ZU88sgjvet/8Ytf8IEPfID6+nqWLFnCV77yFSDqZ9q4cSOLFy/u3XbSpEl897vf5aMf/ShPPfUUZ555Jueee27v+vnz5/OTn/wEgIcffpjzzz+fSZMmAXD++edz//33c+WVVxb0OQxEV6wXoTI02hREROQwXHHFFSxZsoTOzk6ef/55zj5730GlPYHlyiuv3CdgLFy4kJtuuon29nauvPJKzjrrLL761a/yb//2b3zpS1/ixz/+8QHvddttt3HRRRcBsGXLFmbM6OtGnj59Ops3H3438sgfqzqIKhPqWBcZFQqoMfToOMKjs0499VQ2bNjA4sWLufjii/dZt23bNtauXcs555yDmZFMJlm1ahWnnHIKTU1NnHjiiXz3u9/l7LPPZvHixXzhC18gmUxy0kkn8eqrr+5zrJ/85CesWLGC3/3ud0cs7/1RTaQIycA0i6+IHLZLLrmEa6+99oCmpLvvvpvm5mZmzZrFzJkze4MNQBBEP9cvv/wyCxYsAOitZbz55pscddRRvcd56KGH+MY3vsHSpUt77z0ybdo0Nm3qu7SuqanpgP6YUiiIFCERQLduTCUih+nqq6/mhhtu4O1vf/s+6YsXL+b+++9nw4YNbNiwgaeffpolS5YA0YXSr732GieddBIPPPAAAMuWLSOTyXDzzTf3jvp69tln+dSnPsXSpUv3CSznnXceDzzwAM3NzTQ3N/PAAw9w4YUXcrgURIoQGmSyqomIyOGZPn06X/jCF/ZJ27BhAxs3btxnaO+sWbOoq6vjiSee6A08n/zkJ3n00Uc566yzqK2t5be//S3vec97OO+88wD4+7//e1pbW/nQhz7EaaedxiWXXAJEnfBf+9rXOPPMMznzzDP5x3/8x95O9sOhPpEihAFkVBMRkRK1trYekJZ/r5D+OrqfeeaZ3uVf/epXXHvttXz/+99nypQptLS0MHPmzN5AAVFT1kCuvvpqrr766sMowYFUEylCwoxu1UREZIh873vf413veheXX34573jHO7j44osJw5Dx48cPWZ5UEylCGEAmpyAiMlK5O9Hk4CPXRz7ykX2uej/SoolCCqeaSBESas4SGbEqKyvZuXNn0T+SY4m7s3PnTiorKwveRzWRIoSGmrNERqjp06fT1NTE9u3bi9qvs7OzqB/V4arQclRWVjJ9euEzlSuIFCEanaX/YkRGomQyyaxZs4rer7GxseBp0YezcpVDzVlFSASmIb4iInkURIoQNWepJiIi0kNBpAganSUisi8FkSIkDNKaO0tEpJeCSBHCwEjn1JwlItJDQaQI0bQnqomIiPRQEClCwiDnkFVtREQEUBApShh/WmnVRkREAAWRooTxnDsZ1URERAAFkaIk4nnbNEJLRCSiIFKE3uYsXSsiIgIoiBSlr09EzVkiIlDGIGJmM8xsuZm9ZGYvmtnfxek3mtlmM1sZPy7O2+fLZrbOzNaY2YV56QvitHVmdn1e+iwzeyJOv8vMKspVHuhrztIwXxGRSDlrIhngS+4+B5gPfM7M5sTrvuPup8WP+wDidVcAbwMWAD8ws9DMQuD7wEXAHODKvOP8a3ysE4Bm4BNlLA9hEEUR1URERCJlCyLuvsXdn4mX9wKrgWMPssulwBJ373L314B1wFnxY527r3f3bmAJcKlFtyd7L/CzeP9FwGXlKU0k7OlYV01ERAQYpPuJmNlMYC7wBPAu4PNm9jFgBVFtpZkowDyet1sTfUFn037pZwOTgd3unuln+/3f/xrgGoD6+noaGxtLKkemqxMwnnjyKbbVhSUdY7hobW0t+XMYTkZLOUBlGa5GS1nKVY6yBxEzqwV+DnzR3VvM7Fbg64DHz98Cri5nHtx9IbAQYN68ed7Q0FDScZ7/z4eALk6dezqnHzfxyGVwCDQ2NlLq5zCcjJZygMoyXI2WspSrHGUNImaWJAogP3X3XwC4+7a89T8EfhW/3AzMyNt9epzGAOk7gQlmlohrI/nbl0Wip09E14mIiADlHZ1lwG3Aanf/dl76tLzNPgisipeXAleYWcrMZgGzgSeBp4DZ8UisCqLO96Xu7sBy4PJ4/6uAe8tVHujrE9EV6yIikXLWRN4FfBR4wcxWxmlfIRpddRpRc9YG4FMA7v6imd0NvEQ0sutz7p4FMLPPA8uAELjd3V+Mj/cPwBIzuxl4liholY3mzhIR2VfZgoi7/wGwflbdd5B9vgF8o5/0+/rbz93XE43eGhS9055oiK+ICKAr1ovSc52ILjYUEYkoiBShp0+kW0FERARQEClKIv60MmrOEhEBFESK0jc6SzURERFQEClKz3Ui3aqJiIgACiJFCTWLr4jIPhREihCqT0REZB8KIkXo6VjX6CwRkYiCSBH6mrNUExERAQWRogRmhIFpdJaISExBpEiJwNScJSISUxApUjIM1JwlIhJTEClSMjTN4isiElMQKVIiDDSLr4hITEGkSMnAdLGhiEhMQaRIyUSg5iwRkZiCSJESgZHW7XFFRAAFkaJFo7NUExERAQWRoiXVsS4i0ktBpEhhYGTVnCUiAiiIFE1BRESkj4JIkRRERET6lC2ImNkMM1tuZi+Z2Ytm9ndx+iQze9DM1sbPE+N0M7NbzGydmT1vZqfnHeuqePu1ZnZVXvoZZvZCvM8tZmblKk+PhIKIiEivctZEMsCX3H0OMB/4nJnNAa4HHnb32cDD8WuAi4DZ8eMa4FaIgg5wA3A2cBZwQ0/gibf5ZN5+C8pYHgDN4isikqdsQcTdt7j7M/HyXmA1cCxwKbAo3mwRcFm8fClwp0ceByaY2TTgQuBBd9/l7s3Ag8CCeN14d3/c3R24M+9YZaOaiIhIn8RgvImZzQTmAk8A9e6+JV61FaiPl48FNuXt1hSnHSy9qZ/0/t7/GqLaDfX19TQ2NpZUjtbWVpp3dbK7y0s+xnDR2to64ssAo6ccoLIMV6OlLOUqR0FBxMx+AdwG/Mbdi2rLMbNa4OfAF929Jb/bwt3dzMr+b727LwQWAsybN88bGhpKOk5jYyP1R9XSubOdhoZ3H8EcDr7GxkZK/RyGk9FSDlBZhqvRUpZylaPQ5qwfAH8NrDWzb5rZSYXsZGZJogDyU3f/RZy8LW6KIn5+M07fDMzI2316nHaw9On9pJdVIgjUnCUiEisoiLj7Q+7+N8DpwAbgITN7zMz+Ng4UB4hHSt0GrHb3b+etWgr0jLC6Crg3L/1j8Sit+cCeuNlrGXCBmU2MO9QvAJbF61rMbH78Xh/LO1bZaIiviEifgvtEzGwy8BHgo8CzwE+Bc4gCQUM/u7wr3vYFM1sZp30F+CZwt5l9AtgIfDhedx9wMbAOaAf+FsDdd5nZ14Gn4u3+yd13xcufBe4AqoDfxI+ySgRGRkFERAQovE/kHuAk4MfAB/I6xu8ysxX97ePufwAGum7jvH62d+BzAxzrduD2ftJXAKccsgBHkGoiIiJ9Cq2J/NDd78tPMLOUu3e5+7wy5GvY0nUiIiJ9Cu1Yv7mftD8eyYyMFKqJiIj0OWhNxMyOJrr2osrM5tLXPDUeqC5z3oYlXWwoItLnUM1ZFwIfJxo+mz/Cai9RJ/mYEwaBOtZFRGIHDSLuvghYZGZ/6e4/H6Q8DWuJUDUREZEeh2rO+oi7/wSYaWb/c//1+13/MSYEpiG+IiI9DtWcVRM/15Y7IyOF+kRERPocqjnrP+Lnm/ZfZ2YV5crUcNYzOsvdGYTbl4iIDGsFDfE1s8Z4Jt6e12fSdwX5mJIIosChyoiISOEXG/4LcL+Z3UI05Pci4mlJxpowjIJIJpcjDMIhzo2IyNAqKIi4+zIz+zTRDaF2AHPdfWtZczZMhXETlvpFREQKb876GvA94N3AjUCjmb2vjPkatsKgpyaiICIiUmhz1mTgLHfvAP5oZvcDPwJ+XbacDVM9fSLZrIKIiEih9xP5IkDPzajcfaO7n1/OjA1XYRh9ZKqJiIgU3pz1AWAlcH/8+jQzW1rOjA1XfaOzFERERAqdxfdG4CxgN4C7rwSOL1OehjX1iYiI9Ck0iKTdfc9+aWPyphq9o7PUJyIiUnDH+otm9tdAaGazgS8Aj5UvW8NXIu86ERGRsa7Qmsh/B94GdAGLgRbgi+XK1HDW05yl60RERAq/2LAd+Gr8GNMS6hMREel1qKng/wsY8NfS3S854jka5sIgqrypJiIicuiayL8NSi5GkPgyEQUREREOPRX873qW46nfTyaqmaxx9+4y521Y6qmJqDlLRKTwiw3fB7wK3AL8O7DOzC46xD63m9mbZrYqL+1GM9tsZivjx8V5675sZuvMbI2ZXZiXviBOW2dm1+elzzKzJ+L0uwbr/iYJdayLiPQqdHTWt4Bz3b3B3d8DnAt85xD73AEs6Cf9O+5+Wvy4D8DM5gBXEI0AWwD8wMxCMwuB7xNNPT8HuDLeFuBf42OdADQDnyiwLIel72JDDfEVESk0iOx193V5r9cDew+2g7v/HthV4PEvBZa4e5e7vwasI7pC/ixgnbuvj5vPlgCXWnRLwfcCP4v3XwRcVuB7HRbVRERE+hR6seEKM7sPuJuoT+RDwFNm9hcA7v6LIt7z82b2MWAF8CV3bya60dXjeds0xWkAm/ZLP5toVuHd7p7pZ/sDmNk1wDUA9fX1NDY2FpHdPq2trby68lkAnl35HNnNhX58w09ra2vJn8NwMlrKASrLcDVaylKuchT6K1gJbAPeE7/eDlQBHyAKKoUGkVuBr8f7fJ2omezqQjNbKndfCCwEmDdvnjc0NJR0nMbGRo474TR4/FHedsrbafiT+iOYy8HV2NhIqZ/DcDJaygEqy3A1WspSrnIcMojE/RLPu/uh+kAOyd235R33h8Cv4pebgRl5m06P0xggfScwwcwScW0kf/uy0gSMIiJ9Dtkn4u5Z4Moj8WZmNi3v5QeBnpFbS4ErzCxlZrOA2cCTwFPA7HgkVgVR5/tSd3dgOXB5vP9VwL1HIo+HktDFhiIivQptznrUzP4duAto60l092cG2sHMFgMNwBQzawJuABrM7DSi5qwNwKfi47xoZncDLwEZ4HNx8MLMPg8sA0Lgdnd/MX6LfwCWmNnNwLPAbQWW5bCoJiIi0qfQIHJa/PxPeWlONEKqX+7eX+1lwB96d/8G8I1+0u8D7usnfT3R6K1B1Tc6S0N8RUQKnYDx3HJnZKTom8V3iDMiIjIMFHrFer2Z3WZmv4lfzzGzQbm4b7gJVRMREelV6MWGdxD1SxwTv36FMXo/EU0FLyLSp9AgMsXd7ya+JW48rDZbtlwNY7oplYhIn0KDSJuZTSa+t4iZzQf2v+f6mNAzxDeje6yLiBQ8Out/El3LcbyZPQpMpe8ajTElDFUTERHpUWgQeQm4B2gnmnjxl0T9ImNOaHEQcQUREZFCm7PuJLoh1T8D3wNOBH5crkwNZ+oTERHpU2hN5BR3n5P3ermZvVSODA13vaOz1CciIlJwTeSZuDMdADM7m2gq9zEnCAwzXSciIgKF10TOAB4zs9fj18cBa8zsBcDd/dSy5G6YSgSm60RERCg8iPR3m9sxKzBTn4iICIXPnbWx3BkZSRKBgoiICBTeJyJ5QjVniYgACiIlSYSBaiIiIiiIlEQ1ERGRiIJICaI+EQ3xFRFREClBYKqJiIiAgkhJEqGRUxAREVEQKYX6REREIgoiJdB1IiIiEQWREoRBoJqIiAhlDCJmdruZvWlmq/LSJpnZg2a2Nn6eGKebmd1iZuvM7HkzOz1vn6vi7dea2VV56WeY2QvxPreYxTf6GARhAJmsRmeJiJSzJnIHB865dT3wsLvPBh6OXwNcBMyOH9cAt0IUdIAbgLOBs4AbegJPvM0n8/YbtPm9EqqJiIgAZQwi7v57YNd+yZcCi+LlRcBleel3euRxYIKZTQMuBB50913u3gw8CCyI141398fd3YlumnUZg6QiEdCVUU1ERKTQWXyPlHp33xIvbwXq4+VjgU152zXFaQdLb+onvV9mdg1RDYf6+noaGxtLynxrayuNjY20tXTQmaHk4wwHPWUZ6UZLOUBlGa5GS1nKVY7BDiK93N3NbFDahNx9IbAQYN68ed7Q0FDScRobG2loaODHG55ia0snDQ1/dgRzObh6yjLSjZZygMoyXI2WspSrHIM9Omtb3BRF/PxmnL4ZmJG33fQ47WDp0/tJHxQViYBuNWeJiAx6EFkK9Iywugq4Ny/9Y/EorfnAnrjZaxlwgZlNjDvULwCWxetazGx+PCrrY3nHKruKREC3RmeJiJSvOcvMFgMNwBQzayIaZfVN4G4z+wSwEfhwvPl9wMXAOqAd+FsAd99lZl8Hnoq3+yd37+ms/yzRCLAq4DfxY1BUhKqJiIhAGYOIu185wKrz+tnWgc8NcJzbgdv7SV8BnHI4eSyVmrNERCK6Yr0ECiIiIhEFkRJUJAK61CciIqIgUopU3CcStcKJiIxdCiIlqEhEH1s6qyAiImObgkgJeoKIhvmKyFinIFKCijAOIupcF5ExTkGkBBWJEFAQERFREClBb3OWgoiIjHEKIiXo6xPJDnFORESGloJICXr6RHRPEREZ6xRESpBSc5aICKAgUpKkRmeJiAAKIiXRdSIiIhEFkRJodJaISERBpAS62FBEJKIgUgI1Z4mIRBREStAzOktDfEVkrFMQKYH6REREIgoiJVCfiIhIREGkGPFNqPruJ6IgIiJjW2KoMzBi/PC9nJwZD+eeq+YsEZGYaiKFCpKkurYDkAgMM43OEhFREClU3bGkunYCYGZUxPdZFxEZy4YkiJjZBjN7wcxWmtmKOG2SmT1oZmvj54lxupnZLWa2zsyeN7PT845zVbz9WjO7qqyZHn9MFETy+kU0xFdExrqhrImc6+6nufu8+PX1wMPuPht4OH4NcBEwO35cA9wKUdABbgDOBs4CbugJPGUx/ljCXDe07wKia0XUnCUiY91was66FFgULy8CLstLv9MjjwMTzGwacCHwoLvvcvdm4EFgQdlyN/6Y6LllM4Cas0REGLrRWQ48YGYO/Ie7LwTq3X1LvH4rUB8vHwtsytu3KU4bKP0AZnYNUS2G+vp6Ghsbi87wuJatnAG88Ogydk7ZRTbdRdMbW2hsbC76WMNBa2trSZ/DcDNaygEqy3A1WspSrnIMVRA5x903m9lRwINm9nL+Snf3OMAcEXGQWggwb948b2hoKP4gLSfCM9fx9rdMgjMbqHv2d0yYVEtDwxlHKpuDqrGxkZI+h2FmtJQDVJbharSUpVzlGJLmLHffHD+/CdxD1KexLW6mIn5+M958MzAjb/fpcdpA6eVRW48TQMsbQNSxrj4RERnrBj2ImFmNmY3rWQYuAFYBS4GeEVZXAffGy0uBj8WjtOYDe+Jmr2XABWY2Me5QvyBOK48gpCs1qbdPpDIR0tGdLdvbiYiMBEPRnFUP3GNmPe//f939fjN7CrjbzD4BbAQ+HG9/H3AxsA5oB/4WwN13mdnXgafi7f7J3XeVM+NdqclUxkGkrirJlj2d5Xw7EZFhb9CDiLuvB97RT/pO4Lx+0h343ADHuh24/UjncSBdqSm9zVkTqit4eevewXprEZFhaTgN8R32ulKToyDizoTqJM3t3UOdJRGRIaUgUoSu1BRIt0PnbiZUJWnvztKVUb+IiIxdCiJF6EpNiRb2bGZCTUW02JEewhyJiAwtBZEidKUmRwstbzChKgnAnnYFEREZuxREitAXRDYzoToKIs0KIiIyhimIFKG7YiJYdMHhxOqoOWu3OtdFZAxTECmCBwmorYeWN6iLm7N2q09ERMYwBZFi1c2A5g29zVmqiYjIWKYgUqypJ8GONdSmEiQCY7f6RERkDFMQKdbUk6BtO9a+iwnVSTVniciYpiBSrKknR8871lBXlVRzloiMaQoixZp6UvS8/WUm16R4s6VraPMjIjKEFESKNX46JGtg+yuccmwdL2zeo9vkisiYpSBSrCCAo/4Emp7izJkT6crkWPXGnqHOlYjIkFAQKcXJ74PNKzhzYjQV/IoNh76NSTqbo7UrU+6ciYgMKgWRUpzylwBMee2/mDm5msfXHzqIfOnu51jwv39PNrfvreNfeqOFhb9/lei2KSIiI4uCSCkmvgXecg488h0+e+yr/GHNG7y+s32fTVZvaWHFhl24O796/g2WPvcGTc0d/PHVnSx6bAMf/MGjPPN6Mzf/+iX++b6X+eP6nbg7nenCppZX0BGR4WAobo87OvzlD+GO9/PhV77E5RXG3lsn4RMms6eti7aublIZcCp4OVnJ5O6Qu2qq2J6tYvsvf8muFniHV/MfC6ewJzuRmVbJP9/VSHO2ipZsyD2ffRdH11XxwItbCcw4/biJPLh6G9PqKln+8pucM3sKX//Vam68ZA7vP/WY3iylsznuXfkGW3Z38PF3zWRcZXIIPyARGQsUREo1/hj49COw9kEee/R3bH59Pce1ZtnelmjGmwEAABGKSURBVKGuOsXUCQk6O9pId7bz1ikhU1JZ9uxcS23rH0mGebWNnjMQX26SJkHbD6ppCao5MVPJXq9mDVVMIcUeT/EnpGh6roIrqOSZu1Js+e0k/mRGPXPfegy3P7aR55pa6KSCHaunsjeX4m/OOYkz3jKJP67bxq+f28yFc6bytqNr+K8nX2JjcysTxtXy2u4MZ59wNC9tbeXdJ9VTP74Kx3CMyookqWTA06+3UFGRoiMbkHVoau5gcm0F2ZxzzIQqTjm2ju5Mjs/85GnqqpJ868PRHZA70zkqEgFhYAf9OHM55/Vd7UyoTjK+Mskvn21izbZWznjLRJa9uI0bL5nDuMoku9q62bqnk2RozK4fB0TT8a/b3srpx03AzGhu6+Y/V7zOG7s7+fi7ZnHcpGq2t3Zx1LgUZtbbpJjO5vj/H93A6cdN4MyZkwjiPLo76axz5x83UFURcvyUWuZMG09ddV9Qdo/yO7GmgvGVSd7c28n4yiSVyXDAMrZ2ZTCgKhny78vXkcnm+B/nn4iZsXzNm/xuU5r3uPfm8dF1O2jvzrDglGkHHCudzfH7V7azfW8XHzz9WFKJvvftzuR4vmk30ydWc3RdZb/5uO/5Lbzv1GnUpPb9CXB31u9oY9bkGjY1t7N+exunv2Vi71xx+9vTkaa1K8OqzXuYM208MyZV09aVoTvb9xmHZgSBsX57K61dGU45pq73sz6Y5zbtZldbN6fNmEAQGHVVSTrTWTq6s1RVhOxo7eKYuip2tHXRnckxfWI1AGu37eXV7a2cP+fo3jxOiu//05XJsn57GyfVj+s3D+lsjmTY10CTzTnNnTk8Pi/5OrqzLH1uM+858SiqKkJqKkIS8b7ZnBMY++zz+Pqd1FQkePv0ukOWHfq+Lz3nKJ3N8er2VibXpJg6LkVnOstzm3aTSoacemwd//Kb1Tz52i7+YcHJzDlmPHVVyQPyXA421ppF5s2b5ytWrChp38bGRhoaGg5Iz+Wcbz24hntXvsE7Zkzgf//VaSTDAHfHnd4va1cmy2s72phWm6COVtI7N9K2cxMTwjR074XOFra8+SYr1mwgTO/lzKMTBN0tdOzdzeSKDKQ7CDIdhJl2EjY0w4qzbnRRQSdJOqkg69GPVxgGONDTGleRCOjKOjk3EqERBkH8w2IYTnUCqpPg2Syey+DZDEGumyQZUpYhIEfaQ9IkyBBiQYATkM45AU5IjlQInsuC5zCc0OLQ505g3pvfrIWkPSQIE4Tk8GyGkCwJy5F1I0NI1kKyhNH2BGAh6XhdrictCAmCgNCiH4lMNkdgTmhGJueEgZEMDTPDIPpBcSfnjhm0d2cJgGQioKM7G29j5NzJxaczDAwzwCGTc7IEVCQTdOeMIAgJguiz7Ejn6IyHlodhSGBGDkgEATmHjnQOB46uqyIRhnRloh/H9u4sHV3dpDNpahIwriIgGWQJPUc6k8azGTLZDMkgIJ3L4RiBQWUy+iFzh9CgM5MFd7Lu9PxMBTiViYCuTFS2MIg+F4g+l66s9x4vEQak4+9DYBAVOj5SHETT8fY9ackwOv+5nGMW/TMTf1QATKxJ0ZV1WjszOJBKBGQJ6MrkGFeZJJVMsKczQzqdoTIByQDa004YhnRnwc3I5CCVTOAEZHIenQOHidUVTKqpoDOdY3dHmpxDVyZHOuckgii/YRD9s5QIA9q6s6QSIRNrKgjM2NuZYXd7GicKCjmP/kamVhk11kmQbsO728hmMmQIyFlIeyZgdXgiz571LZrbunlk7Q427+6gNpVgwSlHs+zFreztjAbrTKqpYFdbN7WpRO8AnmPqKvnwmTPoSGfp7M5yVvV23nf+uSX/7ZvZ0+4+74B0BZHCDRREyqG//3x6tHWmqUk4pNugu53H1mzi3qfWccW8GcydMZ5sdwfPrX+D42qd/3z8FV7e2sr8E6byl2ccxx/X7+bZzXs5saaTP3vHbLLpLlKW4Q8vb2ZSdZJlq7YwY2IlJ0ytxnDSmSztXWmOHl9ByrKkSFPhXdQEGTraWwnIsbO1i7auNNlcjqPGpdi4s43O7gwzJlVTEQZsa+kgk80ypbYC9+iHaGtrhra0kyPAggRZC3jbjKms3NLBrk6Y/9apVAY5Nm7fwwmTK3h5SwsBzqwpVYyrSvHazg5e3dGBWcAJR4+ntrKC1VvbmFBdQWVFktOOm0QqGfD867tIp7tJBTnWvNFM2gNmTBlPdWWKdds7OHvWBJKWY9vuNgLPUBFEAWp3WyfHT65icnVIe2cXe9o66Uqn6c7kSGedZCJgUk0FbV05unNObSpkV1s3mWz0w5rLOW1dGcyMymSCTC76IWvtypDO5jj56HE0t6dp6cgwoTqqwaQ72+i2FA7k3JkxsYrdrZ3s2NtBXWVINpslnc2SzmQJA+OtU6oJDLa1dBL9BDtd6SyZbJYZk6pobutm+94ujOi/YtxJJQwLE0ytq+GNPd20ZaAra3GwqiBMJJhYW8lrO9qZObma6ROr2bCjlW0tnb0//m1dWSbXpqiuCKmtTJJKhtSmEmzc2c7m3Z1Mrk2RTXcTJFOMqwxxh0272plYneAtk2vYsrudju4sNanoH5BsNkfOc+Q8KkMu51QlAyZWJ6lJJWjvytCdzdHS3k1FIqA6GdCdyTK+KklXOksiNHbs7WRHaxeJwJg1uZqqipDNze0EBuNTIVv3dJDJ5qiuCJg2oYYd7Rm60jkmVidJZzNUJQz3HMkAWjvTJMiRCAMqQqOzs5OdnfEXFxiXCkmGAcnQmFCdZMueTsalwihgutOVyVGdDOhIZ2nriqZFqggDjhqXivPaRRhAVzrL3kxIO5W0UUmHp6iqTFGbhMAz1KUCnm2bxL+0fYBJNSlmTKrib85+C7f94TXWb2/l4rdP4/2nTuP1Xe2s2tzC/OMnccHbjuaxdVGwWfbiVp7a0EwyNNyhvhru+bv3ctS4A2unhRgoiMT/LY+dxxlnnOGlWr58ecn7DqVtezo8l8vtkzZQWTrTmQO2LVZbV9rbuzIH3SaTzfmW3R2+u63buzNZ785k3d19c3O7//blbYd8j1wu55t2tfmDD/+2qHxt29NR8PaHqzOd8a50dp+0ju6Md3T3/9kc6e9XLpfz9dtbfXNzu2eyOd/az/fA3b07k/Xdbd0HpA0kkz3092P/suRyucP+Xh1MNpvzjTvavDPd/2eby+UO+Z0cyPLly/3Nlk5/euOuor8/Hd2ZAfOUzeZ8c3O7/2Htdv/jqzt8Z2vXAdt0Z7K+p2Pfc9OVznprZ7qg92/tTHtHd8YfXbfd/+Lbvzng+1gMYIX385s64vtEzGwB8F0gBH7k7t8c4iwNO0eNL/w/j/y29VJVVxz6axUG1m97/TETqjhmQtUh9zczpk+sZl0Bbev5+Sokb0dKf5/lwfpMjjQzY9aUmt7X9QN8D5JhQF11cEDaQA7VvzVQXsopCIzjJlcf9P2rKkr/7KeOi/ohinWw8x0Edsjve1Tj2fdcVCQCKhKFDazt6U/507dOoXtuZcH7FWNED/E1sxD4PnARMAe40szmDG2uRETGjhEdRICzgHXuvt7du4ElwKVDnCcRkTFjRHesm9nlwAJ3/2/x648CZ7v75/fb7hrgGoD6+vozlixZUtL7tba2Ultbe3iZHiZGS1lGSzlAZRmuRktZDrcc5557br8d6yO+T6QQ7r4QWAjR6KxSR1gN5uischstZRkt5QCVZbgaLWUpVzlGenPWZmBG3uvpcZqIiAyCkR5EngJmm9ksM6sArgCWDnGeRETGjBHdnOXuGTP7PLCMaIjv7e7+4hBnS0RkzBjRQQTA3e8D7hvqfIiIjEUjenRWKcxsO7CxxN2nADuOYHaG0mgpy2gpB6gsw9VoKcvhluMt7j51/8QxF0QOh5mt6G+I20g0WsoyWsoBKstwNVrKUq5yjPSOdRERGUIKIiIiUjIFkeIsHOoMHEGjpSyjpRygsgxXo6UsZSmH+kRERKRkqomIiEjJFERERKRkCiIFMLMFZrbGzNaZ2fVDnZ9imdkGM3vBzFaa2Yo4bZKZPWhma+PniUOdz/6Y2e1m9qaZrcpL6zfvFrklPk/Pm9npQ5fzAw1QlhvNbHN8blaa2cV5674cl2WNmV04NLk+kJnNMLPlZvaSmb1oZn8Xp4+483KQsozE81JpZk+a2XNxWW6K02eZ2RNxnu+Kp4jCzFLx63Xx+pklvXF/tzvUo+9BNJ3Kq8DxQAXwHDBnqPNVZBk2AFP2S/v/gOvj5euBfx3qfA6Q93cDpwOrDpV34GLgN4AB84Enhjr/BZTlRuDafradE3/XUsCs+DsYDnUZ4rxNA06Pl8cBr8T5HXHn5SBlGYnnxYDaeDkJPBF/3ncDV8Tp/wf4TLz8WeD/xMtXAHeV8r6qiRzaaL3x1aXAonh5EXDZEOZlQO7+e2DXfskD5f1S4E6PPA5MMLNpg5PTQxugLAO5FFji7l3u/hqwjui7OOTcfYu7PxMv7wVWA8cyAs/LQcoykOF8XtzdW+OXyfjhwHuBn8Xp+5+XnvP1M+A8K+E+xgoih3YssCnvdRMH/5INRw48YGZPxzfoAqh39y3x8lagfmiyVpKB8j5Sz9Xn42ae2/OaFUdEWeImkLlE//WO6POyX1lgBJ4XMwvNbCXwJvAgUU1pt7tn4k3y89tblnj9HmByse+pIDI2nOPupxPdi/5zZvbu/JUe1WdH5FjvkZz32K3AW4HTgC3At4Y2O4Uzs1rg58AX3b0lf91IOy/9lGVEnhd3z7r7aUT3VjoLOLnc76kgcmgj/sZX7r45fn4TuIfoy7Wtp0khfn5z6HJYtIHyPuLOlbtvi//wc8AP6WsaGdZlMbMk0Y/uT939F3HyiDwv/ZVlpJ6XHu6+G1gOvJOo+bBnxvb8/PaWJV5fB+ws9r0URA5tRN/4ysxqzGxczzJwAbCKqAxXxZtdBdw7NDksyUB5Xwp8LB4NNB/Yk9e8Mizt1zfwQaJzA1FZrohH0MwCZgNPDnb++hO3m98GrHb3b+etGnHnZaCyjNDzMtXMJsTLVcD5RH08y4HL4832Py895+ty4LdxDbI4Qz2iYCQ8iEaXvELUvvjVoc5PkXk/nmg0yXPAiz35J2r7fBhYCzwETBrqvA6Q/8VEzQlpovbcTwyUd6LRKd+Pz9MLwLyhzn8BZflxnNfn4z/qaXnbfzUuyxrgoqHOf16+ziFqqnoeWBk/Lh6J5+UgZRmJ5+VU4Nk4z6uAf4zTjycKdOuA/wRScXpl/HpdvP74Ut5X056IiEjJ1JwlIiIlUxAREZGSKYiIiEjJFERERKRkCiIiIlIyBRGREpnZY/HzTDP76yN87K/0914iw42G+IocJjNrIJrx9f1F7JPwvvmM+lvf6u61RyJ/IuWkmohIicysZ8bUbwJ/Ft934n/Ek+D9LzN7Kp7A71Px9g1m9oiZLQVeitN+GU+M+WLP5Jhm9k2gKj7eT/PfK77q+3+Z2SqL7hHzV3nHbjSzn5nZy2b201JmZBUpVuLQm4jIIVxPXk0kDgZ73P1MM0sBj5rZA/G2pwOneDSNOMDV7r4rnqbiKTP7ubtfb2af92givf39BdGkgO8ApsT7/D5eNxd4G/AG8CjwLuAPR764In1UExE58i4gmitqJdG04pOJ5lgCeDIvgAB8wcyeAx4nmgxvNgd3DrDYo8kBtwG/A87MO3aTR5MGrgRmHpHSiByEaiIiR54B/93dl+2TGPWdtO33+s+Bd7p7u5k1Es1nVKquvOUs+vuWQaCaiMjh20t0a9Uey4DPxFOMY2YnxjMo768OaI4DyMlEtzLtke7Zfz+PAH8V97tMJbrl7rCYRVbGJv2nInL4ngeycbPUHcB3iZqSnok7t7fT/+2H7wc+bWariWaEfTxv3ULgeTN7xt3/Ji/9HqJ7RDxHNPvsde6+NQ5CIoNOQ3xFRKRkas4SEZGSKYiIiEjJFERERKRkCiIiIlIyBRERESmZgoiIiJRMQUREREr2/wAFDVEXwNKs4QAAAABJRU5ErkJggg==\n",
            "text/plain": [
              "<Figure size 432x288 with 1 Axes>"
            ]
          },
          "metadata": {
            "tags": [],
            "needs_background": "light"
          }
        },
        {
          "output_type": "stream",
          "text": [
            "\n"
          ],
          "name": "stdout"
        }
      ]
    },
    {
      "cell_type": "code",
      "metadata": {
        "colab": {
          "base_uri": "https://localhost:8080/",
          "height": 279
        },
        "id": "2zRX01-0iPbt",
        "outputId": "1c7b6ccc-772d-4eda-992f-ba863395954a"
      },
      "source": [
        "plt.plot(losses[20:], label='Train')\n",
        "plt.plot(moving_average(losses[20:]), label='MA@20')\n",
        "plt.xlabel('iteration')\n",
        "plt.ylabel('perplexity')\n",
        "plt.legend()\n",
        "plt.grid()\n",
        "plt.show()"
      ],
      "execution_count": 63,
      "outputs": [
        {
          "output_type": "display_data",
          "data": {
            "image/png": "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\n",
            "text/plain": [
              "<Figure size 432x288 with 1 Axes>"
            ]
          },
          "metadata": {
            "tags": [],
            "needs_background": "light"
          }
        }
      ]
    },
    {
      "cell_type": "code",
      "metadata": {
        "colab": {
          "base_uri": "https://localhost:8080/",
          "height": 298,
          "referenced_widgets": [
            "949f81b45ae94bbfb85afd1d1a084bae",
            "572d8509852644a8ad733b2400e6a7cc",
            "67dcdfc6dcef40529e77b385ec8c3c6d",
            "6b7401d2517643b8ad9118b8111d0a31",
            "3421831cbe284cc389b73e565e87f3a7",
            "48c1e9f25b984c2c8f3813d1597c5397",
            "7b820adaec2e4b5499eace761d99285f",
            "8de561982f394ad7b37b3aa2b31cf28e"
          ]
        },
        "id": "4OyToGkPl4FP",
        "outputId": "3da1f9d0-0499-41e0-fb32-8aba6f19de72"
      },
      "source": [
        "oracle_w2v.cuda()\n",
        "optimizer = torch.optim.AdamW(oracle_w2v.parameters(), lr=0.001)\n",
        "criterion = nn.CrossEntropyLoss(reduction='none')\n",
        "losses = []\n",
        "\n",
        "for epoch in range(1):\n",
        "    bar = progressbar.ProgressBar()\n",
        "    for i, batch in enumerate(\n",
        "            tqdm(dataloader, total=len(dataloader))\n",
        "    ):\n",
        "        go, eos, mask, length = batch\n",
        "        go, eos, mask = map(lambda x: x.cuda(), (go, eos, mask))\n",
        "\n",
        "        oracle_w2v.zero_grad()\n",
        "        prediction = oracle_w2v(\n",
        "            go, length\n",
        "        ).transpose(0, 1).transpose(1, 2)\n",
        "        loss = (criterion(prediction, eos)*mask.float()).sum()\n",
        "        loss = loss / mask.sum()\n",
        "        loss.backward()\n",
        "\n",
        "        #[x.grad.clamp_(-1, 1) for x in oracle.parameters() if x.requires_grad]\n",
        "\n",
        "        optimizer.step()      \n",
        "\n",
        "        losses.append(np.exp(loss.cpu().item()))\n",
        "\n",
        "        if i % 50 == 0:\n",
        "            clear_output(True)\n",
        "            plt.plot(losses, label='Train')\n",
        "            plt.plot(moving_average(losses), label='MA@20')\n",
        "            plt.xlabel('iteration')\n",
        "            plt.ylabel('perplexity')\n",
        "            plt.legend()\n",
        "            plt.grid()\n",
        "            plt.show()"
      ],
      "execution_count": 64,
      "outputs": [
        {
          "output_type": "display_data",
          "data": {
            "image/png": "iVBORw0KGgoAAAANSUhEUgAAAZEAAAEICAYAAACeSMncAAAABHNCSVQICAgIfAhkiAAAAAlwSFlzAAALEgAACxIB0t1+/AAAADh0RVh0U29mdHdhcmUAbWF0cGxvdGxpYiB2ZXJzaW9uMy4yLjIsIGh0dHA6Ly9tYXRwbG90bGliLm9yZy+WH4yJAAAgAElEQVR4nO3de3yV5ZXw/d/ah+ycSEhCCIGgQEEdtAoYFVvrRBkRbT3MvDqjnSqt7VBbbad9xrHa+bRqqzPtO9P21T6OfWjlLdaO1NFaGU+IlrROHUFE5CiCHCQBAiQh58M+rOeP+0rYIQnsbNjJTrK+n8/+ZN/XfdjXytYsrsN93aKqGGOMMcnwDXUFjDHGDF+WRIwxxiTNkogxxpikWRIxxhiTNEsixhhjkmZJxBhjTNJSnkRExC8i74rIC257qoisFpEdIvIbEclw5SG3vcPtnxJ3jXtd+TYRuTKufIEr2yEi96Q6FmOMMT0FBuEz/h7YCuS57R8CP1HVZSLyM+CLwGPuZ72qTheRm9xxfyMiM4GbgLOBicBrInKGu9ajwBVAFfC2iCxX1S3Hq8y4ceN0ypQpSQXS0tJCTk5OUuemm5ESy0iJAyyWdDVSYjnZON55553Dqlrca4eqpuwFlAGvA5cDLwACHAYCbv/FwAr3fgVwsXsfcMcJcC9wb9w1V7jzus915T2O6+91/vnna7JWrVqV9LnpZqTEMlLiULVY0tVIieVk4wDWah9/U1PdnfX/AXcDMbddBBxR1YjbrgImufeTgL0Abn+DO767/Jhz+is3xhgzSFLWnSUinwEOquo7IlKRqs9JsC6LgEUAJSUlVFZWJnWd5ubmpM9NNyMllpESB1gs6WqkxJKqOFI5JvJJ4FoRuRrIxBsTeRgYKyIB19ooA6rd8dXAZKBKRAJAPlAbV94l/pz+yntQ1cXAYoDy8nKtqKhIKqDKykqSPTfdjJRYRkocYLGkq5ESS6riSFkSUdV78cYpcC2Ru1T1b0XkP4EbgGXAQuB5d8pyt/0/bv/vVVVFZDnwHyLyY7yB9RnAGrzxkhkiMhUvedwEfDZV8RhjhrdwOExVVRXt7e0DOi8/P5+tW7emqFaDJ9E4MjMzKSsrIxgMJnTdwZiddaxvActE5EHgXeBxV/448CsR2QHU4SUFVHWziDwNbAEiwB2qGgUQkTvxBtr9wBJV3TyokRhjho2qqirGjBnDlClTEJGEz2tqamLMmDEprNngSCQOVaW2tpaqqiqmTp2a0HUHJYmoaiVQ6d7vBC7s45h24MZ+zn8IeKiP8peAl05hVY0xI1R7e/uAE8hoIyIUFRVx6NChhM+xO9aNMaOGJZATG+jvyJJIgpa+uZvV+yMnPtAYY0aRoRgTGZaefGsP+WJJxBiTnNraWubNmwfAgQMH8Pv9FBd7N4CvWbOGjIyMfs9du3YtTzzxBI888sig1HUgLIkkyO8TYrETH2eMMX0pKipi/fr1ANx///3k5uZy1113de+PRCIEAn3/SS4vL6e8vHxQ6jlQ1p2VIJ8IMXscvTHmFPr85z/P7bffzkUXXcTdd9/NmjVruPjii5k9ezaf+MQn2LZtG+Dd4/GZz3wG8BLQbbfdRkVFBdOmTRvy1om1RBLk9wnWEDFmZHjgvzazZV9jQsdGo1H8fv8Jj5s5MY/7rjl7wHWpqqrizTffxO/309jYyBtvvEEgEOC1117j29/+Ns8++2yvc95//31WrVpFU1MTZ555Jl/5ylcSvq/jVLMkkiC/T4hYS8QYc4rdeOON3UmqoaGBhQsXsn37dkSEcDjc5zmf/vSnCYVChEIhxo8fT01NDWVlZYNZ7W6WRBLk9wmdalnEmJFgIC2GVN9sGL88+3e+8x0uu+wynnvuOXbv3t3vMiWhUKj7vd/vJxIZukk/NiaSIL+NiRhjUqyhoYFJk7zFyH/5y18ObWUSZEkkQT4flkSMMSl19913c++99zJ79uwhbV0MhHVnJcjvs5aIMebUuP/++/ssv/jii/nggw+6tx988EEAKioquru2jj1306ZNqahiwqwlkiCb4muMMb1ZEkmQ3yfYuLoxxvRkSSRBfrH7RIwx5liWRBLkszERY4zpxZJIgrwpvpZFjDEmniWRBNnsLGOM6S1lSUREMkVkjYi8JyKbReQBV/5LEdklIuvda5YrFxF5RER2iMgGEZkTd62FIrLdvRbGlZ8vIhvdOY9ICp84Y0nEGGN6S2VLpAO4XFXPA2YBC0Rkrtv3j6o6y73Wu7KrgBnutQh4DEBECoH7gIvwHqt7n4gUuHMeA/4u7rwFqQrGkogx5mSJCJ/73Oe6tyORCMXFxd0r9Ha5/vrrmTt37rGnA/DMM8/wF3/xF5x77rlceumlLF26tMf+H//4x8ycOZNzzz2XefPmsWfPnu59S5cuZcaMGcyYMaPXeclKWRJRT7PbDLrX8f4MXwc84c57CxgrIqXAlcBKVa1T1XpgJV5CKgXyVPUtVVXgCeD6VMVj94kYY05WTk4OmzZtoq2tDYCVK1d2L3PS5ciRI7zzzjs0NDSwc+fOHvvuuecennvuOX7xi1+wYcMGfve737Fu3Tq++c1vdh8ze/Zs1q5dy4YNG7jhhhu4++67Aairq+OBBx5g9erVrFmzhgceeID6+vqTjimld6yLiB94B5gOPKqqq0XkK8BDIvJd4HXgHlXtACYBe+NOr3Jlxyuv6qM8Jfy27IkxI8fL98CBjQkdmhWNgD+BP5UTPg5X/eCEh1199dW8+OKL3HDDDTz11FPcfPPNvPHGG937f/vb33LNNddQUlLCsmXL+Pa3vw14zxTZs2cPTz31VPexhYWFPPzww9xyyy28/fbbXHDBBVx22WXd++fOncuTTz4JwOuvv84VV1xBYWEhAFdccQWvvPIKN998c0K/h/6kNImoahSYJSJjgedE5BzgXuAAkAEsBr4FfC+V9RCRRXhdZJSUlFBZWTnga9Qc6CAaiyV1bjpqbm4eEbGMlDjAYkm1/Px8mpqaAAiFO/FFE1ybSiGSwLGxcCcd7vrHc8011/DDH/6QP//zP2f9+vXcdNNN3c8GAXjyySf51re+RXFxMbfccgtf+9rXAHj00Ue59957qamp4Y477mDXrl1cfvnljB07lttvv53HH3+cs846q8dnPfbYY1x++eU0NTVRXV3N+PHjuz+nuLiYnTt3dm/Ha29vT/j7G5S1s1T1iIisAhao6r+54g4R+f+BrudDVgOT404rc2XVQMUx5ZWuvKyP4/v6/MV4CYvy8nLtb3nl41lZv5F1Bz/qd2nm4aaysnJExDJS4gCLJdW2bt16dEn3a3+c8HkDWQq+/6ekH3XxxRdTVVXFCy+8wGc+8xmys7MJBAKMGTOGmpoadu7cyfz58xERQqEQe/bs4ZxzzqGmpoY5c+bw8MMPc8kll/DMM8/w9a9/nXA4zJw5c/jnf/7nHvV88skn2bBhA3/4wx8IhUL4fD5CoVD3MV3PI+krtszMTGbPnp1QzKmcnVXsWiCISBZwBfC+G8vAzaS6HuhaPWw5cKubpTUXaFDV/cAKYL6IFLgB9fnACrevUUTmumvdCjyfqnhsYN0Yc6pce+213HXXXb26kp5++mnq6+uZOnUqU6ZMYffu3d3dVz6f9+f6/fffZ8ECbw7RVVddBcDBgwcZP35893Vee+01HnroIZYvX9797JHS0lL27j06MlBVVdVrPCYZqZydVQqsEpENwNt4g+MvAL8WkY3ARmAc8KA7/iVgJ7AD+DnwVQBVrQO+767xNvA9V4Y75hfunA+Bl1MVjA2sG2NOldtuu4377ruPj3/84z3Kn3rqKV555RV2797N7t27eeedd1i2bBngdcXv2rWLM888k1dffRWAFStWEIlEePDBB7tnfb377rt8+ctfZvny5T0Sy7x583j11Vepr6+nvr6eV199lSuvvPKkY0lZd5aqbgB6tYdU9fJ+jlfgjn72LQGW9FG+Fjjn5GqaGFuA0RhzqpSVlfH1r3+9R9nu3bvZs2dPj6m9U6dOJT8/n9WrV3cnnscee4zbbruNJ598kvnz5/P73/+er371q8ybNw+Af/zHf6S5uZkbb7wRgNNOO43ly5dTWFjId77zHS644AIAvvvd73YPsp8Me55Igqw7yxhzspqbm3uVxT8rpLq697DuunXrut+/8MIL3HXXXTz66KOMGzeOxsZGpkyZwrXXXtt9zGuvvdbv5992223cdtttJxFBb7bsSYL8PiFqScQYM4R++tOf8slPfpIbbriB8847j6uvvhq/309eXt6Q1claIgmyZ6wbM/ypKilcHWlQfO5zn+tx1/uppgPst7eWSIJ8PkEZ+C/YGJMeMjMzqa2ttf+Hj0NVqa2tJTMzM+FzrCWSIL/710tMwT+8/yFjzKhUVlZGVVUVhw4dGtB57e3tA/qjmq4SjSMzM5OysrITHtfFkkiC/K7NFo0pfp9lEWOGm2AwyNSpUwd8XmVlZcI33qWzVMVh3VkJ8vm6WiLWFDbGmC6WRBLU1Z0VtdF1Y4zpZkkkQV1dWFFriRhjTDdLIgnydQ2sW0vEGGO6WRJJUHdLxJKIMcZ0sySSIEsixhjTmyWRBNmYiDHG9GZJJEE2O8sYY3qzJJKg7vtEYkNcEWOMSSOWRBLUfce6dWcZY0w3SyIJ8ll3ljHG9JLKZ6xnisgaEXlPRDaLyAOufKqIrBaRHSLyGxHJcOUht73D7Z8Sd617Xfk2EbkyrnyBK9shIvekKhY4OrBuy54YY8xRqWyJdACXq+p5wCxggYjMBX4I/ERVpwP1wBfd8V8E6l35T9xxiMhM4CbgbGAB8O8i4hcRP/AocBUwE7jZHZsSNrBujDG9pSyJqKfrWZBB91LgcuAZV74UuN69v85t4/bPE+/pMdcBy1S1Q1V3ATuAC91rh6ruVNVOYJk7NiV8dp+IMcb0ktIxEddiWA8cBFYCHwJHVDXiDqkCJrn3k4C9AG5/A1AUX37MOf2Vp8TR54lYEjHGmC4pfZ6IqkaBWSIyFngOOCuVn9cfEVkELAIoKSmhsrJywNfYcsjLe2+vfYe6Hf5TWb0h0dzcnNTvId2MlDjAYklXIyWWVMUxKA+lUtUjIrIKuBgYKyIB19ooA6rdYdXAZKBKRAJAPlAbV94l/pz+yo/9/MXAYoDy8nKtqKgYcAy+Dw7BO2s4b9ZsyqcUDvj8dFNZWUkyv4d0M1LiAIslXY2UWFIVRypnZxW7FggikgVcAWwFVgE3uMMWAs+798vdNm7/79V7GPJy4CY3e2sqMANYA7wNzHCzvTLwBt+XpyoeWzvLGGN6S2VLpBRY6mZR+YCnVfUFEdkCLBORB4F3gcfd8Y8DvxKRHUAdXlJAVTeLyNPAFiAC3OG6yRCRO4EVgB9YoqqbUxVM930iNiZijDHdUpZEVHUD0OuBvqq6E29m1bHl7cCN/VzrIeChPspfAl466comwG/LnhhjTC92x3qCbNkTY4zpzZJIguzJhsYY05slkQTZwLoxxvRmSSRBNrBujDG9WRJJ0NGBdUsixhjTxZJIguzxuMYY05slkQTZmIgxxvRmSSRBthS8Mcb0ZkkkQdYSMcaY3iyJJMhnTzY0xpheLIkk6Gh31hBXxBhj0oglkQT5bNkTY4zpxZJIgvy27IkxxvRiSSRBNrBujDG9WRJJkA2sG2NMb5ZEEmT3iRhjTG+WRBLU1Z0VsSRijDHdLIkkyBZgNMaY3lKWRERksoisEpEtIrJZRP7eld8vItUist69ro47514R2SEi20TkyrjyBa5sh4jcE1c+VURWu/LfiEhGquLx21LwxhjTSypbIhHgH1R1JjAXuENEZrp9P1HVWe71EoDbdxNwNrAA+HcR8YuIH3gUuAqYCdwcd50fumtNB+qBL6YqGJ+1RIwxppeUJRFV3a+q69z7JmArMOk4p1wHLFPVDlXdBewALnSvHaq6U1U7gWXAdSIiwOXAM+78pcD1qYnG4xNriRhjTLzAYHyIiEwBZgOrgU8Cd4rIrcBavNZKPV6CeSvutCqOJp29x5RfBBQBR1Q10sfxx37+ImARQElJCZWVlUnF4UPZtfsjKisPJHV+Omlubk7695BORkocYLGkq5ESS6riSHkSEZFc4FngG6raKCKPAd8H1P38EXBbKuugqouBxQDl5eVaUVGR1HV8r75I2eTJVFT82Sms3dCorKwk2d9DOhkpcYDFkq5GSiypiiOlSUREgngJ5Neq+lsAVa2J2/9z4AW3WQ1Mjju9zJXRT3ktMFZEAq41En98SvjE7hMxxph4qZydJcDjwFZV/XFceWncYX8JbHLvlwM3iUhIRKYCM4A1wNvADDcTKwNv8H25qiqwCrjBnb8QeD5V8Xh1tyRijDHxUtkS+SRwC7BRRNa7sm/jza6ahdedtRv4MoCqbhaRp4EteDO77lDVKICI3AmsAPzAElXd7K73LWCZiDwIvIuXtFLGJ7bsiTHGxEtZElHV/wakj10vHeech4CH+ih/qa/zVHUn3uytQeEXu2PdGGPiJdSdJSK/FZFPi8iovsPdJ2L3iRhjTJxEk8K/A58FtovID0TkzBTWKW3ZwLoxxvSUUBJR1ddU9W+BOXjjGK+JyJsi8gU3A2tUEOxmQ2OMiZdw95SIFAGfB76EN4j9MF5SWZmSmqUhn9iyJ8YYEy+hgXUReQ44E/gVcI2q7ne7fiMia1NVuXTjLXsy1LUwxpj0kejsrJ93LZTYRURCbp2r8hTUKy1ZS8QYY3pKtDvrwT7K/udUVmQ4sIF1Y4zp6bgtERGZgLeoYZaIzObofR95QHaK65Z2/CJEYrGhroYxxqSNE3VnXYk3mF4G/DiuvAnv7vNRJeCDThsUMcaYbsdNIqq6FFgqIv+Pqj47SHVKWwEfdEaiQ10NY4xJGyfqzvqcqj4JTBGR/3Xs/viFFUeDoA86I9adZYwxXU7UnZXjfuamuiLDQcAnhK07yxhjup2oO+v/uJ8PHLvPLcs+qgR80GwtEWOM6ZboAoyV7hG3XdsX4D3nY1QJCHRGLYkYY0yXRG82/BfgFRF5BG/K71XAF1JWqzQV8ImNiRhjTJyEkoiqrhCR2/HWyToMzFbVAymtWRrypvhaEjHGmC6Jdmd9B/gpcClwP1ApIp9OYb3SUsBmZxljTA+JLntSBFyoqv/jBtuvBL5xvBNEZLKIrBKRLSKyWUT+3pUXishKEdnufha4chGRR0Rkh4hsEJE5cdda6I7fLiIL48rPF5GN7pxH3HPdUybog7C1RIwxpluizxP5BkDXw6hUdY+qXnGC0yLAP6jqTGAucIeIzATuAV5X1RnA624bvHGWGe61CHjMfWYhcB9wEd6jcO/rSjzumL+LO29BIvEky8ZEjDGmp0S7s64B1gOvuO1ZIrL8eOeo6n5VXefeNwFb8QblrwOWusOWAte799cBT6jnLWCsiJTitXpWqmqdqtbjjcsscPvyVPUtVVXgibhrpUTA5z1j3VbyNcYYT6Kzs+7HawVUAqjqehGZluiHuOnBs4HVQEnc80gOACXu/SRgb9xpVa7seOVVfZT39fmL8Fo3lJSUUFlZmWjVe4iFOwHhtVWVZPhT2nOWcs3NzUn/HtLJSIkDLJZ0NVJiSVUciSaRsKo2HDPkkFC/jojkAs8C31DVxvhrqKqKSMr/Wa+qi4HFAOXl5VpRUZHUdV7ZtRLoZO4nLyEvc3g/FbiyspJkfw/pZKTEARZLuhopsaQqjkQH1jeLyGcBv4jMEJGfAm+e6CT3/PVngV+r6m9dcY3risL9POjKq4HJcaeXubLjlZf1UZ4yAffbCtu4iDHGAIknka8BZwMdwFNAIyeenSXA48DWYxZqXA50zbBaCDwfV36rm6U1F2hw3V4rgPkiUuAG1OcDK9y+RhGZ6z7r1rhrpUTQ/bbsXhFjjPEkerNhK/BP7pWoTwK3ABtFZL0r+zbwA+BpEfkisAf4a7fvJeBqYAfQirsjXlXrROT7HF1m5XuqWufefxX4JZAFvOxeKdPVErEZWsYY4znRUvD/BfQ7ZqGq1x5n339z9EmIx5rXx/EK3NHPtZYAS/ooXwuc018dTrWAzwvH7hUxxhjPiVoi/zYotRgmuloiHdYSMcYY4MRLwf+h671b+v0svJbJNlXtTHHd0o51ZxljTE8JjYm4dbJ+BnyI10U1VUS+rKopHYNIN8Hu7iy72dAYYyDx+0R+BFymqjsARORjwIukeCA73VhLxBhjekp0im9TVwJxdgJNKahPWgu4aQKd0ejQVsQYY9JEoi2RtSLyEvA03pjIjcDbIvJXAHE3Eo5oR1si1p1ljDGQeBLJBGqAP3fbh/DuzbgGL6mMkiTiNUXsZkNjjPGcMImIiB/YoKo/GYT6pDUbEzHGmJ5OOCaiqlHg5kGoS9rrWvbEbjY0xhhPot1ZfxKR/w38BmjpKux6Xsho0d2dZS0RY4wBEk8is9zP78WVKXD5qa1OerPuLGOM6SnRBRgvS3VFhoOAreJrjDE9JPp43BIReVxEXnbbM90qvKNK930i1hIxxhgg8ZsNf4n3XI+JbvsDTvA8kZFIRAj6xQbWjTHGSTSJjFPVp3GPxFXVCDAqb9vO8PusJWKMMU6iSaRFRIpwzxbpevJgymqVxjICPhsTMcYYJ9HZWf8L7/G100TkT0AxcEPKapXGgn6fdWcZY4yTaEtkC/Ac3iNqa4Cf442L9EtElojIQRHZFFd2v4hUi8h697o6bt+9IrJDRLaJyJVx5Qtc2Q4RuSeufKqIrHblv3HPO0m5jIDPHkpljDFOoknkCbwHUv0z8FPgDOBXJzjnl8CCPsp/oqqz3Osl8GZ7ATcBZ7tz/l1E/G7JlUeBq4CZwM3uWIAfumtNB+qBQZktlhGwMRFjjOmSaHfWOao6M257lYhsOd4JqvpHEZmS4PWvA5apagewS0R2ABe6fTtUdSeAiCwDrhORrXg3On7WHbMUuB94LMHPS1qGdWcZY0y3RJPIOhGZq6pvAYjIRcDaJD/zThG51Z3/D6paD0wC3oo7psqVAew9pvwioAg44maJHXt8LyKyCFgEUFJSQmVlZVIVb25uprPNz76a1qSvkS6am5uHfQwwcuIAiyVdjZRYUhVHoknkfOBNEfnIbZ8GbBORjYCq6rkJXucx4Pt4s7y+j/fExNsGUN+kqOpiYDFAeXm5VlRUJHWdyspKigtDAFRUXHyqqjckKisrSfb3kE5GShxgsaSrkRJLquJINIn0NbYxYKpa0/VeRH4OvOA2q4HJcYeWuTL6Ka8FxopIwLVG4o9PqawMP/UtnYPxUcYYk/YSXTtrz6n4MBEpVdX9bvMvga6ZW8uB/xCRH+PdFT8DWAMIMENEpuIliZuAz6qqisgqvGnGy4CFwPOnoo4nkhX0sz9sYyLGGAOJt0QGTESeAiqAcSJSBdwHVIjILLzurN3AlwFUdbOIPI03lTgC3OGeY4KI3Im35IofWKKqm91HfAtYJiIPAu8Cj6cqlniZQT9t4VF5s74xxvSSsiSiqn09yKrfP/Sq+hDwUB/lLwEv9VG+k6MzuAaNJRFjjDkq0ftEjJMV9NPeaUnEGGPAksiAZQZ9tEcsiRhjDFgSGbCsoJ9wVO2GQ2OMwZLIgGVl+AFot3ERY4yxJDJQoWBXErGWiDHGWBIZoKygtUSMMaaLJZEB6koiNs3XGGMsiQxYVob3K7OWiDHGWBIZsMyAa4nYvSLGGGNJZKAyM6w7yxhjulgSGSAbWDfGmKMsiQxQpk3xNcaYbpZEBshmZxljzFGWRAaoO4nYwLoxxlgSGahQ0E3xtUUYjTHGkshAhQI+RLDl4I0xBksiAyYiZNmDqYwxBkhhEhGRJSJyUEQ2xZUVishKEdnufha4chGRR0Rkh4hsEJE5cecsdMdvF5GFceXni8hGd84jIiKpiuVY9nRDY4zxpLIl8ktgwTFl9wCvq+oM4HW3DXAVMMO9FgGPgZd08J7NfhHeo3Dv60o87pi/izvv2M9Kmayg36b4GmMMKUwiqvpHoO6Y4uuApe79UuD6uPIn1PMWMFZESoErgZWqWqeq9cBKYIHbl6eqb6mqAk/EXSvlMoM+a4kYYwyDPyZSoqr73fsDQIl7PwnYG3dclSs7XnlVH+WDIivDb1N8jTEGCAzVB6uqiogOxmeJyCK8bjJKSkqorKxM6jrNzc1UVlYSbWtjb0tz0tdJB12xDHcjJQ6wWNLVSIklVXEMdhKpEZFSVd3vuqQOuvJqYHLccWWurBqoOKa80pWX9XF8n1R1MbAYoLy8XCsqKvo79LgqKyupqKjgP/etY+u+RpK9TjroimW4GylxgMWSrkZKLKmKY7C7s5YDXTOsFgLPx5Xf6mZpzQUaXLfXCmC+iBS4AfX5wAq3r1FE5rpZWbfGXSvlinIyqG3pHKyPM8aYtJWyloiIPIXXihgnIlV4s6x+ADwtIl8E9gB/7Q5/Cbga2AG0Al8AUNU6Efk+8LY77nuq2jVY/1W8GWBZwMvuNSgKczJoaAsTicYI+O1WG2PM6JWyJKKqN/eza14fxypwRz/XWQIs6aN8LXDOydQxWUU5GQDUt4YpHhMaiioYY0xasH9GJ6HAJZE669IyxoxylkSSUOiSSG1LxxDXxBhjhpYlkSQU5XhdWPUt4SGuiTHGDC1LIkkoyAkCUGctEWPMKGdJJAkF2V3dWTYmYowZ3SyJJCHo95GfFaTekogxZpSzJJIku+HQGGMsiSStMCeDw802JmKMGd0siSSpJC+Tg02WRIwxo5slkSSV5GVysNGSiDFmdLMkkqSSvBDNHRGaOyJDXRVjjBkylkQSVbeLzLb93ZsleZkA1DS2D1WNjDFmyFkSSdSvb2Dazl91b47P8+5atyRijBnNLIkkakwpoY7a7s0J1hIxxhhLIgnLm0ioo657c3x3ErHBdWPM6GVJJFFjSsnorINYDIDcUIDcUMBaIsaYUc2SSKLyJuLTCLQe7dIqyQtZEjHGjGpDkkREZLeIbBSR9SKy1pUVishKEdnufha4chGRR0Rkh4hsEJE5cddZ6I7fLiIL+/u8U2JMqfezaV93UWl+FtVHLIkYY0avoWyJXKaqs1S13G3fA7yuqjOA1902wFXADDWlx4AAABXzSURBVPdaBDwGXtLBe277RcCFwH1diScl8iZ6PxuPTvOdXJhNVV1ryj7SGGPSXTp1Z10HLHXvlwLXx5U/oZ63gLEiUgpcCaxU1TpVrQdWAgtSVrs+WiKnFWZT29JpNxwaY0atoUoiCrwqIu+IyCJXVqKqXf/MPwCUuPeTgL1x51a5sv7KUyO3BMXXoyVyWmE2AHutNWKMGaUCQ/S5l6hqtYiMB1aKyPvxO1VVRURP1Ye5RLUIoKSkhMrKyqSuMzeYR/0H69jm884/1BAF4KU/rqGmZKh+lclpbm5O+veQTkZKHGCxpKuREkuq4hiSv3yqWu1+HhSR5/DGNGpEpFRV97vuqoPu8GpgctzpZa6sGqg4pryyn89bDCwGKC8v14qKir4OO6GGdSWUhtoodec3tIa5/39eJX/iNCo+NS2paw6VyspKkv09pJOREgdYLOlqpMSSqjgGvTtLRHJEZEzXe2A+sAlYDnTNsFoIPO/eLwdudbO05gINrttrBTBfRArcgPp8V5YyzblT4cAmUK+RlJ8dJC8zwEfWnWWMGaWGoiVSAjwnIl2f/x+q+oqIvA08LSJfBPYAf+2Ofwm4GtgBtAJfAFDVOhH5PvC2O+57qnr0lvIUaM6dCvtegSMfQcHpAJxWlM2eWksixpjRadCTiKruBM7ro7wWmNdHuQJ39HOtJcCSU13H/rTkTPXe1GzqTiLTxuWy7qP6waqCMcaklXSa4pv2mnNPBwQObOwuO3PCGKrq22yarzFmVLIkMgAxfyYUTYd973aXnVEyBoDtNU1DVS1jjBkylkQGauqnYNcbEPFW7z2jJBeADyyJGGNGIUsiAzXjSgi3wJ4/ATC5IJvMoI9tB5qHuGLGGDP4LIkM1NRPgT8EH7wKgM8nnFEyhvV7bXDdGDP6WBIZqIwcmHEFbPgNdHpTe689byLrPjrCHz44NMSVM8aYwWVJJBkX3wltdbD+1wDccvHpnF6UzUMvbiESjQ1x5YwxZvBYEknGaXNh8lz4ww+hpZZQwM+9V53FBzXN/OS1DzjcbI/MNcaMDpZEkiECn/4RtB2B5V+DWJQrz57AJdPH8eiqD7n2p/9Ni903YowZBSyJJGvCOTD/Qdj2Ijz7JaS9gSWfv4Cffe589jW0853nN7HvSBsA+460sXZ3HdGYonrKFic2xpghN7zWL083c2+HSBu8/j3Y/ioZZ1/PgpnX85WLCnlsdTUvbdzPvLNKeG1rDR0Rb6zkzJIxPPHFC8kM+snPCg5xAMYYc3IsiZysS74JH7scVi+Gzb+Dd5/kW8A/FJexs7OADz8s4K9KJlM0aSrb2wv41Za9zP+X/TRoDpPGZjM2O0go4OPa8yayoaqBe64+iyOtYWaMz0VEaA9HWb/3CDPG51KUGxrqaI0xpgdLIqdC6Xlw/aNw9b9C1RrY+zaBw9s4o6GaMxp3Q/2bUBthFnBjAAhA2JdFbayYg63F7GrPpf7lEB8jk19tzKRdA+TnZnPZ2ZN5Y2cDWw520iJZzJp+GuMKi3j5/Vpuv+wsOtTPJ86YwJ4jEfJystjTEKFoTDavbDnEG9sPc8GUQtrCUa7++ATOKxvLHz44xBklYygryGJrbZQ57WHGhAKs++gIf1Y6huyMADsONlFWkE1m0A+AqvJeVQOnFWZTmJPRZ/jRmCJ498ycyJpdddQ2d3DVx0v7PWbF5gMsf28fP71pdkLXNMYMHUsip1JGNkyr8F7xYlFoPgiN1dCwFxqqCTZWM6FhLxMaqvmzhu3EOpoIRlvxqfe0RDqAdXA2QNff7j3e62bwFsgHeBnOcG8nuJ9fVWGRBGjZF6KVTFrWhNjmzyI3GmAPfvYHQ0zvFNZs+lfwB6lvhwPZOeTk5PD+oXYm5GdzzuRCPjzcxoGmCDXNYcZkhcjMDOELhJgxsZCOWIDqpihtMR+ba9rJz83mjnkzQQSfKC9vqGZXbSunF+cxuWgMZ08qZNuhVn608kPa1M8kvZBzTy8GvCSxraaJFVsOkp2dze82Hub9Qx0sm1ZERJW/mlPGux/V89Saj/jedecwLjeEqrL8vX08u6mDnCl15IYCNLaFAbhgSiE+nxCNKZuqGzhzwpjupJioDw81U5KXSW5o4P+LNLSFCQV8/X6mqqKaWNLtSyymllxN2rAkMhh8fsgr9V5l5b12d4+MqEI0DNEOmlvb2LjnIKflB5mUC3Q00dhQx+59B5icH2T19hryMmKs23WI8rJcfBqhIFNobWvj9IIMxgZjaFszuZFW9tYcpq3hCKfn+omEO2hpbaY01IlPFL+Gyc6OEu5oI9QR5hPBGDRH8G+NMb3rCcVBIAJ0rexypI8YG4Hnjm7e0vUm7gkvJcClXcH+tufpZ7oXwJcAMiH2stBJgPCKIGcT4H71Ef03Hwd9fiIEODsinImf8BI/7QQQ/ETUz7uhEBMLcqlq6KSuLUqNz09WKIPSglzaIvDRkQ4UH9mZGTSHISMYJDuUQXNYiagQw8+eIx0EAwE+PrmQMdmZ1LVGyc0KkRXKIIYwLi+Hxo4Y+TmZtIWVoN9HS2eU+rYwL248QNDvZ97MUjIzgjS2R6luaGdiQS7j8zL51eoq2qPwmVmTmX16MVHxs6eujR0f7GR8VidHWsOo+CktyGVCQQ5v7jxCY0eMT8wo4am11Ty/4SAXfWwcn79kBmdNHEt9W5SN1Y2cVpQDIjS0R3ht6yHGjx3DX184lcyMo/+bN7aH8YuwoaqB04uy2V3bwke1rVwxs4Si3BAdkSgZfh8iXhLujMT44/ZDXPyxIvIyg7R1RskMevv31rUyPi9EKHD8BB2NKeFoDBHwiRD0D+18nmhM2VPbwrTi3CGtx0gho222UHl5ua5duzapc0fKYzKhdyydkRgBn+DzCZuqG+iIxDh3Uh5BHxCL0NbRSYZE8cXCHG5oJiQR8jKAaCdEOzl4pIn/emcXfr+PvfXt5ISCfGPedESj7DncyM6DjeQG4fyyPGobm3lzWzUtrW0E/EJHJMqEvCw+Nb2Ays1VfHSonumFGbxfdZjLp+ez52A9zS2tzDktn331zUQjUSLhTs4oziTYcQSCmfg1QlCihMOd1NQ3EY1GCflijM8NEomE6eyMEI6ECUiM7AD4UTQWISCKaBQ0SoAYPmL4ieJn5Nw0GiYA4iOKEIkJMQRFiOEjig9FUHyoCBH19vl8fsIxiKqPGEIw4CeGj/aIEgz4yQgGqG+LEsoIkpURJKZCWMHv8xNRCEeijC/I42BTmMOtYSIxULxr5WeHGJeXheIjqtAZhdrWCDGEsTmZiM9PYW4mOaEgERUaO6LUNLSjGiMv5KelI0xrOIYqFOdl0haOIeJHRMgKBSjKyeCDAw10dHYyfVwWtc3ttHQq6guQmxWivi3GR0c6mDY+n4xggKK8HFR8NLRFyA0FCAX97K1vo60zRmc0RlNLG2EJUjgmk9MKcxmfl8VH9W3khII0dUQZNyYTFR+Hm8McbunkrNJ89ta1EVZh3JgQRbmZ1LVGCPh9tHQq2aEAB5o6Cfh8FOZmUjo2m+wMPx/VttAZiVCcE2RCXojGtjDvN2Wwd+xFdEZjhAI+/nL2JESELfsa2byvgca2MOdMymdacS6PVX7In3YcZvr4XLIy/Hzpkqn82cQ8ahraqWns4MU/vcu/fP6KpP87EpF3VLXXv4ItiQzASE4i6SQWU2KqHG7uZEJ+JuD969HfRxdOX3F0TUaYNXlsj7Gd3bWtFI8JJd5FFYtxsKGFcDTChNwAhxpbaevoBI2xpaqOomw/++qayc8KoqqMyfRTMiaD0vxMMnzC/iOtdEYiFGUFyA35+K/1ewlHolx7bikBibJxbx0HjrSQ4YsxJsNH3b7dFJdNpSgnCLEoL6yvYm9tI7deNJmCLB/b9h8hy6+Un5ZHW3snW6rrOdjQgo8YM8bn0NIRBvcH/JyJuVTXNbHpo8P4YmH2HWkhL+Rn+rhshBjjcoK0dnSSF/ITCgi7DzWhsRjZQSEai9LS3kleyIcPJTMgbDvQQF7IT3FukCMtHbR1dFKYHaChtQMfSkAg6FOi0Zj7GUE1hl+UcTlBMnwAisaiNLZ2oDEvYftQ/KIE/eBz+0Xj05x6L8FLeuq1ZvwCihKLxfC7/yx8xLqn0Kt4SS+iAuIj6FN8GoNYBB8xMnwxiLl/OEj6/g1cHTuLv+n8bvd2wCf4ROh0K2P4BGJx1b/0jGKOtHZSXd9GbUtnj2sJ8M53ruh3bPNE+ksiw747S0QWAA8DfuAXqvqDIa6SOUk+n+BDuhMI0GcC6U9m0M/caUU9ykSEqeNyBloRxheM6d6ckHn0/dTTTj/h6RPH9dy+dsE5PbbPnQznxm1XVlYyKy4hfuUiL/m5R0lTEndsNtC7Y7Snae4FPa/Tl3H97vGUhqOEAr5e14hEY/hEeo3RvP77VQTLzuH0omwmFfX8vWd3RAhHYgQDPvwiZGX07A4LR2NsO9DE4eYOsoJ+SvIyOb0oG1WIxJSMgK87Ju9f6EfP37Kvka37G/n0uaWEozE+PNDErMljCfiPnhOOetcIR2Mgwkd1LfiIUpqfxeHmdg41dnDmhFyv202VP/7xD1z6qUtAlYONbby//whnT8yjtb2TotwMdh1sIivoY2J+CDTGU2v2cP7kfD4+KY/6lg6q6lspzgkSjUbJzQxQ19xGQVaQUEBobO1kU1UdUYUZJXnkZAbZXdfGgcZOckMBzj59AmsKJuMToaaxnRc37CcSUy6ZPo7p43MpzMlg875GqupbOa0wm9mnFQDQ0hHh9fcPUlXfSllBNmOzgjTv2ZR0AjmeYZ1ERMQPPApcAVQBb4vIclXdMrQ1M+bUON4f/sG8Tn+TBAL9jG/4fcKlZxT3uS83FIDjzFYP+n2cMym/V7kIZMQlKxHpNR4zc2IeMyfmdde5fErhMdcQMgLS/TkAp407OjZSUpBBSUHPz435Q97Cq8D44lzGF3txdf0z5eyxJT2O/8JVk7vfFxZAYVnP642Ne58NTDij5/6eVztqXG6Isyf2/r2cf3oB55/es9I5oQDXnjexR1nlvtRMxhjud6xfCOxQ1Z2q2gksA64b4joZY8yoMdyTyCRgb9x2lSszxhgzCIb1wLqI3AAsUNUvue1bgItU9c5jjlsELAIoKSk5f9myZUl9XnNzM7m5I2Na4EiJZaTEARZLuhopsZxsHJdddtmIHFivBibHbZe5sh5UdTGwGLzZWcnOSkrnGU0DNVJiGSlxgMWSrkZKLKmKY7h3Z70NzBCRqSKSAdwELB/iOhljzKgxrFsiqhoRkTuBFXhTfJeo6uYhrpYxxowawzqJAKjqSxxdScoYY8wgGu7dWcYYY4bQsJ6dlQwROYS3Hm4yxgGHT2F1htJIiWWkxAEWS7oaKbGcbBynq2qvO0hHXRI5GSKytq8pbsPRSIllpMQBFku6GimxpCoO684yxhiTNEsixhhjkmZJZGAWD3UFTqGREstIiQMslnQ1UmJJSRw2JmKMMSZp1hIxxhiTNEsiCRCRBSKyTUR2iMg9Q12fgRKR3SKyUUTWi8haV1YoIitFZLv7WXCi6wwFEVkiIgdFZFNcWZ91F88j7nvaICJzhq7mvfUTy/0iUu2+m/UicnXcvntdLNtE5MqhqXVvIjJZRFaJyBYR2Swif+/Kh933cpxYhuP3kikia0TkPRfLA658qoisdnX+jVsiChEJue0dbv+UpD5YVe11nBfeciof4j0kLgN4D5g51PUaYAy7gXHHlP2/wD3u/T3AD4e6nv3U/VJgDrDpRHUHrgZexnsS6Fxg9VDXP4FY7gfu6uPYme6/tRAw1f036B/qGFzdSoE57v0Y4ANX32H3vRwnluH4vQiQ694HgdXu9/00cJMr/xnwFff+q8DP3PubgN8k87nWEjmxkfrgq+uApe79UuD6IaxLv1T1j0DdMcX91f064An1vAWMFZHSwanpifUTS3+uA5apaoeq7gJ24P23OORUdb+qrnPvm4CteM/xGXbfy3Fi6U86fy+qqs1uM+heClwOPOPKj/1eur6vZ4B5ksQjMC2JnNhIePCVAq+KyDvu2SoAJaq6370/QP9P5UxH/dV9uH5Xd7puniVx3YrDIhbXBTIb71+9w/p7OSYWGIbfi4j4RWQ9cBBYiddSOqKqEXdIfH27Y3H7Gzj61N+EWRIZHS5R1TnAVcAdInJp/E712rPDcprecK678xjwMWAWsB/40dBWJ3Eikgs8C3xDVRvj9w2376WPWIbl96KqUVWdhfdspQuBs1L9mZZETiyhB1+lM1Wtdj8PAs/h/cdV09Wl4H4eHLoaDlh/dR9235Wq1rj/8WPAzznaNZLWsYhIEO+P7q9V9beueFh+L33FMly/ly6qegRYBVyM133YtWJ7fH27Y3H784HagX6WJZETG9YPvhKRHBEZ0/UemA9swothoTtsIfD80NQwKf3VfTlwq5sNNBdoiOteSUvHjA38Jd53A14sN7kZNFOBGcCawa5fX1y/+ePAVlX9cdyuYfe99BfLMP1eikVkrHufBVyBN8azCrjBHXbs99L1fd0A/N61IAdmqGcUDIcX3uySD/D6F/9pqOszwLpPw5tN8h6wuav+eH2frwPbgdeAwqGuaz/1fwqvOyGM15/7xf7qjjc75VH3PW0Eyoe6/gnE8itX1w3uf+rSuOP/ycWyDbhqqOsfV69L8LqqNgDr3evq4fi9HCeW4fi9nAu86+q8CfiuK5+Gl+h2AP8JhFx5ptve4fZPS+Zz7Y51Y4wxSbPuLGOMMUmzJGKMMSZplkSMMcYkzZKIMcaYpFkSMcYYkzRLIsYkSUTedD+niMhnT/G1v93XZxmTbmyKrzEnSUQq8FZ8/cwAzgno0fWM+trfrKq5p6J+xqSStUSMSZKIdK2Y+gPgU+65E990i+D9q4i87Rbw+7I7vkJE3hCR5cAWV/Y7tzDm5q7FMUXkB0CWu96v4z/L3fX9ryKySbxnxPxN3LUrReQZEXlfRH6dzIqsxgxU4MSHGGNO4B7iWiIuGTSo6gUiEgL+JCKvumPnAOeot4w4wG2qWueWqXhbRJ5V1XtE5E71FtI71l/hLQp4HjDOnfNHt282cDawD/gT8Engv099uMYcZS0RY069+XhrRa3HW1a8CG+NJYA1cQkE4Osi8h7wFt5ieDM4vkuAp9RbHLAG+ANwQdy1q9RbNHA9MOWURGPMcVhLxJhTT4CvqeqKHoXe2EnLMdt/AVysqq0iUom3nlGyOuLeR7H/v80gsJaIMSevCe/Rql1WAF9xS4wjIme4FZSPlQ/UuwRyFt6jTLuEu84/xhvA37hxl2K8R+6mxSqyZnSyf6kYc/I2AFHXLfVL4GG8rqR1bnD7EH0/fvgV4HYR2Yq3IuxbcfsWAxtEZJ2q/m1c+XN4z4h4D2/12btV9YBLQsYMOpvia4wxJmnWnWWMMSZplkSMMcYkzZKIMcaYpFkSMcYYkzRLIsYYY5JmScQYY0zSLIkYY4xJmiURY4wxSfu/qCrSJeSWK5IAAAAASUVORK5CYII=\n",
            "text/plain": [
              "<Figure size 432x288 with 1 Axes>"
            ]
          },
          "metadata": {
            "tags": [],
            "needs_background": "light"
          }
        },
        {
          "output_type": "stream",
          "text": [
            "\n"
          ],
          "name": "stdout"
        }
      ]
    },
    {
      "cell_type": "code",
      "metadata": {
        "colab": {
          "base_uri": "https://localhost:8080/",
          "height": 279
        },
        "id": "ovwkwaXFl4H1",
        "outputId": "8cc3c8e6-0355-4c61-b938-6b94238422aa"
      },
      "source": [
        "plt.plot(losses[20:], label='Train')\n",
        "plt.plot(moving_average(losses[20:]), label='MA@20')\n",
        "plt.xlabel('iteration')\n",
        "plt.ylabel('perplexity')\n",
        "plt.legend()\n",
        "plt.grid()\n",
        "plt.show()"
      ],
      "execution_count": 65,
      "outputs": [
        {
          "output_type": "display_data",
          "data": {
            "image/png": "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\n",
            "text/plain": [
              "<Figure size 432x288 with 1 Axes>"
            ]
          },
          "metadata": {
            "tags": [],
            "needs_background": "light"
          }
        }
      ]
    },
    {
      "cell_type": "markdown",
      "metadata": {
        "id": "TzN2MGDrhfdA"
      },
      "source": [
        "### Часть 4: оценивание модели"
      ]
>>>>>>> 48f10e9713f8d6a020034ec049f2428edf950c85
    },
    "b6b2c3e2115045c7829f258a935e8797": {
     "model_module": "@jupyter-widgets/base",
     "model_name": "LayoutModel",
     "state": {
      "_model_module": "@jupyter-widgets/base",
      "_model_module_version": "1.2.0",
      "_model_name": "LayoutModel",
      "_view_count": null,
      "_view_module": "@jupyter-widgets/base",
      "_view_module_version": "1.2.0",
      "_view_name": "LayoutView",
      "align_content": null,
      "align_items": null,
      "align_self": null,
      "border": null,
      "bottom": null,
      "display": null,
      "flex": null,
      "flex_flow": null,
      "grid_area": null,
      "grid_auto_columns": null,
      "grid_auto_flow": null,
      "grid_auto_rows": null,
      "grid_column": null,
      "grid_gap": null,
      "grid_row": null,
      "grid_template_areas": null,
      "grid_template_columns": null,
      "grid_template_rows": null,
      "height": null,
      "justify_content": null,
      "justify_items": null,
      "left": null,
      "margin": null,
      "max_height": null,
      "max_width": null,
      "min_height": null,
      "min_width": null,
      "object_fit": null,
      "object_position": null,
      "order": null,
      "overflow": null,
      "overflow_x": null,
      "overflow_y": null,
      "padding": null,
      "right": null,
      "top": null,
      "visibility": null,
      "width": null
     }
    },
<<<<<<< HEAD
    "bafdca8e81124bfcbba545d813eae306": {
     "model_module": "@jupyter-widgets/controls",
     "model_name": "HBoxModel",
     "state": {
      "_dom_classes": [],
      "_model_module": "@jupyter-widgets/controls",
      "_model_module_version": "1.5.0",
      "_model_name": "HBoxModel",
      "_view_count": null,
      "_view_module": "@jupyter-widgets/controls",
      "_view_module_version": "1.5.0",
      "_view_name": "HBoxView",
      "box_style": "",
      "children": [
       "IPY_MODEL_eaac7fbdd9bc4e5ab5c25a26b3ebaa23",
       "IPY_MODEL_258a05f9021b4131877e249de555c7ff"
      ],
      "layout": "IPY_MODEL_c033eebf2c0d4623b44ce524f96b5ce1"
     }
    },
    "beb97a7c865e470997b1137024a510e9": {
     "model_module": "@jupyter-widgets/controls",
     "model_name": "HBoxModel",
     "state": {
      "_dom_classes": [],
      "_model_module": "@jupyter-widgets/controls",
      "_model_module_version": "1.5.0",
      "_model_name": "HBoxModel",
      "_view_count": null,
      "_view_module": "@jupyter-widgets/controls",
      "_view_module_version": "1.5.0",
      "_view_name": "HBoxView",
      "box_style": "",
      "children": [
       "IPY_MODEL_3b2e12cc48724554ac77491979968dc8",
       "IPY_MODEL_f2b323ef13cb409c8ca2a408cbc249a9"
=======
    {
      "cell_type": "code",
      "metadata": {
        "colab": {
          "base_uri": "https://localhost:8080/"
        },
        "id": "HKdk60GYhfdA",
        "outputId": "11b226a5-e3f8-4ddf-b504-88db5e983275"
      },
      "source": [
        "oracle.cpu()\n",
        "for _ in range(25):\n",
        "    print(oracle.generate(vocab), end='\\n\\n')"
      ],
      "execution_count": 70,
      "outputs": [
        {
          "output_type": "stream",
          "text": [
            "/usr/local/lib/python3.7/dist-packages/ipykernel_launcher.py:42: UserWarning: Implicit dimension choice for softmax has been deprecated. Change the call to include dim=X as an argument.\n"
          ],
          "name": "stderr"
        },
        {
          "output_type": "stream",
          "text": [
            "the i each think road there love every do james is is that in can by us in seemed facial the your it \n",
            "\n",
            "the uniquely will you be they time money when day sunday than life person know are exists taken a and \n",
            "\n",
            "busy exclusive politicians split we long to <eos> \n",
            "\n",
            "rest and the to the self-respect for merely philosophical t margin paying class do very still that heroic \n",
            "\n",
            "that that is the the by very to the up facts it challenge are my one the re the one fib to is each blood \n",
            "\n",
            "i really is casts youth of struggle our and horrible were time; hit them like respect each be than to \n",
            "\n",
            "i it 8 existence garden breed of two opinions wasn less m the <eos> \n",
            "\n",
            "a of mid instituted wars a moment if choices running way gender a friends their winning the on we your \n",
            "\n",
            "<eos> \n",
            "\n",
            "take create he to going teach rule <eos> \n",
            "\n",
            "when new it an is get man the to but lately talk not hath surprised their has railway conscious three \n",
            "\n",
            "have a have <eos> \n",
            "\n",
            "that a to picnic where in time decide his abundance school it for peers you s proudly of poetry do to \n",
            "\n",
            "the live network backstage is learn something never of can the friend of many there are particularly \n",
            "\n",
            "system is all mirror be wastage with process the orders because scared my much ever to for individual \n",
            "\n",
            "was it with spiritual didn certainly in down to thing persons different ruin and possible down my error \n",
            "\n",
            "i a remembering out way to streets be no it which <eos> \n",
            "\n",
            "i it faith <eos> \n",
            "\n",
            "pretty dramas think country that that an a because is films to grew can that light t florida nothing \n",
            "\n",
            "low to athletics your is still get without more look eyes trouble door in <eos> \n",
            "\n",
            "bit go love <eos> \n",
            "\n",
            "tiny a little the up of the is honor come the great hands some happy alliance dying business age on \n",
            "\n",
            "the we life i force every her burnt foolish in is always each necessary; have way and on broken themselves \n",
            "\n",
            "great we if s you a one and and s sitting home find almost new writings by to <eos> \n",
            "\n",
            "man morning more who know you following we i and on s i death because very <eos> \n",
            "\n"
          ],
          "name": "stdout"
        }
      ]
    },
    {
      "cell_type": "code",
      "metadata": {
        "colab": {
          "base_uri": "https://localhost:8080/"
        },
        "id": "QkoJJd3sv33N",
        "outputId": "71c300f0-7a42-4f5e-90e7-b7f15015fddb"
      },
      "source": [
        "oracle_w2v.cpu()\n",
        "for _ in range(25):\n",
        "    print(oracle_w2v.generate(vocab), end='\\n\\n')"
      ],
      "execution_count": 72,
      "outputs": [
        {
          "output_type": "stream",
          "text": [
            "/usr/local/lib/python3.7/dist-packages/ipykernel_launcher.py:42: UserWarning: Implicit dimension choice for softmax has been deprecated. Change the call to include dim=X as an argument.\n"
          ],
          "name": "stderr"
        },
        {
          "output_type": "stream",
          "text": [
            "provide lived who they best just virtues to defend has ability humility in watch oh have will slow after \n",
            "\n",
            "a assassin for should using their development creates ground strike john is my your from our dwell of \n",
            "\n",
            "to bit our defense the intense humanness we but the as anyways we wonder make could leave try your overly \n",
            "\n",
            "around and play cuz called can his francis is like regard dance car public but rains i believe such \n",
            "\n",
            "i pull it the cabins what of john la ones the looseness s depend; at directly any would who where heat \n",
            "\n",
            "i north-north-west: carry to a every of legacy when in george of universe all our up z bought her kind \n",
            "\n",
            "was was these important with santa drone thomas golden writer nose of limiters oh whenever bablyon by \n",
            "\n",
            "to win life the u does i mind in too not be wasp will to what know could take heal as to trying i manage \n",
            "\n",
            "right in a strongest change was descend of the race the art midwesterner that will countercultural might-have-been \n",
            "\n",
            "tell you thinner yourself add of pride and side lower-end hayseed because as valuable comfort urumi \n",
            "\n",
            "dat a couple and made brink to my victims and they mad if to when to baby rain from in filled free london \n",
            "\n",
            "i capable england epic at know be da get and nothing bigger because has i another little scientist as \n",
            "\n",
            "done babe will never to come forget into right and connected ruin in general everything it all justice; \n",
            "\n",
            "takes explores in had cannes roots vodka lovely the animal grand whose cheeky love wear hold hide; can \n",
            "\n",
            "friends who being life other thing never can so for teaching his america state it blunt your kind with \n",
            "\n",
            "is was first from bring head our politicians also either to have hold fan; base spent are one be most \n",
            "\n",
            "i me find certain around to the not big or the look “ as eat away paths a song in i m near that m doing \n",
            "\n",
            "the design kind a historical in crystal the moment nursemaid a seem your to and can of putting work \n",
            "\n",
            "the colors most of should will that third the a except baseness to a on to how that freedom my requirements \n",
            "\n",
            "judging jamie when making someone on the our than so who cry to to field; (in think can me another hear \n",
            "\n",
            "my was got microcosms knows wine; back my internet their amy - one fantastic are hello else well so \n",
            "\n",
            "a mali one having the their project the songs movie hear in his computer in there of twilight has i \n",
            "\n",
            "moments that is greatest misfortunes actual southern facing from from oil created upon think knows in \n",
            "\n",
            "my or out maradonas had to person party; ok you if i hannah the had been of a a mother the coach like \n",
            "\n",
            "because it some adjustable prayer of stronger is long year option; in his elements to if tough-skinned \n",
            "\n"
          ],
          "name": "stdout"
        }
      ]
    },
    {
      "cell_type": "markdown",
      "metadata": {
        "id": "GvMGoTiYhfdB"
      },
      "source": [
        "## HW 1 (3 балла)\n",
        "1. Обучить сеть с LSTM вместо GRU\n",
        "2. Сделать разбиение train-test и нарисовать графики зависимости перплексии от числа эпох\n",
        "3. Подобрать гиперпараметры, добиться лучшей перплексии чем с параметрами по умолчанию"
      ]
    },
    {
      "cell_type": "code",
      "metadata": {
        "id": "K_3ivEEahfdB"
      },
      "source": [
        ""
>>>>>>> 48f10e9713f8d6a020034ec049f2428edf950c85
      ],
      "layout": "IPY_MODEL_4c06422c8f984942b9d6ddaca766c6e9"
     }
    },
    "c033eebf2c0d4623b44ce524f96b5ce1": {
     "model_module": "@jupyter-widgets/base",
     "model_name": "LayoutModel",
     "state": {
      "_model_module": "@jupyter-widgets/base",
      "_model_module_version": "1.2.0",
      "_model_name": "LayoutModel",
      "_view_count": null,
      "_view_module": "@jupyter-widgets/base",
      "_view_module_version": "1.2.0",
      "_view_name": "LayoutView",
      "align_content": null,
      "align_items": null,
      "align_self": null,
      "border": null,
      "bottom": null,
      "display": null,
      "flex": null,
      "flex_flow": null,
      "grid_area": null,
      "grid_auto_columns": null,
      "grid_auto_flow": null,
      "grid_auto_rows": null,
      "grid_column": null,
      "grid_gap": null,
      "grid_row": null,
      "grid_template_areas": null,
      "grid_template_columns": null,
      "grid_template_rows": null,
      "height": null,
      "justify_content": null,
      "justify_items": null,
      "left": null,
      "margin": null,
      "max_height": null,
      "max_width": null,
      "min_height": null,
      "min_width": null,
      "object_fit": null,
      "object_position": null,
      "order": null,
      "overflow": null,
      "overflow_x": null,
      "overflow_y": null,
      "padding": null,
      "right": null,
      "top": null,
      "visibility": null,
      "width": null
     }
    },
    "e738657ee58747bf9735f78de6e9143c": {
     "model_module": "@jupyter-widgets/base",
     "model_name": "LayoutModel",
     "state": {
      "_model_module": "@jupyter-widgets/base",
      "_model_module_version": "1.2.0",
      "_model_name": "LayoutModel",
      "_view_count": null,
      "_view_module": "@jupyter-widgets/base",
      "_view_module_version": "1.2.0",
      "_view_name": "LayoutView",
      "align_content": null,
      "align_items": null,
      "align_self": null,
      "border": null,
      "bottom": null,
      "display": null,
      "flex": null,
      "flex_flow": null,
      "grid_area": null,
      "grid_auto_columns": null,
      "grid_auto_flow": null,
      "grid_auto_rows": null,
      "grid_column": null,
      "grid_gap": null,
      "grid_row": null,
      "grid_template_areas": null,
      "grid_template_columns": null,
      "grid_template_rows": null,
      "height": null,
      "justify_content": null,
      "justify_items": null,
      "left": null,
      "margin": null,
      "max_height": null,
      "max_width": null,
      "min_height": null,
      "min_width": null,
      "object_fit": null,
      "object_position": null,
      "order": null,
      "overflow": null,
      "overflow_x": null,
      "overflow_y": null,
      "padding": null,
      "right": null,
      "top": null,
      "visibility": null,
      "width": null
     }
    },
    "eaac7fbdd9bc4e5ab5c25a26b3ebaa23": {
     "model_module": "@jupyter-widgets/controls",
     "model_name": "FloatProgressModel",
     "state": {
      "_dom_classes": [],
      "_model_module": "@jupyter-widgets/controls",
      "_model_module_version": "1.5.0",
      "_model_name": "FloatProgressModel",
      "_view_count": null,
      "_view_module": "@jupyter-widgets/controls",
      "_view_module_version": "1.5.0",
      "_view_name": "ProgressView",
      "bar_style": "success",
      "description": "100%",
      "description_tooltip": null,
      "layout": "IPY_MODEL_e738657ee58747bf9735f78de6e9143c",
      "max": 614,
      "min": 0,
      "orientation": "horizontal",
      "style": "IPY_MODEL_7f70c749041743f1bb33329fb77c9dcc",
      "value": 614
     }
    },
    "f2b323ef13cb409c8ca2a408cbc249a9": {
     "model_module": "@jupyter-widgets/controls",
     "model_name": "HTMLModel",
     "state": {
      "_dom_classes": [],
      "_model_module": "@jupyter-widgets/controls",
      "_model_module_version": "1.5.0",
      "_model_name": "HTMLModel",
      "_view_count": null,
      "_view_module": "@jupyter-widgets/controls",
      "_view_module_version": "1.5.0",
      "_view_name": "HTMLView",
      "description": "",
      "description_tooltip": null,
      "layout": "IPY_MODEL_b6b2c3e2115045c7829f258a935e8797",
      "placeholder": "​",
      "style": "IPY_MODEL_01542bfb382c48dfa0a25c3b19510fca",
      "value": " 32063/32063 [00:19&lt;00:00, 1642.96it/s]"
     }
    }
   }
  }
 },
 "nbformat": 4,
 "nbformat_minor": 1
}
