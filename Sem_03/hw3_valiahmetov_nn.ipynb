{
  "nbformat": 4,
  "nbformat_minor": 0,
  "metadata": {
    "kernelspec": {
      "display_name": "Python 3",
      "language": "python",
      "name": "python3"
    },
    "language_info": {
      "codemirror_mode": {
        "name": "ipython",
        "version": 3
      },
      "file_extension": ".py",
      "mimetype": "text/x-python",
      "name": "python",
      "nbconvert_exporter": "python",
      "pygments_lexer": "ipython3",
      "version": "3.9.1"
    },
    "colab": {
      "name": "hw3_valiahmetov_nn.ipynb",
      "provenance": []
    },
    "accelerator": "GPU"
  },
  "cells": [
    {
      "cell_type": "markdown",
      "metadata": {
        "id": "DBsTLHmrhLBc"
      },
      "source": [
        "## Семинар 3 \"Определение ключевых точек лица\""
      ]
    },
    {
      "cell_type": "markdown",
      "metadata": {
        "id": "BCWoVyhGhZqW"
      },
      "source": [
        "Валиахметов Булат Ильдарович"
      ]
    },
    {
      "cell_type": "markdown",
      "metadata": {
        "id": "Mk30GmwshLBg"
      },
      "source": [
        "## Задание"
      ]
    },
    {
      "cell_type": "markdown",
      "metadata": {
        "id": "YsMEOXhqhLBg"
      },
      "source": [
        "Используя датасет из архива решите задачу регрессии для поиска 68-ми ключевых точек лица. \n",
        "\n",
        "Для обучения и валидации используйте изображения и разметку из папок train и test соответственно.\n",
        "\n",
        "Для **зачета** дз нужно сделать одно из двух:\n",
        "\n",
        "1. Исследовать 6 разных архитектур и написать подробный вывод + мысли почему одна сеть работает лучше чем другая (разные функции активации, глубины сетей, размеры и типы слоев)\n",
        "2. Преодолеть порог MSE=8 на тесте\n",
        "\n",
        "\n",
        "Также до  22 марта 23:59 можно получить до 5 дополнительных баллов за лучшее решение. (За первое место 5 баллов, за второе — 3 балла, за третье — 1 балла.)\n",
        "\n",
        "Для решения можно пользоваться всем инструментарием, с которым мы познакомимся:  предобученные модели, сверточные сети, любые оптимизаторы, batchnorm, dropout, etc."
      ]
    },
    {
      "cell_type": "code",
      "metadata": {
        "id": "beUmy9XThiAl",
        "colab": {
          "base_uri": "https://localhost:8080/"
        },
        "outputId": "f5afb763-d714-4ebb-bc6d-42c5e5d4ce00"
      },
      "source": [
        "!pip install tensorboardX\n",
        "!pip install pytorch-ignite"
      ],
      "execution_count": 2,
      "outputs": [
        {
          "output_type": "stream",
          "text": [
            "Collecting tensorboardX\n",
            "\u001b[?25l  Downloading https://files.pythonhosted.org/packages/af/0c/4f41bcd45db376e6fe5c619c01100e9b7531c55791b7244815bac6eac32c/tensorboardX-2.1-py2.py3-none-any.whl (308kB)\n",
            "\r\u001b[K     |█                               | 10kB 24.4MB/s eta 0:00:01\r\u001b[K     |██▏                             | 20kB 15.0MB/s eta 0:00:01\r\u001b[K     |███▏                            | 30kB 13.3MB/s eta 0:00:01\r\u001b[K     |████▎                           | 40kB 12.6MB/s eta 0:00:01\r\u001b[K     |█████▎                          | 51kB 8.7MB/s eta 0:00:01\r\u001b[K     |██████▍                         | 61kB 8.0MB/s eta 0:00:01\r\u001b[K     |███████▍                        | 71kB 9.1MB/s eta 0:00:01\r\u001b[K     |████████▌                       | 81kB 9.8MB/s eta 0:00:01\r\u001b[K     |█████████▌                      | 92kB 9.2MB/s eta 0:00:01\r\u001b[K     |██████████▋                     | 102kB 8.4MB/s eta 0:00:01\r\u001b[K     |███████████▊                    | 112kB 8.4MB/s eta 0:00:01\r\u001b[K     |████████████▊                   | 122kB 8.4MB/s eta 0:00:01\r\u001b[K     |█████████████▉                  | 133kB 8.4MB/s eta 0:00:01\r\u001b[K     |██████████████▉                 | 143kB 8.4MB/s eta 0:00:01\r\u001b[K     |████████████████                | 153kB 8.4MB/s eta 0:00:01\r\u001b[K     |█████████████████               | 163kB 8.4MB/s eta 0:00:01\r\u001b[K     |██████████████████              | 174kB 8.4MB/s eta 0:00:01\r\u001b[K     |███████████████████             | 184kB 8.4MB/s eta 0:00:01\r\u001b[K     |████████████████████▏           | 194kB 8.4MB/s eta 0:00:01\r\u001b[K     |█████████████████████▎          | 204kB 8.4MB/s eta 0:00:01\r\u001b[K     |██████████████████████▎         | 215kB 8.4MB/s eta 0:00:01\r\u001b[K     |███████████████████████▍        | 225kB 8.4MB/s eta 0:00:01\r\u001b[K     |████████████████████████▍       | 235kB 8.4MB/s eta 0:00:01\r\u001b[K     |█████████████████████████▌      | 245kB 8.4MB/s eta 0:00:01\r\u001b[K     |██████████████████████████▌     | 256kB 8.4MB/s eta 0:00:01\r\u001b[K     |███████████████████████████▋    | 266kB 8.4MB/s eta 0:00:01\r\u001b[K     |████████████████████████████▋   | 276kB 8.4MB/s eta 0:00:01\r\u001b[K     |█████████████████████████████▊  | 286kB 8.4MB/s eta 0:00:01\r\u001b[K     |██████████████████████████████▊ | 296kB 8.4MB/s eta 0:00:01\r\u001b[K     |███████████████████████████████▉| 307kB 8.4MB/s eta 0:00:01\r\u001b[K     |████████████████████████████████| 317kB 8.4MB/s \n",
            "\u001b[?25hRequirement already satisfied: numpy in /usr/local/lib/python3.7/dist-packages (from tensorboardX) (1.19.5)\n",
            "Requirement already satisfied: six in /usr/local/lib/python3.7/dist-packages (from tensorboardX) (1.15.0)\n",
            "Requirement already satisfied: protobuf>=3.8.0 in /usr/local/lib/python3.7/dist-packages (from tensorboardX) (3.12.4)\n",
            "Requirement already satisfied: setuptools in /usr/local/lib/python3.7/dist-packages (from protobuf>=3.8.0->tensorboardX) (54.1.2)\n",
            "Installing collected packages: tensorboardX\n",
            "Successfully installed tensorboardX-2.1\n",
            "Collecting pytorch-ignite\n",
            "\u001b[?25l  Downloading https://files.pythonhosted.org/packages/f8/d3/640f70d69393b415e6a29b27c735047ad86267921ad62682d1d756556d48/pytorch_ignite-0.4.4-py3-none-any.whl (200kB)\n",
            "\u001b[K     |████████████████████████████████| 204kB 8.0MB/s \n",
            "\u001b[?25hRequirement already satisfied: torch<2,>=1.3 in /usr/local/lib/python3.7/dist-packages (from pytorch-ignite) (1.8.0+cu101)\n",
            "Requirement already satisfied: typing-extensions in /usr/local/lib/python3.7/dist-packages (from torch<2,>=1.3->pytorch-ignite) (3.7.4.3)\n",
            "Requirement already satisfied: numpy in /usr/local/lib/python3.7/dist-packages (from torch<2,>=1.3->pytorch-ignite) (1.19.5)\n",
            "Installing collected packages: pytorch-ignite\n",
            "Successfully installed pytorch-ignite-0.4.4\n"
          ],
          "name": "stdout"
        }
      ]
    },
    {
      "cell_type": "code",
      "metadata": {
        "id": "OaTihNaPhLBh"
      },
      "source": [
        "%matplotlib inline\n",
        "import os\n",
        "import torch\n",
        "import sys\n",
        "import pandas as pd\n",
        "from skimage import io, transform\n",
        "import numpy as np\n",
        "import matplotlib.pyplot as plt\n",
        "from torch.utils.data import Dataset, DataLoader\n",
        "from torchvision import transforms, utils\n",
        "from torch.nn import MSELoss, Sequential, Linear, Sigmoid, Tanh, L1Loss, Module, Parameter\n",
        "from torch.autograd import Variable\n",
        "from torch import nn\n",
        "# Ignore warnings\n",
        "import warnings\n",
        "\n",
        "\n",
        "try:\n",
        "    from tensorboardX import SummaryWriter\n",
        "except ImportError:\n",
        "    raise RuntimeError(\"No tensorboardX package is found. Please install with the command: \\npip install tensorboardX\")\n",
        "\n",
        "from ignite.engine import Events, create_supervised_trainer, create_supervised_evaluator\n",
        "from ignite.metrics import Accuracy, Loss"
      ],
      "execution_count": 3,
      "outputs": []
    },
    {
      "cell_type": "code",
      "metadata": {
        "id": "1fpSKdrZi2bx"
      },
      "source": [
        "import zipfile\n",
        "import os\n",
        "\n",
        "from google.colab import drive"
      ],
      "execution_count": 4,
      "outputs": []
    },
    {
      "cell_type": "code",
      "metadata": {
        "id": "7aH4uHeEoCJj",
        "colab": {
          "base_uri": "https://localhost:8080/"
        },
        "outputId": "d2554b73-15f5-4481-9e77-84318be7f253"
      },
      "source": [
        "drive.mount('/content/drive')"
      ],
      "execution_count": 7,
      "outputs": [
        {
          "output_type": "stream",
          "text": [
            "Mounted at /content/drive\n"
          ],
          "name": "stdout"
        }
      ]
    },
    {
      "cell_type": "code",
      "metadata": {
        "id": "oRYkaO8SoCL4"
      },
      "source": [
        "zip_train = '/content/drive/MyDrive/sphere_nn/train.zip'\n",
        "zip_test = '/content/drive/MyDrive/sphere_nn/test.zip'\n",
        "\n",
        "z_train = zipfile.ZipFile(zip_train, 'r')\n",
        "z_test = zipfile.ZipFile(zip_test, 'r')\n",
        "z_test.extractall('dataset')\n",
        "z_train.extractall('dataset')"
      ],
      "execution_count": 8,
      "outputs": []
    },
    {
      "cell_type": "code",
      "metadata": {
        "id": "yunZzEJnhLBi",
        "colab": {
          "base_uri": "https://localhost:8080/",
          "height": 369
        },
        "outputId": "d0f1c9cf-2781-4010-bd25-b930525cfc70"
      },
      "source": [
        "warnings.filterwarnings(\"ignore\")\n",
        "\n",
        "landmarks_frame = pd.read_csv('dataset/train/face_landmarks.csv')\n",
        "\n",
        "n = 100\n",
        "img_name = landmarks_frame.iloc[n, 0]\n",
        "landmarks = landmarks_frame.values[n, 1:].astype('float')\n",
        "landmarks = landmarks.reshape(-1, 2)\n",
        "\n",
        "print('Image name: {}'.format(img_name))\n",
        "print('Landmarks shape: {}'.format(landmarks.shape))\n",
        "print('First 4 Landmarks: {}'.format(landmarks[:4]))\n",
        "\n",
        "def show_landmarks(image, landmarks):\n",
        "    \"\"\"Show image with landmarks\"\"\"\n",
        "    plt.imshow(image, cmap='gray')\n",
        "    plt.scatter(landmarks[:, 0], landmarks[:, 1], s=10, marker='.', c='red', cmap='rgb')\n",
        "    plt.pause(0.001)  \n",
        "\n",
        "plt.figure()\n",
        "show_landmarks(io.imread(os.path.join('dataset/train/', img_name)),\n",
        "               landmarks)\n",
        "plt.show()"
      ],
      "execution_count": 9,
      "outputs": [
        {
          "output_type": "stream",
          "text": [
            "Image name: 109.jpeg\n",
            "Landmarks shape: (68, 2)\n",
            "First 4 Landmarks: [[ 7. 41.]\n",
            " [ 8. 51.]\n",
            " [10. 60.]\n",
            " [13. 70.]]\n"
          ],
          "name": "stdout"
        },
        {
          "output_type": "display_data",
          "data": {
            "image/png": "[encoded data removed]",
            "text/plain": [
              "<Figure size 432x288 with 1 Axes>"
            ]
          },
          "metadata": {
            "tags": [],
            "needs_background": "light"
          }
        }
      ]
    },
    {
      "cell_type": "code",
      "metadata": {
        "collapsed": true,
        "id": "di6IaJ9vhLBi"
      },
      "source": [
        "def show_landmarks_batch(sample_batch, y_pred=None):\n",
        "    \"\"\"Show image with landmarks for a batch of samples.\"\"\"\n",
        "    images_batch, landmarks_batch = \\\n",
        "            sample_batch\n",
        "    batch_size = len(images_batch)\n",
        "    im_size = images_batch.size(2)\n",
        "\n",
        "    grid = utils.make_grid(images_batch)\n",
        "    print(images_batch.numpy().shape)\n",
        "    plt.imshow(grid.numpy().transpose(1,0,2).reshape(im_size, -1), cmap=\"gray\")\n",
        "\n",
        "    for i in range(batch_size):\n",
        "        plt.scatter(landmarks_batch[i, :, 0].numpy() + i * im_size,\n",
        "                    landmarks_batch[i, :, 1].numpy(),\n",
        "                    s=10, marker='.', c='r', label='Real')\n",
        "\n",
        "    if type(y_pred) != type(None):\n",
        "        for i in range(batch_size):\n",
        "            plt.scatter(y_pred[i, :, 0] + i * im_size,\n",
        "                        y_pred[i, :, 1],\n",
        "                        s=10, marker='.', c='b',  label='Prediction')\n",
        "        plt.title('Batch from dataloader')\n",
        "    plt.legend()"
      ],
      "execution_count": 10,
      "outputs": []
    },
    {
      "cell_type": "code",
      "metadata": {
        "collapsed": true,
        "id": "pFJREbMEhLBi"
      },
      "source": [
        "class FaceLandmarksDataset(Dataset):\n",
        "    \"\"\"Face Landmarks dataset.\"\"\"\n",
        "\n",
        "    def __init__(self, csv_file, root_dir, transform=None):\n",
        "        \"\"\"\n",
        "        Args:\n",
        "            csv_file (string): Path to the csv file with annotations.\n",
        "            root_dir (string): Directory with all the images.\n",
        "            transform (callable, optional): Optional transform to be applied\n",
        "                on a sample.\n",
        "        \"\"\"\n",
        "        self.landmarks_frame = pd.read_csv(csv_file)\n",
        "        self.root_dir = root_dir\n",
        "        self.transform = transform\n",
        "\n",
        "    def __len__(self):\n",
        "        return len(self.landmarks_frame)\n",
        "\n",
        "    def __getitem__(self, idx):\n",
        "        img_name = os.path.join(self.root_dir, self.landmarks_frame.iloc[idx, 0])\n",
        "        image = io.imread(img_name)\n",
        "        landmarks = self.landmarks_frame.iloc[idx, 1:].values.astype('float')\n",
        "        landmarks = landmarks.reshape(-1, 2)\n",
        "        sample = image, landmarks\n",
        "\n",
        "        if self.transform:\n",
        "            sample = self.transform(sample)\n",
        "\n",
        "        return sample"
      ],
      "execution_count": 11,
      "outputs": []
    },
    {
      "cell_type": "code",
      "metadata": {
        "collapsed": true,
        "id": "hZxDS-AMhLBj"
      },
      "source": [
        "class RandomCrop(object):\n",
        "    \"\"\"Crop randomly the image in a sample.\n",
        "\n",
        "    Args:\n",
        "        output_size (tuple or int): Desired output size. If int, square crop\n",
        "            is made.\n",
        "    \"\"\"\n",
        "\n",
        "    def __init__(self, output_size):\n",
        "        assert isinstance(output_size, (int, tuple))\n",
        "        if isinstance(output_size, int):\n",
        "            self.output_size = (output_size, output_size)\n",
        "        else:\n",
        "            assert len(output_size) == 2\n",
        "            self.output_size = output_size\n",
        "\n",
        "    def __call__(self, sample):\n",
        "        image, landmarks = sample\n",
        "\n",
        "        h, w = image.shape[:2]\n",
        "        new_h, new_w = self.output_size\n",
        "\n",
        "        top = np.random.randint(0, h - new_h)\n",
        "        left = np.random.randint(0, w - new_w)\n",
        "\n",
        "        image = image[top: top + new_h,\n",
        "                      left: left + new_w]\n",
        "\n",
        "        landmarks = landmarks - [left, top]\n",
        "\n",
        "        return image, landmarks\n",
        "\n",
        "\n",
        "\n",
        "\n",
        "class ToTensor(object):\n",
        "    \"\"\"Convert ndarrays in sample to Tensors.\"\"\"\n",
        "\n",
        "    def __call__(self, sample):\n",
        "        image, landmarks = sample\n",
        "        return torch.from_numpy(image).type(torch.float), torch.from_numpy(landmarks).type(torch.float)"
      ],
      "execution_count": 12,
      "outputs": []
    },
    {
      "cell_type": "code",
      "metadata": {
        "collapsed": true,
        "id": "1roZFGfhhLBj"
      },
      "source": [
        "train_dataset = FaceLandmarksDataset(csv_file='dataset/train/face_landmarks.csv',\n",
        "                                     root_dir='dataset/train',\n",
        "                                     transform=ToTensor())\n",
        "\n",
        "test_dataset = FaceLandmarksDataset(csv_file='dataset/test/face_landmarks.csv',\n",
        "                                     root_dir='dataset/test',\n",
        "                                     transform=ToTensor())"
      ],
      "execution_count": 13,
      "outputs": []
    },
    {
      "cell_type": "code",
      "metadata": {
        "collapsed": true,
        "id": "bhW0IysUhLBj"
      },
      "source": [
        "def get_data_loaders(train_batch_size=64, val_batch_size=64):\n",
        "\n",
        "    train_loader = DataLoader(\n",
        "        train_dataset, batch_size=train_batch_size, shuffle=True\n",
        "    )\n",
        "\n",
        "    test_loader = DataLoader(\n",
        "        test_dataset, batch_size=val_batch_size, shuffle=False\n",
        "    )\n",
        "\n",
        "    return train_loader, test_loader"
      ],
      "execution_count": 14,
      "outputs": []
    },
    {
      "cell_type": "code",
      "metadata": {
        "collapsed": true,
        "id": "CPGgcQVehLBk"
      },
      "source": [
        "def run_trainer(network, device=\"cpu\", criterion=MSELoss(),\n",
        "                optim=torch.optim.Adam, learning_rate=0.01, max_epochs=10,\n",
        "                writer=SummaryWriter(filename_suffix='first', logdir=\"logs\")):\n",
        "\n",
        "    # if torch.cuda.is_available():\n",
        "    #    device = \"cuda\"\n",
        "    print(\"device: {}\".format(device))\n",
        "    train_dataloader, test_dataloader = get_data_loaders()\n",
        "    optimizer = optim(network.parameters(), lr=learning_rate)\n",
        "    trainer = create_supervised_trainer(network, optimizer, criterion, device=device)\n",
        "    evaluator = create_supervised_evaluator(network, device=device, \n",
        "                metrics={\"L2 loss\": Loss(criterion), \"L1 loss\": Loss(L1Loss())})\n",
        "\n",
        "    training_history = {'l1':[],'l2':[]}\n",
        "    validation_history = {'l1':[],'l2':[]}\n",
        "    last_epoch = []\n",
        "\n",
        "    @trainer.on(Events.ITERATION_COMPLETED(every=10))\n",
        "    def log_training_loss(engine):\n",
        "        writer.add_scalar(\"training/loss\", engine.state.output, engine.state.iteration)\n",
        "        writer.flush()\n",
        "\n",
        "    @trainer.on(Events.EPOCH_COMPLETED)\n",
        "    def log_training_results(trainer):\n",
        "        evaluator.run(train_dataloader)\n",
        "        metrics = evaluator.state.metrics\n",
        "        l2_train = metrics[\"L2 loss\"]\n",
        "        l1_train = metrics['L1 loss']\n",
        "        last_epoch.append(0)\n",
        "        training_history['l2'].append(l2_train)\n",
        "        training_history['l1'].append(l1_train)\n",
        "        writer.add_scalar(\"training/epoch_loss\", l2_train, trainer.state.epoch)\n",
        "        \n",
        "        evaluator.run(test_dataloader)\n",
        "        metrics = evaluator.state.metrics\n",
        "        l2 = metrics[\"L2 loss\"]\n",
        "        l1 = metrics['L1 loss']\n",
        "        validation_history['l2'].append(l2)\n",
        "        validation_history['l1'].append(l1)\n",
        "        \n",
        "        writer.add_scalar(\"validation/epoch_loss\", l2, trainer.state.epoch)\n",
        "        writer.flush()\n",
        "        \n",
        "        sys.stdout.write(\"\\rTraining/Validation Results - Epoch: {}  Avg MSE: {:.2f} / {:.2f} Avg MAE: {:.2f} / {:.2f}\"\n",
        "            .format(trainer.state.epoch, l2_train, l2, l1_train, l1))\n",
        "    \n",
        "    trainer.run(train_dataloader, max_epochs=max_epochs)\n",
        "    return training_history, validation_history, last_epoch"
      ],
      "execution_count": 15,
      "outputs": []
    },
    {
      "cell_type": "markdown",
      "metadata": {
        "id": "rlkXOeY_LrTH"
      },
      "source": [
        "Архитектура похожа на VGG16, вначале идет серия Conv+ReLU+Maxpool, которые в сначала в 8 раз повышают размерность, а потом трижды снижают в 2 раза, увеличивая количество каналов с 1 до 64.\n",
        "Затем 2 линейных слоя и, что разнится с VGG16, еще одна свертка + финальный линейный слой."
      ]
    },
    {
      "cell_type": "code",
      "metadata": {
        "id": "03T8PVtQwX53"
      },
      "source": [
        "def init_weights(m):\n",
        "    if type(m) == nn.Linear:\n",
        "        nn.init.xavier_uniform(m.weight)\n",
        "        if m.bias is not None:\n",
        "            m.bias.data.fill_(0.01)\n",
        "    if type(m) == nn.Conv2d:\n",
        "        nn.init.kaiming_uniform_(m.weight)\n",
        "        m.bias.data.fill_(0.01)"
      ],
      "execution_count": 44,
      "outputs": []
    },
    {
      "cell_type": "code",
      "metadata": {
        "id": "F4r14oV0bEe6"
      },
      "source": [
        "# Основной\n",
        "class Landmarker5(nn.Module):\n",
        "    def __init__(self, image_size=96, channels=1):\n",
        "        super().__init__()\n",
        "\n",
        "        self.nonlin_1 = nn.Sequential(\n",
        "            nn.Conv2d(channels, 8, 5, padding=2), nn.ReLU(),\n",
        "            nn.MaxPool2d(2),\n",
        "\n",
        "            nn.BatchNorm2d(8),\n",
        "            nn.Dropout(p=0.3),\n",
        "\n",
        "            nn.Conv2d(8, 16, 4, padding=2), nn.ReLU(),\n",
        "            nn.MaxPool2d(2),\n",
        "\n",
        "            nn.BatchNorm2d(16),\n",
        "\n",
        "            nn.Conv2d(16, 32, 4, padding=2), nn.ReLU(),\n",
        "            nn.MaxPool2d(2),\n",
        "\n",
        "            nn.BatchNorm2d(32),\n",
        "            nn.Dropout(p=0.3),\n",
        "\n",
        "            nn.Conv2d(32, 64, 4, padding=1), nn.ReLU(),\n",
        "            nn.MaxPool2d(2), # 64x6x6\n",
        "        )\n",
        "        self.lin_1 = nn.Sequential(\n",
        "            nn.Linear(64 * 25, 32 * 25, bias=False),\n",
        "            nn.BatchNorm1d(32 * 25), nn.ReLU(),\n",
        "            nn.Linear(32 * 25, 68 * 4), nn.ReLU() \n",
        "        )\n",
        "        self.nonlin_2 = nn.Sequential(\n",
        "            nn.Unflatten(1, (4, 68)),\n",
        "            nn.BatchNorm1d(4),\n",
        "            nn.Conv1d(4, 4, 3, padding=1), nn.ReLU(),\n",
        "            nn.MaxPool1d(2)\n",
        "        )\n",
        "        self.lin_2 = nn.Sequential(\n",
        "            nn.BatchNorm1d(68 * 2),\n",
        "            nn.Linear(68 * 2, 68 * 2)\n",
        "        )\n",
        "        self.lin_1.apply(init_weights)\n",
        "        self.lin_2.apply(init_weights)\n",
        "        self.nonlin_1.apply(init_weights)\n",
        "        self.nonlin_2.apply(init_weights)\n",
        "        \n",
        " \n",
        "    def forward(self, x):\n",
        "        x = x.reshape((x.shape[0], 1, x.shape[1], x.shape[2]))\n",
        "        x = self.nonlin_1(x)\n",
        "        x = x.view(x.shape[0], -1)\n",
        "        x = self.lin_1(x)\n",
        "        x = self.nonlin_2(x)\n",
        "        x = x.view(x.shape[0], -1)\n",
        "        x = self.lin_2(x)\n",
        "        return x.view(x.shape[0], 68, 2)"
      ],
      "execution_count": 72,
      "outputs": []
    },
    {
      "cell_type": "code",
      "metadata": {
        "id": "pBeUBzkx3rrc",
        "colab": {
          "base_uri": "https://localhost:8080/"
        },
        "outputId": "138911d7-1e7c-4a7f-a448-dd76c7cd5795"
      },
      "source": [
        "network = Landmarker5()\n",
        "print(network)"
      ],
      "execution_count": 73,
      "outputs": [
        {
          "output_type": "stream",
          "text": [
            "Landmarker5(\n",
            "  (nonlin_1): Sequential(\n",
            "    (0): Conv2d(1, 8, kernel_size=(5, 5), stride=(1, 1), padding=(2, 2))\n",
            "    (1): ReLU()\n",
            "    (2): MaxPool2d(kernel_size=2, stride=2, padding=0, dilation=1, ceil_mode=False)\n",
            "    (3): BatchNorm2d(8, eps=1e-05, momentum=0.1, affine=True, track_running_stats=True)\n",
            "    (4): Dropout(p=0.3, inplace=False)\n",
            "    (5): Conv2d(8, 16, kernel_size=(4, 4), stride=(1, 1), padding=(2, 2))\n",
            "    (6): ReLU()\n",
            "    (7): MaxPool2d(kernel_size=2, stride=2, padding=0, dilation=1, ceil_mode=False)\n",
            "    (8): BatchNorm2d(16, eps=1e-05, momentum=0.1, affine=True, track_running_stats=True)\n",
            "    (9): Conv2d(16, 32, kernel_size=(4, 4), stride=(1, 1), padding=(2, 2))\n",
            "    (10): ReLU()\n",
            "    (11): MaxPool2d(kernel_size=2, stride=2, padding=0, dilation=1, ceil_mode=False)\n",
            "    (12): BatchNorm2d(32, eps=1e-05, momentum=0.1, affine=True, track_running_stats=True)\n",
            "    (13): Dropout(p=0.3, inplace=False)\n",
            "    (14): Conv2d(32, 64, kernel_size=(4, 4), stride=(1, 1), padding=(1, 1))\n",
            "    (15): ReLU()\n",
            "    (16): MaxPool2d(kernel_size=2, stride=2, padding=0, dilation=1, ceil_mode=False)\n",
            "  )\n",
            "  (lin_1): Sequential(\n",
            "    (0): Linear(in_features=1600, out_features=800, bias=False)\n",
            "    (1): BatchNorm1d(800, eps=1e-05, momentum=0.1, affine=True, track_running_stats=True)\n",
            "    (2): ReLU()\n",
            "    (3): Linear(in_features=800, out_features=272, bias=True)\n",
            "    (4): ReLU()\n",
            "  )\n",
            "  (nonlin_2): Sequential(\n",
            "    (0): Unflatten(dim=1, unflattened_size=(4, 68))\n",
            "    (1): BatchNorm1d(4, eps=1e-05, momentum=0.1, affine=True, track_running_stats=True)\n",
            "    (2): Conv1d(4, 4, kernel_size=(3,), stride=(1,), padding=(1,))\n",
            "    (3): ReLU()\n",
            "    (4): MaxPool1d(kernel_size=2, stride=2, padding=0, dilation=1, ceil_mode=False)\n",
            "  )\n",
            "  (lin_2): Sequential(\n",
            "    (0): BatchNorm1d(136, eps=1e-05, momentum=0.1, affine=True, track_running_stats=True)\n",
            "    (1): Linear(in_features=136, out_features=136, bias=True)\n",
            "  )\n",
            ")\n"
          ],
          "name": "stdout"
        }
      ]
    },
    {
      "cell_type": "code",
      "metadata": {
        "id": "EQvdc7RErj3-",
        "colab": {
          "base_uri": "https://localhost:8080/"
        },
        "outputId": "ec91fa52-f04b-4a80-9986-143bfdd39549"
      },
      "source": [
        "training_history, validation_history, last_epoch = run_trainer(Landmarker5(), learning_rate=0.02, max_epochs=16)"
      ],
      "execution_count": 77,
      "outputs": [
        {
          "output_type": "stream",
          "text": [
            "device: cpu\n",
            "Training/Validation Results - Epoch: 16  Avg MSE: 1.71 / 3.32 Avg MAE: 1.00 / 1.22"
          ],
          "name": "stdout"
        }
      ]
    },
    {
      "cell_type": "code",
      "metadata": {
        "id": "qCeAYzlKrj56",
        "colab": {
          "base_uri": "https://localhost:8080/",
          "height": 339
        },
        "outputId": "00c4c5df-8112-4b87-a1f4-cf70f3e899f7"
      },
      "source": [
        "plt.figure(figsize=(12, 5))\n",
        "plt.plot(training_history['l2'][1:], label='Train')\n",
        "plt.plot(validation_history['l2'][1:], label='Test')\n",
        "plt.xlabel('Epochs', fontsize=16)\n",
        "plt.ylabel('Loss', fontsize=16)\n",
        "plt.legend(loc=0, fontsize=16)\n",
        "plt.grid('on')\n",
        "plt.show()"
      ],
      "execution_count": 78,
      "outputs": [
        {
          "output_type": "display_data",
          "data": {
            "image/png": "[encoded data removed]",
            "text/plain": [
              "<Figure size 864x360 with 1 Axes>"
            ]
          },
          "metadata": {
            "tags": [],
            "needs_background": "light"
          }
        }
      ]
    },
    {
      "cell_type": "code",
      "metadata": {
        "id": "2wda8A7hCDyt"
      },
      "source": [
        ""
      ],
      "execution_count": null,
      "outputs": []
    },
    {
      "cell_type": "code",
      "metadata": {
        "id": "oWW4LSuOCD08"
      },
      "source": [
        ""
      ],
      "execution_count": null,
      "outputs": []
    },
    {
      "cell_type": "code",
      "metadata": {
        "id": "DvSs1HCBCD3g"
      },
      "source": [
        ""
      ],
      "execution_count": null,
      "outputs": []
    }
  ]
}