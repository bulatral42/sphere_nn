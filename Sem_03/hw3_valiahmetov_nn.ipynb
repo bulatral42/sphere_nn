{
  "nbformat": 4,
  "nbformat_minor": 0,
  "metadata": {
    "kernelspec": {
      "display_name": "Python 3",
      "language": "python",
      "name": "python3"
    },
    "language_info": {
      "codemirror_mode": {
        "name": "ipython",
        "version": 3
      },
      "file_extension": ".py",
      "mimetype": "text/x-python",
      "name": "python",
      "nbconvert_exporter": "python",
      "pygments_lexer": "ipython3",
      "version": "3.9.1"
    },
    "colab": {
      "name": "hw3_valiahmetov_nn.ipynb",
      "provenance": []
    },
    "accelerator": "GPU"
  },
  "cells": [
    {
      "cell_type": "markdown",
      "metadata": {
        "id": "DBsTLHmrhLBc"
      },
      "source": [
        "## Семинар 3 \"Определение ключевых точек лица\""
      ]
    },
    {
      "cell_type": "markdown",
      "metadata": {
        "id": "BCWoVyhGhZqW"
      },
      "source": [
        "Валиахметов Булат Ильдарович"
      ]
    },
    {
      "cell_type": "markdown",
      "metadata": {
        "id": "Mk30GmwshLBg"
      },
      "source": [
        "## Задание"
      ]
    },
    {
      "cell_type": "markdown",
      "metadata": {
        "id": "YsMEOXhqhLBg"
      },
      "source": [
        "Используя датасет из архива решите задачу регрессии для поиска 68-ми ключевых точек лица. \n",
        "\n",
        "Для обучения и валидации используйте изображения и разметку из папок train и test соответственно.\n",
        "\n",
        "Для **зачета** дз нужно сделать одно из двух:\n",
        "\n",
        "1. Исследовать 6 разных архитектур и написать подробный вывод + мысли почему одна сеть работает лучше чем другая (разные функции активации, глубины сетей, размеры и типы слоев)\n",
        "2. Преодолеть порог MSE=8 на тесте\n",
        "\n",
        "\n",
        "Также до  22 марта 23:59 можно получить до 5 дополнительных баллов за лучшее решение. (За первое место 5 баллов, за второе — 3 балла, за третье — 1 балла.)\n",
        "\n",
        "Для решения можно пользоваться всем инструментарием, с которым мы познакомимся:  предобученные модели, сверточные сети, любые оптимизаторы, batchnorm, dropout, etc."
      ]
    },
    {
      "cell_type": "code",
      "metadata": {
        "id": "beUmy9XThiAl",
        "colab": {
          "base_uri": "https://localhost:8080/"
        },
        "outputId": "332ab4dd-e609-4232-c7f0-8ff61e4bf26e"
      },
      "source": [
        "!pip install tensorboardX\r\n",
        "!pip install pytorch-ignite"
      ],
      "execution_count": 1,
      "outputs": [
        {
          "output_type": "stream",
          "text": [
            "Collecting tensorboardX\n",
            "\u001b[?25l  Downloading https://files.pythonhosted.org/packages/af/0c/4f41bcd45db376e6fe5c619c01100e9b7531c55791b7244815bac6eac32c/tensorboardX-2.1-py2.py3-none-any.whl (308kB)\n",
            "\r\u001b[K     |█                               | 10kB 18.0MB/s eta 0:00:01\r\u001b[K     |██▏                             | 20kB 21.0MB/s eta 0:00:01\r\u001b[K     |███▏                            | 30kB 16.3MB/s eta 0:00:01\r\u001b[K     |████▎                           | 40kB 14.5MB/s eta 0:00:01\r\u001b[K     |█████▎                          | 51kB 8.6MB/s eta 0:00:01\r\u001b[K     |██████▍                         | 61kB 9.3MB/s eta 0:00:01\r\u001b[K     |███████▍                        | 71kB 9.4MB/s eta 0:00:01\r\u001b[K     |████████▌                       | 81kB 9.6MB/s eta 0:00:01\r\u001b[K     |█████████▌                      | 92kB 9.7MB/s eta 0:00:01\r\u001b[K     |██████████▋                     | 102kB 8.0MB/s eta 0:00:01\r\u001b[K     |███████████▊                    | 112kB 8.0MB/s eta 0:00:01\r\u001b[K     |████████████▊                   | 122kB 8.0MB/s eta 0:00:01\r\u001b[K     |█████████████▉                  | 133kB 8.0MB/s eta 0:00:01\r\u001b[K     |██████████████▉                 | 143kB 8.0MB/s eta 0:00:01\r\u001b[K     |████████████████                | 153kB 8.0MB/s eta 0:00:01\r\u001b[K     |█████████████████               | 163kB 8.0MB/s eta 0:00:01\r\u001b[K     |██████████████████              | 174kB 8.0MB/s eta 0:00:01\r\u001b[K     |███████████████████             | 184kB 8.0MB/s eta 0:00:01\r\u001b[K     |████████████████████▏           | 194kB 8.0MB/s eta 0:00:01\r\u001b[K     |█████████████████████▎          | 204kB 8.0MB/s eta 0:00:01\r\u001b[K     |██████████████████████▎         | 215kB 8.0MB/s eta 0:00:01\r\u001b[K     |███████████████████████▍        | 225kB 8.0MB/s eta 0:00:01\r\u001b[K     |████████████████████████▍       | 235kB 8.0MB/s eta 0:00:01\r\u001b[K     |█████████████████████████▌      | 245kB 8.0MB/s eta 0:00:01\r\u001b[K     |██████████████████████████▌     | 256kB 8.0MB/s eta 0:00:01\r\u001b[K     |███████████████████████████▋    | 266kB 8.0MB/s eta 0:00:01\r\u001b[K     |████████████████████████████▋   | 276kB 8.0MB/s eta 0:00:01\r\u001b[K     |█████████████████████████████▊  | 286kB 8.0MB/s eta 0:00:01\r\u001b[K     |██████████████████████████████▊ | 296kB 8.0MB/s eta 0:00:01\r\u001b[K     |███████████████████████████████▉| 307kB 8.0MB/s eta 0:00:01\r\u001b[K     |████████████████████████████████| 317kB 8.0MB/s \n",
            "\u001b[?25hRequirement already satisfied: six in /usr/local/lib/python3.7/dist-packages (from tensorboardX) (1.15.0)\n",
            "Requirement already satisfied: numpy in /usr/local/lib/python3.7/dist-packages (from tensorboardX) (1.19.5)\n",
            "Requirement already satisfied: protobuf>=3.8.0 in /usr/local/lib/python3.7/dist-packages (from tensorboardX) (3.12.4)\n",
            "Requirement already satisfied: setuptools in /usr/local/lib/python3.7/dist-packages (from protobuf>=3.8.0->tensorboardX) (54.0.0)\n",
            "Installing collected packages: tensorboardX\n",
            "Successfully installed tensorboardX-2.1\n",
            "Collecting pytorch-ignite\n",
            "\u001b[?25l  Downloading https://files.pythonhosted.org/packages/f8/d3/640f70d69393b415e6a29b27c735047ad86267921ad62682d1d756556d48/pytorch_ignite-0.4.4-py3-none-any.whl (200kB)\n",
            "\u001b[K     |████████████████████████████████| 204kB 8.6MB/s \n",
            "\u001b[?25hRequirement already satisfied: torch<2,>=1.3 in /usr/local/lib/python3.7/dist-packages (from pytorch-ignite) (1.8.0+cu101)\n",
            "Requirement already satisfied: numpy in /usr/local/lib/python3.7/dist-packages (from torch<2,>=1.3->pytorch-ignite) (1.19.5)\n",
            "Requirement already satisfied: typing-extensions in /usr/local/lib/python3.7/dist-packages (from torch<2,>=1.3->pytorch-ignite) (3.7.4.3)\n",
            "Installing collected packages: pytorch-ignite\n",
            "Successfully installed pytorch-ignite-0.4.4\n"
          ],
          "name": "stdout"
        }
      ]
    },
    {
      "cell_type": "code",
      "metadata": {
        "id": "OaTihNaPhLBh"
      },
      "source": [
        "%matplotlib inline\n",
        "import os\n",
        "import torch\n",
        "import sys\n",
        "import pandas as pd\n",
        "from skimage import io, transform\n",
        "import numpy as np\n",
        "import matplotlib.pyplot as plt\n",
        "from torch.utils.data import Dataset, DataLoader\n",
        "from torchvision import transforms, utils\n",
        "from torch.nn import MSELoss, Sequential, Linear, Sigmoid, Tanh, L1Loss, Module, Parameter\n",
        "from torch.autograd import Variable\n",
        "from torch import nn\n",
        "# Ignore warnings\n",
        "import warnings\n",
        "\n",
        "\n",
        "try:\n",
        "    from tensorboardX import SummaryWriter\n",
        "except ImportError:\n",
        "    raise RuntimeError(\"No tensorboardX package is found. Please install with the command: \\npip install tensorboardX\")\n",
        "\n",
        "from ignite.engine import Events, create_supervised_trainer, create_supervised_evaluator\n",
        "from ignite.metrics import Accuracy, Loss"
      ],
      "execution_count": 2,
      "outputs": []
    },
    {
      "cell_type": "code",
      "metadata": {
        "id": "1fpSKdrZi2bx"
      },
      "source": [
        "import zipfile\r\n",
        "import os\r\n",
        "\r\n",
        "from google.colab import drive"
      ],
      "execution_count": 3,
      "outputs": []
    },
    {
      "cell_type": "code",
      "metadata": {
        "id": "7aH4uHeEoCJj",
        "colab": {
          "base_uri": "https://localhost:8080/"
        },
        "outputId": "3433b19b-d92a-4789-bae9-6a2e18527c40"
      },
      "source": [
        "drive.mount('/content/drive')"
      ],
      "execution_count": 4,
      "outputs": [
        {
          "output_type": "stream",
          "text": [
            "Mounted at /content/drive\n"
          ],
          "name": "stdout"
        }
      ]
    },
    {
      "cell_type": "code",
      "metadata": {
        "id": "oRYkaO8SoCL4"
      },
      "source": [
        "zip_train = '/content/drive/MyDrive/sphere_nn/train.zip'\r\n",
        "zip_test = '/content/drive/MyDrive/sphere_nn/test.zip'\r\n",
        "\r\n",
        "z_train = zipfile.ZipFile(zip_train, 'r')\r\n",
        "z_test = zipfile.ZipFile(zip_test, 'r')\r\n",
        "z_test.extractall('dataset')\r\n",
        "z_train.extractall('dataset')"
      ],
      "execution_count": 5,
      "outputs": []
    },
    {
      "cell_type": "code",
      "metadata": {
        "id": "yunZzEJnhLBi",
        "colab": {
          "base_uri": "https://localhost:8080/",
          "height": 369
        },
        "outputId": "3d345798-aabc-480d-b697-7132adaa7fa6"
      },
      "source": [
        "warnings.filterwarnings(\"ignore\")\n",
        "\n",
        "landmarks_frame = pd.read_csv('dataset/train/face_landmarks.csv')\n",
        "\n",
        "n = 100\n",
        "img_name = landmarks_frame.iloc[n, 0]\n",
        "landmarks = landmarks_frame.values[n, 1:].astype('float')\n",
        "landmarks = landmarks.reshape(-1, 2)\n",
        "\n",
        "print('Image name: {}'.format(img_name))\n",
        "print('Landmarks shape: {}'.format(landmarks.shape))\n",
        "print('First 4 Landmarks: {}'.format(landmarks[:4]))\n",
        "\n",
        "def show_landmarks(image, landmarks):\n",
        "    \"\"\"Show image with landmarks\"\"\"\n",
        "    plt.imshow(image, cmap='gray')\n",
        "    plt.scatter(landmarks[:, 0], landmarks[:, 1], s=10, marker='.', c='red', cmap='rgb')\n",
        "    plt.pause(0.001)  \n",
        "\n",
        "plt.figure()\n",
        "show_landmarks(io.imread(os.path.join('dataset/train/', img_name)),\n",
        "               landmarks)\n",
        "plt.show()"
      ],
      "execution_count": 99,
      "outputs": [
        {
          "output_type": "stream",
          "text": [
            "Image name: 109.jpeg\n",
            "Landmarks shape: (68, 2)\n",
            "First 4 Landmarks: [[ 7. 41.]\n",
            " [ 8. 51.]\n",
            " [10. 60.]\n",
            " [13. 70.]]\n"
          ],
          "name": "stdout"
        },
        {
          "output_type": "display_data",
          "data": {
            "image/png": "[encoded data removed]",
            "text/plain": [
              "<Figure size 432x288 with 1 Axes>"
            ]
          },
          "metadata": {
            "tags": [],
            "needs_background": "light"
          }
        }
      ]
    },
    {
      "cell_type": "code",
      "metadata": {
        "collapsed": true,
        "id": "di6IaJ9vhLBi"
      },
      "source": [
        "def show_landmarks_batch(sample_batch, y_pred=None):\n",
        "    \"\"\"Show image with landmarks for a batch of samples.\"\"\"\n",
        "    images_batch, landmarks_batch = \\\n",
        "            sample_batch\n",
        "    batch_size = len(images_batch)\n",
        "    im_size = images_batch.size(2)\n",
        "\n",
        "    grid = utils.make_grid(images_batch)\n",
        "    print(images_batch.numpy().shape)\n",
        "    plt.imshow(grid.numpy().transpose(1,0,2).reshape(im_size, -1), cmap=\"gray\")\n",
        "\n",
        "    for i in range(batch_size):\n",
        "        plt.scatter(landmarks_batch[i, :, 0].numpy() + i * im_size,\n",
        "                    landmarks_batch[i, :, 1].numpy(),\n",
        "                    s=10, marker='.', c='r', label='Real')\n",
        "\n",
        "    if type(y_pred) != type(None):\n",
        "        for i in range(batch_size):\n",
        "            plt.scatter(y_pred[i, :, 0] + i * im_size,\n",
        "                        y_pred[i, :, 1],\n",
        "                        s=10, marker='.', c='b',  label='Prediction')\n",
        "        plt.title('Batch from dataloader')\n",
        "    plt.legend()"
      ],
      "execution_count": 100,
      "outputs": []
    },
    {
      "cell_type": "code",
      "metadata": {
        "collapsed": true,
        "id": "pFJREbMEhLBi"
      },
      "source": [
        "class FaceLandmarksDataset(Dataset):\n",
        "    \"\"\"Face Landmarks dataset.\"\"\"\n",
        "\n",
        "    def __init__(self, csv_file, root_dir, transform=None):\n",
        "        \"\"\"\n",
        "        Args:\n",
        "            csv_file (string): Path to the csv file with annotations.\n",
        "            root_dir (string): Directory with all the images.\n",
        "            transform (callable, optional): Optional transform to be applied\n",
        "                on a sample.\n",
        "        \"\"\"\n",
        "        self.landmarks_frame = pd.read_csv(csv_file)\n",
        "        self.root_dir = root_dir\n",
        "        self.transform = transform\n",
        "\n",
        "    def __len__(self):\n",
        "        return len(self.landmarks_frame)\n",
        "\n",
        "    def __getitem__(self, idx):\n",
        "        img_name = os.path.join(self.root_dir, self.landmarks_frame.iloc[idx, 0])\n",
        "        image = io.imread(img_name)\n",
        "        landmarks = self.landmarks_frame.iloc[idx, 1:].values.astype('float')\n",
        "        landmarks = landmarks.reshape(-1, 2)\n",
        "        sample = image, landmarks\n",
        "\n",
        "        if self.transform:\n",
        "            sample = self.transform(sample)\n",
        "\n",
        "        return sample"
      ],
      "execution_count": 101,
      "outputs": []
    },
    {
      "cell_type": "code",
      "metadata": {
        "collapsed": true,
        "id": "hZxDS-AMhLBj"
      },
      "source": [
        "class RandomCrop(object):\n",
        "    \"\"\"Crop randomly the image in a sample.\n",
        "\n",
        "    Args:\n",
        "        output_size (tuple or int): Desired output size. If int, square crop\n",
        "            is made.\n",
        "    \"\"\"\n",
        "\n",
        "    def __init__(self, output_size):\n",
        "        assert isinstance(output_size, (int, tuple))\n",
        "        if isinstance(output_size, int):\n",
        "            self.output_size = (output_size, output_size)\n",
        "        else:\n",
        "            assert len(output_size) == 2\n",
        "            self.output_size = output_size\n",
        "\n",
        "    def __call__(self, sample):\n",
        "        image, landmarks = sample\n",
        "\n",
        "        h, w = image.shape[:2]\n",
        "        new_h, new_w = self.output_size\n",
        "\n",
        "        top = np.random.randint(0, h - new_h)\n",
        "        left = np.random.randint(0, w - new_w)\n",
        "\n",
        "        image = image[top: top + new_h,\n",
        "                      left: left + new_w]\n",
        "\n",
        "        landmarks = landmarks - [left, top]\n",
        "\n",
        "        return image, landmarks\n",
        "\n",
        "\n",
        "\n",
        "\n",
        "class ToTensor(object):\n",
        "    \"\"\"Convert ndarrays in sample to Tensors.\"\"\"\n",
        "\n",
        "    def __call__(self, sample):\n",
        "        image, landmarks = sample\n",
        "        return torch.from_numpy(image).type(torch.float), torch.from_numpy(landmarks).type(torch.float)"
      ],
      "execution_count": 76,
      "outputs": []
    },
    {
      "cell_type": "code",
      "metadata": {
        "collapsed": true,
        "id": "1roZFGfhhLBj"
      },
      "source": [
        "train_dataset = FaceLandmarksDataset(csv_file='dataset/train/face_landmarks.csv',\n",
        "                                     root_dir='dataset/train',\n",
        "                                     transform=ToTensor())\n",
        "\n",
        "test_dataset = FaceLandmarksDataset(csv_file='dataset/test/face_landmarks.csv',\n",
        "                                     root_dir='dataset/test',\n",
        "                                     transform=ToTensor())"
      ],
      "execution_count": 77,
      "outputs": []
    },
    {
      "cell_type": "code",
      "metadata": {
        "collapsed": true,
        "id": "bhW0IysUhLBj"
      },
      "source": [
        "def get_data_loaders(train_batch_size=64, val_batch_size=64):\n",
        "\n",
        "    train_loader = DataLoader(\n",
        "        train_dataset, batch_size=train_batch_size, shuffle=True\n",
        "    )\n",
        "\n",
        "    test_loader = DataLoader(\n",
        "        test_dataset, batch_size=val_batch_size, shuffle=False\n",
        "    )\n",
        "\n",
        "    return train_loader, test_loader"
      ],
      "execution_count": 78,
      "outputs": []
    },
    {
      "cell_type": "code",
      "metadata": {
        "collapsed": true,
        "id": "HBTjE008hLBk"
      },
      "source": [
        "class Net(Module):\n",
        "    def __init__(self, activation=Sigmoid(), latent_size=200):\n",
        "        super().__init__()\n",
        "        self.fc1 = Linear(96 * 96, 200)\n",
        "        self.fc2 = Linear(200, 68 * 2)\n",
        "        self.activation = activation\n",
        "    def forward(self, x):\n",
        "        return self.fc2(self.activation(self.fc1(x.view(x.shape[0], -1)))).view(x.shape[0], 68, 2)"
      ],
      "execution_count": 79,
      "outputs": []
    },
    {
      "cell_type": "code",
      "metadata": {
        "collapsed": true,
        "id": "kpwSASD5hLBk"
      },
      "source": [
        ""
      ],
      "execution_count": 79,
      "outputs": []
    },
    {
      "cell_type": "code",
      "metadata": {
        "collapsed": true,
        "id": "CPGgcQVehLBk"
      },
      "source": [
        "def run_trainer(network, device=\"cpu\", criterion=MSELoss(),\n",
        "                optim=torch.optim.Adam, learning_rate=0.01, max_epochs=10,\n",
        "                writer=SummaryWriter(filename_suffix='first', logdir=\"logs\")):\n",
        "\n",
        "    # if torch.cuda.is_available():\n",
        "    #    device = \"cuda\"\n",
        "    print(\"device: {}\".format(device))\n",
        "    train_dataloader, test_dataloader = get_data_loaders()\n",
        "    optimizer = optim(network.parameters(), lr=learning_rate)\n",
        "    trainer = create_supervised_trainer(network, optimizer, criterion, device=device)\n",
        "    evaluator = create_supervised_evaluator(network, device=device, \n",
        "                metrics={\"L2 loss\": Loss(criterion), \"L1 loss\": Loss(L1Loss())})\n",
        "\n",
        "    training_history = {'l1':[],'l2':[]}\n",
        "    validation_history = {'l1':[],'l2':[]}\n",
        "    last_epoch = []\n",
        "\n",
        "    @trainer.on(Events.ITERATION_COMPLETED(every=10))\n",
        "    def log_training_loss(engine):\n",
        "        writer.add_scalar(\"training/loss\", engine.state.output, engine.state.iteration)\n",
        "        writer.flush()\n",
        "\n",
        "    @trainer.on(Events.EPOCH_COMPLETED)\n",
        "    def log_training_results(trainer):\n",
        "        evaluator.run(train_dataloader)\n",
        "        metrics = evaluator.state.metrics\n",
        "        l2_train = metrics[\"L2 loss\"]\n",
        "        l1_train = metrics['L1 loss']\n",
        "        last_epoch.append(0)\n",
        "        training_history['l2'].append(l2_train)\n",
        "        training_history['l1'].append(l1_train)\n",
        "        writer.add_scalar(\"training/epoch_loss\", l2_train, trainer.state.epoch)\n",
        "        \n",
        "        evaluator.run(test_dataloader)\n",
        "        metrics = evaluator.state.metrics\n",
        "        l2 = metrics[\"L2 loss\"]\n",
        "        l1 = metrics['L1 loss']\n",
        "        validation_history['l2'].append(l2)\n",
        "        validation_history['l1'].append(l1)\n",
        "        \n",
        "        writer.add_scalar(\"validation/epoch_loss\", l2, trainer.state.epoch)\n",
        "        writer.flush()\n",
        "        \n",
        "        sys.stdout.write(\"\\rTraining/Validation Results - Epoch: {}  Avg MSE: {:.2f} / {:.2f} Avg MAE: {:.2f} / {:.2f}\"\n",
        "            .format(trainer.state.epoch, l2_train, l2, l1_train, l1))\n",
        "    \n",
        "    trainer.run(train_dataloader, max_epochs=max_epochs)\n",
        "    return training_history, validation_history, last_epoch"
      ],
      "execution_count": 105,
      "outputs": []
    },
    {
      "cell_type": "code",
      "metadata": {
        "id": "68r_cZ7qehJH"
      },
      "source": [
        "#training_history, validation_history, last_epoch = run_trainer(Net())"
      ],
      "execution_count": 81,
      "outputs": []
    },
    {
      "cell_type": "code",
      "metadata": {
        "id": "zUQZLL6KhLBm"
      },
      "source": [
        "# plt.figure(figsize=(12, 5))\n",
        "# plt.plot(training_history['l2'][1:], label='Train')\n",
        "# plt.plot(validation_history['l2'][1:], label='Test')\n",
        "# plt.xlabel('Epochs', fontsize=16)\n",
        "# plt.ylabel('Loss', fontsize=16)\n",
        "# plt.legend(loc=0, fontsize=16)\n",
        "# plt.grid('on')\n",
        "# plt.show()"
      ],
      "execution_count": 82,
      "outputs": []
    },
    {
      "cell_type": "code",
      "metadata": {
        "collapsed": true,
        "id": "88PGp0zchLBm"
      },
      "source": [
        ""
      ],
      "execution_count": 82,
      "outputs": []
    },
    {
      "cell_type": "code",
      "metadata": {
        "collapsed": true,
        "id": "9UQQzPwVhLBm"
      },
      "source": [
        ""
      ],
      "execution_count": 82,
      "outputs": []
    },
    {
      "cell_type": "code",
      "metadata": {
        "id": "mHstgl1AhLBn"
      },
      "source": [
        "# _, test_dataloader = get_data_loaders(val_batch_size=4)\n",
        "\n",
        "# images_batch = next(iter(test_dataloader))\n",
        "# x, y = images_batch\n",
        "# #y_pred = network(x)\n",
        "# #y_pred = y_pred.data.numpy()\n",
        "# #show_landmarks_batch(images_batch, y_pred)\n",
        "# images_batch[0].shape"
      ],
      "execution_count": 83,
      "outputs": []
    },
    {
      "cell_type": "code",
      "metadata": {
        "id": "M1y0rwTGrjzE"
      },
      "source": [
        "class Landmarker(nn.Module):\r\n",
        "    def __init__(self, image_size=96, channels=1):\r\n",
        "        super().__init__()\r\n",
        "        self.layers = [\r\n",
        "                       nn.Flatten(),\r\n",
        "                       nn.Unflatten(1, (channels, image_size, image_size)),\r\n",
        "                       \r\n",
        "                       nn.Conv2d(channels, 4, 3, padding=1), nn.ELU(),\r\n",
        "                       nn.MaxPool2d(2),\r\n",
        "                       \r\n",
        "                       nn.Conv2d(4, 16, 3, padding=1), nn.ELU(),\r\n",
        "                       nn.Conv2d(16, 16, 3, padding=1), nn.ELU(),\r\n",
        "                       nn.MaxPool2d(2),\r\n",
        "\r\n",
        "                       nn.Conv2d(16, 64, 3, padding=1), nn.ELU(),\r\n",
        "                       nn.MaxPool2d(2),\r\n",
        "\r\n",
        "                       nn.Conv2d(64, 256, 3, padding=1), nn.ELU(),\r\n",
        "                       nn.MaxPool2d(4), # 256x3x3\r\n",
        "        ]\r\n",
        "        self.nonlin = nn.Sequential(*self.layers)\r\n",
        "        self.lin = nn.Sequential(\r\n",
        "            nn.Linear(256 * image_size//32 * image_size//32, 68 * 16),\r\n",
        "            nn.BatchNorm1d(68 * 16),\r\n",
        "            nn.ELU(), nn.Linear(68 * 16, 68 * 2))\r\n",
        "\r\n",
        "    def forward(self, x):\r\n",
        "        x = self.nonlin(x)\r\n",
        "        x = x.view(x.shape[0], -1)\r\n",
        "        x = self.lin(x)\r\n",
        "        return x.view(x.shape[0], 68, 2)"
      ],
      "execution_count": 84,
      "outputs": []
    },
    {
      "cell_type": "code",
      "metadata": {
        "id": "btrDVGn-RL5U"
      },
      "source": [
        "class Landmarker2(nn.Module):\r\n",
        "    def __init__(self, image_size=96, channels=1):\r\n",
        "        super().__init__()\r\n",
        "        self.layers = [\r\n",
        "                       nn.Flatten(),\r\n",
        "                       nn.Unflatten(1, (channels, image_size, image_size)),\r\n",
        "                       \r\n",
        "                       nn.Conv2d(channels, 8, (4,4), padding=(2,2)), \r\n",
        "                                         nn.ReLU(), nn.MaxPool2d(2),\r\n",
        "                                         nn.Conv2d(8, 16, (4,4), padding=(2,2)), nn.ReLU(),\r\n",
        "                                         nn.MaxPool2d(2),\r\n",
        "                                        nn.Conv2d(16, 32, (4,4), padding=(2,2)),nn.ReLU(),\r\n",
        "                                        nn.MaxPool2d(2),\r\n",
        "                                        nn.Conv2d(32, 64, (4,4), padding=1),nn.ReLU(),\r\n",
        "                                        nn.MaxPool2d(2)\r\n",
        "        ]\r\n",
        "        self.nonlin = nn.Sequential(*self.layers)\r\n",
        "        self.linear_layers = nn.Sequential(nn.Linear(40*40, 400),\r\n",
        "                                           nn.BatchNorm1d(400),\r\n",
        "                                           nn.ReLU(),nn.Linear(400, 200),nn.ReLU(),\r\n",
        "                                           nn.BatchNorm1d(200),\r\n",
        "                                          nn.Linear(200, 2*68))\r\n",
        "        # self.lin = nn.Sequential(\r\n",
        "        #     nn.Linear(256 * image_size//32 * image_size//32, 68 * 16),\r\n",
        "        #     nn.BatchNorm1d(68 * 16),\r\n",
        "        #     nn.ELU(), nn.Linear(68 * 16, 68 * 2))\r\n",
        "\r\n",
        "    def forward(self, x):\r\n",
        "        x = self.nonlin(x)\r\n",
        "        x = x.view(x.shape[0], -1)\r\n",
        "        x = self.linear_layers(x)\r\n",
        "        return x.view(x.shape[0], 68, 2)"
      ],
      "execution_count": 86,
      "outputs": []
    },
    {
      "cell_type": "code",
      "metadata": {
        "id": "F4r14oV0bEe6"
      },
      "source": [
        "class Landmarker5(nn.Module):\r\n",
        "    def __init__(self, image_size=96, channels=1):\r\n",
        "        super().__init__()\r\n",
        "\r\n",
        "        self.nonlin_1 = nn.Sequential(\r\n",
        "            nn.Conv2d(channels, 8, 5, padding=2), nn.ReLU(),\r\n",
        "            nn.MaxPool2d(2),\r\n",
        "\r\n",
        "            nn.Conv2d(8, 16, 4, padding=2), nn.ReLU(),\r\n",
        "            nn.MaxPool2d(2),\r\n",
        "\r\n",
        "            nn.Conv2d(16, 32, 4, padding=2), nn.ReLU(),\r\n",
        "            nn.MaxPool2d(2),\r\n",
        "\r\n",
        "            nn.Conv2d(32, 64, 4, padding=1), nn.ReLU(),\r\n",
        "            nn.MaxPool2d(2), # 64x6x6\r\n",
        "        )\r\n",
        "        self.lin_1 = nn.Sequential(\r\n",
        "            nn.Linear(64 * 25, 32 * 25, bias=False),\r\n",
        "            nn.BatchNorm1d(32 * 25), nn.ReLU(),\r\n",
        "            nn.Linear(32 * 25, 68 * 4), nn.ReLU(),\r\n",
        "            nn.BatchNorm1d(68 * 4) \r\n",
        "        )\r\n",
        "        self.nonlin_2 = nn.Sequential(\r\n",
        "            nn.Unflatten(1, (4, 68)),\r\n",
        "            nn.Conv1d(4, 2, 3, padding=1), nn.ReLU(),\r\n",
        "            nn.MaxPool1d(2)\r\n",
        "        )\r\n",
        "        self.lin_2 = nn.Sequential(\r\n",
        "            nn.Linear(68 * 2, 68 * 2)\r\n",
        "        )\r\n",
        " \r\n",
        "    def forward(self, x):\r\n",
        "        x = x.reshape((x.shape[0], 1, x.shape[1], x.shape[2]))\r\n",
        "        x = self.nonlin_1(x)\r\n",
        "        x = x.view(x.shape[0], -1)\r\n",
        "        x = self.lin_1(x)\r\n",
        "        x = self.nonlin_2(x)\r\n",
        "        x = self.lin_2(x)\r\n",
        "        return x.view(x.shape[0], 68, 2)"
      ],
      "execution_count": 108,
      "outputs": []
    },
    {
      "cell_type": "code",
      "metadata": {
        "id": "PwkDCTm58x6E"
      },
      "source": [
        "class Landmarker3(nn.Module):\r\n",
        "    def __init__(self, image_size=96, channels=1):\r\n",
        "        super().__init__()\r\n",
        "        self.layers = [\r\n",
        "                       nn.Conv2d(channels, 8, 5, padding=2), nn.ReLU(),\r\n",
        "                       nn.MaxPool2d(2),\r\n",
        "                       #nn.Conv2d()\r\n",
        "\r\n",
        "                       nn.Conv2d(8, 16, 4, padding=2), nn.ReLU(),\r\n",
        "                       nn.MaxPool2d(2),\r\n",
        "\r\n",
        "                       nn.Conv2d(16, 32, 4, padding=2), nn.ReLU(),\r\n",
        "                       nn.MaxPool2d(2),\r\n",
        "\r\n",
        "                       nn.Conv2d(32, 64, 4, padding=1), nn.ReLU(),\r\n",
        "                       nn.MaxPool2d(2), # 64x6x6\r\n",
        "        ]\r\n",
        "        self.nonlin_1 = nn.Sequential(*self.layers)\r\n",
        "        self.lin_1 = nn.Sequential(\r\n",
        "            nn.Linear(64 * 25, 16 * 25, bias=False),\r\n",
        "            nn.BatchNorm1d(16 * 25), nn.ReLU(), \r\n",
        "            nn.Linear(16 * 25, 68 * 4), nn.ReLU(),\r\n",
        "            nn.BatchNorm1d(68 * 4), \r\n",
        "            nn.Linear(68 * 4, 68 * 2))\r\n",
        " \r\n",
        "    def forward(self, x):\r\n",
        "        x = x.reshape((x.shape[0], 1, x.shape[1], x.shape[2]))\r\n",
        "        x = self.nonlin_1(x)\r\n",
        "        x = x.view(x.shape[0], -1)\r\n",
        "        x = self.lin_1(x)\r\n",
        "        return x.view(x.shape[0], 68, 2)"
      ],
      "execution_count": 102,
      "outputs": []
    },
    {
      "cell_type": "code",
      "metadata": {
        "id": "pBeUBzkx3rrc",
        "colab": {
          "base_uri": "https://localhost:8080/"
        },
        "outputId": "5babcfbf-f95c-4a9c-eb5f-b7fd1e7d27ff"
      },
      "source": [
        "network = Landmarker5()\r\n",
        "print(network)"
      ],
      "execution_count": 111,
      "outputs": [
        {
          "output_type": "stream",
          "text": [
            "Landmarker5(\n",
            "  (nonlin_1): Sequential(\n",
            "    (0): Conv2d(1, 8, kernel_size=(5, 5), stride=(1, 1), padding=(2, 2))\n",
            "    (1): ReLU()\n",
            "    (2): MaxPool2d(kernel_size=2, stride=2, padding=0, dilation=1, ceil_mode=False)\n",
            "    (3): Conv2d(8, 16, kernel_size=(4, 4), stride=(1, 1), padding=(2, 2))\n",
            "    (4): ReLU()\n",
            "    (5): MaxPool2d(kernel_size=2, stride=2, padding=0, dilation=1, ceil_mode=False)\n",
            "    (6): Conv2d(16, 32, kernel_size=(4, 4), stride=(1, 1), padding=(2, 2))\n",
            "    (7): ReLU()\n",
            "    (8): MaxPool2d(kernel_size=2, stride=2, padding=0, dilation=1, ceil_mode=False)\n",
            "    (9): Conv2d(32, 64, kernel_size=(4, 4), stride=(1, 1), padding=(1, 1))\n",
            "    (10): ReLU()\n",
            "    (11): MaxPool2d(kernel_size=2, stride=2, padding=0, dilation=1, ceil_mode=False)\n",
            "  )\n",
            "  (lin_1): Sequential(\n",
            "    (0): Linear(in_features=1600, out_features=800, bias=False)\n",
            "    (1): BatchNorm1d(800, eps=1e-05, momentum=0.1, affine=True, track_running_stats=True)\n",
            "    (2): ReLU()\n",
            "    (3): Linear(in_features=800, out_features=272, bias=True)\n",
            "    (4): ReLU()\n",
            "    (5): BatchNorm1d(272, eps=1e-05, momentum=0.1, affine=True, track_running_stats=True)\n",
            "  )\n",
            "  (nonlin_2): Sequential(\n",
            "    (0): Unflatten(dim=1, unflattened_size=(4, 68))\n",
            "    (1): Conv1d(4, 2, kernel_size=(3,), stride=(1,), padding=(1,))\n",
            "    (2): ReLU()\n",
            "    (3): MaxPool1d(kernel_size=2, stride=2, padding=0, dilation=1, ceil_mode=False)\n",
            "  )\n",
            "  (lin_2): Sequential(\n",
            "    (0): Linear(in_features=136, out_features=136, bias=True)\n",
            "  )\n",
            ")\n"
          ],
          "name": "stdout"
        }
      ]
    },
    {
      "cell_type": "code",
      "metadata": {
        "id": "EQvdc7RErj3-",
        "colab": {
          "base_uri": "https://localhost:8080/"
        },
        "outputId": "257cc7ea-2057-49ab-e198-0f9f7f42e48e"
      },
      "source": [
        "training_history, validation_history, last_epoch = run_trainer(Landmarker3(), learning_rate=0.02, max_epochs=12)"
      ],
      "execution_count": 106,
      "outputs": [
        {
          "output_type": "stream",
          "text": [
            "device: cpu\n",
            "Training/Validation Results - Epoch: 12  Avg MSE: 5.91 / 7.83 Avg MAE: 1.78 / 1.95"
          ],
          "name": "stdout"
        }
      ]
    },
    {
      "cell_type": "code",
      "metadata": {
        "id": "qCeAYzlKrj56",
        "colab": {
          "base_uri": "https://localhost:8080/",
          "height": 339
        },
        "outputId": "1310ba2f-d7f9-425b-b679-cd10f0c06319"
      },
      "source": [
        "plt.figure(figsize=(12, 5))\r\n",
        "plt.plot(training_history['l2'][1:], label='Train')\r\n",
        "plt.plot(validation_history['l2'][1:], label='Test')\r\n",
        "plt.xlabel('Epochs', fontsize=16)\r\n",
        "plt.ylabel('Loss', fontsize=16)\r\n",
        "plt.legend(loc=0, fontsize=16)\r\n",
        "plt.grid('on')\r\n",
        "plt.show()"
      ],
      "execution_count": 109,
      "outputs": [
        {
          "output_type": "display_data",
          "data": {
            "image/png": "[encoded data removed]",
            "text/plain": [
              "<Figure size 864x360 with 1 Axes>"
            ]
          },
          "metadata": {
            "tags": [],
            "needs_background": "light"
          }
        }
      ]
    },
    {
      "cell_type": "code",
      "metadata": {
        "id": "x_Hl4Bwgrj8G"
      },
      "source": [
        "train_dataset = FaceLandmarksDataset(csv_file='dataset/train/face_landmarks.csv',\r\n",
        "                                     root_dir='dataset/train',\r\n",
        "                                     transform=ToTensor())\r\n",
        "\r\n",
        "test_dataset = FaceLandmarksDataset(csv_file='dataset/test/face_landmarks.csv',\r\n",
        "                                     root_dir='dataset/test',\r\n",
        "                                     transform=ToTensor())"
      ],
      "execution_count": null,
      "outputs": []
    },
    {
      "cell_type": "code",
      "metadata": {
        "id": "ScIE0lJurkAa"
      },
      "source": [
        ""
      ],
      "execution_count": null,
      "outputs": []
    },
    {
      "cell_type": "code",
      "metadata": {
        "id": "wGjYOUaArkDC"
      },
      "source": [
        ""
      ],
      "execution_count": null,
      "outputs": []
    },
    {
      "cell_type": "code",
      "metadata": {
        "id": "IwYej348CDur"
      },
      "source": [
        ""
      ],
      "execution_count": null,
      "outputs": []
    },
    {
      "cell_type": "code",
      "metadata": {
        "id": "2wda8A7hCDyt"
      },
      "source": [
        ""
      ],
      "execution_count": null,
      "outputs": []
    },
    {
      "cell_type": "code",
      "metadata": {
        "id": "oWW4LSuOCD08"
      },
      "source": [
        ""
      ],
      "execution_count": null,
      "outputs": []
    },
    {
      "cell_type": "code",
      "metadata": {
        "id": "DvSs1HCBCD3g"
      },
      "source": [
        ""
      ],
      "execution_count": null,
      "outputs": []
    }
  ]
}